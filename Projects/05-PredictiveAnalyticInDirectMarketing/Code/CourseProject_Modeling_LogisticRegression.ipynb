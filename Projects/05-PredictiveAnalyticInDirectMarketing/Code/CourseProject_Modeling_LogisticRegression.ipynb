{
 "cells": [
  {
   "cell_type": "markdown",
   "metadata": {
    "pycharm": {
     "name": "#%%\n"
    }
   },
   "source": [
    "# Modeling with logistic regression"
   ]
  },
  {
   "cell_type": "code",
   "execution_count": 1,
   "metadata": {
    "pycharm": {
     "is_executing": false,
     "name": "#%%\n"
    }
   },
   "outputs": [],
   "source": [
    "#importing libraries \n",
    "import pandas as pd \n",
    "import numpy as np\n",
    "import matplotlib.pyplot as plt\n",
    "%matplotlib inline\n",
    "import seaborn as sns"
   ]
  },
  {
   "cell_type": "code",
   "execution_count": 2,
   "metadata": {
    "pycharm": {
     "name": "#%%\n"
    }
   },
   "outputs": [],
   "source": [
    "#reading the data\n",
    "data=pd.read_csv('Data/DirectMarketing_Cln_Classification.csv')"
   ]
  },
  {
   "cell_type": "code",
   "execution_count": 3,
   "metadata": {
    "pycharm": {
     "name": "#%%\n"
    }
   },
   "outputs": [
    {
     "data": {
      "text/plain": [
       "(1000, 15)"
      ]
     },
     "execution_count": 3,
     "metadata": {},
     "output_type": "execute_result"
    }
   ],
   "source": [
    "#shape of the data\n",
    "data.shape"
   ]
  },
  {
   "cell_type": "code",
   "execution_count": 4,
   "metadata": {
    "pycharm": {
     "name": "#%%\n"
    }
   },
   "outputs": [
    {
     "data": {
      "text/html": [
       "<div>\n",
       "<style scoped>\n",
       "    .dataframe tbody tr th:only-of-type {\n",
       "        vertical-align: middle;\n",
       "    }\n",
       "\n",
       "    .dataframe tbody tr th {\n",
       "        vertical-align: top;\n",
       "    }\n",
       "\n",
       "    .dataframe thead th {\n",
       "        text-align: right;\n",
       "    }\n",
       "</style>\n",
       "<table border=\"1\" class=\"dataframe\">\n",
       "  <thead>\n",
       "    <tr style=\"text-align: right;\">\n",
       "      <th></th>\n",
       "      <th>Salary</th>\n",
       "      <th>Children</th>\n",
       "      <th>Catalogs</th>\n",
       "      <th>Middle</th>\n",
       "      <th>Old</th>\n",
       "      <th>Young</th>\n",
       "      <th>Female</th>\n",
       "      <th>Male</th>\n",
       "      <th>Own</th>\n",
       "      <th>Rent</th>\n",
       "      <th>Married</th>\n",
       "      <th>Single</th>\n",
       "      <th>Close</th>\n",
       "      <th>Far</th>\n",
       "      <th>Amt_Spnt_Class</th>\n",
       "    </tr>\n",
       "  </thead>\n",
       "  <tbody>\n",
       "    <tr>\n",
       "      <td>0</td>\n",
       "      <td>47500</td>\n",
       "      <td>0</td>\n",
       "      <td>6</td>\n",
       "      <td>0</td>\n",
       "      <td>1</td>\n",
       "      <td>0</td>\n",
       "      <td>1</td>\n",
       "      <td>0</td>\n",
       "      <td>1</td>\n",
       "      <td>0</td>\n",
       "      <td>0</td>\n",
       "      <td>1</td>\n",
       "      <td>0</td>\n",
       "      <td>1</td>\n",
       "      <td>Low</td>\n",
       "    </tr>\n",
       "    <tr>\n",
       "      <td>1</td>\n",
       "      <td>63600</td>\n",
       "      <td>0</td>\n",
       "      <td>6</td>\n",
       "      <td>1</td>\n",
       "      <td>0</td>\n",
       "      <td>0</td>\n",
       "      <td>0</td>\n",
       "      <td>1</td>\n",
       "      <td>0</td>\n",
       "      <td>1</td>\n",
       "      <td>0</td>\n",
       "      <td>1</td>\n",
       "      <td>1</td>\n",
       "      <td>0</td>\n",
       "      <td>Med</td>\n",
       "    </tr>\n",
       "    <tr>\n",
       "      <td>2</td>\n",
       "      <td>13500</td>\n",
       "      <td>0</td>\n",
       "      <td>18</td>\n",
       "      <td>0</td>\n",
       "      <td>0</td>\n",
       "      <td>1</td>\n",
       "      <td>1</td>\n",
       "      <td>0</td>\n",
       "      <td>0</td>\n",
       "      <td>1</td>\n",
       "      <td>0</td>\n",
       "      <td>1</td>\n",
       "      <td>1</td>\n",
       "      <td>0</td>\n",
       "      <td>Low</td>\n",
       "    </tr>\n",
       "    <tr>\n",
       "      <td>3</td>\n",
       "      <td>85600</td>\n",
       "      <td>1</td>\n",
       "      <td>18</td>\n",
       "      <td>1</td>\n",
       "      <td>0</td>\n",
       "      <td>0</td>\n",
       "      <td>0</td>\n",
       "      <td>1</td>\n",
       "      <td>1</td>\n",
       "      <td>0</td>\n",
       "      <td>1</td>\n",
       "      <td>0</td>\n",
       "      <td>1</td>\n",
       "      <td>0</td>\n",
       "      <td>High</td>\n",
       "    </tr>\n",
       "    <tr>\n",
       "      <td>4</td>\n",
       "      <td>68400</td>\n",
       "      <td>0</td>\n",
       "      <td>12</td>\n",
       "      <td>1</td>\n",
       "      <td>0</td>\n",
       "      <td>0</td>\n",
       "      <td>1</td>\n",
       "      <td>0</td>\n",
       "      <td>1</td>\n",
       "      <td>0</td>\n",
       "      <td>0</td>\n",
       "      <td>1</td>\n",
       "      <td>1</td>\n",
       "      <td>0</td>\n",
       "      <td>Med</td>\n",
       "    </tr>\n",
       "  </tbody>\n",
       "</table>\n",
       "</div>"
      ],
      "text/plain": [
       "   Salary  Children  Catalogs  Middle  Old  Young  Female  Male  Own  Rent  \\\n",
       "0   47500         0         6       0    1      0       1     0    1     0   \n",
       "1   63600         0         6       1    0      0       0     1    0     1   \n",
       "2   13500         0        18       0    0      1       1     0    0     1   \n",
       "3   85600         1        18       1    0      0       0     1    1     0   \n",
       "4   68400         0        12       1    0      0       1     0    1     0   \n",
       "\n",
       "   Married  Single  Close  Far Amt_Spnt_Class  \n",
       "0        0       1      0    1            Low  \n",
       "1        0       1      1    0            Med  \n",
       "2        0       1      1    0            Low  \n",
       "3        1       0      1    0           High  \n",
       "4        0       1      1    0            Med  "
      ]
     },
     "execution_count": 4,
     "metadata": {},
     "output_type": "execute_result"
    }
   ],
   "source": [
    "#first five rows of the data\n",
    "data.head()"
   ]
  },
  {
   "cell_type": "code",
   "execution_count": 5,
   "metadata": {},
   "outputs": [
    {
     "name": "stdout",
     "output_type": "stream",
     "text": [
      "Index(['Salary', 'Children', 'Catalogs', 'Middle', 'Old', 'Young', 'Female',\n",
      "       'Male', 'Own', 'Rent', 'Married', 'Single', 'Close', 'Far',\n",
      "       'Amt_Spnt_Class'],\n",
      "      dtype='object')\n"
     ]
    }
   ],
   "source": [
    "print(data.columns)"
   ]
  },
  {
   "cell_type": "code",
   "execution_count": 6,
   "metadata": {
    "pycharm": {
     "name": "#%%\n"
    }
   },
   "outputs": [
    {
     "data": {
      "text/plain": [
       "Salary            0\n",
       "Children          0\n",
       "Catalogs          0\n",
       "Middle            0\n",
       "Old               0\n",
       "Young             0\n",
       "Female            0\n",
       "Male              0\n",
       "Own               0\n",
       "Rent              0\n",
       "Married           0\n",
       "Single            0\n",
       "Close             0\n",
       "Far               0\n",
       "Amt_Spnt_Class    0\n",
       "dtype: int64"
      ]
     },
     "execution_count": 6,
     "metadata": {},
     "output_type": "execute_result"
    }
   ],
   "source": [
    "#checking missing values in the data\n",
    "data.isnull().sum()"
   ]
  },
  {
   "cell_type": "code",
   "execution_count": 7,
   "metadata": {
    "pycharm": {
     "name": "#%%\n"
    }
   },
   "outputs": [],
   "source": [
    "#seperating independent and dependent variables\n",
    "X = data.drop(['Amt_Spnt_Class'], axis=1)\n",
    "y = data['Amt_Spnt_Class']\n"
   ]
  },
  {
   "cell_type": "code",
   "execution_count": 8,
   "metadata": {},
   "outputs": [
    {
     "name": "stdout",
     "output_type": "stream",
     "text": [
      "     Salary  Children  Catalogs  Middle  Old  Young  Female  Male  Own  Rent  \\\n",
      "0     47500         0         6       0    1      0       1     0    1     0   \n",
      "1     63600         0         6       1    0      0       0     1    0     1   \n",
      "2     13500         0        18       0    0      1       1     0    0     1   \n",
      "3     85600         1        18       1    0      0       0     1    1     0   \n",
      "4     68400         0        12       1    0      0       1     0    1     0   \n",
      "..      ...       ...       ...     ...  ...    ...     ...   ...  ...   ...   \n",
      "995   19400         1        18       0    0      1       1     0    0     1   \n",
      "996   40500         1        18       1    0      0       0     1    0     1   \n",
      "997   44800         0        24       0    1      0       0     1    1     0   \n",
      "998   79000         2        18       1    0      0       0     1    1     0   \n",
      "999   53600         1        24       0    0      1       0     1    0     1   \n",
      "\n",
      "     Married  Single  Close  Far  \n",
      "0          0       1      0    1  \n",
      "1          0       1      1    0  \n",
      "2          0       1      1    0  \n",
      "3          1       0      1    0  \n",
      "4          0       1      1    0  \n",
      "..       ...     ...    ...  ...  \n",
      "995        0       1      1    0  \n",
      "996        0       1      0    1  \n",
      "997        0       1      1    0  \n",
      "998        1       0      1    0  \n",
      "999        1       0      1    0  \n",
      "\n",
      "[1000 rows x 14 columns]\n"
     ]
    }
   ],
   "source": [
    "print(X)"
   ]
  },
  {
   "cell_type": "code",
   "execution_count": 9,
   "metadata": {},
   "outputs": [
    {
     "name": "stdout",
     "output_type": "stream",
     "text": [
      "0       Low\n",
      "1       Med\n",
      "2       Low\n",
      "3      High\n",
      "4       Med\n",
      "       ... \n",
      "995     Low\n",
      "996     Med\n",
      "997     Med\n",
      "998     Low\n",
      "999     Med\n",
      "Name: Amt_Spnt_Class, Length: 1000, dtype: object\n"
     ]
    }
   ],
   "source": [
    "print(y)"
   ]
  },
  {
   "cell_type": "code",
   "execution_count": 10,
   "metadata": {
    "pycharm": {
     "name": "#%%\n"
    }
   },
   "outputs": [],
   "source": [
    "#importing train_test_split to create validation set\n",
    "from sklearn.model_selection import train_test_split"
   ]
  },
  {
   "cell_type": "code",
   "execution_count": 11,
   "metadata": {
    "pycharm": {
     "name": "#%%\n"
    }
   },
   "outputs": [],
   "source": [
    "#creating the train and validation set\n",
    "X_train, X_valid, y_train, y_valid = train_test_split(X, y, random_state = 1, stratify=y, test_size=0.2)"
   ]
  },
  {
   "cell_type": "code",
   "execution_count": 12,
   "metadata": {
    "pycharm": {
     "name": "#%%\n"
    }
   },
   "outputs": [
    {
     "data": {
      "text/plain": [
       "Low     0.50125\n",
       "High    0.25000\n",
       "Med     0.24875\n",
       "Name: Amt_Spnt_Class, dtype: float64"
      ]
     },
     "execution_count": 12,
     "metadata": {},
     "output_type": "execute_result"
    }
   ],
   "source": [
    "# distribution in training set\n",
    "y_train.value_counts(normalize=True)"
   ]
  },
  {
   "cell_type": "code",
   "execution_count": 13,
   "metadata": {
    "pycharm": {
     "name": "#%%\n"
    }
   },
   "outputs": [
    {
     "data": {
      "text/plain": [
       "Low     0.50\n",
       "Med     0.25\n",
       "High    0.25\n",
       "Name: Amt_Spnt_Class, dtype: float64"
      ]
     },
     "execution_count": 13,
     "metadata": {},
     "output_type": "execute_result"
    }
   ],
   "source": [
    "# distribution in validation set\n",
    "y_valid.value_counts(normalize=True)"
   ]
  },
  {
   "cell_type": "code",
   "execution_count": 14,
   "metadata": {
    "pycharm": {
     "name": "#%%\n"
    }
   },
   "outputs": [
    {
     "data": {
      "text/plain": [
       "((800, 14), (800,))"
      ]
     },
     "execution_count": 14,
     "metadata": {},
     "output_type": "execute_result"
    }
   ],
   "source": [
    "#shape of training set\n",
    "X_train.shape, y_train.shape"
   ]
  },
  {
   "cell_type": "code",
   "execution_count": 15,
   "metadata": {
    "pycharm": {
     "name": "#%%\n"
    }
   },
   "outputs": [
    {
     "data": {
      "text/plain": [
       "((200, 14), (200,))"
      ]
     },
     "execution_count": 15,
     "metadata": {},
     "output_type": "execute_result"
    }
   ],
   "source": [
    "#shape of validation set\n",
    "X_valid.shape, y_valid.shape"
   ]
  },
  {
   "cell_type": "code",
   "execution_count": 16,
   "metadata": {
    "pycharm": {
     "name": "#%%\n"
    }
   },
   "outputs": [],
   "source": [
    "#importing decision tree classifier \n",
    "from sklearn.linear_model import LogisticRegression"
   ]
  },
  {
   "cell_type": "code",
   "execution_count": 17,
   "metadata": {
    "pycharm": {
     "name": "#%%\n"
    }
   },
   "outputs": [],
   "source": [
    "#creating the Logistic regression model\n",
    "logreg_model = LogisticRegression(random_state=10)"
   ]
  },
  {
   "cell_type": "code",
   "execution_count": 18,
   "metadata": {
    "pycharm": {
     "name": "#%%\n"
    }
   },
   "outputs": [
    {
     "name": "stderr",
     "output_type": "stream",
     "text": [
      "C:\\Users\\Torrey\\Anaconda3\\lib\\site-packages\\sklearn\\linear_model\\logistic.py:432: FutureWarning: Default solver will be changed to 'lbfgs' in 0.22. Specify a solver to silence this warning.\n",
      "  FutureWarning)\n",
      "C:\\Users\\Torrey\\Anaconda3\\lib\\site-packages\\sklearn\\linear_model\\logistic.py:469: FutureWarning: Default multi_class will be changed to 'auto' in 0.22. Specify the multi_class option to silence this warning.\n",
      "  \"this warning.\", FutureWarning)\n"
     ]
    },
    {
     "data": {
      "text/plain": [
       "LogisticRegression(C=1.0, class_weight=None, dual=False, fit_intercept=True,\n",
       "                   intercept_scaling=1, l1_ratio=None, max_iter=100,\n",
       "                   multi_class='warn', n_jobs=None, penalty='l2',\n",
       "                   random_state=10, solver='warn', tol=0.0001, verbose=0,\n",
       "                   warm_start=False)"
      ]
     },
     "execution_count": 18,
     "metadata": {},
     "output_type": "execute_result"
    }
   ],
   "source": [
    "#fitting the model\n",
    "logreg_model.fit(X_train, y_train)"
   ]
  },
  {
   "cell_type": "code",
   "execution_count": 19,
   "metadata": {
    "pycharm": {
     "name": "#%%\n"
    }
   },
   "outputs": [
    {
     "data": {
      "text/plain": [
       "0.675"
      ]
     },
     "execution_count": 19,
     "metadata": {},
     "output_type": "execute_result"
    }
   ],
   "source": [
    "#checking the training score\n",
    "logreg_model.score(X_train, y_train)"
   ]
  },
  {
   "cell_type": "code",
   "execution_count": 20,
   "metadata": {
    "pycharm": {
     "name": "#%%\n"
    }
   },
   "outputs": [
    {
     "data": {
      "text/plain": [
       "0.69"
      ]
     },
     "execution_count": 20,
     "metadata": {},
     "output_type": "execute_result"
    }
   ],
   "source": [
    "#checking the validation score\n",
    "logreg_model.score(X_valid, y_valid)"
   ]
  },
  {
   "cell_type": "code",
   "execution_count": 21,
   "metadata": {
    "pycharm": {
     "name": "#%%\n"
    },
    "scrolled": true
   },
   "outputs": [
    {
     "data": {
      "text/plain": [
       "array(['High', 'Low', 'High', 'Low', 'Med', 'Low', 'Low', 'Low', 'High',\n",
       "       'Low', 'Low', 'Med', 'Low', 'Low', 'High', 'Low', 'High', 'Med',\n",
       "       'High', 'Low', 'Low', 'Med', 'High', 'Low', 'Low', 'High', 'Low',\n",
       "       'Low', 'Low', 'Low', 'Low', 'Low', 'High', 'Low', 'Low', 'High',\n",
       "       'Low', 'High', 'High', 'High', 'Low', 'Low', 'Low', 'Low', 'Low',\n",
       "       'Low', 'Low', 'Low', 'Low', 'High', 'Low', 'High', 'Low', 'Low',\n",
       "       'Low', 'Low', 'Low', 'Low', 'Low', 'Low', 'High', 'High', 'Low',\n",
       "       'High', 'Low', 'Med', 'Low', 'High', 'Low', 'High', 'Low', 'Low',\n",
       "       'Low', 'Low', 'Low', 'Low', 'Low', 'Low', 'High', 'Med', 'High',\n",
       "       'Low', 'Low', 'Low', 'High', 'Low', 'High', 'High', 'Low', 'Low',\n",
       "       'High', 'High', 'Low', 'Low', 'High', 'Med', 'Low', 'Low', 'Low',\n",
       "       'Low', 'Low', 'Low', 'Low', 'Low', 'High', 'Low', 'High', 'Low',\n",
       "       'Low', 'Low', 'High', 'High', 'Low', 'High', 'Low', 'Low', 'Med',\n",
       "       'High', 'Med', 'Low', 'Low', 'Low', 'Med', 'Low', 'Low', 'Low',\n",
       "       'High', 'High', 'High', 'Low', 'High', 'Low', 'Low', 'Low', 'Med',\n",
       "       'High', 'High', 'Low', 'Low', 'Low', 'High', 'Med', 'High', 'Low',\n",
       "       'Low', 'Low', 'High', 'Low', 'Med', 'High', 'High', 'High', 'Med',\n",
       "       'High', 'Low', 'Low', 'High', 'Low', 'High', 'Med', 'Low', 'Low',\n",
       "       'High', 'Low', 'Low', 'Med', 'High', 'Low', 'Low', 'Low', 'Med',\n",
       "       'Low', 'High', 'Med', 'Low', 'High', 'Low', 'Low', 'High', 'High',\n",
       "       'Low', 'Low', 'High', 'Low', 'Low', 'Low', 'Med', 'Low', 'Low',\n",
       "       'Low', 'Low', 'Med', 'Med', 'High', 'Low', 'Low', 'Low', 'Low',\n",
       "       'Low', 'Med'], dtype=object)"
      ]
     },
     "execution_count": 21,
     "metadata": {},
     "output_type": "execute_result"
    }
   ],
   "source": [
    "#predictions on validation set\n",
    "y_pred = logreg_model.predict(X_valid)\n",
    "y_pred"
   ]
  },
  {
   "cell_type": "code",
   "execution_count": 22,
   "metadata": {},
   "outputs": [
    {
     "data": {
      "text/html": [
       "<div>\n",
       "<style scoped>\n",
       "    .dataframe tbody tr th:only-of-type {\n",
       "        vertical-align: middle;\n",
       "    }\n",
       "\n",
       "    .dataframe tbody tr th {\n",
       "        vertical-align: top;\n",
       "    }\n",
       "\n",
       "    .dataframe thead th {\n",
       "        text-align: right;\n",
       "    }\n",
       "</style>\n",
       "<table border=\"1\" class=\"dataframe\">\n",
       "  <thead>\n",
       "    <tr style=\"text-align: right;\">\n",
       "      <th></th>\n",
       "      <th>predicted high</th>\n",
       "      <th>predicted med</th>\n",
       "      <th>predicted low</th>\n",
       "    </tr>\n",
       "  </thead>\n",
       "  <tbody>\n",
       "    <tr>\n",
       "      <td>actual high</td>\n",
       "      <td>44</td>\n",
       "      <td>2</td>\n",
       "      <td>4</td>\n",
       "    </tr>\n",
       "    <tr>\n",
       "      <td>actual med</td>\n",
       "      <td>13</td>\n",
       "      <td>7</td>\n",
       "      <td>30</td>\n",
       "    </tr>\n",
       "    <tr>\n",
       "      <td>actual low</td>\n",
       "      <td>0</td>\n",
       "      <td>13</td>\n",
       "      <td>87</td>\n",
       "    </tr>\n",
       "  </tbody>\n",
       "</table>\n",
       "</div>"
      ],
      "text/plain": [
       "             predicted high  predicted med  predicted low\n",
       "actual high              44              2              4\n",
       "actual med               13              7             30\n",
       "actual low                0             13             87"
      ]
     },
     "execution_count": 22,
     "metadata": {},
     "output_type": "execute_result"
    }
   ],
   "source": [
    "from sklearn import metrics \n",
    "\n",
    "conf_matrix_logreg = pd.DataFrame(metrics.confusion_matrix(y_valid, y_pred, labels=['High','Med','Low']), index = ['actual high', 'actual med', 'actual low'], \n",
    "                               columns = ['predicted high', 'predicted med', 'predicted low'])\n",
    "\n",
    "conf_matrix_logreg"
   ]
  },
  {
   "cell_type": "code",
   "execution_count": 23,
   "metadata": {},
   "outputs": [
    {
     "data": {
      "image/png": "[encoded data removed]",
      "text/plain": [
       "<Figure size 720x576 with 2 Axes>"
      ]
     },
     "metadata": {
      "needs_background": "light"
     },
     "output_type": "display_data"
    }
   ],
   "source": [
    "fig, ax = plt.subplots(figsize = (10,8))\n",
    "\n",
    "\n",
    "sns.heatmap(conf_matrix_logreg/np.sum(conf_matrix_logreg), annot=True, \n",
    "            fmt='.2%', cmap='Blues', annot_kws={'size':15})\n",
    "\n",
    "ax.set_title('Logistic Regression Confusion Matrix', fontsize = 18, loc='left')\n",
    "\n",
    "ax.set_xticklabels(ax.get_xmajorticklabels(), fontsize = 12)\n",
    "ax.set_yticklabels(ax.get_ymajorticklabels(), fontsize = 12)\n",
    "\n",
    "plt.show()"
   ]
  },
  {
   "cell_type": "code",
   "execution_count": 24,
   "metadata": {
    "pycharm": {
     "name": "#%%\n"
    }
   },
   "outputs": [
    {
     "data": {
      "text/plain": [
       "array([[5.93099341e-01, 2.05458805e-01, 2.01441854e-01],\n",
       "       [2.75756328e-01, 4.29298768e-01, 2.94944904e-01],\n",
       "       [6.90652082e-01, 1.65626173e-01, 1.43721745e-01],\n",
       "       [3.48947997e-04, 6.44643303e-01, 3.55007749e-01],\n",
       "       [3.26306794e-01, 2.78159154e-01, 3.95534051e-01],\n",
       "       [4.00254188e-01, 4.20051026e-01, 1.79694786e-01],\n",
       "       [4.79085793e-05, 5.98015643e-01, 4.01936448e-01],\n",
       "       [6.36980343e-03, 7.41108433e-01, 2.52521764e-01],\n",
       "       [5.37310497e-01, 2.69107113e-01, 1.93582390e-01],\n",
       "       [2.73286548e-01, 4.95693372e-01, 2.31020080e-01],\n",
       "       [3.66854637e-03, 5.19391932e-01, 4.76939522e-01],\n",
       "       [3.42796896e-01, 3.02119407e-01, 3.55083697e-01],\n",
       "       [3.25312177e-01, 4.46195819e-01, 2.28492004e-01],\n",
       "       [2.14162585e-03, 5.64108984e-01, 4.33749390e-01],\n",
       "       [4.72117685e-01, 2.23172879e-01, 3.04709436e-01],\n",
       "       [7.14205592e-02, 4.85947183e-01, 4.42632258e-01],\n",
       "       [6.83126419e-01, 1.81342809e-01, 1.35530772e-01],\n",
       "       [5.03497082e-02, 4.51728798e-01, 4.97921494e-01],\n",
       "       [6.74874450e-01, 1.13146525e-01, 2.11979025e-01],\n",
       "       [3.40864965e-02, 5.26260388e-01, 4.39653115e-01],\n",
       "       [3.23105230e-04, 5.71626518e-01, 4.28050376e-01],\n",
       "       [1.92116742e-01, 3.86163774e-01, 4.21719484e-01],\n",
       "       [6.44407844e-01, 1.85277108e-01, 1.70315048e-01],\n",
       "       [2.63965431e-03, 6.07771421e-01, 3.89588925e-01],\n",
       "       [5.72161469e-03, 5.60525597e-01, 4.33752789e-01],\n",
       "       [6.46190889e-01, 1.65687824e-01, 1.88121287e-01],\n",
       "       [2.74048763e-04, 5.76139904e-01, 4.23586047e-01],\n",
       "       [4.19746857e-03, 6.86948633e-01, 3.08853899e-01],\n",
       "       [1.56547766e-01, 5.86455431e-01, 2.56996803e-01],\n",
       "       [1.69723447e-02, 5.56340564e-01, 4.26687091e-01],\n",
       "       [2.39838304e-01, 5.14349239e-01, 2.45812456e-01],\n",
       "       [5.07600532e-02, 4.83744707e-01, 4.65495240e-01],\n",
       "       [5.18458765e-01, 3.30027309e-01, 1.51513926e-01],\n",
       "       [1.36839109e-02, 5.98970026e-01, 3.87346063e-01],\n",
       "       [8.18184885e-03, 5.41351698e-01, 4.50466453e-01],\n",
       "       [6.44533863e-01, 2.20794600e-01, 1.34671537e-01],\n",
       "       [3.47627252e-03, 5.32007018e-01, 4.64516709e-01],\n",
       "       [5.60363892e-01, 2.95004635e-01, 1.44631473e-01],\n",
       "       [5.69713380e-01, 2.08420012e-01, 2.21866608e-01],\n",
       "       [6.20031997e-01, 2.44639268e-01, 1.35328734e-01],\n",
       "       [2.12163251e-02, 6.77118414e-01, 3.01665261e-01],\n",
       "       [2.93217574e-01, 4.86126188e-01, 2.20656238e-01],\n",
       "       [2.12778216e-01, 5.72119240e-01, 2.15102545e-01],\n",
       "       [3.32402945e-02, 6.26371093e-01, 3.40388612e-01],\n",
       "       [4.91271474e-05, 5.90776320e-01, 4.09174553e-01],\n",
       "       [4.35100821e-02, 6.09289393e-01, 3.47200525e-01],\n",
       "       [1.49184938e-01, 5.98789789e-01, 2.52025273e-01],\n",
       "       [5.82778844e-02, 7.04174651e-01, 2.37547464e-01],\n",
       "       [6.51529728e-02, 4.95710991e-01, 4.39136036e-01],\n",
       "       [5.11660770e-01, 2.55583023e-01, 2.32756207e-01],\n",
       "       [1.06438947e-02, 4.95511989e-01, 4.93844116e-01],\n",
       "       [6.42633799e-01, 1.82368353e-01, 1.74997848e-01],\n",
       "       [6.93331034e-03, 6.69828873e-01, 3.23237817e-01],\n",
       "       [3.53843422e-01, 4.62117644e-01, 1.84038934e-01],\n",
       "       [2.72826452e-01, 4.23080757e-01, 3.04092791e-01],\n",
       "       [2.81756487e-03, 5.69123684e-01, 4.28058751e-01],\n",
       "       [1.52517484e-01, 4.75765283e-01, 3.71717233e-01],\n",
       "       [1.89367201e-02, 5.36251772e-01, 4.44811508e-01],\n",
       "       [2.55716883e-03, 6.08670653e-01, 3.88772178e-01],\n",
       "       [1.07839420e-01, 6.27402637e-01, 2.64757943e-01],\n",
       "       [6.02841300e-01, 2.39588257e-01, 1.57570443e-01],\n",
       "       [7.35139952e-01, 1.28785962e-01, 1.36074086e-01],\n",
       "       [2.06684559e-02, 5.70767846e-01, 4.08563698e-01],\n",
       "       [4.70304387e-01, 3.46617367e-01, 1.83078246e-01],\n",
       "       [2.10109844e-03, 5.17466706e-01, 4.80432196e-01],\n",
       "       [5.51160017e-03, 4.70354816e-01, 5.24133583e-01],\n",
       "       [2.88286297e-04, 5.74765694e-01, 4.24946019e-01],\n",
       "       [4.60692031e-01, 3.48658522e-01, 1.90649447e-01],\n",
       "       [1.24549034e-03, 6.23837298e-01, 3.74917212e-01],\n",
       "       [5.89265328e-01, 1.49017459e-01, 2.61717213e-01],\n",
       "       [6.97781775e-02, 4.82521061e-01, 4.47700762e-01],\n",
       "       [1.38677911e-03, 6.96044359e-01, 3.02568862e-01],\n",
       "       [1.96393294e-02, 5.52767055e-01, 4.27593615e-01],\n",
       "       [5.91367512e-03, 5.74417609e-01, 4.19668715e-01],\n",
       "       [4.00853893e-04, 5.65517458e-01, 4.34081688e-01],\n",
       "       [2.47462887e-02, 5.54686292e-01, 4.20567419e-01],\n",
       "       [2.82852135e-01, 4.88445158e-01, 2.28702707e-01],\n",
       "       [1.55925531e-02, 7.24477660e-01, 2.59929787e-01],\n",
       "       [6.64654620e-01, 1.51251885e-01, 1.84093495e-01],\n",
       "       [1.81736752e-02, 4.51508042e-01, 5.30318282e-01],\n",
       "       [4.05339221e-01, 3.67477429e-01, 2.27183351e-01],\n",
       "       [1.36968297e-02, 6.65962014e-01, 3.20341156e-01],\n",
       "       [8.72729943e-04, 6.32764187e-01, 3.66363083e-01],\n",
       "       [5.03714141e-04, 5.49207705e-01, 4.50288581e-01],\n",
       "       [4.31056230e-01, 3.48181819e-01, 2.20761950e-01],\n",
       "       [9.17022567e-03, 6.21800549e-01, 3.69029225e-01],\n",
       "       [6.23942446e-01, 1.98696496e-01, 1.77361058e-01],\n",
       "       [3.69637913e-01, 2.61383687e-01, 3.68978400e-01],\n",
       "       [6.25288647e-04, 6.21700615e-01, 3.77674096e-01],\n",
       "       [8.95921641e-03, 5.33058933e-01, 4.57981851e-01],\n",
       "       [5.52248378e-01, 1.80345131e-01, 2.67406491e-01],\n",
       "       [6.48718966e-01, 1.81094598e-01, 1.70186436e-01],\n",
       "       [2.32175377e-01, 4.50501690e-01, 3.17322933e-01],\n",
       "       [3.47065753e-01, 4.36797745e-01, 2.16136502e-01],\n",
       "       [6.07491453e-01, 1.83355326e-01, 2.09153220e-01],\n",
       "       [2.01547371e-02, 4.51622449e-01, 5.28222814e-01],\n",
       "       [4.81816651e-04, 6.21588346e-01, 3.77929837e-01],\n",
       "       [9.33589247e-04, 6.22433295e-01, 3.76633116e-01],\n",
       "       [3.55143580e-02, 5.16998257e-01, 4.47487385e-01],\n",
       "       [5.68191109e-03, 6.07867513e-01, 3.86450576e-01],\n",
       "       [9.20009206e-02, 4.87376992e-01, 4.20622087e-01],\n",
       "       [6.75886317e-02, 6.66936867e-01, 2.65474501e-01],\n",
       "       [3.04889028e-01, 4.70700645e-01, 2.24410327e-01],\n",
       "       [2.06121871e-03, 5.18172101e-01, 4.79766680e-01],\n",
       "       [5.71522406e-01, 1.60149222e-01, 2.68328372e-01],\n",
       "       [2.18714644e-02, 6.44744916e-01, 3.33383620e-01],\n",
       "       [6.25455155e-01, 2.25046830e-01, 1.49498014e-01],\n",
       "       [1.48162260e-03, 6.29761000e-01, 3.68757377e-01],\n",
       "       [3.01669377e-01, 4.03718662e-01, 2.94611961e-01],\n",
       "       [1.71622177e-02, 7.19238233e-01, 2.63599550e-01],\n",
       "       [5.85639756e-01, 2.67553500e-01, 1.46806744e-01],\n",
       "       [6.50390806e-01, 2.15283099e-01, 1.34326095e-01],\n",
       "       [3.02016372e-01, 5.00963817e-01, 1.97019811e-01],\n",
       "       [5.77728585e-01, 2.77566278e-01, 1.44705138e-01],\n",
       "       [1.51600816e-02, 5.35983989e-01, 4.48855929e-01],\n",
       "       [7.96016816e-03, 7.40887328e-01, 2.51152504e-01],\n",
       "       [2.66204589e-01, 3.20556882e-01, 4.13238530e-01],\n",
       "       [5.90596540e-01, 2.30166702e-01, 1.79236757e-01],\n",
       "       [1.70214121e-01, 4.07444787e-01, 4.22341091e-01],\n",
       "       [2.48498689e-01, 5.45640842e-01, 2.05860469e-01],\n",
       "       [2.64272170e-01, 4.19264555e-01, 3.16463275e-01],\n",
       "       [2.60144379e-01, 4.19076079e-01, 3.20779542e-01],\n",
       "       [5.20404785e-02, 4.29097407e-01, 5.18862115e-01],\n",
       "       [6.33577939e-03, 6.32439788e-01, 3.61224433e-01],\n",
       "       [1.77524960e-02, 5.41855048e-01, 4.40392456e-01],\n",
       "       [4.81782670e-02, 5.16783856e-01, 4.35037877e-01],\n",
       "       [6.85260039e-01, 1.44845570e-01, 1.69894391e-01],\n",
       "       [6.45609731e-01, 2.04049400e-01, 1.50340869e-01],\n",
       "       [4.27362826e-01, 3.99731229e-01, 1.72905946e-01],\n",
       "       [5.07159325e-02, 4.75297208e-01, 4.73986860e-01],\n",
       "       [5.22455565e-01, 2.45569553e-01, 2.31974882e-01],\n",
       "       [1.17842838e-01, 4.54084404e-01, 4.28072758e-01],\n",
       "       [1.09393359e-01, 6.27158530e-01, 2.63448111e-01],\n",
       "       [8.47513219e-02, 4.76046896e-01, 4.39201782e-01],\n",
       "       [3.16321994e-01, 2.82202862e-01, 4.01475144e-01],\n",
       "       [5.28901762e-01, 1.71702439e-01, 2.99395799e-01],\n",
       "       [7.19858258e-01, 1.05461225e-01, 1.74680518e-01],\n",
       "       [1.52585145e-01, 4.27606788e-01, 4.19808067e-01],\n",
       "       [7.53121161e-03, 6.67387350e-01, 3.25081438e-01],\n",
       "       [1.94475887e-02, 7.18829948e-01, 2.61722464e-01],\n",
       "       [6.40172901e-01, 1.87722691e-01, 1.72104407e-01],\n",
       "       [1.55292587e-01, 4.12322359e-01, 4.32385054e-01],\n",
       "       [4.92002185e-01, 3.03556722e-01, 2.04441093e-01],\n",
       "       [2.11222804e-03, 6.20806949e-01, 3.77080823e-01],\n",
       "       [1.19643930e-02, 6.63072200e-01, 3.24963407e-01],\n",
       "       [8.32881312e-02, 4.95931131e-01, 4.20780738e-01],\n",
       "       [5.00933486e-01, 3.44701853e-01, 1.54364661e-01],\n",
       "       [1.56876330e-01, 5.85237876e-01, 2.57885794e-01],\n",
       "       [4.01339030e-01, 1.94318592e-01, 4.04342377e-01],\n",
       "       [6.83101140e-01, 1.35602544e-01, 1.81296315e-01],\n",
       "       [6.04849492e-01, 1.48197894e-01, 2.46952614e-01],\n",
       "       [5.23022524e-01, 2.83116039e-01, 1.93861436e-01],\n",
       "       [4.25579008e-02, 4.18728009e-01, 5.38714090e-01],\n",
       "       [4.05377715e-01, 3.92475623e-01, 2.02146662e-01],\n",
       "       [2.61146385e-03, 5.16208378e-01, 4.81180158e-01],\n",
       "       [2.34273632e-02, 6.48506465e-01, 3.28066172e-01],\n",
       "       [4.97512748e-01, 3.21089367e-01, 1.81397885e-01],\n",
       "       [2.26210757e-02, 5.33410945e-01, 4.43967979e-01],\n",
       "       [4.50344336e-01, 3.39607829e-01, 2.10047834e-01],\n",
       "       [2.26578510e-01, 2.59029290e-01, 5.14392200e-01],\n",
       "       [1.38109119e-01, 5.28022628e-01, 3.33868253e-01],\n",
       "       [1.47277490e-04, 5.67620348e-01, 4.32232374e-01],\n",
       "       [7.23176580e-01, 1.39722992e-01, 1.37100427e-01],\n",
       "       [1.23759577e-03, 6.24002814e-01, 3.74759590e-01],\n",
       "       [2.20420946e-02, 6.23218118e-01, 3.54739787e-01],\n",
       "       [3.77713282e-02, 4.59746911e-01, 5.02481761e-01],\n",
       "       [6.30763873e-01, 1.77535763e-01, 1.91700364e-01],\n",
       "       [2.28106738e-03, 6.11855028e-01, 3.85863905e-01],\n",
       "       [4.55163091e-02, 5.70600405e-01, 3.83883286e-01],\n",
       "       [3.14192300e-02, 6.35921823e-01, 3.32658947e-01],\n",
       "       [9.21710968e-02, 4.13288561e-01, 4.94540342e-01],\n",
       "       [1.46810360e-02, 5.65866240e-01, 4.19452724e-01],\n",
       "       [3.60259343e-01, 3.36641190e-01, 3.03099467e-01],\n",
       "       [2.30932294e-01, 3.67077216e-01, 4.01990491e-01],\n",
       "       [4.03381545e-03, 5.10754976e-01, 4.85211208e-01],\n",
       "       [5.87595641e-01, 1.83268140e-01, 2.29136219e-01],\n",
       "       [1.72565133e-03, 6.19301916e-01, 3.78972433e-01],\n",
       "       [1.35510920e-02, 4.95383548e-01, 4.91065360e-01],\n",
       "       [6.16702455e-01, 2.29080639e-01, 1.54216906e-01],\n",
       "       [6.05505456e-01, 1.90903567e-01, 2.03590977e-01],\n",
       "       [5.76709123e-03, 5.02574603e-01, 4.91658305e-01],\n",
       "       [1.73489520e-02, 5.69299529e-01, 4.13351519e-01],\n",
       "       [6.34726609e-01, 1.92150344e-01, 1.73123047e-01],\n",
       "       [4.51478818e-04, 6.30295036e-01, 3.69253486e-01],\n",
       "       [1.83491061e-02, 5.66933109e-01, 4.14717785e-01],\n",
       "       [3.24596490e-02, 5.98325402e-01, 3.69214949e-01],\n",
       "       [2.32500935e-02, 4.70222237e-01, 5.06527669e-01],\n",
       "       [1.41082405e-03, 5.36094465e-01, 4.62494711e-01],\n",
       "       [3.56439350e-02, 5.40066130e-01, 4.24289935e-01],\n",
       "       [1.51837362e-01, 4.28204488e-01, 4.19958150e-01],\n",
       "       [6.80611192e-04, 5.63563608e-01, 4.35755781e-01],\n",
       "       [8.38540604e-02, 3.67031959e-01, 5.49113980e-01],\n",
       "       [2.75792010e-02, 4.37893874e-01, 5.34526925e-01],\n",
       "       [6.81982821e-01, 1.77141895e-01, 1.40875283e-01],\n",
       "       [3.75628259e-03, 5.09474648e-01, 4.86769069e-01],\n",
       "       [3.25998680e-01, 3.85904003e-01, 2.88097317e-01],\n",
       "       [2.54008462e-03, 5.23015888e-01, 4.74444027e-01],\n",
       "       [9.82898770e-03, 7.43569995e-01, 2.46601017e-01],\n",
       "       [5.90881622e-04, 5.46426084e-01, 4.52983034e-01],\n",
       "       [1.33731792e-01, 3.51631471e-01, 5.14636737e-01]])"
      ]
     },
     "execution_count": 24,
     "metadata": {},
     "output_type": "execute_result"
    }
   ],
   "source": [
    "logreg_model.predict_proba(X_valid)"
   ]
  },
  {
   "cell_type": "code",
   "execution_count": 25,
   "metadata": {
    "pycharm": {
     "name": "#%%\n"
    }
   },
   "outputs": [],
   "source": [
    "y_pred_prob = logreg_model.predict_proba(X_valid)[:,1]"
   ]
  },
  {
   "cell_type": "code",
   "execution_count": 26,
   "metadata": {},
   "outputs": [
    {
     "data": {
      "text/plain": [
       "array([0.20545881, 0.42929877, 0.16562617, 0.6446433 , 0.27815915,\n",
       "       0.42005103, 0.59801564, 0.74110843, 0.26910711, 0.49569337,\n",
       "       0.51939193, 0.30211941, 0.44619582, 0.56410898, 0.22317288,\n",
       "       0.48594718, 0.18134281, 0.4517288 , 0.11314652, 0.52626039,\n",
       "       0.57162652, 0.38616377, 0.18527711, 0.60777142, 0.5605256 ,\n",
       "       0.16568782, 0.5761399 , 0.68694863, 0.58645543, 0.55634056,\n",
       "       0.51434924, 0.48374471, 0.33002731, 0.59897003, 0.5413517 ,\n",
       "       0.2207946 , 0.53200702, 0.29500463, 0.20842001, 0.24463927,\n",
       "       0.67711841, 0.48612619, 0.57211924, 0.62637109, 0.59077632,\n",
       "       0.60928939, 0.59878979, 0.70417465, 0.49571099, 0.25558302,\n",
       "       0.49551199, 0.18236835, 0.66982887, 0.46211764, 0.42308076,\n",
       "       0.56912368, 0.47576528, 0.53625177, 0.60867065, 0.62740264,\n",
       "       0.23958826, 0.12878596, 0.57076785, 0.34661737, 0.51746671,\n",
       "       0.47035482, 0.57476569, 0.34865852, 0.6238373 , 0.14901746,\n",
       "       0.48252106, 0.69604436, 0.55276706, 0.57441761, 0.56551746,\n",
       "       0.55468629, 0.48844516, 0.72447766, 0.15125188, 0.45150804,\n",
       "       0.36747743, 0.66596201, 0.63276419, 0.5492077 , 0.34818182,\n",
       "       0.62180055, 0.1986965 , 0.26138369, 0.62170062, 0.53305893,\n",
       "       0.18034513, 0.1810946 , 0.45050169, 0.43679774, 0.18335533,\n",
       "       0.45162245, 0.62158835, 0.6224333 , 0.51699826, 0.60786751,\n",
       "       0.48737699, 0.66693687, 0.47070064, 0.5181721 , 0.16014922,\n",
       "       0.64474492, 0.22504683, 0.629761  , 0.40371866, 0.71923823,\n",
       "       0.2675535 , 0.2152831 , 0.50096382, 0.27756628, 0.53598399,\n",
       "       0.74088733, 0.32055688, 0.2301667 , 0.40744479, 0.54564084,\n",
       "       0.41926456, 0.41907608, 0.42909741, 0.63243979, 0.54185505,\n",
       "       0.51678386, 0.14484557, 0.2040494 , 0.39973123, 0.47529721,\n",
       "       0.24556955, 0.4540844 , 0.62715853, 0.4760469 , 0.28220286,\n",
       "       0.17170244, 0.10546122, 0.42760679, 0.66738735, 0.71882995,\n",
       "       0.18772269, 0.41232236, 0.30355672, 0.62080695, 0.6630722 ,\n",
       "       0.49593113, 0.34470185, 0.58523788, 0.19431859, 0.13560254,\n",
       "       0.14819789, 0.28311604, 0.41872801, 0.39247562, 0.51620838,\n",
       "       0.64850646, 0.32108937, 0.53341095, 0.33960783, 0.25902929,\n",
       "       0.52802263, 0.56762035, 0.13972299, 0.62400281, 0.62321812,\n",
       "       0.45974691, 0.17753576, 0.61185503, 0.57060041, 0.63592182,\n",
       "       0.41328856, 0.56586624, 0.33664119, 0.36707722, 0.51075498,\n",
       "       0.18326814, 0.61930192, 0.49538355, 0.22908064, 0.19090357,\n",
       "       0.5025746 , 0.56929953, 0.19215034, 0.63029504, 0.56693311,\n",
       "       0.5983254 , 0.47022224, 0.53609446, 0.54006613, 0.42820449,\n",
       "       0.56356361, 0.36703196, 0.43789387, 0.1771419 , 0.50947465,\n",
       "       0.385904  , 0.52301589, 0.74357   , 0.54642608, 0.35163147])"
      ]
     },
     "execution_count": 26,
     "metadata": {},
     "output_type": "execute_result"
    }
   ],
   "source": [
    "y_pred_prob"
   ]
  },
  {
   "cell_type": "code",
   "execution_count": 27,
   "metadata": {},
   "outputs": [
    {
     "data": {
      "text/plain": [
       "0.69"
      ]
     },
     "execution_count": 27,
     "metadata": {},
     "output_type": "execute_result"
    }
   ],
   "source": [
    "# accuracy score\n",
    "metrics.accuracy_score(y_valid, y_pred)"
   ]
  },
  {
   "cell_type": "code",
   "execution_count": 28,
   "metadata": {},
   "outputs": [
    {
     "data": {
      "text/plain": [
       "array([0.88, 0.87, 0.14])"
      ]
     },
     "execution_count": 28,
     "metadata": {},
     "output_type": "execute_result"
    }
   ],
   "source": [
    "# recall\n",
    "metrics.recall_score(y_valid, y_pred, average=None)"
   ]
  },
  {
   "cell_type": "code",
   "execution_count": 29,
   "metadata": {},
   "outputs": [
    {
     "data": {
      "text/plain": [
       "array([0.77192982, 0.71900826, 0.31818182])"
      ]
     },
     "execution_count": 29,
     "metadata": {},
     "output_type": "execute_result"
    }
   ],
   "source": [
    "# precision score\n",
    "metrics.precision_score(y_valid, y_pred, average=None)"
   ]
  },
  {
   "cell_type": "markdown",
   "metadata": {
    "pycharm": {
     "name": "#%%\n"
    }
   },
   "source": [
    "reference:\n",
    "\n",
    "https://towardsdatascience.com/logistic-regression-using-python-sklearn-numpy-mnist-handwriting-recognition-matplotlib-a6b31e2b166a"
   ]
  }
 ],
 "metadata": {
  "kernelspec": {
   "display_name": "Python 3",
   "language": "python",
   "name": "python3"
  },
  "language_info": {
   "codemirror_mode": {
    "name": "ipython",
    "version": 3
   },
   "file_extension": ".py",
   "mimetype": "text/x-python",
   "name": "python",
   "nbconvert_exporter": "python",
   "pygments_lexer": "ipython3",
   "version": "3.7.4"
  },
  "pycharm": {
   "stem_cell": {
    "cell_type": "raw",
    "metadata": {
     "collapsed": false
    },
    "source": []
   }
  }
 },
 "nbformat": 4,
 "nbformat_minor": 1
}
