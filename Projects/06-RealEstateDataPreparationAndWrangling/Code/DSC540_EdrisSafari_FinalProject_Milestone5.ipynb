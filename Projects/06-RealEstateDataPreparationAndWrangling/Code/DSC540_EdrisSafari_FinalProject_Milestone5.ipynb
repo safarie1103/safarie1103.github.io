{
 "cells": [
  {
   "cell_type": "markdown",
   "metadata": {},
   "source": [
    "\n",
    "# Final Project Report(Milestone 1 to 5) \n"
   ]
  },
  {
   "cell_type": "markdown",
   "metadata": {
    "pycharm": {
     "name": "#%%\n"
    }
   },
   "source": [
    "### Milestone 1 : Data Source\n",
    "#### https://www.kaggle.com/c/zillow-prize-1\n",
    "\n",
    "#### Description\n",
    "There are two data sets with over 1 million records each and 58 columns. properties_2016 and properties_2017 datasets contain data for each year. The data we will use for this project will be a small sample of the master data. \n",
    "\n",
    "The two datasets are linked by parcleid.\n",
    "\n",
    "I transactions dataset, the trabsaction date shows the date the property was sold and logerror is the log10( estimated price - price sold).\n",
    "\n",
    "Properties dataset has the physical information about the properities. The columns on the properties dataset will have to be renamed. Subsets of data can be used to group by region, and other features such as number of bedrooms, square footage, etc.\n"
   ]
  },
  {
   "cell_type": "code",
   "execution_count": 1,
   "metadata": {
    "pycharm": {
     "is_executing": false,
     "name": "#%%\n"
    }
   },
   "outputs": [
    {
     "name": "stderr",
     "output_type": "stream",
     "text": [
      "C:\\Users\\safar\\AppData\\Local\\Temp\\ipykernel_31408\\2544282703.py:16: DtypeWarning: Columns (50) have mixed types. Specify dtype option on import or set low_memory=False.\n",
      "  properties_2016 = pd.read_csv(properties_2016)\n",
      "C:\\Users\\safar\\AppData\\Local\\Temp\\ipykernel_31408\\2544282703.py:17: DtypeWarning: Columns (23,50) have mixed types. Specify dtype option on import or set low_memory=False.\n",
      "  properties_2017 = pd.read_csv(properties_2017)\n"
     ]
    }
   ],
   "source": [
    "# Load Libraries\n",
    "import pandas as pd\n",
    "import matplotlib.pyplot as plt\n",
    "import xlrd\n",
    "import numpy as np\n",
    "# Load Data\n",
    "transactions_2016 = \"Data/transactions_2016.json\"\n",
    "transactions_2017 = \"Data/transactions_2017.json\"\n",
    "\n",
    "properties_2016  =  \"Data/properties_2016.csv\"\n",
    "properties_2017  =  \"Data/properties_2017.csv\"\n",
    "data_dictionary = \"Data/data_dictionary.xlsx\"\n",
    "\n",
    "transactions_2016 = pd.read_json(transactions_2016)\n",
    "transactions_2017 = pd.read_json(transactions_2017)\n",
    "properties_2016 = pd.read_csv(properties_2016)\n",
    "properties_2017 = pd.read_csv(properties_2017)\n",
    "data_dictionary = pd.read_excel(data_dictionary)"
   ]
  },
  {
   "cell_type": "code",
   "execution_count": 47,
   "metadata": {},
   "outputs": [
    {
     "data": {
      "text/html": [
       "<div>\n",
       "<style scoped>\n",
       "    .dataframe tbody tr th:only-of-type {\n",
       "        vertical-align: middle;\n",
       "    }\n",
       "\n",
       "    .dataframe tbody tr th {\n",
       "        vertical-align: top;\n",
       "    }\n",
       "\n",
       "    .dataframe thead th {\n",
       "        text-align: right;\n",
       "    }\n",
       "</style>\n",
       "<table border=\"1\" class=\"dataframe\">\n",
       "  <thead>\n",
       "    <tr style=\"text-align: right;\">\n",
       "      <th></th>\n",
       "      <th>parcelid</th>\n",
       "      <th>logerror</th>\n",
       "      <th>transactiondate</th>\n",
       "    </tr>\n",
       "  </thead>\n",
       "  <tbody>\n",
       "    <tr>\n",
       "      <th>0</th>\n",
       "      <td>11016594</td>\n",
       "      <td>0.0276</td>\n",
       "      <td>2016-01-01</td>\n",
       "    </tr>\n",
       "    <tr>\n",
       "      <th>1</th>\n",
       "      <td>14366692</td>\n",
       "      <td>-0.1684</td>\n",
       "      <td>2016-01-01</td>\n",
       "    </tr>\n",
       "    <tr>\n",
       "      <th>2</th>\n",
       "      <td>12098116</td>\n",
       "      <td>-0.0040</td>\n",
       "      <td>2016-01-01</td>\n",
       "    </tr>\n",
       "    <tr>\n",
       "      <th>3</th>\n",
       "      <td>12643413</td>\n",
       "      <td>0.0218</td>\n",
       "      <td>2016-01-02</td>\n",
       "    </tr>\n",
       "    <tr>\n",
       "      <th>4</th>\n",
       "      <td>14432541</td>\n",
       "      <td>-0.0050</td>\n",
       "      <td>2016-01-02</td>\n",
       "    </tr>\n",
       "  </tbody>\n",
       "</table>\n",
       "</div>"
      ],
      "text/plain": [
       "   parcelid  logerror transactiondate\n",
       "0  11016594    0.0276      2016-01-01\n",
       "1  14366692   -0.1684      2016-01-01\n",
       "2  12098116   -0.0040      2016-01-01\n",
       "3  12643413    0.0218      2016-01-02\n",
       "4  14432541   -0.0050      2016-01-02"
      ]
     },
     "execution_count": 47,
     "metadata": {},
     "output_type": "execute_result"
    }
   ],
   "source": [
    "transactions_2016.head()"
   ]
  },
  {
   "cell_type": "code",
   "execution_count": 48,
   "metadata": {},
   "outputs": [
    {
     "data": {
      "text/html": [
       "<div>\n",
       "<style scoped>\n",
       "    .dataframe tbody tr th:only-of-type {\n",
       "        vertical-align: middle;\n",
       "    }\n",
       "\n",
       "    .dataframe tbody tr th {\n",
       "        vertical-align: top;\n",
       "    }\n",
       "\n",
       "    .dataframe thead th {\n",
       "        text-align: right;\n",
       "    }\n",
       "</style>\n",
       "<table border=\"1\" class=\"dataframe\">\n",
       "  <thead>\n",
       "    <tr style=\"text-align: right;\">\n",
       "      <th></th>\n",
       "      <th>Unnamed: 0</th>\n",
       "      <th>parcelid</th>\n",
       "      <th>airconditioningtypeid</th>\n",
       "      <th>architecturalstyletypeid</th>\n",
       "      <th>basementsqft</th>\n",
       "      <th>bathroomcnt</th>\n",
       "      <th>bedroomcnt</th>\n",
       "      <th>buildingclasstypeid</th>\n",
       "      <th>buildingqualitytypeid</th>\n",
       "      <th>calculatedbathnbr</th>\n",
       "      <th>...</th>\n",
       "      <th>numberofstories</th>\n",
       "      <th>fireplaceflag</th>\n",
       "      <th>structuretaxvaluedollarcnt</th>\n",
       "      <th>taxvaluedollarcnt</th>\n",
       "      <th>assessmentyear</th>\n",
       "      <th>landtaxvaluedollarcnt</th>\n",
       "      <th>taxamount</th>\n",
       "      <th>taxdelinquencyflag</th>\n",
       "      <th>taxdelinquencyyear</th>\n",
       "      <th>censustractandblock</th>\n",
       "    </tr>\n",
       "  </thead>\n",
       "  <tbody>\n",
       "    <tr>\n",
       "      <th>0</th>\n",
       "      <td>0</td>\n",
       "      <td>10754147</td>\n",
       "      <td>NaN</td>\n",
       "      <td>NaN</td>\n",
       "      <td>NaN</td>\n",
       "      <td>0.0</td>\n",
       "      <td>0.0</td>\n",
       "      <td>NaN</td>\n",
       "      <td>NaN</td>\n",
       "      <td>NaN</td>\n",
       "      <td>...</td>\n",
       "      <td>NaN</td>\n",
       "      <td>NaN</td>\n",
       "      <td>NaN</td>\n",
       "      <td>9.0</td>\n",
       "      <td>2015</td>\n",
       "      <td>9.0</td>\n",
       "      <td>NaN</td>\n",
       "      <td>NaN</td>\n",
       "      <td>NaN</td>\n",
       "      <td>NaN</td>\n",
       "    </tr>\n",
       "    <tr>\n",
       "      <th>1</th>\n",
       "      <td>1</td>\n",
       "      <td>10759547</td>\n",
       "      <td>NaN</td>\n",
       "      <td>NaN</td>\n",
       "      <td>NaN</td>\n",
       "      <td>0.0</td>\n",
       "      <td>0.0</td>\n",
       "      <td>NaN</td>\n",
       "      <td>NaN</td>\n",
       "      <td>NaN</td>\n",
       "      <td>...</td>\n",
       "      <td>NaN</td>\n",
       "      <td>NaN</td>\n",
       "      <td>NaN</td>\n",
       "      <td>27516.0</td>\n",
       "      <td>2015</td>\n",
       "      <td>27516.0</td>\n",
       "      <td>NaN</td>\n",
       "      <td>NaN</td>\n",
       "      <td>NaN</td>\n",
       "      <td>NaN</td>\n",
       "    </tr>\n",
       "    <tr>\n",
       "      <th>2</th>\n",
       "      <td>2</td>\n",
       "      <td>10843547</td>\n",
       "      <td>NaN</td>\n",
       "      <td>NaN</td>\n",
       "      <td>NaN</td>\n",
       "      <td>0.0</td>\n",
       "      <td>0.0</td>\n",
       "      <td>NaN</td>\n",
       "      <td>NaN</td>\n",
       "      <td>NaN</td>\n",
       "      <td>...</td>\n",
       "      <td>NaN</td>\n",
       "      <td>NaN</td>\n",
       "      <td>650756.0</td>\n",
       "      <td>1413387.0</td>\n",
       "      <td>2015</td>\n",
       "      <td>762631.0</td>\n",
       "      <td>20800.37</td>\n",
       "      <td>NaN</td>\n",
       "      <td>NaN</td>\n",
       "      <td>NaN</td>\n",
       "    </tr>\n",
       "    <tr>\n",
       "      <th>3</th>\n",
       "      <td>3</td>\n",
       "      <td>10859147</td>\n",
       "      <td>NaN</td>\n",
       "      <td>NaN</td>\n",
       "      <td>NaN</td>\n",
       "      <td>0.0</td>\n",
       "      <td>0.0</td>\n",
       "      <td>3.0</td>\n",
       "      <td>7.0</td>\n",
       "      <td>NaN</td>\n",
       "      <td>...</td>\n",
       "      <td>1.0</td>\n",
       "      <td>NaN</td>\n",
       "      <td>571346.0</td>\n",
       "      <td>1156834.0</td>\n",
       "      <td>2015</td>\n",
       "      <td>585488.0</td>\n",
       "      <td>14557.57</td>\n",
       "      <td>NaN</td>\n",
       "      <td>NaN</td>\n",
       "      <td>NaN</td>\n",
       "    </tr>\n",
       "    <tr>\n",
       "      <th>4</th>\n",
       "      <td>4</td>\n",
       "      <td>10879947</td>\n",
       "      <td>NaN</td>\n",
       "      <td>NaN</td>\n",
       "      <td>NaN</td>\n",
       "      <td>0.0</td>\n",
       "      <td>0.0</td>\n",
       "      <td>4.0</td>\n",
       "      <td>NaN</td>\n",
       "      <td>NaN</td>\n",
       "      <td>...</td>\n",
       "      <td>NaN</td>\n",
       "      <td>NaN</td>\n",
       "      <td>193796.0</td>\n",
       "      <td>433491.0</td>\n",
       "      <td>2015</td>\n",
       "      <td>239695.0</td>\n",
       "      <td>5725.17</td>\n",
       "      <td>NaN</td>\n",
       "      <td>NaN</td>\n",
       "      <td>NaN</td>\n",
       "    </tr>\n",
       "  </tbody>\n",
       "</table>\n",
       "<p>5 rows × 59 columns</p>\n",
       "</div>"
      ],
      "text/plain": [
       "   Unnamed: 0  parcelid  airconditioningtypeid  architecturalstyletypeid  \\\n",
       "0           0  10754147                    NaN                       NaN   \n",
       "1           1  10759547                    NaN                       NaN   \n",
       "2           2  10843547                    NaN                       NaN   \n",
       "3           3  10859147                    NaN                       NaN   \n",
       "4           4  10879947                    NaN                       NaN   \n",
       "\n",
       "   basementsqft  bathroomcnt  bedroomcnt  buildingclasstypeid  \\\n",
       "0           NaN          0.0         0.0                  NaN   \n",
       "1           NaN          0.0         0.0                  NaN   \n",
       "2           NaN          0.0         0.0                  NaN   \n",
       "3           NaN          0.0         0.0                  3.0   \n",
       "4           NaN          0.0         0.0                  4.0   \n",
       "\n",
       "   buildingqualitytypeid  calculatedbathnbr  ...  numberofstories  \\\n",
       "0                    NaN                NaN  ...              NaN   \n",
       "1                    NaN                NaN  ...              NaN   \n",
       "2                    NaN                NaN  ...              NaN   \n",
       "3                    7.0                NaN  ...              1.0   \n",
       "4                    NaN                NaN  ...              NaN   \n",
       "\n",
       "   fireplaceflag  structuretaxvaluedollarcnt  taxvaluedollarcnt  \\\n",
       "0            NaN                         NaN                9.0   \n",
       "1            NaN                         NaN            27516.0   \n",
       "2            NaN                    650756.0          1413387.0   \n",
       "3            NaN                    571346.0          1156834.0   \n",
       "4            NaN                    193796.0           433491.0   \n",
       "\n",
       "   assessmentyear  landtaxvaluedollarcnt  taxamount  taxdelinquencyflag  \\\n",
       "0            2015                    9.0        NaN                 NaN   \n",
       "1            2015                27516.0        NaN                 NaN   \n",
       "2            2015               762631.0   20800.37                 NaN   \n",
       "3            2015               585488.0   14557.57                 NaN   \n",
       "4            2015               239695.0    5725.17                 NaN   \n",
       "\n",
       "   taxdelinquencyyear  censustractandblock  \n",
       "0                 NaN                  NaN  \n",
       "1                 NaN                  NaN  \n",
       "2                 NaN                  NaN  \n",
       "3                 NaN                  NaN  \n",
       "4                 NaN                  NaN  \n",
       "\n",
       "[5 rows x 59 columns]"
      ]
     },
     "execution_count": 48,
     "metadata": {},
     "output_type": "execute_result"
    }
   ],
   "source": [
    "properties_2016.head()"
   ]
  },
  {
   "cell_type": "code",
   "execution_count": 49,
   "metadata": {},
   "outputs": [
    {
     "name": "stdout",
     "output_type": "stream",
     "text": [
      "59\n",
      "Index(['Unnamed: 0', 'parcelid', 'airconditioningtypeid',\n",
      "       'architecturalstyletypeid', 'basementsqft', 'bathroomcnt', 'bedroomcnt',\n",
      "       'buildingclasstypeid', 'buildingqualitytypeid', 'calculatedbathnbr',\n",
      "       'decktypeid', 'finishedfloor1squarefeet',\n",
      "       'calculatedfinishedsquarefeet', 'finishedsquarefeet12',\n",
      "       'finishedsquarefeet13', 'finishedsquarefeet15', 'finishedsquarefeet50',\n",
      "       'finishedsquarefeet6', 'fips', 'fireplacecnt', 'fullbathcnt',\n",
      "       'garagecarcnt', 'garagetotalsqft', 'hashottuborspa',\n",
      "       'heatingorsystemtypeid', 'latitude', 'longitude', 'lotsizesquarefeet',\n",
      "       'poolcnt', 'poolsizesum', 'pooltypeid10', 'pooltypeid2', 'pooltypeid7',\n",
      "       'propertycountylandusecode', 'propertylandusetypeid',\n",
      "       'propertyzoningdesc', 'rawcensustractandblock', 'regionidcity',\n",
      "       'regionidcounty', 'regionidneighborhood', 'regionidzip', 'roomcnt',\n",
      "       'storytypeid', 'threequarterbathnbr', 'typeconstructiontypeid',\n",
      "       'unitcnt', 'yardbuildingsqft17', 'yardbuildingsqft26', 'yearbuilt',\n",
      "       'numberofstories', 'fireplaceflag', 'structuretaxvaluedollarcnt',\n",
      "       'taxvaluedollarcnt', 'assessmentyear', 'landtaxvaluedollarcnt',\n",
      "       'taxamount', 'taxdelinquencyflag', 'taxdelinquencyyear',\n",
      "       'censustractandblock'],\n",
      "      dtype='object')\n"
     ]
    }
   ],
   "source": [
    "print(len(properties_2016.columns))\n",
    "print(properties_2016.columns)"
   ]
  },
  {
   "cell_type": "code",
   "execution_count": 50,
   "metadata": {},
   "outputs": [
    {
     "name": "stdout",
     "output_type": "stream",
     "text": [
      "59\n",
      "Index(['Unnamed: 0', 'parcelid', 'airconditioningtypeid',\n",
      "       'architecturalstyletypeid', 'basementsqft', 'bathroomcnt', 'bedroomcnt',\n",
      "       'buildingclasstypeid', 'buildingqualitytypeid', 'calculatedbathnbr',\n",
      "       'decktypeid', 'finishedfloor1squarefeet',\n",
      "       'calculatedfinishedsquarefeet', 'finishedsquarefeet12',\n",
      "       'finishedsquarefeet13', 'finishedsquarefeet15', 'finishedsquarefeet50',\n",
      "       'finishedsquarefeet6', 'fips', 'fireplacecnt', 'fullbathcnt',\n",
      "       'garagecarcnt', 'garagetotalsqft', 'hashottuborspa',\n",
      "       'heatingorsystemtypeid', 'latitude', 'longitude', 'lotsizesquarefeet',\n",
      "       'poolcnt', 'poolsizesum', 'pooltypeid10', 'pooltypeid2', 'pooltypeid7',\n",
      "       'propertycountylandusecode', 'propertylandusetypeid',\n",
      "       'propertyzoningdesc', 'rawcensustractandblock', 'regionidcity',\n",
      "       'regionidcounty', 'regionidneighborhood', 'regionidzip', 'roomcnt',\n",
      "       'storytypeid', 'threequarterbathnbr', 'typeconstructiontypeid',\n",
      "       'unitcnt', 'yardbuildingsqft17', 'yardbuildingsqft26', 'yearbuilt',\n",
      "       'numberofstories', 'fireplaceflag', 'structuretaxvaluedollarcnt',\n",
      "       'taxvaluedollarcnt', 'assessmentyear', 'landtaxvaluedollarcnt',\n",
      "       'taxamount', 'taxdelinquencyflag', 'taxdelinquencyyear',\n",
      "       'censustractandblock'],\n",
      "      dtype='object')\n"
     ]
    }
   ],
   "source": [
    "print(len(properties_2017.columns))\n",
    "print(properties_2017.columns)"
   ]
  },
  {
   "cell_type": "code",
   "execution_count": 51,
   "metadata": {},
   "outputs": [
    {
     "name": "stdout",
     "output_type": "stream",
     "text": [
      "3\n",
      "Index(['parcelid', 'logerror', 'transactiondate'], dtype='object')\n"
     ]
    }
   ],
   "source": [
    "print(len(transactions_2016.columns))\n",
    "print(transactions_2016.columns)"
   ]
  },
  {
   "cell_type": "code",
   "execution_count": 52,
   "metadata": {},
   "outputs": [
    {
     "name": "stdout",
     "output_type": "stream",
     "text": [
      "3\n",
      "Index(['parcelid', 'logerror', 'transactiondate'], dtype='object')\n"
     ]
    }
   ],
   "source": [
    "print(len(transactions_2017.columns))\n",
    "print(transactions_2017.columns)"
   ]
  },
  {
   "cell_type": "code",
   "execution_count": 53,
   "metadata": {},
   "outputs": [
    {
     "data": {
      "text/html": [
       "<div>\n",
       "<style scoped>\n",
       "    .dataframe tbody tr th:only-of-type {\n",
       "        vertical-align: middle;\n",
       "    }\n",
       "\n",
       "    .dataframe tbody tr th {\n",
       "        vertical-align: top;\n",
       "    }\n",
       "\n",
       "    .dataframe thead th {\n",
       "        text-align: right;\n",
       "    }\n",
       "</style>\n",
       "<table border=\"1\" class=\"dataframe\">\n",
       "  <thead>\n",
       "    <tr style=\"text-align: right;\">\n",
       "      <th></th>\n",
       "      <th>Feature</th>\n",
       "      <th>Description</th>\n",
       "    </tr>\n",
       "  </thead>\n",
       "  <tbody>\n",
       "    <tr>\n",
       "      <th>0</th>\n",
       "      <td>'airconditioningtypeid'</td>\n",
       "      <td>Type of cooling system present in the home (i...</td>\n",
       "    </tr>\n",
       "    <tr>\n",
       "      <th>1</th>\n",
       "      <td>'architecturalstyletypeid'</td>\n",
       "      <td>Architectural style of the home (i.e. ranch, ...</td>\n",
       "    </tr>\n",
       "    <tr>\n",
       "      <th>2</th>\n",
       "      <td>'basementsqft'</td>\n",
       "      <td>Finished living area below or partially below...</td>\n",
       "    </tr>\n",
       "    <tr>\n",
       "      <th>3</th>\n",
       "      <td>'bathroomcnt'</td>\n",
       "      <td>Number of bathrooms in home including fractio...</td>\n",
       "    </tr>\n",
       "    <tr>\n",
       "      <th>4</th>\n",
       "      <td>'bedroomcnt'</td>\n",
       "      <td>Number of bedrooms in home</td>\n",
       "    </tr>\n",
       "  </tbody>\n",
       "</table>\n",
       "</div>"
      ],
      "text/plain": [
       "                      Feature  \\\n",
       "0     'airconditioningtypeid'   \n",
       "1  'architecturalstyletypeid'   \n",
       "2              'basementsqft'   \n",
       "3               'bathroomcnt'   \n",
       "4                'bedroomcnt'   \n",
       "\n",
       "                                         Description  \n",
       "0   Type of cooling system present in the home (i...  \n",
       "1   Architectural style of the home (i.e. ranch, ...  \n",
       "2   Finished living area below or partially below...  \n",
       "3   Number of bathrooms in home including fractio...  \n",
       "4                        Number of bedrooms in home   "
      ]
     },
     "execution_count": 53,
     "metadata": {},
     "output_type": "execute_result"
    }
   ],
   "source": [
    "data_dictionary.head()"
   ]
  },
  {
   "cell_type": "markdown",
   "metadata": {},
   "source": [
    "## Milestone 2 : Cleaning/formatting flat file sources\n",
    "\n"
   ]
  },
  {
   "cell_type": "markdown",
   "metadata": {},
   "source": [
    "We will first combine the properties_2016 and properties_2017 and calle the result properties. We will also combine the two transactions datasets.\n"
   ]
  },
  {
   "cell_type": "code",
   "execution_count": 54,
   "metadata": {},
   "outputs": [
    {
     "name": "stdout",
     "output_type": "stream",
     "text": [
      "(20000, 59)\n",
      "(20000, 59)\n",
      "(40000, 59)\n"
     ]
    }
   ],
   "source": [
    "properties = pd.concat([properties_2016,properties_2017],axis=0)\n",
    "print(properties_2016.shape)\n",
    "print(properties_2017.shape)\n",
    "print(properties.shape)"
   ]
  },
  {
   "cell_type": "code",
   "execution_count": 55,
   "metadata": {},
   "outputs": [
    {
     "name": "stdout",
     "output_type": "stream",
     "text": [
      "(20000, 59)\n",
      "(20000, 59)\n",
      "(40000, 59)\n"
     ]
    }
   ],
   "source": [
    "transactions = pd.concat([transactions_2016,transactions_2017],axis=0)\n",
    "print(properties_2016.shape)\n",
    "print(properties_2017.shape)\n",
    "print(properties.shape)"
   ]
  },
  {
   "cell_type": "code",
   "execution_count": 56,
   "metadata": {},
   "outputs": [
    {
     "data": {
      "text/plain": [
       "Index(['Unnamed: 0', 'parcelid', 'airconditioningtypeid',\n",
       "       'architecturalstyletypeid', 'basementsqft', 'bathroomcnt', 'bedroomcnt',\n",
       "       'buildingclasstypeid', 'buildingqualitytypeid', 'calculatedbathnbr',\n",
       "       'decktypeid', 'finishedfloor1squarefeet',\n",
       "       'calculatedfinishedsquarefeet', 'finishedsquarefeet12',\n",
       "       'finishedsquarefeet13', 'finishedsquarefeet15', 'finishedsquarefeet50',\n",
       "       'finishedsquarefeet6', 'fips', 'fireplacecnt', 'fullbathcnt',\n",
       "       'garagecarcnt', 'garagetotalsqft', 'hashottuborspa',\n",
       "       'heatingorsystemtypeid', 'latitude', 'longitude', 'lotsizesquarefeet',\n",
       "       'poolcnt', 'poolsizesum', 'pooltypeid10', 'pooltypeid2', 'pooltypeid7',\n",
       "       'propertycountylandusecode', 'propertylandusetypeid',\n",
       "       'propertyzoningdesc', 'rawcensustractandblock', 'regionidcity',\n",
       "       'regionidcounty', 'regionidneighborhood', 'regionidzip', 'roomcnt',\n",
       "       'storytypeid', 'threequarterbathnbr', 'typeconstructiontypeid',\n",
       "       'unitcnt', 'yardbuildingsqft17', 'yardbuildingsqft26', 'yearbuilt',\n",
       "       'numberofstories', 'fireplaceflag', 'structuretaxvaluedollarcnt',\n",
       "       'taxvaluedollarcnt', 'assessmentyear', 'landtaxvaluedollarcnt',\n",
       "       'taxamount', 'taxdelinquencyflag', 'taxdelinquencyyear',\n",
       "       'censustractandblock'],\n",
       "      dtype='object')"
      ]
     },
     "execution_count": 56,
     "metadata": {},
     "output_type": "execute_result"
    }
   ],
   "source": [
    "properties.columns"
   ]
  },
  {
   "cell_type": "markdown",
   "metadata": {},
   "source": [
    "Get rid of the Unamed column."
   ]
  },
  {
   "cell_type": "code",
   "execution_count": 57,
   "metadata": {},
   "outputs": [
    {
     "data": {
      "text/plain": [
       "Index(['parcelid', 'airconditioningtypeid', 'architecturalstyletypeid',\n",
       "       'basementsqft', 'bathroomcnt', 'bedroomcnt', 'buildingclasstypeid',\n",
       "       'buildingqualitytypeid', 'calculatedbathnbr', 'decktypeid',\n",
       "       'finishedfloor1squarefeet', 'calculatedfinishedsquarefeet',\n",
       "       'finishedsquarefeet12', 'finishedsquarefeet13', 'finishedsquarefeet15',\n",
       "       'finishedsquarefeet50', 'finishedsquarefeet6', 'fips', 'fireplacecnt',\n",
       "       'fullbathcnt', 'garagecarcnt', 'garagetotalsqft', 'hashottuborspa',\n",
       "       'heatingorsystemtypeid', 'latitude', 'longitude', 'lotsizesquarefeet',\n",
       "       'poolcnt', 'poolsizesum', 'pooltypeid10', 'pooltypeid2', 'pooltypeid7',\n",
       "       'propertycountylandusecode', 'propertylandusetypeid',\n",
       "       'propertyzoningdesc', 'rawcensustractandblock', 'regionidcity',\n",
       "       'regionidcounty', 'regionidneighborhood', 'regionidzip', 'roomcnt',\n",
       "       'storytypeid', 'threequarterbathnbr', 'typeconstructiontypeid',\n",
       "       'unitcnt', 'yardbuildingsqft17', 'yardbuildingsqft26', 'yearbuilt',\n",
       "       'numberofstories', 'fireplaceflag', 'structuretaxvaluedollarcnt',\n",
       "       'taxvaluedollarcnt', 'assessmentyear', 'landtaxvaluedollarcnt',\n",
       "       'taxamount', 'taxdelinquencyflag', 'taxdelinquencyyear',\n",
       "       'censustractandblock'],\n",
       "      dtype='object')"
      ]
     },
     "execution_count": 57,
     "metadata": {},
     "output_type": "execute_result"
    }
   ],
   "source": [
    "properties = properties.loc[:, ~properties.columns.str.contains('^Unnamed')]\n",
    "properties.columns"
   ]
  },
  {
   "cell_type": "markdown",
   "metadata": {},
   "source": [
    "Rename column names in properties dataset."
   ]
  },
  {
   "cell_type": "code",
   "execution_count": 58,
   "metadata": {},
   "outputs": [],
   "source": [
    "properties = properties.rename(columns=\n",
    "                        {\n",
    "  'parcelid':'parcelid', \n",
    "  'yearbuilt':'build_year', \n",
    "  'basementsqft':'area_basement', \n",
    "  'yardbuildingsqft17':'area_patio', \n",
    "  'yardbuildingsqft26':'area_shed',  \n",
    "  'poolsizesum':'area_pool', \n",
    "  'lotsizesquarefeet':'area_lot', \n",
    "  'garagetotalsqft':'area_garage', \n",
    "  'finishedfloor1squarefeet':'area_firstfloor_finished', \n",
    "  'calculatedfinishedsquarefeet':'area_total_calc', \n",
    "  'finishedsquarefeet6':'area_base', \n",
    "  'finishedsquarefeet12':'area_live_finished', \n",
    "  'finishedsquarefeet13':'area_liveperi_finished', \n",
    "  'finishedsquarefeet15':'area_total_finished',  \n",
    "  'finishedsquarefeet50':'area_unknown', \n",
    "  'unitcnt': 'num_unit', \n",
    "  'numberofstories': 'num_story',  \n",
    "  'roomcnt':'num_room', \n",
    "  'bathroomcnt':'num_bathroom', \n",
    "  'bedroomcnt':'num_bedroom', \n",
    "  'calculatedbathnbr':'num_bathroom_calc', \n",
    "  'fullbathcnt':'num_bath', \n",
    "  'threequarterbathnbr':'num_75_bath',  \n",
    "  'fireplacecnt':'num_fireplace', \n",
    "  'poolcnt': 'num_pool',  \n",
    "  'garagecarcnt':'num_garage', \n",
    "  'regionidcounty':'region_county', \n",
    "  'regionidcity':'region_city', \n",
    "  'regionidzip':'region_zip', \n",
    "  'regionidneighborhood':'region_neighbor', \n",
    "  'taxvaluedollarcnt':'tax_total', \n",
    "  'structuretaxvaluedollarcnt':'tax_building', \n",
    "  'landtaxvaluedollarcnt':'tax_land', \n",
    "  'taxamount':'tax_property', \n",
    "  'assessmentyear':'tax_year', \n",
    "  'taxdelinquencyflag':'tax_delinquency', \n",
    "  'taxdelinquencyyear':'tax_delinquency_year', \n",
    "  'propertyzoningdesc':'zoning_property', \n",
    "  'propertylandusetypeid':'zoning_landuse', \n",
    "  'propertycountylandusecode':'zoning_landuse_county', \n",
    "  'fireplaceflag':'flag_fireplace', \n",
    "  'hashottuborspa':'flag_tub', \n",
    "  'buildingqualitytypeid':'quality', \n",
    "  'buildingclasstypeid':'framing', \n",
    "  'typeconstructiontypeid':'material', \n",
    "  'decktypeid':'deck', \n",
    "  'storytypeid':'story', \n",
    "  'heatingorsystemtypeid':'heating', \n",
    "  'airconditioningtypeid':'aircon', \n",
    "  'architecturalstyletypeid':'architectural_style' \n",
    "})"
   ]
  },
  {
   "cell_type": "code",
   "execution_count": 59,
   "metadata": {},
   "outputs": [
    {
     "data": {
      "text/plain": [
       "Index(['parcelid', 'aircon', 'architectural_style', 'area_basement',\n",
       "       'num_bathroom', 'num_bedroom', 'framing', 'quality',\n",
       "       'num_bathroom_calc', 'deck', 'area_firstfloor_finished',\n",
       "       'area_total_calc', 'area_live_finished', 'area_liveperi_finished',\n",
       "       'area_total_finished', 'area_unknown', 'area_base', 'fips',\n",
       "       'num_fireplace', 'num_bath', 'num_garage', 'area_garage', 'flag_tub',\n",
       "       'heating', 'latitude', 'longitude', 'area_lot', 'num_pool', 'area_pool',\n",
       "       'pooltypeid10', 'pooltypeid2', 'pooltypeid7', 'zoning_landuse_county',\n",
       "       'zoning_landuse', 'zoning_property', 'rawcensustractandblock',\n",
       "       'region_city', 'region_county', 'region_neighbor', 'region_zip',\n",
       "       'num_room', 'story', 'num_75_bath', 'material', 'num_unit',\n",
       "       'area_patio', 'area_shed', 'build_year', 'num_story', 'flag_fireplace',\n",
       "       'tax_building', 'tax_total', 'tax_year', 'tax_land', 'tax_property',\n",
       "       'tax_delinquency', 'tax_delinquency_year', 'censustractandblock'],\n",
       "      dtype='object')"
      ]
     },
     "execution_count": 59,
     "metadata": {},
     "output_type": "execute_result"
    }
   ],
   "source": [
    "properties.columns"
   ]
  },
  {
   "cell_type": "code",
   "execution_count": 60,
   "metadata": {},
   "outputs": [
    {
     "data": {
      "text/html": [
       "<div>\n",
       "<style scoped>\n",
       "    .dataframe tbody tr th:only-of-type {\n",
       "        vertical-align: middle;\n",
       "    }\n",
       "\n",
       "    .dataframe tbody tr th {\n",
       "        vertical-align: top;\n",
       "    }\n",
       "\n",
       "    .dataframe thead th {\n",
       "        text-align: right;\n",
       "    }\n",
       "</style>\n",
       "<table border=\"1\" class=\"dataframe\">\n",
       "  <thead>\n",
       "    <tr style=\"text-align: right;\">\n",
       "      <th></th>\n",
       "      <th>num_bedroom</th>\n",
       "      <th>num_bathroom</th>\n",
       "    </tr>\n",
       "  </thead>\n",
       "  <tbody>\n",
       "    <tr>\n",
       "      <th>0</th>\n",
       "      <td>0.0</td>\n",
       "      <td>0.0</td>\n",
       "    </tr>\n",
       "    <tr>\n",
       "      <th>1</th>\n",
       "      <td>0.0</td>\n",
       "      <td>0.0</td>\n",
       "    </tr>\n",
       "    <tr>\n",
       "      <th>2</th>\n",
       "      <td>0.0</td>\n",
       "      <td>0.0</td>\n",
       "    </tr>\n",
       "    <tr>\n",
       "      <th>3</th>\n",
       "      <td>0.0</td>\n",
       "      <td>0.0</td>\n",
       "    </tr>\n",
       "    <tr>\n",
       "      <th>4</th>\n",
       "      <td>0.0</td>\n",
       "      <td>0.0</td>\n",
       "    </tr>\n",
       "    <tr>\n",
       "      <th>...</th>\n",
       "      <td>...</td>\n",
       "      <td>...</td>\n",
       "    </tr>\n",
       "    <tr>\n",
       "      <th>19995</th>\n",
       "      <td>2.0</td>\n",
       "      <td>1.0</td>\n",
       "    </tr>\n",
       "    <tr>\n",
       "      <th>19996</th>\n",
       "      <td>5.0</td>\n",
       "      <td>3.0</td>\n",
       "    </tr>\n",
       "    <tr>\n",
       "      <th>19997</th>\n",
       "      <td>8.0</td>\n",
       "      <td>5.0</td>\n",
       "    </tr>\n",
       "    <tr>\n",
       "      <th>19998</th>\n",
       "      <td>4.0</td>\n",
       "      <td>2.0</td>\n",
       "    </tr>\n",
       "    <tr>\n",
       "      <th>19999</th>\n",
       "      <td>2.0</td>\n",
       "      <td>1.0</td>\n",
       "    </tr>\n",
       "  </tbody>\n",
       "</table>\n",
       "<p>40000 rows × 2 columns</p>\n",
       "</div>"
      ],
      "text/plain": [
       "       num_bedroom  num_bathroom\n",
       "0              0.0           0.0\n",
       "1              0.0           0.0\n",
       "2              0.0           0.0\n",
       "3              0.0           0.0\n",
       "4              0.0           0.0\n",
       "...            ...           ...\n",
       "19995          2.0           1.0\n",
       "19996          5.0           3.0\n",
       "19997          8.0           5.0\n",
       "19998          4.0           2.0\n",
       "19999          2.0           1.0\n",
       "\n",
       "[40000 rows x 2 columns]"
      ]
     },
     "execution_count": 60,
     "metadata": {},
     "output_type": "execute_result"
    }
   ],
   "source": [
    "# Check new column names\n",
    "properties[['num_bedroom','num_bathroom']]"
   ]
  },
  {
   "cell_type": "markdown",
   "metadata": {},
   "source": [
    "Rename column names in transactions dataset."
   ]
  },
  {
   "cell_type": "code",
   "execution_count": 61,
   "metadata": {},
   "outputs": [],
   "source": [
    "transactions = transactions.rename(columns={'parcelid':'parcelid','date':'transactiondate'})"
   ]
  },
  {
   "cell_type": "code",
   "execution_count": 18,
   "metadata": {},
   "outputs": [
    {
     "data": {
      "text/plain": [
       "Index(['parcelid', 'logerror', 'transactiondate'], dtype='object')"
      ]
     },
     "execution_count": 18,
     "metadata": {},
     "output_type": "execute_result"
    }
   ],
   "source": [
    "transactions.columns"
   ]
  },
  {
   "cell_type": "markdown",
   "metadata": {},
   "source": [
    "Check out the new columns"
   ]
  },
  {
   "cell_type": "code",
   "execution_count": 19,
   "metadata": {},
   "outputs": [
    {
     "data": {
      "text/html": [
       "<div>\n",
       "<style scoped>\n",
       "    .dataframe tbody tr th:only-of-type {\n",
       "        vertical-align: middle;\n",
       "    }\n",
       "\n",
       "    .dataframe tbody tr th {\n",
       "        vertical-align: top;\n",
       "    }\n",
       "\n",
       "    .dataframe thead th {\n",
       "        text-align: right;\n",
       "    }\n",
       "</style>\n",
       "<table border=\"1\" class=\"dataframe\">\n",
       "  <thead>\n",
       "    <tr style=\"text-align: right;\">\n",
       "      <th></th>\n",
       "      <th>parcelid</th>\n",
       "      <th>transactiondate</th>\n",
       "    </tr>\n",
       "  </thead>\n",
       "  <tbody>\n",
       "    <tr>\n",
       "      <th>0</th>\n",
       "      <td>11016594</td>\n",
       "      <td>2016-01-01</td>\n",
       "    </tr>\n",
       "    <tr>\n",
       "      <th>1</th>\n",
       "      <td>14366692</td>\n",
       "      <td>2016-01-01</td>\n",
       "    </tr>\n",
       "    <tr>\n",
       "      <th>2</th>\n",
       "      <td>12098116</td>\n",
       "      <td>2016-01-01</td>\n",
       "    </tr>\n",
       "    <tr>\n",
       "      <th>3</th>\n",
       "      <td>12643413</td>\n",
       "      <td>2016-01-02</td>\n",
       "    </tr>\n",
       "    <tr>\n",
       "      <th>4</th>\n",
       "      <td>14432541</td>\n",
       "      <td>2016-01-02</td>\n",
       "    </tr>\n",
       "    <tr>\n",
       "      <th>...</th>\n",
       "      <td>...</td>\n",
       "      <td>...</td>\n",
       "    </tr>\n",
       "    <tr>\n",
       "      <th>77608</th>\n",
       "      <td>10833991</td>\n",
       "      <td>2017-09-20</td>\n",
       "    </tr>\n",
       "    <tr>\n",
       "      <th>77609</th>\n",
       "      <td>11000655</td>\n",
       "      <td>2017-09-20</td>\n",
       "    </tr>\n",
       "    <tr>\n",
       "      <th>77610</th>\n",
       "      <td>17239384</td>\n",
       "      <td>2017-09-21</td>\n",
       "    </tr>\n",
       "    <tr>\n",
       "      <th>77611</th>\n",
       "      <td>12773139</td>\n",
       "      <td>2017-09-21</td>\n",
       "    </tr>\n",
       "    <tr>\n",
       "      <th>77612</th>\n",
       "      <td>12826780</td>\n",
       "      <td>2017-09-25</td>\n",
       "    </tr>\n",
       "  </tbody>\n",
       "</table>\n",
       "<p>167888 rows × 2 columns</p>\n",
       "</div>"
      ],
      "text/plain": [
       "       parcelid transactiondate\n",
       "0      11016594      2016-01-01\n",
       "1      14366692      2016-01-01\n",
       "2      12098116      2016-01-01\n",
       "3      12643413      2016-01-02\n",
       "4      14432541      2016-01-02\n",
       "...         ...             ...\n",
       "77608  10833991      2017-09-20\n",
       "77609  11000655      2017-09-20\n",
       "77610  17239384      2017-09-21\n",
       "77611  12773139      2017-09-21\n",
       "77612  12826780      2017-09-25\n",
       "\n",
       "[167888 rows x 2 columns]"
      ]
     },
     "execution_count": 19,
     "metadata": {},
     "output_type": "execute_result"
    }
   ],
   "source": [
    "transactions[['parcelid','transactiondate']]"
   ]
  },
  {
   "cell_type": "code",
   "execution_count": 20,
   "metadata": {},
   "outputs": [],
   "source": [
    "propertiesAndTransactions = pd.merge(properties,transactions,on='parcelid')\n"
   ]
  },
  {
   "cell_type": "markdown",
   "metadata": {},
   "source": [
    "check out the merge"
   ]
  },
  {
   "cell_type": "code",
   "execution_count": 21,
   "metadata": {},
   "outputs": [
    {
     "data": {
      "text/html": [
       "<div>\n",
       "<style scoped>\n",
       "    .dataframe tbody tr th:only-of-type {\n",
       "        vertical-align: middle;\n",
       "    }\n",
       "\n",
       "    .dataframe tbody tr th {\n",
       "        vertical-align: top;\n",
       "    }\n",
       "\n",
       "    .dataframe thead th {\n",
       "        text-align: right;\n",
       "    }\n",
       "</style>\n",
       "<table border=\"1\" class=\"dataframe\">\n",
       "  <thead>\n",
       "    <tr style=\"text-align: right;\">\n",
       "      <th></th>\n",
       "      <th>parcelid</th>\n",
       "      <th>num_bedroom</th>\n",
       "      <th>transactiondate</th>\n",
       "      <th>logerror</th>\n",
       "    </tr>\n",
       "  </thead>\n",
       "  <tbody>\n",
       "    <tr>\n",
       "      <th>0</th>\n",
       "      <td>17054981</td>\n",
       "      <td>4.0</td>\n",
       "      <td>2017-06-15</td>\n",
       "      <td>-0.013099</td>\n",
       "    </tr>\n",
       "    <tr>\n",
       "      <th>1</th>\n",
       "      <td>17054981</td>\n",
       "      <td>4.0</td>\n",
       "      <td>2017-06-15</td>\n",
       "      <td>-0.013099</td>\n",
       "    </tr>\n",
       "    <tr>\n",
       "      <th>2</th>\n",
       "      <td>17055743</td>\n",
       "      <td>3.0</td>\n",
       "      <td>2017-07-26</td>\n",
       "      <td>0.073985</td>\n",
       "    </tr>\n",
       "    <tr>\n",
       "      <th>3</th>\n",
       "      <td>17055743</td>\n",
       "      <td>3.0</td>\n",
       "      <td>2017-07-26</td>\n",
       "      <td>0.073985</td>\n",
       "    </tr>\n",
       "    <tr>\n",
       "      <th>4</th>\n",
       "      <td>17068109</td>\n",
       "      <td>3.0</td>\n",
       "      <td>2017-07-28</td>\n",
       "      <td>0.071886</td>\n",
       "    </tr>\n",
       "  </tbody>\n",
       "</table>\n",
       "</div>"
      ],
      "text/plain": [
       "   parcelid  num_bedroom transactiondate  logerror\n",
       "0  17054981          4.0      2017-06-15 -0.013099\n",
       "1  17054981          4.0      2017-06-15 -0.013099\n",
       "2  17055743          3.0      2017-07-26  0.073985\n",
       "3  17055743          3.0      2017-07-26  0.073985\n",
       "4  17068109          3.0      2017-07-28  0.071886"
      ]
     },
     "execution_count": 21,
     "metadata": {},
     "output_type": "execute_result"
    }
   ],
   "source": [
    "propertiesAndTransactions[['parcelid','num_bedroom','transactiondate','logerror']].head()"
   ]
  },
  {
   "cell_type": "markdown",
   "metadata": {},
   "source": [
    "let's take of missings"
   ]
  },
  {
   "cell_type": "code",
   "execution_count": 22,
   "metadata": {},
   "outputs": [
    {
     "name": "stdout",
     "output_type": "stream",
     "text": [
      "sum\n",
      " parcelid                       0\n",
      "aircon                      1485\n",
      "architectural_style         2234\n",
      "area_basement               2234\n",
      "num_bathroom                   0\n",
      "num_bedroom                    0\n",
      "framing                     2234\n",
      "quality                      705\n",
      "num_bathroom_calc             26\n",
      "deck                        2214\n",
      "area_firstfloor_finished    2000\n",
      "area_total_calc                9\n",
      "area_live_finished           102\n",
      "area_liveperi_finished      2234\n",
      "area_total_finished         2145\n",
      "area_unknown                2000\n",
      "area_base                   2230\n",
      "fips                           0\n",
      "num_fireplace               1982\n",
      "num_bath                      26\n",
      "num_garage                  1593\n",
      "area_garage                 1593\n",
      "flag_tub                    2192\n",
      "heating                      752\n",
      "latitude                       0\n",
      "longitude                      0\n",
      "area_lot                     216\n",
      "num_pool                    1708\n",
      "area_pool                   2206\n",
      "pooltypeid10                2216\n",
      "pooltypeid2                 2210\n",
      "pooltypeid7                 1732\n",
      "zoning_landuse_county          0\n",
      "zoning_landuse                 0\n",
      "zoning_property              678\n",
      "rawcensustractandblock         0\n",
      "region_city                   42\n",
      "region_county                  0\n",
      "region_neighbor             1186\n",
      "region_zip                     2\n",
      "num_room                       0\n",
      "story                       2234\n",
      "num_75_bath                 1984\n",
      "material                    2234\n",
      "num_unit                     679\n",
      "area_patio                  2137\n",
      "area_shed                   2234\n",
      "build_year                    11\n",
      "num_story                   1792\n",
      "flag_fireplace              2234\n",
      "tax_building                   6\n",
      "tax_total                      0\n",
      "tax_year                       0\n",
      "tax_land                       0\n",
      "tax_property                   0\n",
      "tax_delinquency             2166\n",
      "tax_delinquency_year        2166\n",
      "censustractandblock            8\n",
      "logerror                       0\n",
      "transactiondate                0\n",
      "dtype: int64\n"
     ]
    }
   ],
   "source": [
    "column_names = propertiesAndTransactions.columns\n",
    "print('sum\\n', propertiesAndTransactions.isnull()[column_names].sum())"
   ]
  },
  {
   "cell_type": "code",
   "execution_count": 23,
   "metadata": {},
   "outputs": [
    {
     "name": "stdout",
     "output_type": "stream",
     "text": [
      "mean\n",
      " parcelid                    0.000000\n",
      "aircon                      0.664727\n",
      "architectural_style         1.000000\n",
      "area_basement               1.000000\n",
      "num_bathroom                0.000000\n",
      "num_bedroom                 0.000000\n",
      "framing                     1.000000\n",
      "quality                     0.315577\n",
      "num_bathroom_calc           0.011638\n",
      "deck                        0.991047\n",
      "area_firstfloor_finished    0.895255\n",
      "area_total_calc             0.004029\n",
      "area_live_finished          0.045658\n",
      "area_liveperi_finished      1.000000\n",
      "area_total_finished         0.960161\n",
      "area_unknown                0.895255\n",
      "area_base                   0.998209\n",
      "fips                        0.000000\n",
      "num_fireplace               0.887198\n",
      "num_bath                    0.011638\n",
      "num_garage                  0.713071\n",
      "area_garage                 0.713071\n",
      "flag_tub                    0.981200\n",
      "heating                     0.336616\n",
      "latitude                    0.000000\n",
      "longitude                   0.000000\n",
      "area_lot                    0.096688\n",
      "num_pool                    0.764548\n",
      "area_pool                   0.987466\n",
      "pooltypeid10                0.991943\n",
      "pooltypeid2                 0.989257\n",
      "pooltypeid7                 0.775291\n",
      "zoning_landuse_county       0.000000\n",
      "zoning_landuse              0.000000\n",
      "zoning_property             0.303491\n",
      "rawcensustractandblock      0.000000\n",
      "region_city                 0.018800\n",
      "region_county               0.000000\n",
      "region_neighbor             0.530886\n",
      "region_zip                  0.000895\n",
      "num_room                    0.000000\n",
      "story                       1.000000\n",
      "num_75_bath                 0.888093\n",
      "material                    1.000000\n",
      "num_unit                    0.303939\n",
      "area_patio                  0.956580\n",
      "area_shed                   1.000000\n",
      "build_year                  0.004924\n",
      "num_story                   0.802149\n",
      "flag_fireplace              1.000000\n",
      "tax_building                0.002686\n",
      "tax_total                   0.000000\n",
      "tax_year                    0.000000\n",
      "tax_land                    0.000000\n",
      "tax_property                0.000000\n",
      "tax_delinquency             0.969561\n",
      "tax_delinquency_year        0.969561\n",
      "censustractandblock         0.003581\n",
      "logerror                    0.000000\n",
      "transactiondate             0.000000\n",
      "dtype: float64\n"
     ]
    }
   ],
   "source": [
    "print('mean\\n', propertiesAndTransactions.isnull()[column_names].mean())"
   ]
  },
  {
   "cell_type": "markdown",
   "metadata": {},
   "source": [
    "Let's look at columns woth more than 80% missing values"
   ]
  },
  {
   "cell_type": "code",
   "execution_count": 24,
   "metadata": {},
   "outputs": [
    {
     "data": {
      "text/plain": [
       "parcelid                       0\n",
       "aircon                      1485\n",
       "architectural_style         2234\n",
       "area_basement               2234\n",
       "num_bathroom                   0\n",
       "num_bedroom                    0\n",
       "framing                     2234\n",
       "quality                      705\n",
       "num_bathroom_calc             26\n",
       "deck                        2214\n",
       "area_firstfloor_finished    2000\n",
       "area_total_calc                9\n",
       "area_live_finished           102\n",
       "area_liveperi_finished      2234\n",
       "area_total_finished         2145\n",
       "area_unknown                2000\n",
       "area_base                   2230\n",
       "fips                           0\n",
       "num_fireplace               1982\n",
       "num_bath                      26\n",
       "num_garage                  1593\n",
       "area_garage                 1593\n",
       "flag_tub                    2192\n",
       "heating                      752\n",
       "latitude                       0\n",
       "longitude                      0\n",
       "area_lot                     216\n",
       "num_pool                    1708\n",
       "area_pool                   2206\n",
       "pooltypeid10                2216\n",
       "pooltypeid2                 2210\n",
       "pooltypeid7                 1732\n",
       "zoning_landuse_county          0\n",
       "zoning_landuse                 0\n",
       "zoning_property              678\n",
       "rawcensustractandblock         0\n",
       "region_city                   42\n",
       "region_county                  0\n",
       "region_neighbor             1186\n",
       "region_zip                     2\n",
       "num_room                       0\n",
       "story                       2234\n",
       "num_75_bath                 1984\n",
       "material                    2234\n",
       "num_unit                     679\n",
       "area_patio                  2137\n",
       "area_shed                   2234\n",
       "build_year                    11\n",
       "num_story                   1792\n",
       "flag_fireplace              2234\n",
       "tax_building                   6\n",
       "tax_total                      0\n",
       "tax_year                       0\n",
       "tax_land                       0\n",
       "tax_property                   0\n",
       "tax_delinquency             2166\n",
       "tax_delinquency_year        2166\n",
       "censustractandblock            8\n",
       "logerror                       0\n",
       "transactiondate                0\n",
       "dtype: int64"
      ]
     },
     "execution_count": 24,
     "metadata": {},
     "output_type": "execute_result"
    }
   ],
   "source": [
    "propertiesAndTransactions.isnull()[column_names].sum()\n",
    "# this shows columns and the number of NaN's.Note parcelID has no missing values."
   ]
  },
  {
   "cell_type": "markdown",
   "metadata": {
    "pycharm": {
     "name": "#%% md\n"
    }
   },
   "source": [
    "Make a list of columns with moe than 80% missing data"
   ]
  },
  {
   "cell_type": "code",
   "execution_count": 25,
   "metadata": {},
   "outputs": [
    {
     "name": "stdout",
     "output_type": "stream",
     "text": [
      "Index(['architectural_style', 'area_basement', 'framing', 'deck',\n",
      "       'area_firstfloor_finished', 'area_liveperi_finished',\n",
      "       'area_total_finished', 'area_unknown', 'area_base', 'num_fireplace',\n",
      "       'flag_tub', 'area_pool', 'pooltypeid10', 'pooltypeid2', 'story',\n",
      "       'num_75_bath', 'material', 'area_patio', 'area_shed', 'num_story',\n",
      "       'flag_fireplace', 'tax_delinquency', 'tax_delinquency_year'],\n",
      "      dtype='object')\n"
     ]
    }
   ],
   "source": [
    "remove_columns = propertiesAndTransactions.columns[propertiesAndTransactions.isnull().mean() > .8]\n",
    "print(remove_columns)"
   ]
  },
  {
   "cell_type": "markdown",
   "metadata": {},
   "source": [
    "Drop the columns"
   ]
  },
  {
   "cell_type": "code",
   "execution_count": 26,
   "metadata": {
    "pycharm": {
     "name": "#%%\n"
    }
   },
   "outputs": [],
   "source": [
    "propertiesAndTransactions = propertiesAndTransactions.drop(columns = remove_columns)"
   ]
  },
  {
   "cell_type": "markdown",
   "metadata": {},
   "source": [
    "Check results"
   ]
  },
  {
   "cell_type": "code",
   "execution_count": 27,
   "metadata": {},
   "outputs": [
    {
     "name": "stdout",
     "output_type": "stream",
     "text": [
      "37\n",
      "Index(['parcelid', 'aircon', 'num_bathroom', 'num_bedroom', 'quality',\n",
      "       'num_bathroom_calc', 'area_total_calc', 'area_live_finished', 'fips',\n",
      "       'num_bath', 'num_garage', 'area_garage', 'heating', 'latitude',\n",
      "       'longitude', 'area_lot', 'num_pool', 'pooltypeid7',\n",
      "       'zoning_landuse_county', 'zoning_landuse', 'zoning_property',\n",
      "       'rawcensustractandblock', 'region_city', 'region_county',\n",
      "       'region_neighbor', 'region_zip', 'num_room', 'num_unit', 'build_year',\n",
      "       'tax_building', 'tax_total', 'tax_year', 'tax_land', 'tax_property',\n",
      "       'censustractandblock', 'logerror', 'transactiondate'],\n",
      "      dtype='object')\n"
     ]
    }
   ],
   "source": [
    "print(len(propertiesAndTransactions.columns))\n",
    "print(propertiesAndTransactions.columns)"
   ]
  },
  {
   "cell_type": "markdown",
   "metadata": {},
   "source": [
    "Check results"
   ]
  },
  {
   "cell_type": "code",
   "execution_count": 28,
   "metadata": {},
   "outputs": [
    {
     "name": "stdout",
     "output_type": "stream",
     "text": [
      "37\n",
      "Index(['parcelid', 'aircon', 'num_bathroom', 'num_bedroom', 'quality',\n",
      "       'num_bathroom_calc', 'area_total_calc', 'area_live_finished', 'fips',\n",
      "       'num_bath', 'num_garage', 'area_garage', 'heating', 'latitude',\n",
      "       'longitude', 'area_lot', 'num_pool', 'pooltypeid7',\n",
      "       'zoning_landuse_county', 'zoning_landuse', 'zoning_property',\n",
      "       'rawcensustractandblock', 'region_city', 'region_county',\n",
      "       'region_neighbor', 'region_zip', 'num_room', 'num_unit', 'build_year',\n",
      "       'tax_building', 'tax_total', 'tax_year', 'tax_land', 'tax_property',\n",
      "       'censustractandblock', 'logerror', 'transactiondate'],\n",
      "      dtype='object')\n"
     ]
    }
   ],
   "source": [
    "print(len(propertiesAndTransactions.columns))\n",
    "print(propertiesAndTransactions.columns)"
   ]
  },
  {
   "cell_type": "markdown",
   "metadata": {},
   "source": [
    "Let's check the missing values mean"
   ]
  },
  {
   "cell_type": "code",
   "execution_count": 29,
   "metadata": {},
   "outputs": [
    {
     "name": "stdout",
     "output_type": "stream",
     "text": [
      "mean\n",
      " parcelid                  0.000000\n",
      "aircon                    0.664727\n",
      "num_bathroom              0.000000\n",
      "num_bedroom               0.000000\n",
      "quality                   0.315577\n",
      "num_bathroom_calc         0.011638\n",
      "area_total_calc           0.004029\n",
      "area_live_finished        0.045658\n",
      "fips                      0.000000\n",
      "num_bath                  0.011638\n",
      "num_garage                0.713071\n",
      "area_garage               0.713071\n",
      "heating                   0.336616\n",
      "latitude                  0.000000\n",
      "longitude                 0.000000\n",
      "area_lot                  0.096688\n",
      "num_pool                  0.764548\n",
      "pooltypeid7               0.775291\n",
      "zoning_landuse_county     0.000000\n",
      "zoning_landuse            0.000000\n",
      "zoning_property           0.303491\n",
      "rawcensustractandblock    0.000000\n",
      "region_city               0.018800\n",
      "region_county             0.000000\n",
      "region_neighbor           0.530886\n",
      "region_zip                0.000895\n",
      "num_room                  0.000000\n",
      "num_unit                  0.303939\n",
      "build_year                0.004924\n",
      "tax_building              0.002686\n",
      "tax_total                 0.000000\n",
      "tax_year                  0.000000\n",
      "tax_land                  0.000000\n",
      "tax_property              0.000000\n",
      "censustractandblock       0.003581\n",
      "logerror                  0.000000\n",
      "transactiondate           0.000000\n",
      "dtype: float64\n"
     ]
    }
   ],
   "source": [
    "print('mean\\n', propertiesAndTransactions.isnull()[propertiesAndTransactions.columns].mean())\n",
    "# we see the means to all be below 80%."
   ]
  },
  {
   "cell_type": "markdown",
   "metadata": {},
   "source": [
    "Are there any duplicate?"
   ]
  },
  {
   "cell_type": "code",
   "execution_count": 30,
   "metadata": {},
   "outputs": [
    {
     "data": {
      "text/html": [
       "<div>\n",
       "<style scoped>\n",
       "    .dataframe tbody tr th:only-of-type {\n",
       "        vertical-align: middle;\n",
       "    }\n",
       "\n",
       "    .dataframe tbody tr th {\n",
       "        vertical-align: top;\n",
       "    }\n",
       "\n",
       "    .dataframe thead th {\n",
       "        text-align: right;\n",
       "    }\n",
       "</style>\n",
       "<table border=\"1\" class=\"dataframe\">\n",
       "  <thead>\n",
       "    <tr style=\"text-align: right;\">\n",
       "      <th></th>\n",
       "      <th>parcelid</th>\n",
       "      <th>aircon</th>\n",
       "      <th>num_bathroom</th>\n",
       "      <th>num_bedroom</th>\n",
       "      <th>quality</th>\n",
       "      <th>num_bathroom_calc</th>\n",
       "      <th>area_total_calc</th>\n",
       "      <th>area_live_finished</th>\n",
       "      <th>fips</th>\n",
       "      <th>num_bath</th>\n",
       "      <th>...</th>\n",
       "      <th>num_unit</th>\n",
       "      <th>build_year</th>\n",
       "      <th>tax_building</th>\n",
       "      <th>tax_total</th>\n",
       "      <th>tax_year</th>\n",
       "      <th>tax_land</th>\n",
       "      <th>tax_property</th>\n",
       "      <th>censustractandblock</th>\n",
       "      <th>logerror</th>\n",
       "      <th>transactiondate</th>\n",
       "    </tr>\n",
       "  </thead>\n",
       "  <tbody>\n",
       "  </tbody>\n",
       "</table>\n",
       "<p>0 rows × 37 columns</p>\n",
       "</div>"
      ],
      "text/plain": [
       "Empty DataFrame\n",
       "Columns: [parcelid, aircon, num_bathroom, num_bedroom, quality, num_bathroom_calc, area_total_calc, area_live_finished, fips, num_bath, num_garage, area_garage, heating, latitude, longitude, area_lot, num_pool, pooltypeid7, zoning_landuse_county, zoning_landuse, zoning_property, rawcensustractandblock, region_city, region_county, region_neighbor, region_zip, num_room, num_unit, build_year, tax_building, tax_total, tax_year, tax_land, tax_property, censustractandblock, logerror, transactiondate]\n",
       "Index: []\n",
       "\n",
       "[0 rows x 37 columns]"
      ]
     },
     "execution_count": 30,
     "metadata": {},
     "output_type": "execute_result"
    }
   ],
   "source": [
    "propertiesAndTransactions[propertiesAndTransactions.duplicated(keep=False)]\n",
    "# There are no duplocate rows; however, there are duplicate parcelIDs and corresponding latitude and Longitude."
   ]
  },
  {
   "cell_type": "code",
   "execution_count": 31,
   "metadata": {},
   "outputs": [
    {
     "data": {
      "text/html": [
       "<div>\n",
       "<style scoped>\n",
       "    .dataframe tbody tr th:only-of-type {\n",
       "        vertical-align: middle;\n",
       "    }\n",
       "\n",
       "    .dataframe tbody tr th {\n",
       "        vertical-align: top;\n",
       "    }\n",
       "\n",
       "    .dataframe thead th {\n",
       "        text-align: right;\n",
       "    }\n",
       "</style>\n",
       "<table border=\"1\" class=\"dataframe\">\n",
       "  <thead>\n",
       "    <tr style=\"text-align: right;\">\n",
       "      <th></th>\n",
       "      <th>parcelid</th>\n",
       "      <th>aircon</th>\n",
       "      <th>num_bathroom</th>\n",
       "      <th>num_bedroom</th>\n",
       "      <th>quality</th>\n",
       "      <th>num_bathroom_calc</th>\n",
       "      <th>area_total_calc</th>\n",
       "      <th>area_live_finished</th>\n",
       "      <th>fips</th>\n",
       "      <th>num_bath</th>\n",
       "      <th>...</th>\n",
       "      <th>num_unit</th>\n",
       "      <th>build_year</th>\n",
       "      <th>tax_building</th>\n",
       "      <th>tax_total</th>\n",
       "      <th>tax_year</th>\n",
       "      <th>tax_land</th>\n",
       "      <th>tax_property</th>\n",
       "      <th>censustractandblock</th>\n",
       "      <th>logerror</th>\n",
       "      <th>transactiondate</th>\n",
       "    </tr>\n",
       "  </thead>\n",
       "  <tbody>\n",
       "    <tr>\n",
       "      <th>0</th>\n",
       "      <td>17054981</td>\n",
       "      <td>NaN</td>\n",
       "      <td>5.0</td>\n",
       "      <td>4.0</td>\n",
       "      <td>NaN</td>\n",
       "      <td>5.0</td>\n",
       "      <td>3760.0</td>\n",
       "      <td>3760.0</td>\n",
       "      <td>6111</td>\n",
       "      <td>5.0</td>\n",
       "      <td>...</td>\n",
       "      <td>NaN</td>\n",
       "      <td>1982.0</td>\n",
       "      <td>494390.0</td>\n",
       "      <td>859741.0</td>\n",
       "      <td>2015</td>\n",
       "      <td>365351.0</td>\n",
       "      <td>9608.74</td>\n",
       "      <td>6.111001e+13</td>\n",
       "      <td>-0.013099</td>\n",
       "      <td>2017-06-15</td>\n",
       "    </tr>\n",
       "    <tr>\n",
       "      <th>1</th>\n",
       "      <td>17054981</td>\n",
       "      <td>NaN</td>\n",
       "      <td>5.0</td>\n",
       "      <td>4.0</td>\n",
       "      <td>NaN</td>\n",
       "      <td>5.0</td>\n",
       "      <td>3760.0</td>\n",
       "      <td>3760.0</td>\n",
       "      <td>6111</td>\n",
       "      <td>5.0</td>\n",
       "      <td>...</td>\n",
       "      <td>NaN</td>\n",
       "      <td>1982.0</td>\n",
       "      <td>501928.0</td>\n",
       "      <td>872850.0</td>\n",
       "      <td>2016</td>\n",
       "      <td>370922.0</td>\n",
       "      <td>9673.46</td>\n",
       "      <td>6.111000e+13</td>\n",
       "      <td>-0.013099</td>\n",
       "      <td>2017-06-15</td>\n",
       "    </tr>\n",
       "    <tr>\n",
       "      <th>2</th>\n",
       "      <td>17055743</td>\n",
       "      <td>NaN</td>\n",
       "      <td>2.0</td>\n",
       "      <td>3.0</td>\n",
       "      <td>NaN</td>\n",
       "      <td>2.0</td>\n",
       "      <td>1444.0</td>\n",
       "      <td>1444.0</td>\n",
       "      <td>6111</td>\n",
       "      <td>2.0</td>\n",
       "      <td>...</td>\n",
       "      <td>NaN</td>\n",
       "      <td>1951.0</td>\n",
       "      <td>128881.0</td>\n",
       "      <td>429608.0</td>\n",
       "      <td>2015</td>\n",
       "      <td>300727.0</td>\n",
       "      <td>5494.04</td>\n",
       "      <td>6.111001e+13</td>\n",
       "      <td>0.073985</td>\n",
       "      <td>2017-07-26</td>\n",
       "    </tr>\n",
       "    <tr>\n",
       "      <th>3</th>\n",
       "      <td>17055743</td>\n",
       "      <td>NaN</td>\n",
       "      <td>2.0</td>\n",
       "      <td>3.0</td>\n",
       "      <td>NaN</td>\n",
       "      <td>2.0</td>\n",
       "      <td>1444.0</td>\n",
       "      <td>1444.0</td>\n",
       "      <td>6111</td>\n",
       "      <td>2.0</td>\n",
       "      <td>...</td>\n",
       "      <td>NaN</td>\n",
       "      <td>1951.0</td>\n",
       "      <td>130845.0</td>\n",
       "      <td>436157.0</td>\n",
       "      <td>2016</td>\n",
       "      <td>305312.0</td>\n",
       "      <td>5538.80</td>\n",
       "      <td>6.111000e+13</td>\n",
       "      <td>0.073985</td>\n",
       "      <td>2017-07-26</td>\n",
       "    </tr>\n",
       "    <tr>\n",
       "      <th>4</th>\n",
       "      <td>17068109</td>\n",
       "      <td>NaN</td>\n",
       "      <td>1.5</td>\n",
       "      <td>3.0</td>\n",
       "      <td>NaN</td>\n",
       "      <td>1.5</td>\n",
       "      <td>1698.0</td>\n",
       "      <td>1698.0</td>\n",
       "      <td>6111</td>\n",
       "      <td>1.0</td>\n",
       "      <td>...</td>\n",
       "      <td>NaN</td>\n",
       "      <td>1979.0</td>\n",
       "      <td>190508.0</td>\n",
       "      <td>282303.0</td>\n",
       "      <td>2015</td>\n",
       "      <td>91795.0</td>\n",
       "      <td>2954.74</td>\n",
       "      <td>6.111001e+13</td>\n",
       "      <td>0.071886</td>\n",
       "      <td>2017-07-28</td>\n",
       "    </tr>\n",
       "    <tr>\n",
       "      <th>...</th>\n",
       "      <td>...</td>\n",
       "      <td>...</td>\n",
       "      <td>...</td>\n",
       "      <td>...</td>\n",
       "      <td>...</td>\n",
       "      <td>...</td>\n",
       "      <td>...</td>\n",
       "      <td>...</td>\n",
       "      <td>...</td>\n",
       "      <td>...</td>\n",
       "      <td>...</td>\n",
       "      <td>...</td>\n",
       "      <td>...</td>\n",
       "      <td>...</td>\n",
       "      <td>...</td>\n",
       "      <td>...</td>\n",
       "      <td>...</td>\n",
       "      <td>...</td>\n",
       "      <td>...</td>\n",
       "      <td>...</td>\n",
       "      <td>...</td>\n",
       "    </tr>\n",
       "    <tr>\n",
       "      <th>2229</th>\n",
       "      <td>11769554</td>\n",
       "      <td>NaN</td>\n",
       "      <td>3.0</td>\n",
       "      <td>4.0</td>\n",
       "      <td>4.0</td>\n",
       "      <td>3.0</td>\n",
       "      <td>1482.0</td>\n",
       "      <td>1482.0</td>\n",
       "      <td>6037</td>\n",
       "      <td>3.0</td>\n",
       "      <td>...</td>\n",
       "      <td>1.0</td>\n",
       "      <td>1999.0</td>\n",
       "      <td>161596.0</td>\n",
       "      <td>234433.0</td>\n",
       "      <td>2016</td>\n",
       "      <td>72837.0</td>\n",
       "      <td>2991.31</td>\n",
       "      <td>6.037230e+13</td>\n",
       "      <td>0.682100</td>\n",
       "      <td>2016-06-14</td>\n",
       "    </tr>\n",
       "    <tr>\n",
       "      <th>2230</th>\n",
       "      <td>11778756</td>\n",
       "      <td>NaN</td>\n",
       "      <td>2.0</td>\n",
       "      <td>7.0</td>\n",
       "      <td>7.0</td>\n",
       "      <td>2.0</td>\n",
       "      <td>2693.0</td>\n",
       "      <td>NaN</td>\n",
       "      <td>6037</td>\n",
       "      <td>2.0</td>\n",
       "      <td>...</td>\n",
       "      <td>2.0</td>\n",
       "      <td>1905.0</td>\n",
       "      <td>18962.0</td>\n",
       "      <td>60552.0</td>\n",
       "      <td>2015</td>\n",
       "      <td>41590.0</td>\n",
       "      <td>908.73</td>\n",
       "      <td>6.037210e+13</td>\n",
       "      <td>0.090780</td>\n",
       "      <td>2017-03-07</td>\n",
       "    </tr>\n",
       "    <tr>\n",
       "      <th>2231</th>\n",
       "      <td>11778756</td>\n",
       "      <td>NaN</td>\n",
       "      <td>2.0</td>\n",
       "      <td>7.0</td>\n",
       "      <td>4.0</td>\n",
       "      <td>2.0</td>\n",
       "      <td>2693.0</td>\n",
       "      <td>NaN</td>\n",
       "      <td>6037</td>\n",
       "      <td>2.0</td>\n",
       "      <td>...</td>\n",
       "      <td>2.0</td>\n",
       "      <td>1905.0</td>\n",
       "      <td>19251.0</td>\n",
       "      <td>61475.0</td>\n",
       "      <td>2016</td>\n",
       "      <td>42224.0</td>\n",
       "      <td>908.73</td>\n",
       "      <td>6.037210e+13</td>\n",
       "      <td>0.090780</td>\n",
       "      <td>2017-03-07</td>\n",
       "    </tr>\n",
       "    <tr>\n",
       "      <th>2232</th>\n",
       "      <td>11779780</td>\n",
       "      <td>1.0</td>\n",
       "      <td>2.0</td>\n",
       "      <td>2.0</td>\n",
       "      <td>10.0</td>\n",
       "      <td>2.0</td>\n",
       "      <td>1621.0</td>\n",
       "      <td>1621.0</td>\n",
       "      <td>6037</td>\n",
       "      <td>2.0</td>\n",
       "      <td>...</td>\n",
       "      <td>1.0</td>\n",
       "      <td>1983.0</td>\n",
       "      <td>456300.0</td>\n",
       "      <td>774900.0</td>\n",
       "      <td>2015</td>\n",
       "      <td>318600.0</td>\n",
       "      <td>10454.87</td>\n",
       "      <td>6.037208e+13</td>\n",
       "      <td>-0.122200</td>\n",
       "      <td>2016-07-15</td>\n",
       "    </tr>\n",
       "    <tr>\n",
       "      <th>2233</th>\n",
       "      <td>11779780</td>\n",
       "      <td>1.0</td>\n",
       "      <td>2.0</td>\n",
       "      <td>2.0</td>\n",
       "      <td>11.0</td>\n",
       "      <td>2.0</td>\n",
       "      <td>1621.0</td>\n",
       "      <td>1621.0</td>\n",
       "      <td>6037</td>\n",
       "      <td>2.0</td>\n",
       "      <td>...</td>\n",
       "      <td>1.0</td>\n",
       "      <td>1983.0</td>\n",
       "      <td>502000.0</td>\n",
       "      <td>852000.0</td>\n",
       "      <td>2016</td>\n",
       "      <td>350000.0</td>\n",
       "      <td>10454.87</td>\n",
       "      <td>6.037210e+13</td>\n",
       "      <td>-0.122200</td>\n",
       "      <td>2016-07-15</td>\n",
       "    </tr>\n",
       "  </tbody>\n",
       "</table>\n",
       "<p>2234 rows × 37 columns</p>\n",
       "</div>"
      ],
      "text/plain": [
       "      parcelid  aircon  num_bathroom  num_bedroom  quality  num_bathroom_calc  \\\n",
       "0     17054981     NaN           5.0          4.0      NaN                5.0   \n",
       "1     17054981     NaN           5.0          4.0      NaN                5.0   \n",
       "2     17055743     NaN           2.0          3.0      NaN                2.0   \n",
       "3     17055743     NaN           2.0          3.0      NaN                2.0   \n",
       "4     17068109     NaN           1.5          3.0      NaN                1.5   \n",
       "...        ...     ...           ...          ...      ...                ...   \n",
       "2229  11769554     NaN           3.0          4.0      4.0                3.0   \n",
       "2230  11778756     NaN           2.0          7.0      7.0                2.0   \n",
       "2231  11778756     NaN           2.0          7.0      4.0                2.0   \n",
       "2232  11779780     1.0           2.0          2.0     10.0                2.0   \n",
       "2233  11779780     1.0           2.0          2.0     11.0                2.0   \n",
       "\n",
       "      area_total_calc  area_live_finished  fips  num_bath  ...  num_unit  \\\n",
       "0              3760.0              3760.0  6111       5.0  ...       NaN   \n",
       "1              3760.0              3760.0  6111       5.0  ...       NaN   \n",
       "2              1444.0              1444.0  6111       2.0  ...       NaN   \n",
       "3              1444.0              1444.0  6111       2.0  ...       NaN   \n",
       "4              1698.0              1698.0  6111       1.0  ...       NaN   \n",
       "...               ...                 ...   ...       ...  ...       ...   \n",
       "2229           1482.0              1482.0  6037       3.0  ...       1.0   \n",
       "2230           2693.0                 NaN  6037       2.0  ...       2.0   \n",
       "2231           2693.0                 NaN  6037       2.0  ...       2.0   \n",
       "2232           1621.0              1621.0  6037       2.0  ...       1.0   \n",
       "2233           1621.0              1621.0  6037       2.0  ...       1.0   \n",
       "\n",
       "      build_year  tax_building  tax_total  tax_year  tax_land  tax_property  \\\n",
       "0         1982.0      494390.0   859741.0      2015  365351.0       9608.74   \n",
       "1         1982.0      501928.0   872850.0      2016  370922.0       9673.46   \n",
       "2         1951.0      128881.0   429608.0      2015  300727.0       5494.04   \n",
       "3         1951.0      130845.0   436157.0      2016  305312.0       5538.80   \n",
       "4         1979.0      190508.0   282303.0      2015   91795.0       2954.74   \n",
       "...          ...           ...        ...       ...       ...           ...   \n",
       "2229      1999.0      161596.0   234433.0      2016   72837.0       2991.31   \n",
       "2230      1905.0       18962.0    60552.0      2015   41590.0        908.73   \n",
       "2231      1905.0       19251.0    61475.0      2016   42224.0        908.73   \n",
       "2232      1983.0      456300.0   774900.0      2015  318600.0      10454.87   \n",
       "2233      1983.0      502000.0   852000.0      2016  350000.0      10454.87   \n",
       "\n",
       "      censustractandblock  logerror  transactiondate  \n",
       "0            6.111001e+13 -0.013099       2017-06-15  \n",
       "1            6.111000e+13 -0.013099       2017-06-15  \n",
       "2            6.111001e+13  0.073985       2017-07-26  \n",
       "3            6.111000e+13  0.073985       2017-07-26  \n",
       "4            6.111001e+13  0.071886       2017-07-28  \n",
       "...                   ...       ...              ...  \n",
       "2229         6.037230e+13  0.682100       2016-06-14  \n",
       "2230         6.037210e+13  0.090780       2017-03-07  \n",
       "2231         6.037210e+13  0.090780       2017-03-07  \n",
       "2232         6.037208e+13 -0.122200       2016-07-15  \n",
       "2233         6.037210e+13 -0.122200       2016-07-15  \n",
       "\n",
       "[2234 rows x 37 columns]"
      ]
     },
     "execution_count": 31,
     "metadata": {},
     "output_type": "execute_result"
    }
   ],
   "source": [
    "propertiesAndTransactions"
   ]
  },
  {
   "cell_type": "code",
   "execution_count": 32,
   "metadata": {
    "pycharm": {
     "name": "#%%\n"
    }
   },
   "outputs": [],
   "source": [
    "# Write scraped data to a file for safe keeps and also to avoid rescraping during development\n",
    "propertiesAndTransactions.to_csv(\"data/propertiesAndTransactions.csv\")"
   ]
  },
  {
   "cell_type": "markdown",
   "metadata": {},
   "source": [
    "The two datasets have been merged, columns with more than 80% missing values were removed. The final dataset 'propertiesAndTransactions' will be used in the next milestone."
   ]
  },
  {
   "cell_type": "markdown",
   "metadata": {
    "pycharm": {
     "name": "#%% md\n"
    }
   },
   "source": [
    "## Milestone 3. Webscaraping Data Source\n",
    "#### Description\n",
    "Using webscraping techniques, we will use 'latitude', 'longitude' from properties dataset to access properties and get current data for those locations. The property description of homes in given region will be stored into a dataset with as many features as in properties dataset we can grab. This dataset can then be used to do some price comparision between properties in 2016 and 2017. Getting data from years prior(say 10 years), we will be able to create trend charts and see market fluctuations."
   ]
  },
  {
   "cell_type": "code",
   "execution_count": 33,
   "metadata": {},
   "outputs": [
    {
     "data": {
      "text/html": [
       "<div>\n",
       "<style scoped>\n",
       "    .dataframe tbody tr th:only-of-type {\n",
       "        vertical-align: middle;\n",
       "    }\n",
       "\n",
       "    .dataframe tbody tr th {\n",
       "        vertical-align: top;\n",
       "    }\n",
       "\n",
       "    .dataframe thead th {\n",
       "        text-align: right;\n",
       "    }\n",
       "</style>\n",
       "<table border=\"1\" class=\"dataframe\">\n",
       "  <thead>\n",
       "    <tr style=\"text-align: right;\">\n",
       "      <th></th>\n",
       "      <th>parcelid</th>\n",
       "      <th>latitude</th>\n",
       "      <th>longitude</th>\n",
       "    </tr>\n",
       "  </thead>\n",
       "  <tbody>\n",
       "    <tr>\n",
       "      <th>0</th>\n",
       "      <td>17054981</td>\n",
       "      <td>34449407</td>\n",
       "      <td>-119254052</td>\n",
       "    </tr>\n",
       "    <tr>\n",
       "      <th>1</th>\n",
       "      <td>17054981</td>\n",
       "      <td>34449407</td>\n",
       "      <td>-119254052</td>\n",
       "    </tr>\n",
       "    <tr>\n",
       "      <th>2</th>\n",
       "      <td>17055743</td>\n",
       "      <td>34454169</td>\n",
       "      <td>-119237898</td>\n",
       "    </tr>\n",
       "    <tr>\n",
       "      <th>3</th>\n",
       "      <td>17055743</td>\n",
       "      <td>34454169</td>\n",
       "      <td>-119237898</td>\n",
       "    </tr>\n",
       "    <tr>\n",
       "      <th>4</th>\n",
       "      <td>17068109</td>\n",
       "      <td>34365693</td>\n",
       "      <td>-119448392</td>\n",
       "    </tr>\n",
       "    <tr>\n",
       "      <th>...</th>\n",
       "      <td>...</td>\n",
       "      <td>...</td>\n",
       "      <td>...</td>\n",
       "    </tr>\n",
       "    <tr>\n",
       "      <th>2229</th>\n",
       "      <td>11769554</td>\n",
       "      <td>34006415</td>\n",
       "      <td>-118246669</td>\n",
       "    </tr>\n",
       "    <tr>\n",
       "      <th>2230</th>\n",
       "      <td>11778756</td>\n",
       "      <td>34050678</td>\n",
       "      <td>-118282732</td>\n",
       "    </tr>\n",
       "    <tr>\n",
       "      <th>2231</th>\n",
       "      <td>11778756</td>\n",
       "      <td>34050678</td>\n",
       "      <td>-118282732</td>\n",
       "    </tr>\n",
       "    <tr>\n",
       "      <th>2232</th>\n",
       "      <td>11779780</td>\n",
       "      <td>34045100</td>\n",
       "      <td>-118261000</td>\n",
       "    </tr>\n",
       "    <tr>\n",
       "      <th>2233</th>\n",
       "      <td>11779780</td>\n",
       "      <td>34045100</td>\n",
       "      <td>-118261000</td>\n",
       "    </tr>\n",
       "  </tbody>\n",
       "</table>\n",
       "<p>2234 rows × 3 columns</p>\n",
       "</div>"
      ],
      "text/plain": [
       "      parcelid  latitude  longitude\n",
       "0     17054981  34449407 -119254052\n",
       "1     17054981  34449407 -119254052\n",
       "2     17055743  34454169 -119237898\n",
       "3     17055743  34454169 -119237898\n",
       "4     17068109  34365693 -119448392\n",
       "...        ...       ...        ...\n",
       "2229  11769554  34006415 -118246669\n",
       "2230  11778756  34050678 -118282732\n",
       "2231  11778756  34050678 -118282732\n",
       "2232  11779780  34045100 -118261000\n",
       "2233  11779780  34045100 -118261000\n",
       "\n",
       "[2234 rows x 3 columns]"
      ]
     },
     "execution_count": 33,
     "metadata": {},
     "output_type": "execute_result"
    }
   ],
   "source": [
    "# Build a table consisiting of the parcelID, latitude and longitude of the properties.\n",
    "# This table will be used to get data from www.trulia.com by web scraping\n",
    "\n",
    "LonLat = pd.DataFrame(propertiesAndTransactions[['parcelid','latitude','longitude']])\n",
    "LonLat\n"
   ]
  },
  {
   "cell_type": "code",
   "execution_count": 62,
   "metadata": {},
   "outputs": [
    {
     "data": {
      "text/html": [
       "<div>\n",
       "<style scoped>\n",
       "    .dataframe tbody tr th:only-of-type {\n",
       "        vertical-align: middle;\n",
       "    }\n",
       "\n",
       "    .dataframe tbody tr th {\n",
       "        vertical-align: top;\n",
       "    }\n",
       "\n",
       "    .dataframe thead th {\n",
       "        text-align: right;\n",
       "    }\n",
       "</style>\n",
       "<table border=\"1\" class=\"dataframe\">\n",
       "  <thead>\n",
       "    <tr style=\"text-align: right;\">\n",
       "      <th></th>\n",
       "      <th>parcelid</th>\n",
       "      <th>latitude</th>\n",
       "      <th>longitude</th>\n",
       "    </tr>\n",
       "  </thead>\n",
       "  <tbody>\n",
       "    <tr>\n",
       "      <th>1761</th>\n",
       "      <td>17299670</td>\n",
       "      <td>34186100</td>\n",
       "      <td>-118767000</td>\n",
       "    </tr>\n",
       "    <tr>\n",
       "      <th>107</th>\n",
       "      <td>17296734</td>\n",
       "      <td>34174051</td>\n",
       "      <td>-118757031</td>\n",
       "    </tr>\n",
       "    <tr>\n",
       "      <th>1758</th>\n",
       "      <td>17294231</td>\n",
       "      <td>34153879</td>\n",
       "      <td>-118839561</td>\n",
       "    </tr>\n",
       "    <tr>\n",
       "      <th>1756</th>\n",
       "      <td>17293716</td>\n",
       "      <td>34152179</td>\n",
       "      <td>-118851454</td>\n",
       "    </tr>\n",
       "    <tr>\n",
       "      <th>1427</th>\n",
       "      <td>17292856</td>\n",
       "      <td>34125457</td>\n",
       "      <td>-118891074</td>\n",
       "    </tr>\n",
       "    <tr>\n",
       "      <th>...</th>\n",
       "      <td>...</td>\n",
       "      <td>...</td>\n",
       "      <td>...</td>\n",
       "    </tr>\n",
       "    <tr>\n",
       "      <th>112</th>\n",
       "      <td>10726315</td>\n",
       "      <td>34184300</td>\n",
       "      <td>-118657000</td>\n",
       "    </tr>\n",
       "    <tr>\n",
       "      <th>110</th>\n",
       "      <td>10725532</td>\n",
       "      <td>34196000</td>\n",
       "      <td>-118658000</td>\n",
       "    </tr>\n",
       "    <tr>\n",
       "      <th>1767</th>\n",
       "      <td>10722858</td>\n",
       "      <td>34195746</td>\n",
       "      <td>-118624097</td>\n",
       "    </tr>\n",
       "    <tr>\n",
       "      <th>108</th>\n",
       "      <td>10722336</td>\n",
       "      <td>34199100</td>\n",
       "      <td>-118633000</td>\n",
       "    </tr>\n",
       "    <tr>\n",
       "      <th>1763</th>\n",
       "      <td>10719731</td>\n",
       "      <td>34206094</td>\n",
       "      <td>-118620655</td>\n",
       "    </tr>\n",
       "  </tbody>\n",
       "</table>\n",
       "<p>1096 rows × 3 columns</p>\n",
       "</div>"
      ],
      "text/plain": [
       "      parcelid  latitude  longitude\n",
       "1761  17299670  34186100 -118767000\n",
       "107   17296734  34174051 -118757031\n",
       "1758  17294231  34153879 -118839561\n",
       "1756  17293716  34152179 -118851454\n",
       "1427  17292856  34125457 -118891074\n",
       "...        ...       ...        ...\n",
       "112   10726315  34184300 -118657000\n",
       "110   10725532  34196000 -118658000\n",
       "1767  10722858  34195746 -118624097\n",
       "108   10722336  34199100 -118633000\n",
       "1763  10719731  34206094 -118620655\n",
       "\n",
       "[1096 rows x 3 columns]"
      ]
     },
     "execution_count": 62,
     "metadata": {},
     "output_type": "execute_result"
    }
   ],
   "source": [
    "# We will remove duplicate parcelIDs here since we are only interested in comparable values near each parcelID.\n",
    "LonLat = LonLat.sort_values('parcelid', ascending=False)\n",
    "LonLat = LonLat.drop_duplicates() \n",
    "LonLat.reset_index(drop=True)\n",
    "LonLat"
   ]
  },
  {
   "cell_type": "code",
   "execution_count": 63,
   "metadata": {},
   "outputs": [
    {
     "name": "stdout",
     "output_type": "stream",
     "text": [
      "sum\n",
      " parcelid     0\n",
      "latitude     0\n",
      "longitude    0\n",
      "dtype: int64\n"
     ]
    }
   ],
   "source": [
    "print('sum\\n', LonLat.isnull()[['parcelid','latitude','longitude']].sum())"
   ]
  },
  {
   "cell_type": "code",
   "execution_count": 64,
   "metadata": {},
   "outputs": [],
   "source": [
    "# This dictionary is used to return state code. trulia requires the state code rather than state name\n",
    "us_state_abbrev = {\n",
    "    'Alabama': 'AL',\n",
    "    'Alaska': 'AK',\n",
    "    'American Samoa': 'AS',\n",
    "    'Arizona': 'AZ',\n",
    "    'Arkansas': 'AR',\n",
    "    'California': 'CA',\n",
    "    'Colorado': 'CO',\n",
    "    'Connecticut': 'CT',\n",
    "    'Delaware': 'DE',\n",
    "    'District of Columbia': 'DC',\n",
    "    'Florida': 'FL',\n",
    "    'Georgia': 'GA',\n",
    "    'Guam': 'GU',\n",
    "    'Hawaii': 'HI',\n",
    "    'Idaho': 'ID',\n",
    "    'Illinois': 'IL',\n",
    "    'Indiana': 'IN',\n",
    "    'Iowa': 'IA',\n",
    "    'Kansas': 'KS',\n",
    "    'Kentucky': 'KY',\n",
    "    'Louisiana': 'LA',\n",
    "    'Maine': 'ME',\n",
    "    'Maryland': 'MD',\n",
    "    'Massachusetts': 'MA',\n",
    "    'Michigan': 'MI',\n",
    "    'Minnesota': 'MN',\n",
    "    'Mississippi': 'MS',\n",
    "    'Missouri': 'MO',\n",
    "    'Montana': 'MT',\n",
    "    'Nebraska': 'NE',\n",
    "    'Nevada': 'NV',\n",
    "    'New Hampshire': 'NH',\n",
    "    'New Jersey': 'NJ',\n",
    "    'New Mexico': 'NM',\n",
    "    'New York': 'NY',\n",
    "    'North Carolina': 'NC',\n",
    "    'North Dakota': 'ND',\n",
    "    'Northern Mariana Islands':'MP',\n",
    "    'Ohio': 'OH',\n",
    "    'Oklahoma': 'OK',\n",
    "    'Oregon': 'OR',\n",
    "    'Pennsylvania': 'PA',\n",
    "    'Puerto Rico': 'PR',\n",
    "    'Rhode Island': 'RI',\n",
    "    'South Carolina': 'SC',\n",
    "    'South Dakota': 'SD',\n",
    "    'Tennessee': 'TN',\n",
    "    'Texas': 'TX',\n",
    "    'Utah': 'UT',\n",
    "    'Vermont': 'VT',\n",
    "    'Virgin Islands': 'VI',\n",
    "    'Virginia': 'VA',\n",
    "    'Washington': 'WA',\n",
    "    'West Virginia': 'WV',\n",
    "    'Wisconsin': 'WI',\n",
    "    'Wyoming': 'WY'\n",
    "}\n",
    "\n",
    "abbrev_us_state = dict(map(reversed, us_state_abbrev.items()))"
   ]
  },
  {
   "cell_type": "code",
   "execution_count": 69,
   "metadata": {},
   "outputs": [],
   "source": [
    "import urllib.request\n",
    "import urllib.parse\n",
    "import urllib.error\n",
    "import json\n",
    "from bs4 import BeautifulSoup\n",
    "from urllib.request import Request, urlopen\n",
    "import geopy\n",
    "from geopy.geocoders import Nominatim    \n",
    "\n",
    "def create_url(city,state,zipcode):\n",
    "    # Creating trulia URL based on the filter.\n",
    "\n",
    "    url = \"https://www.trulia.com/\" + state + \"/\" + city + \"/\" + zipcode\n",
    "    return url\n",
    "\n",
    "def get_response(url):\n",
    "    ret = None\n",
    "    try:\n",
    "        for i in range(5):\n",
    "            response = requests.get(url, headers={'User-Agent': 'Mozilla/5.0'})\n",
    "            print(\"status code received:\", response.status_code)\n",
    "            if (response.status_code != 200):\n",
    "                return None\n",
    "            else:\n",
    "                return response\n",
    "    except:\n",
    "        print('exception in get_response')\n",
    "        return None\n",
    "\n",
    "def GetCityStateZip(lat,lon):\n",
    "    lat = lat/10**6\n",
    "    lon = lon/10**6\n",
    "    #geolocator = Nominatim(timeout=5)\n",
    "    geolocator = Nominatim(user_agent='safarie1103@gmail.com')\n",
    "    #print(location.raw)\n",
    "    try:\n",
    "        location = geolocator.reverse((lat, lon))\n",
    "        city = location.raw['address']['city']\n",
    "        state = us_state_abbrev[location.raw['address']['state']]\n",
    "        zipcode = location.raw['address']['postcode'].split('-')[0]\n",
    "    except:\n",
    "        city = \"\"\n",
    "        state = \"\"    \n",
    "        zipcode = \"\"\n",
    "    \n",
    "    return city,state,zipcode"
   ]
  },
  {
   "cell_type": "code",
   "execution_count": 70,
   "metadata": {},
   "outputs": [],
   "source": [
    "\n",
    "def GetComp(parcelId,latitude,longitude):\n",
    "    city,state,zipcode = GetCityStateZip(latitude,longitude)\n",
    "    #print(parcelId,latitude,longitude)\n",
    "    #print(\"city=\", city)\n",
    "    #print(\"state=\", state)\n",
    "    #print(\"zipcode=\",zipcode)\n",
    "    \n",
    "    emptylistings_json = {}\n",
    "    emptylistings_json['parcelId'] = {0:parcelId}\n",
    "    emptylistings_json['price'] = {0:np.nan}\n",
    "    emptylistings_json['bedrooms'] = {0:np.nan}\n",
    "    emptylistings_json['bathrooms'] = {0:np.nan}\n",
    "    emptylistings_json['floorSpace'] = {0:np.nan}\n",
    "    emptylistings_json['region'] = {0:np.nan}\n",
    "    \n",
    "    if (city == \"\" or state == \"\" or state == \"\"):\n",
    "        return(pd.DataFrame(emptylistings_json))\n",
    "    \n",
    "    url = create_url(city,state,zipcode)\n",
    "    \n",
    "    #req = Requests(url, headers={'User-Agent': 'Mozilla/5.0'})\n",
    "    #webpage = urlopen(req).read()\n",
    "    #soup = BeautifulSoup(webpage, 'html.parser')\n",
    "\n",
    "    response = get_response(url)\n",
    "    #print(response.text)\n",
    "    if not response:\n",
    "        print(\"Failed to fetch the page, please check `response.html` to see the response received from zillow.com.\")\n",
    "        return(pd.DataFrame(emptylistings_json))\n",
    "    \n",
    "    soup = BeautifulSoup(response.text, 'html.parser')\n",
    "    \n",
    "    html = soup.prettify('utf-8')\n",
    "    \n",
    "    details = {}\n",
    "    parcels = {}\n",
    "    listings_json = {}\n",
    "    index = 0\n",
    "    \n",
    "    for price in  soup.findAll('div',attrs={'data-testid': 'property-price'}):\n",
    "        details.update({index:price.text.strip()})\n",
    "        parcels.update({index:parcelId})\n",
    "        index = index + 1\n",
    "        \n",
    "    listings_json['parcelId'] = {}\n",
    "    listings_json['parcelId']  = parcels\n",
    "    listings_json['price'] = {}\n",
    "    listings_json['price']  = details\n",
    "    #print(listings_json['price'])\n",
    "    \n",
    "    \n",
    "    \n",
    "    details = {}\n",
    "    index = 0\n",
    "    for bedroom  in  soup.findAll('div',attrs={'data-testid': 'property-beds'}):\n",
    "        details.update({index:bedroom.text.strip()}) \n",
    "        index = index + 1\n",
    "    \n",
    "    listings_json['bedrooms'] = {}\n",
    "    listings_json['bedrooms']  = details\n",
    "    #print(listings_json)\n",
    "    \n",
    "    \n",
    "    \n",
    "    details = {}\n",
    "    index = 0\n",
    "    for bathroom  in  soup.findAll('div',attrs={'data-testid': 'property-baths'}):\n",
    "        details.update({index:bathroom.text.strip()}) \n",
    "        index = index + 1\n",
    "\n",
    "    listings_json['bathrooms'] = {}\n",
    "    listings_json['bathrooms']  = details\n",
    "    #print(listings_json)\n",
    "    \n",
    "    \n",
    "    \n",
    "    details = {}\n",
    "    index = 0\n",
    "    for floorSpace  in  soup.findAll('div',attrs={'data-testid': 'property-floorSpace'}):\n",
    "        details.update({index:floorSpace.text.strip()}) \n",
    "        index = index + 1\n",
    "    \n",
    "    listings_json['floorSpace'] = {}\n",
    "    listings_json['floorSpace']  = details\n",
    "    #print(listings_json)\n",
    "    \n",
    "    \n",
    "    \n",
    "    details = {}\n",
    "    index = 0\n",
    "    for region  in  soup.findAll('div',attrs={'data-testid': 'property-region'}):\n",
    "        details.update({index:region.text.strip()}) \n",
    "        index = index + 1\n",
    "    \n",
    "    listings_json['region'] = {}\n",
    "    listings_json['region']  = details\n",
    "    #print(listings_json)\n",
    "\n",
    "    #listings_table = pd.DataFrame()\n",
    "\n",
    "    #with open('house_details.json', 'w') as outfile:\n",
    "    #    json.dump(listings_json, outfile, indent=4)\n",
    "    #listings_table = pd.read_json(\"house_details.json\")\n",
    "    return pd.DataFrame(listings_json)\n",
    "    \n",
    "\n"
   ]
  },
  {
   "cell_type": "code",
   "execution_count": 71,
   "metadata": {
    "pycharm": {
     "name": "#%%\n"
    }
   },
   "outputs": [
    {
     "data": {
      "text/html": [
       "<div>\n",
       "<style scoped>\n",
       "    .dataframe tbody tr th:only-of-type {\n",
       "        vertical-align: middle;\n",
       "    }\n",
       "\n",
       "    .dataframe tbody tr th {\n",
       "        vertical-align: top;\n",
       "    }\n",
       "\n",
       "    .dataframe thead th {\n",
       "        text-align: right;\n",
       "    }\n",
       "</style>\n",
       "<table border=\"1\" class=\"dataframe\">\n",
       "  <thead>\n",
       "    <tr style=\"text-align: right;\">\n",
       "      <th></th>\n",
       "      <th>parcelid</th>\n",
       "      <th>latitude</th>\n",
       "      <th>longitude</th>\n",
       "    </tr>\n",
       "  </thead>\n",
       "  <tbody>\n",
       "    <tr>\n",
       "      <th>1761</th>\n",
       "      <td>17299670</td>\n",
       "      <td>34186100</td>\n",
       "      <td>-118767000</td>\n",
       "    </tr>\n",
       "    <tr>\n",
       "      <th>107</th>\n",
       "      <td>17296734</td>\n",
       "      <td>34174051</td>\n",
       "      <td>-118757031</td>\n",
       "    </tr>\n",
       "    <tr>\n",
       "      <th>1758</th>\n",
       "      <td>17294231</td>\n",
       "      <td>34153879</td>\n",
       "      <td>-118839561</td>\n",
       "    </tr>\n",
       "    <tr>\n",
       "      <th>1756</th>\n",
       "      <td>17293716</td>\n",
       "      <td>34152179</td>\n",
       "      <td>-118851454</td>\n",
       "    </tr>\n",
       "    <tr>\n",
       "      <th>1427</th>\n",
       "      <td>17292856</td>\n",
       "      <td>34125457</td>\n",
       "      <td>-118891074</td>\n",
       "    </tr>\n",
       "  </tbody>\n",
       "</table>\n",
       "</div>"
      ],
      "text/plain": [
       "      parcelid  latitude  longitude\n",
       "1761  17299670  34186100 -118767000\n",
       "107   17296734  34174051 -118757031\n",
       "1758  17294231  34153879 -118839561\n",
       "1756  17293716  34152179 -118851454\n",
       "1427  17292856  34125457 -118891074"
      ]
     },
     "execution_count": 71,
     "metadata": {},
     "output_type": "execute_result"
    }
   ],
   "source": [
    "LonLat[:5]"
   ]
  },
  {
   "cell_type": "markdown",
   "metadata": {
    "pycharm": {
     "name": "#%% md\n"
    }
   },
   "source": [
    "## Here we get 20 compare properties for the parcelIDs. Note that a parcelID from propertiesAndTransactions table may have one ore more comps near it's latitude and longitude. This process sometime times out. We have taken care to continue collecting even after such exceptions."
   ]
  },
  {
   "cell_type": "code",
   "execution_count": 72,
   "metadata": {},
   "outputs": [
    {
     "name": "stdout",
     "output_type": "stream",
     "text": [
      "exception in get_response\n",
      "Failed to fetch the page, please check `response.html` to see the response received from zillow.com.\n",
      "exception in get_response\n",
      "Failed to fetch the page, please check `response.html` to see the response received from zillow.com.\n",
      "exception in get_response\n",
      "Failed to fetch the page, please check `response.html` to see the response received from zillow.com.\n",
      "exception in get_response\n",
      "Failed to fetch the page, please check `response.html` to see the response received from zillow.com.\n",
      "exception in get_response\n",
      "Failed to fetch the page, please check `response.html` to see the response received from zillow.com.\n",
      "exception in get_response\n",
      "Failed to fetch the page, please check `response.html` to see the response received from zillow.com.\n",
      "exception in get_response\n",
      "Failed to fetch the page, please check `response.html` to see the response received from zillow.com.\n",
      "exception in get_response\n",
      "Failed to fetch the page, please check `response.html` to see the response received from zillow.com.\n",
      "exception in get_response\n",
      "Failed to fetch the page, please check `response.html` to see the response received from zillow.com.\n",
      "exception in get_response\n",
      "Failed to fetch the page, please check `response.html` to see the response received from zillow.com.\n",
      "exception in get_response\n",
      "Failed to fetch the page, please check `response.html` to see the response received from zillow.com.\n",
      "exception in get_response\n",
      "Failed to fetch the page, please check `response.html` to see the response received from zillow.com.\n",
      "exception in get_response\n",
      "Failed to fetch the page, please check `response.html` to see the response received from zillow.com.\n",
      "exception in get_response\n",
      "Failed to fetch the page, please check `response.html` to see the response received from zillow.com.\n",
      "exception in get_response\n",
      "Failed to fetch the page, please check `response.html` to see the response received from zillow.com.\n"
     ]
    }
   ],
   "source": [
    "comp_listing_table = pd.DataFrame(columns={'parcelid','price','bedrooms','bathrooms','floorSpace','region'})\n",
    "\n",
    "dfs = []\n",
    "for index, row in LonLat[:20].iterrows():\n",
    "    parcelId = row['parcelid']\n",
    "    latitude = row['latitude']\n",
    "    longitude = row['longitude']\n",
    "    #print(parcelId,latitude,longitude)\n",
    "    Temp_listing_table = GetComp(parcelId,latitude,longitude) \n",
    "    #print(Temp_listing_table.shape)\n",
    "    dfs.append(Temp_listing_table)\n",
    "    #print(Temp_listing_table)\n",
    "       \n",
    "\n",
    "comp_listing_table = pd.concat(dfs, ignore_index=True)      \n",
    "\n",
    "      "
   ]
  },
  {
   "cell_type": "code",
   "execution_count": 73,
   "metadata": {},
   "outputs": [
    {
     "name": "stdout",
     "output_type": "stream",
     "text": [
      "    parcelId  price  bedrooms  bathrooms  floorSpace  region\n",
      "0   17299670    NaN       NaN        NaN         NaN     NaN\n",
      "1   17296734    NaN       NaN        NaN         NaN     NaN\n",
      "2   17294231    NaN       NaN        NaN         NaN     NaN\n",
      "3   17293716    NaN       NaN        NaN         NaN     NaN\n",
      "4   17292856    NaN       NaN        NaN         NaN     NaN\n",
      "5   17291231    NaN       NaN        NaN         NaN     NaN\n",
      "6   17290419    NaN       NaN        NaN         NaN     NaN\n",
      "7   17290104    NaN       NaN        NaN         NaN     NaN\n",
      "8   17289398    NaN       NaN        NaN         NaN     NaN\n",
      "9   17287986    NaN       NaN        NaN         NaN     NaN\n",
      "10  17285909    NaN       NaN        NaN         NaN     NaN\n",
      "11  17283891    NaN       NaN        NaN         NaN     NaN\n",
      "12  17283162    NaN       NaN        NaN         NaN     NaN\n",
      "13  17280385    NaN       NaN        NaN         NaN     NaN\n",
      "14  17276736    NaN       NaN        NaN         NaN     NaN\n",
      "15  17276290    NaN       NaN        NaN         NaN     NaN\n",
      "16  17275763    NaN       NaN        NaN         NaN     NaN\n",
      "17  17275640    NaN       NaN        NaN         NaN     NaN\n",
      "18  17274552    NaN       NaN        NaN         NaN     NaN\n",
      "19  17273670    NaN       NaN        NaN         NaN     NaN\n"
     ]
    }
   ],
   "source": [
    "print(comp_listing_table)"
   ]
  },
  {
   "cell_type": "code",
   "execution_count": 74,
   "metadata": {},
   "outputs": [
    {
     "data": {
      "text/plain": [
       "parcelId       0\n",
       "price         20\n",
       "bedrooms      20\n",
       "bathrooms     20\n",
       "floorSpace    20\n",
       "region        20\n",
       "dtype: int64"
      ]
     },
     "execution_count": 74,
     "metadata": {},
     "output_type": "execute_result"
    }
   ],
   "source": [
    "comp_listing_table.isnull()[comp_listing_table.columns].sum()"
   ]
  },
  {
   "cell_type": "code",
   "execution_count": 75,
   "metadata": {},
   "outputs": [],
   "source": [
    "comp_listing_table = comp_listing_table.dropna()"
   ]
  },
  {
   "cell_type": "code",
   "execution_count": 76,
   "metadata": {},
   "outputs": [
    {
     "data": {
      "text/plain": [
       "parcelId      0.0\n",
       "price         0.0\n",
       "bedrooms      0.0\n",
       "bathrooms     0.0\n",
       "floorSpace    0.0\n",
       "region        0.0\n",
       "dtype: float64"
      ]
     },
     "execution_count": 76,
     "metadata": {},
     "output_type": "execute_result"
    }
   ],
   "source": [
    "comp_listing_table.isnull()[comp_listing_table.columns].sum()"
   ]
  },
  {
   "cell_type": "code",
   "execution_count": 77,
   "metadata": {},
   "outputs": [
    {
     "data": {
      "text/plain": [
       "(0, 6)"
      ]
     },
     "execution_count": 77,
     "metadata": {},
     "output_type": "execute_result"
    }
   ],
   "source": [
    "comp_listing_table.shape"
   ]
  },
  {
   "cell_type": "code",
   "execution_count": 78,
   "metadata": {},
   "outputs": [
    {
     "data": {
      "text/html": [
       "<div>\n",
       "<style scoped>\n",
       "    .dataframe tbody tr th:only-of-type {\n",
       "        vertical-align: middle;\n",
       "    }\n",
       "\n",
       "    .dataframe tbody tr th {\n",
       "        vertical-align: top;\n",
       "    }\n",
       "\n",
       "    .dataframe thead th {\n",
       "        text-align: right;\n",
       "    }\n",
       "</style>\n",
       "<table border=\"1\" class=\"dataframe\">\n",
       "  <thead>\n",
       "    <tr style=\"text-align: right;\">\n",
       "      <th></th>\n",
       "      <th>parcelId</th>\n",
       "      <th>price</th>\n",
       "      <th>bedrooms</th>\n",
       "      <th>bathrooms</th>\n",
       "      <th>floorSpace</th>\n",
       "      <th>region</th>\n",
       "    </tr>\n",
       "  </thead>\n",
       "  <tbody>\n",
       "  </tbody>\n",
       "</table>\n",
       "</div>"
      ],
      "text/plain": [
       "Empty DataFrame\n",
       "Columns: [parcelId, price, bedrooms, bathrooms, floorSpace, region]\n",
       "Index: []"
      ]
     },
     "execution_count": 78,
     "metadata": {},
     "output_type": "execute_result"
    }
   ],
   "source": [
    "comp_listing_table"
   ]
  },
  {
   "cell_type": "markdown",
   "metadata": {
    "pycharm": {
     "name": "#%% md\n"
    }
   },
   "source": [
    "#### prepare the dataset"
   ]
  },
  {
   "cell_type": "code",
   "execution_count": 79,
   "metadata": {
    "pycharm": {
     "name": "#%%\n"
    }
   },
   "outputs": [],
   "source": [
    "comp_listing_table = comp_listing_table.loc[:, ~comp_listing_table.columns.str.contains('^Unnamed')]"
   ]
  },
  {
   "cell_type": "code",
   "execution_count": 80,
   "metadata": {},
   "outputs": [
    {
     "data": {
      "text/html": [
       "<div>\n",
       "<style scoped>\n",
       "    .dataframe tbody tr th:only-of-type {\n",
       "        vertical-align: middle;\n",
       "    }\n",
       "\n",
       "    .dataframe tbody tr th {\n",
       "        vertical-align: top;\n",
       "    }\n",
       "\n",
       "    .dataframe thead th {\n",
       "        text-align: right;\n",
       "    }\n",
       "</style>\n",
       "<table border=\"1\" class=\"dataframe\">\n",
       "  <thead>\n",
       "    <tr style=\"text-align: right;\">\n",
       "      <th></th>\n",
       "      <th>parcelId</th>\n",
       "      <th>price</th>\n",
       "      <th>bedrooms</th>\n",
       "      <th>bathrooms</th>\n",
       "      <th>floorSpace</th>\n",
       "      <th>region</th>\n",
       "    </tr>\n",
       "  </thead>\n",
       "  <tbody>\n",
       "  </tbody>\n",
       "</table>\n",
       "</div>"
      ],
      "text/plain": [
       "Empty DataFrame\n",
       "Columns: [parcelId, price, bedrooms, bathrooms, floorSpace, region]\n",
       "Index: []"
      ]
     },
     "execution_count": 80,
     "metadata": {},
     "output_type": "execute_result"
    }
   ],
   "source": [
    "comp_listing_table['price']= comp_listing_table['price'].replace('[\\$,]', '', regex=True).astype(float)\n",
    "comp_listing_table"
   ]
  },
  {
   "cell_type": "code",
   "execution_count": 81,
   "metadata": {},
   "outputs": [
    {
     "data": {
      "text/html": [
       "<div>\n",
       "<style scoped>\n",
       "    .dataframe tbody tr th:only-of-type {\n",
       "        vertical-align: middle;\n",
       "    }\n",
       "\n",
       "    .dataframe tbody tr th {\n",
       "        vertical-align: top;\n",
       "    }\n",
       "\n",
       "    .dataframe thead th {\n",
       "        text-align: right;\n",
       "    }\n",
       "</style>\n",
       "<table border=\"1\" class=\"dataframe\">\n",
       "  <thead>\n",
       "    <tr style=\"text-align: right;\">\n",
       "      <th></th>\n",
       "      <th>parcelId</th>\n",
       "      <th>price</th>\n",
       "      <th>bedrooms</th>\n",
       "      <th>bathrooms</th>\n",
       "      <th>floorSpace</th>\n",
       "      <th>region</th>\n",
       "    </tr>\n",
       "  </thead>\n",
       "  <tbody>\n",
       "  </tbody>\n",
       "</table>\n",
       "</div>"
      ],
      "text/plain": [
       "Empty DataFrame\n",
       "Columns: [parcelId, price, bedrooms, bathrooms, floorSpace, region]\n",
       "Index: []"
      ]
     },
     "execution_count": 81,
     "metadata": {},
     "output_type": "execute_result"
    }
   ],
   "source": [
    "comp_listing_table['bedrooms']= comp_listing_table['bedrooms'].replace('bd', '', regex=True).astype(int)\n",
    "comp_listing_table"
   ]
  },
  {
   "cell_type": "code",
   "execution_count": 82,
   "metadata": {
    "pycharm": {
     "name": "#%%\n"
    }
   },
   "outputs": [],
   "source": [
    "comp_listing_table['bathrooms']= comp_listing_table['bathrooms'].replace('ba', '', regex=True).astype(float)"
   ]
  },
  {
   "cell_type": "code",
   "execution_count": 83,
   "metadata": {},
   "outputs": [
    {
     "data": {
      "text/plain": [
       "Index(['parcelId', 'price', 'bedrooms', 'bathrooms', 'floorSpace', 'region'], dtype='object')"
      ]
     },
     "execution_count": 83,
     "metadata": {},
     "output_type": "execute_result"
    }
   ],
   "source": [
    "comp_listing_table['floorSpace'] = comp_listing_table['floorSpace'].replace('sqft', '', regex=True).replace(',','',regex=True).astype(np.int64)\n",
    "comp_listing_table.columns"
   ]
  },
  {
   "cell_type": "code",
   "execution_count": 84,
   "metadata": {},
   "outputs": [],
   "source": [
    "# Write scraped data to a file for safe keeps and also to avoid rescraping during development\n",
    "comp_listing_table.to_csv(\"data/comp_listing_table.csv\")"
   ]
  },
  {
   "cell_type": "code",
   "execution_count": 85,
   "metadata": {
    "pycharm": {
     "name": "#%%\n"
    }
   },
   "outputs": [],
   "source": [
    "# Read\n",
    "comp_listing_table = pd.read_csv(\"data/comp_listing_table.csv\")"
   ]
  },
  {
   "cell_type": "code",
   "execution_count": 86,
   "metadata": {},
   "outputs": [
    {
     "data": {
      "text/html": [
       "<div>\n",
       "<style scoped>\n",
       "    .dataframe tbody tr th:only-of-type {\n",
       "        vertical-align: middle;\n",
       "    }\n",
       "\n",
       "    .dataframe tbody tr th {\n",
       "        vertical-align: top;\n",
       "    }\n",
       "\n",
       "    .dataframe thead th {\n",
       "        text-align: right;\n",
       "    }\n",
       "</style>\n",
       "<table border=\"1\" class=\"dataframe\">\n",
       "  <thead>\n",
       "    <tr style=\"text-align: right;\">\n",
       "      <th></th>\n",
       "      <th>Unnamed: 0</th>\n",
       "      <th>parcelId</th>\n",
       "      <th>price</th>\n",
       "      <th>bedrooms</th>\n",
       "      <th>bathrooms</th>\n",
       "      <th>floorSpace</th>\n",
       "      <th>region</th>\n",
       "    </tr>\n",
       "  </thead>\n",
       "  <tbody>\n",
       "  </tbody>\n",
       "</table>\n",
       "</div>"
      ],
      "text/plain": [
       "Empty DataFrame\n",
       "Columns: [Unnamed: 0, parcelId, price, bedrooms, bathrooms, floorSpace, region]\n",
       "Index: []"
      ]
     },
     "execution_count": 86,
     "metadata": {},
     "output_type": "execute_result"
    }
   ],
   "source": [
    "comp_listing_table"
   ]
  },
  {
   "cell_type": "markdown",
   "metadata": {
    "pycharm": {
     "name": "#%% md\n"
    }
   },
   "source": [
    "# now that we have our comp table built let's do some comparisons\n",
    "## We'll grab a property from propertiesAndTransactions and query the comp table. \n"
   ]
  },
  {
   "cell_type": "code",
   "execution_count": 87,
   "metadata": {
    "pycharm": {
     "name": "#%%\n"
    }
   },
   "outputs": [
    {
     "data": {
      "text/html": [
       "<div>\n",
       "<style scoped>\n",
       "    .dataframe tbody tr th:only-of-type {\n",
       "        vertical-align: middle;\n",
       "    }\n",
       "\n",
       "    .dataframe tbody tr th {\n",
       "        vertical-align: top;\n",
       "    }\n",
       "\n",
       "    .dataframe thead th {\n",
       "        text-align: right;\n",
       "    }\n",
       "</style>\n",
       "<table border=\"1\" class=\"dataframe\">\n",
       "  <thead>\n",
       "    <tr style=\"text-align: right;\">\n",
       "      <th></th>\n",
       "      <th>parcelid</th>\n",
       "      <th>latitude</th>\n",
       "      <th>longitude</th>\n",
       "    </tr>\n",
       "  </thead>\n",
       "  <tbody>\n",
       "    <tr>\n",
       "      <th>1761</th>\n",
       "      <td>17299670</td>\n",
       "      <td>34186100</td>\n",
       "      <td>-118767000</td>\n",
       "    </tr>\n",
       "    <tr>\n",
       "      <th>107</th>\n",
       "      <td>17296734</td>\n",
       "      <td>34174051</td>\n",
       "      <td>-118757031</td>\n",
       "    </tr>\n",
       "    <tr>\n",
       "      <th>1758</th>\n",
       "      <td>17294231</td>\n",
       "      <td>34153879</td>\n",
       "      <td>-118839561</td>\n",
       "    </tr>\n",
       "    <tr>\n",
       "      <th>1756</th>\n",
       "      <td>17293716</td>\n",
       "      <td>34152179</td>\n",
       "      <td>-118851454</td>\n",
       "    </tr>\n",
       "    <tr>\n",
       "      <th>1427</th>\n",
       "      <td>17292856</td>\n",
       "      <td>34125457</td>\n",
       "      <td>-118891074</td>\n",
       "    </tr>\n",
       "    <tr>\n",
       "      <th>...</th>\n",
       "      <td>...</td>\n",
       "      <td>...</td>\n",
       "      <td>...</td>\n",
       "    </tr>\n",
       "    <tr>\n",
       "      <th>112</th>\n",
       "      <td>10726315</td>\n",
       "      <td>34184300</td>\n",
       "      <td>-118657000</td>\n",
       "    </tr>\n",
       "    <tr>\n",
       "      <th>110</th>\n",
       "      <td>10725532</td>\n",
       "      <td>34196000</td>\n",
       "      <td>-118658000</td>\n",
       "    </tr>\n",
       "    <tr>\n",
       "      <th>1767</th>\n",
       "      <td>10722858</td>\n",
       "      <td>34195746</td>\n",
       "      <td>-118624097</td>\n",
       "    </tr>\n",
       "    <tr>\n",
       "      <th>108</th>\n",
       "      <td>10722336</td>\n",
       "      <td>34199100</td>\n",
       "      <td>-118633000</td>\n",
       "    </tr>\n",
       "    <tr>\n",
       "      <th>1763</th>\n",
       "      <td>10719731</td>\n",
       "      <td>34206094</td>\n",
       "      <td>-118620655</td>\n",
       "    </tr>\n",
       "  </tbody>\n",
       "</table>\n",
       "<p>1096 rows × 3 columns</p>\n",
       "</div>"
      ],
      "text/plain": [
       "      parcelid  latitude  longitude\n",
       "1761  17299670  34186100 -118767000\n",
       "107   17296734  34174051 -118757031\n",
       "1758  17294231  34153879 -118839561\n",
       "1756  17293716  34152179 -118851454\n",
       "1427  17292856  34125457 -118891074\n",
       "...        ...       ...        ...\n",
       "112   10726315  34184300 -118657000\n",
       "110   10725532  34196000 -118658000\n",
       "1767  10722858  34195746 -118624097\n",
       "108   10722336  34199100 -118633000\n",
       "1763  10719731  34206094 -118620655\n",
       "\n",
       "[1096 rows x 3 columns]"
      ]
     },
     "execution_count": 87,
     "metadata": {},
     "output_type": "execute_result"
    }
   ],
   "source": [
    "# THis table has duplicates and NaNs removed so it is a subset of the propertiesAndTransactions table.\n",
    "LonLat"
   ]
  },
  {
   "cell_type": "code",
   "execution_count": 88,
   "metadata": {
    "pycharm": {
     "name": "#%%\n"
    }
   },
   "outputs": [
    {
     "data": {
      "text/html": [
       "<div>\n",
       "<style scoped>\n",
       "    .dataframe tbody tr th:only-of-type {\n",
       "        vertical-align: middle;\n",
       "    }\n",
       "\n",
       "    .dataframe tbody tr th {\n",
       "        vertical-align: top;\n",
       "    }\n",
       "\n",
       "    .dataframe thead th {\n",
       "        text-align: right;\n",
       "    }\n",
       "</style>\n",
       "<table border=\"1\" class=\"dataframe\">\n",
       "  <thead>\n",
       "    <tr style=\"text-align: right;\">\n",
       "      <th></th>\n",
       "      <th>parcelid</th>\n",
       "      <th>aircon</th>\n",
       "      <th>num_bathroom</th>\n",
       "      <th>num_bedroom</th>\n",
       "      <th>quality</th>\n",
       "      <th>num_bathroom_calc</th>\n",
       "      <th>area_total_calc</th>\n",
       "      <th>area_live_finished</th>\n",
       "      <th>fips</th>\n",
       "      <th>num_bath</th>\n",
       "      <th>...</th>\n",
       "      <th>num_unit</th>\n",
       "      <th>build_year</th>\n",
       "      <th>tax_building</th>\n",
       "      <th>tax_total</th>\n",
       "      <th>tax_year</th>\n",
       "      <th>tax_land</th>\n",
       "      <th>tax_property</th>\n",
       "      <th>censustractandblock</th>\n",
       "      <th>logerror</th>\n",
       "      <th>transactiondate</th>\n",
       "    </tr>\n",
       "  </thead>\n",
       "  <tbody>\n",
       "    <tr>\n",
       "      <th>0</th>\n",
       "      <td>17054981</td>\n",
       "      <td>NaN</td>\n",
       "      <td>5.0</td>\n",
       "      <td>4.0</td>\n",
       "      <td>NaN</td>\n",
       "      <td>5.0</td>\n",
       "      <td>3760.0</td>\n",
       "      <td>3760.0</td>\n",
       "      <td>6111</td>\n",
       "      <td>5.0</td>\n",
       "      <td>...</td>\n",
       "      <td>NaN</td>\n",
       "      <td>1982.0</td>\n",
       "      <td>494390.0</td>\n",
       "      <td>859741.0</td>\n",
       "      <td>2015</td>\n",
       "      <td>365351.0</td>\n",
       "      <td>9608.74</td>\n",
       "      <td>6.111001e+13</td>\n",
       "      <td>-0.013099</td>\n",
       "      <td>2017-06-15</td>\n",
       "    </tr>\n",
       "    <tr>\n",
       "      <th>1</th>\n",
       "      <td>17054981</td>\n",
       "      <td>NaN</td>\n",
       "      <td>5.0</td>\n",
       "      <td>4.0</td>\n",
       "      <td>NaN</td>\n",
       "      <td>5.0</td>\n",
       "      <td>3760.0</td>\n",
       "      <td>3760.0</td>\n",
       "      <td>6111</td>\n",
       "      <td>5.0</td>\n",
       "      <td>...</td>\n",
       "      <td>NaN</td>\n",
       "      <td>1982.0</td>\n",
       "      <td>501928.0</td>\n",
       "      <td>872850.0</td>\n",
       "      <td>2016</td>\n",
       "      <td>370922.0</td>\n",
       "      <td>9673.46</td>\n",
       "      <td>6.111000e+13</td>\n",
       "      <td>-0.013099</td>\n",
       "      <td>2017-06-15</td>\n",
       "    </tr>\n",
       "    <tr>\n",
       "      <th>2</th>\n",
       "      <td>17055743</td>\n",
       "      <td>NaN</td>\n",
       "      <td>2.0</td>\n",
       "      <td>3.0</td>\n",
       "      <td>NaN</td>\n",
       "      <td>2.0</td>\n",
       "      <td>1444.0</td>\n",
       "      <td>1444.0</td>\n",
       "      <td>6111</td>\n",
       "      <td>2.0</td>\n",
       "      <td>...</td>\n",
       "      <td>NaN</td>\n",
       "      <td>1951.0</td>\n",
       "      <td>128881.0</td>\n",
       "      <td>429608.0</td>\n",
       "      <td>2015</td>\n",
       "      <td>300727.0</td>\n",
       "      <td>5494.04</td>\n",
       "      <td>6.111001e+13</td>\n",
       "      <td>0.073985</td>\n",
       "      <td>2017-07-26</td>\n",
       "    </tr>\n",
       "    <tr>\n",
       "      <th>3</th>\n",
       "      <td>17055743</td>\n",
       "      <td>NaN</td>\n",
       "      <td>2.0</td>\n",
       "      <td>3.0</td>\n",
       "      <td>NaN</td>\n",
       "      <td>2.0</td>\n",
       "      <td>1444.0</td>\n",
       "      <td>1444.0</td>\n",
       "      <td>6111</td>\n",
       "      <td>2.0</td>\n",
       "      <td>...</td>\n",
       "      <td>NaN</td>\n",
       "      <td>1951.0</td>\n",
       "      <td>130845.0</td>\n",
       "      <td>436157.0</td>\n",
       "      <td>2016</td>\n",
       "      <td>305312.0</td>\n",
       "      <td>5538.80</td>\n",
       "      <td>6.111000e+13</td>\n",
       "      <td>0.073985</td>\n",
       "      <td>2017-07-26</td>\n",
       "    </tr>\n",
       "    <tr>\n",
       "      <th>4</th>\n",
       "      <td>17068109</td>\n",
       "      <td>NaN</td>\n",
       "      <td>1.5</td>\n",
       "      <td>3.0</td>\n",
       "      <td>NaN</td>\n",
       "      <td>1.5</td>\n",
       "      <td>1698.0</td>\n",
       "      <td>1698.0</td>\n",
       "      <td>6111</td>\n",
       "      <td>1.0</td>\n",
       "      <td>...</td>\n",
       "      <td>NaN</td>\n",
       "      <td>1979.0</td>\n",
       "      <td>190508.0</td>\n",
       "      <td>282303.0</td>\n",
       "      <td>2015</td>\n",
       "      <td>91795.0</td>\n",
       "      <td>2954.74</td>\n",
       "      <td>6.111001e+13</td>\n",
       "      <td>0.071886</td>\n",
       "      <td>2017-07-28</td>\n",
       "    </tr>\n",
       "    <tr>\n",
       "      <th>...</th>\n",
       "      <td>...</td>\n",
       "      <td>...</td>\n",
       "      <td>...</td>\n",
       "      <td>...</td>\n",
       "      <td>...</td>\n",
       "      <td>...</td>\n",
       "      <td>...</td>\n",
       "      <td>...</td>\n",
       "      <td>...</td>\n",
       "      <td>...</td>\n",
       "      <td>...</td>\n",
       "      <td>...</td>\n",
       "      <td>...</td>\n",
       "      <td>...</td>\n",
       "      <td>...</td>\n",
       "      <td>...</td>\n",
       "      <td>...</td>\n",
       "      <td>...</td>\n",
       "      <td>...</td>\n",
       "      <td>...</td>\n",
       "      <td>...</td>\n",
       "    </tr>\n",
       "    <tr>\n",
       "      <th>2229</th>\n",
       "      <td>11769554</td>\n",
       "      <td>NaN</td>\n",
       "      <td>3.0</td>\n",
       "      <td>4.0</td>\n",
       "      <td>4.0</td>\n",
       "      <td>3.0</td>\n",
       "      <td>1482.0</td>\n",
       "      <td>1482.0</td>\n",
       "      <td>6037</td>\n",
       "      <td>3.0</td>\n",
       "      <td>...</td>\n",
       "      <td>1.0</td>\n",
       "      <td>1999.0</td>\n",
       "      <td>161596.0</td>\n",
       "      <td>234433.0</td>\n",
       "      <td>2016</td>\n",
       "      <td>72837.0</td>\n",
       "      <td>2991.31</td>\n",
       "      <td>6.037230e+13</td>\n",
       "      <td>0.682100</td>\n",
       "      <td>2016-06-14</td>\n",
       "    </tr>\n",
       "    <tr>\n",
       "      <th>2230</th>\n",
       "      <td>11778756</td>\n",
       "      <td>NaN</td>\n",
       "      <td>2.0</td>\n",
       "      <td>7.0</td>\n",
       "      <td>7.0</td>\n",
       "      <td>2.0</td>\n",
       "      <td>2693.0</td>\n",
       "      <td>NaN</td>\n",
       "      <td>6037</td>\n",
       "      <td>2.0</td>\n",
       "      <td>...</td>\n",
       "      <td>2.0</td>\n",
       "      <td>1905.0</td>\n",
       "      <td>18962.0</td>\n",
       "      <td>60552.0</td>\n",
       "      <td>2015</td>\n",
       "      <td>41590.0</td>\n",
       "      <td>908.73</td>\n",
       "      <td>6.037210e+13</td>\n",
       "      <td>0.090780</td>\n",
       "      <td>2017-03-07</td>\n",
       "    </tr>\n",
       "    <tr>\n",
       "      <th>2231</th>\n",
       "      <td>11778756</td>\n",
       "      <td>NaN</td>\n",
       "      <td>2.0</td>\n",
       "      <td>7.0</td>\n",
       "      <td>4.0</td>\n",
       "      <td>2.0</td>\n",
       "      <td>2693.0</td>\n",
       "      <td>NaN</td>\n",
       "      <td>6037</td>\n",
       "      <td>2.0</td>\n",
       "      <td>...</td>\n",
       "      <td>2.0</td>\n",
       "      <td>1905.0</td>\n",
       "      <td>19251.0</td>\n",
       "      <td>61475.0</td>\n",
       "      <td>2016</td>\n",
       "      <td>42224.0</td>\n",
       "      <td>908.73</td>\n",
       "      <td>6.037210e+13</td>\n",
       "      <td>0.090780</td>\n",
       "      <td>2017-03-07</td>\n",
       "    </tr>\n",
       "    <tr>\n",
       "      <th>2232</th>\n",
       "      <td>11779780</td>\n",
       "      <td>1.0</td>\n",
       "      <td>2.0</td>\n",
       "      <td>2.0</td>\n",
       "      <td>10.0</td>\n",
       "      <td>2.0</td>\n",
       "      <td>1621.0</td>\n",
       "      <td>1621.0</td>\n",
       "      <td>6037</td>\n",
       "      <td>2.0</td>\n",
       "      <td>...</td>\n",
       "      <td>1.0</td>\n",
       "      <td>1983.0</td>\n",
       "      <td>456300.0</td>\n",
       "      <td>774900.0</td>\n",
       "      <td>2015</td>\n",
       "      <td>318600.0</td>\n",
       "      <td>10454.87</td>\n",
       "      <td>6.037208e+13</td>\n",
       "      <td>-0.122200</td>\n",
       "      <td>2016-07-15</td>\n",
       "    </tr>\n",
       "    <tr>\n",
       "      <th>2233</th>\n",
       "      <td>11779780</td>\n",
       "      <td>1.0</td>\n",
       "      <td>2.0</td>\n",
       "      <td>2.0</td>\n",
       "      <td>11.0</td>\n",
       "      <td>2.0</td>\n",
       "      <td>1621.0</td>\n",
       "      <td>1621.0</td>\n",
       "      <td>6037</td>\n",
       "      <td>2.0</td>\n",
       "      <td>...</td>\n",
       "      <td>1.0</td>\n",
       "      <td>1983.0</td>\n",
       "      <td>502000.0</td>\n",
       "      <td>852000.0</td>\n",
       "      <td>2016</td>\n",
       "      <td>350000.0</td>\n",
       "      <td>10454.87</td>\n",
       "      <td>6.037210e+13</td>\n",
       "      <td>-0.122200</td>\n",
       "      <td>2016-07-15</td>\n",
       "    </tr>\n",
       "  </tbody>\n",
       "</table>\n",
       "<p>2234 rows × 37 columns</p>\n",
       "</div>"
      ],
      "text/plain": [
       "      parcelid  aircon  num_bathroom  num_bedroom  quality  num_bathroom_calc  \\\n",
       "0     17054981     NaN           5.0          4.0      NaN                5.0   \n",
       "1     17054981     NaN           5.0          4.0      NaN                5.0   \n",
       "2     17055743     NaN           2.0          3.0      NaN                2.0   \n",
       "3     17055743     NaN           2.0          3.0      NaN                2.0   \n",
       "4     17068109     NaN           1.5          3.0      NaN                1.5   \n",
       "...        ...     ...           ...          ...      ...                ...   \n",
       "2229  11769554     NaN           3.0          4.0      4.0                3.0   \n",
       "2230  11778756     NaN           2.0          7.0      7.0                2.0   \n",
       "2231  11778756     NaN           2.0          7.0      4.0                2.0   \n",
       "2232  11779780     1.0           2.0          2.0     10.0                2.0   \n",
       "2233  11779780     1.0           2.0          2.0     11.0                2.0   \n",
       "\n",
       "      area_total_calc  area_live_finished  fips  num_bath  ...  num_unit  \\\n",
       "0              3760.0              3760.0  6111       5.0  ...       NaN   \n",
       "1              3760.0              3760.0  6111       5.0  ...       NaN   \n",
       "2              1444.0              1444.0  6111       2.0  ...       NaN   \n",
       "3              1444.0              1444.0  6111       2.0  ...       NaN   \n",
       "4              1698.0              1698.0  6111       1.0  ...       NaN   \n",
       "...               ...                 ...   ...       ...  ...       ...   \n",
       "2229           1482.0              1482.0  6037       3.0  ...       1.0   \n",
       "2230           2693.0                 NaN  6037       2.0  ...       2.0   \n",
       "2231           2693.0                 NaN  6037       2.0  ...       2.0   \n",
       "2232           1621.0              1621.0  6037       2.0  ...       1.0   \n",
       "2233           1621.0              1621.0  6037       2.0  ...       1.0   \n",
       "\n",
       "      build_year  tax_building  tax_total  tax_year  tax_land  tax_property  \\\n",
       "0         1982.0      494390.0   859741.0      2015  365351.0       9608.74   \n",
       "1         1982.0      501928.0   872850.0      2016  370922.0       9673.46   \n",
       "2         1951.0      128881.0   429608.0      2015  300727.0       5494.04   \n",
       "3         1951.0      130845.0   436157.0      2016  305312.0       5538.80   \n",
       "4         1979.0      190508.0   282303.0      2015   91795.0       2954.74   \n",
       "...          ...           ...        ...       ...       ...           ...   \n",
       "2229      1999.0      161596.0   234433.0      2016   72837.0       2991.31   \n",
       "2230      1905.0       18962.0    60552.0      2015   41590.0        908.73   \n",
       "2231      1905.0       19251.0    61475.0      2016   42224.0        908.73   \n",
       "2232      1983.0      456300.0   774900.0      2015  318600.0      10454.87   \n",
       "2233      1983.0      502000.0   852000.0      2016  350000.0      10454.87   \n",
       "\n",
       "      censustractandblock  logerror  transactiondate  \n",
       "0            6.111001e+13 -0.013099       2017-06-15  \n",
       "1            6.111000e+13 -0.013099       2017-06-15  \n",
       "2            6.111001e+13  0.073985       2017-07-26  \n",
       "3            6.111000e+13  0.073985       2017-07-26  \n",
       "4            6.111001e+13  0.071886       2017-07-28  \n",
       "...                   ...       ...              ...  \n",
       "2229         6.037230e+13  0.682100       2016-06-14  \n",
       "2230         6.037210e+13  0.090780       2017-03-07  \n",
       "2231         6.037210e+13  0.090780       2017-03-07  \n",
       "2232         6.037208e+13 -0.122200       2016-07-15  \n",
       "2233         6.037210e+13 -0.122200       2016-07-15  \n",
       "\n",
       "[2234 rows x 37 columns]"
      ]
     },
     "execution_count": 88,
     "metadata": {},
     "output_type": "execute_result"
    }
   ],
   "source": [
    "propertiesAndTransactions"
   ]
  },
  {
   "cell_type": "code",
   "execution_count": 89,
   "metadata": {
    "pycharm": {
     "name": "#%%\n"
    }
   },
   "outputs": [
    {
     "data": {
      "text/html": [
       "<div>\n",
       "<style scoped>\n",
       "    .dataframe tbody tr th:only-of-type {\n",
       "        vertical-align: middle;\n",
       "    }\n",
       "\n",
       "    .dataframe tbody tr th {\n",
       "        vertical-align: top;\n",
       "    }\n",
       "\n",
       "    .dataframe thead th {\n",
       "        text-align: right;\n",
       "    }\n",
       "</style>\n",
       "<table border=\"1\" class=\"dataframe\">\n",
       "  <thead>\n",
       "    <tr style=\"text-align: right;\">\n",
       "      <th></th>\n",
       "      <th>parcelid</th>\n",
       "      <th>aircon</th>\n",
       "      <th>num_bathroom</th>\n",
       "      <th>num_bedroom</th>\n",
       "      <th>quality</th>\n",
       "      <th>num_bathroom_calc</th>\n",
       "      <th>area_total_calc</th>\n",
       "      <th>area_live_finished</th>\n",
       "      <th>fips</th>\n",
       "      <th>num_bath</th>\n",
       "      <th>...</th>\n",
       "      <th>num_unit</th>\n",
       "      <th>build_year</th>\n",
       "      <th>tax_building</th>\n",
       "      <th>tax_total</th>\n",
       "      <th>tax_year</th>\n",
       "      <th>tax_land</th>\n",
       "      <th>tax_property</th>\n",
       "      <th>censustractandblock</th>\n",
       "      <th>logerror</th>\n",
       "      <th>transactiondate</th>\n",
       "    </tr>\n",
       "  </thead>\n",
       "  <tbody>\n",
       "    <tr>\n",
       "      <th>1758</th>\n",
       "      <td>17294231</td>\n",
       "      <td>NaN</td>\n",
       "      <td>2.0</td>\n",
       "      <td>3.0</td>\n",
       "      <td>NaN</td>\n",
       "      <td>2.0</td>\n",
       "      <td>1262.0</td>\n",
       "      <td>1262.0</td>\n",
       "      <td>6111</td>\n",
       "      <td>2.0</td>\n",
       "      <td>...</td>\n",
       "      <td>NaN</td>\n",
       "      <td>1973.0</td>\n",
       "      <td>261170.0</td>\n",
       "      <td>522340.0</td>\n",
       "      <td>2015</td>\n",
       "      <td>261170.0</td>\n",
       "      <td>6158.54</td>\n",
       "      <td>6.111006e+13</td>\n",
       "      <td>-0.013219</td>\n",
       "      <td>2017-04-12</td>\n",
       "    </tr>\n",
       "    <tr>\n",
       "      <th>1759</th>\n",
       "      <td>17294231</td>\n",
       "      <td>NaN</td>\n",
       "      <td>2.0</td>\n",
       "      <td>3.0</td>\n",
       "      <td>NaN</td>\n",
       "      <td>2.0</td>\n",
       "      <td>1262.0</td>\n",
       "      <td>1262.0</td>\n",
       "      <td>6111</td>\n",
       "      <td>2.0</td>\n",
       "      <td>...</td>\n",
       "      <td>NaN</td>\n",
       "      <td>1973.0</td>\n",
       "      <td>265152.0</td>\n",
       "      <td>530304.0</td>\n",
       "      <td>2016</td>\n",
       "      <td>265152.0</td>\n",
       "      <td>6296.48</td>\n",
       "      <td>6.111010e+13</td>\n",
       "      <td>-0.013219</td>\n",
       "      <td>2017-04-12</td>\n",
       "    </tr>\n",
       "  </tbody>\n",
       "</table>\n",
       "<p>2 rows × 37 columns</p>\n",
       "</div>"
      ],
      "text/plain": [
       "      parcelid  aircon  num_bathroom  num_bedroom  quality  num_bathroom_calc  \\\n",
       "1758  17294231     NaN           2.0          3.0      NaN                2.0   \n",
       "1759  17294231     NaN           2.0          3.0      NaN                2.0   \n",
       "\n",
       "      area_total_calc  area_live_finished  fips  num_bath  ...  num_unit  \\\n",
       "1758           1262.0              1262.0  6111       2.0  ...       NaN   \n",
       "1759           1262.0              1262.0  6111       2.0  ...       NaN   \n",
       "\n",
       "      build_year  tax_building  tax_total  tax_year  tax_land  tax_property  \\\n",
       "1758      1973.0      261170.0   522340.0      2015  261170.0       6158.54   \n",
       "1759      1973.0      265152.0   530304.0      2016  265152.0       6296.48   \n",
       "\n",
       "      censustractandblock  logerror  transactiondate  \n",
       "1758         6.111006e+13 -0.013219       2017-04-12  \n",
       "1759         6.111010e+13 -0.013219       2017-04-12  \n",
       "\n",
       "[2 rows x 37 columns]"
      ]
     },
     "execution_count": 89,
     "metadata": {},
     "output_type": "execute_result"
    }
   ],
   "source": [
    "# Notice the duplicates\n",
    "selected_parcelid = propertiesAndTransactions['parcelid'] == 17294231\n",
    "propertiesAndTransactions[selected_parcelid]"
   ]
  },
  {
   "cell_type": "code",
   "execution_count": 90,
   "metadata": {
    "pycharm": {
     "name": "#%%\n"
    }
   },
   "outputs": [
    {
     "data": {
      "text/html": [
       "<div>\n",
       "<style scoped>\n",
       "    .dataframe tbody tr th:only-of-type {\n",
       "        vertical-align: middle;\n",
       "    }\n",
       "\n",
       "    .dataframe tbody tr th {\n",
       "        vertical-align: top;\n",
       "    }\n",
       "\n",
       "    .dataframe thead th {\n",
       "        text-align: right;\n",
       "    }\n",
       "</style>\n",
       "<table border=\"1\" class=\"dataframe\">\n",
       "  <thead>\n",
       "    <tr style=\"text-align: right;\">\n",
       "      <th></th>\n",
       "      <th>Unnamed: 0</th>\n",
       "      <th>parcelId</th>\n",
       "      <th>price</th>\n",
       "      <th>bedrooms</th>\n",
       "      <th>bathrooms</th>\n",
       "      <th>floorSpace</th>\n",
       "      <th>region</th>\n",
       "    </tr>\n",
       "  </thead>\n",
       "  <tbody>\n",
       "  </tbody>\n",
       "</table>\n",
       "</div>"
      ],
      "text/plain": [
       "Empty DataFrame\n",
       "Columns: [Unnamed: 0, parcelId, price, bedrooms, bathrooms, floorSpace, region]\n",
       "Index: []"
      ]
     },
     "execution_count": 90,
     "metadata": {},
     "output_type": "execute_result"
    }
   ],
   "source": [
    "selected_parcelid = comp_listing_table['parcelId'] == 17294231\n",
    "comp_listing_table[selected_parcelid]"
   ]
  },
  {
   "cell_type": "markdown",
   "metadata": {
    "pycharm": {
     "name": "#%% md\n"
    }
   },
   "source": [
    "## data from API\n",
    "#### Description\n",
    "\n",
    "Googlemap API and matplotlib or equivalant will be used to locate properties by zipcode and display them on the map of the Unites States. We will convert 'longitude' and 'latitude' columns in properties dataset to zip code and use the zipcode in the API call.We will show the density of homes sold in various regions in the dataset. We will also show the properties we extracted using webscraping techniques."
   ]
  },
  {
   "cell_type": "code",
   "execution_count": 91,
   "metadata": {},
   "outputs": [
    {
     "data": {
      "text/html": [
       "<div>\n",
       "<style scoped>\n",
       "    .dataframe tbody tr th:only-of-type {\n",
       "        vertical-align: middle;\n",
       "    }\n",
       "\n",
       "    .dataframe tbody tr th {\n",
       "        vertical-align: top;\n",
       "    }\n",
       "\n",
       "    .dataframe thead th {\n",
       "        text-align: right;\n",
       "    }\n",
       "</style>\n",
       "<table border=\"1\" class=\"dataframe\">\n",
       "  <thead>\n",
       "    <tr style=\"text-align: right;\">\n",
       "      <th></th>\n",
       "      <th>parcelid</th>\n",
       "      <th>aircon</th>\n",
       "      <th>num_bathroom</th>\n",
       "      <th>num_bedroom</th>\n",
       "      <th>quality</th>\n",
       "      <th>num_bathroom_calc</th>\n",
       "      <th>area_total_calc</th>\n",
       "      <th>area_live_finished</th>\n",
       "      <th>fips</th>\n",
       "      <th>num_bath</th>\n",
       "      <th>...</th>\n",
       "      <th>num_unit</th>\n",
       "      <th>build_year</th>\n",
       "      <th>tax_building</th>\n",
       "      <th>tax_total</th>\n",
       "      <th>tax_year</th>\n",
       "      <th>tax_land</th>\n",
       "      <th>tax_property</th>\n",
       "      <th>censustractandblock</th>\n",
       "      <th>logerror</th>\n",
       "      <th>transactiondate</th>\n",
       "    </tr>\n",
       "  </thead>\n",
       "  <tbody>\n",
       "    <tr>\n",
       "      <th>0</th>\n",
       "      <td>17054981</td>\n",
       "      <td>NaN</td>\n",
       "      <td>5.0</td>\n",
       "      <td>4.0</td>\n",
       "      <td>NaN</td>\n",
       "      <td>5.0</td>\n",
       "      <td>3760.0</td>\n",
       "      <td>3760.0</td>\n",
       "      <td>6111</td>\n",
       "      <td>5.0</td>\n",
       "      <td>...</td>\n",
       "      <td>NaN</td>\n",
       "      <td>1982.0</td>\n",
       "      <td>494390.0</td>\n",
       "      <td>859741.0</td>\n",
       "      <td>2015</td>\n",
       "      <td>365351.0</td>\n",
       "      <td>9608.74</td>\n",
       "      <td>6.111001e+13</td>\n",
       "      <td>-0.013099</td>\n",
       "      <td>2017-06-15</td>\n",
       "    </tr>\n",
       "    <tr>\n",
       "      <th>1</th>\n",
       "      <td>17054981</td>\n",
       "      <td>NaN</td>\n",
       "      <td>5.0</td>\n",
       "      <td>4.0</td>\n",
       "      <td>NaN</td>\n",
       "      <td>5.0</td>\n",
       "      <td>3760.0</td>\n",
       "      <td>3760.0</td>\n",
       "      <td>6111</td>\n",
       "      <td>5.0</td>\n",
       "      <td>...</td>\n",
       "      <td>NaN</td>\n",
       "      <td>1982.0</td>\n",
       "      <td>501928.0</td>\n",
       "      <td>872850.0</td>\n",
       "      <td>2016</td>\n",
       "      <td>370922.0</td>\n",
       "      <td>9673.46</td>\n",
       "      <td>6.111000e+13</td>\n",
       "      <td>-0.013099</td>\n",
       "      <td>2017-06-15</td>\n",
       "    </tr>\n",
       "    <tr>\n",
       "      <th>2</th>\n",
       "      <td>17055743</td>\n",
       "      <td>NaN</td>\n",
       "      <td>2.0</td>\n",
       "      <td>3.0</td>\n",
       "      <td>NaN</td>\n",
       "      <td>2.0</td>\n",
       "      <td>1444.0</td>\n",
       "      <td>1444.0</td>\n",
       "      <td>6111</td>\n",
       "      <td>2.0</td>\n",
       "      <td>...</td>\n",
       "      <td>NaN</td>\n",
       "      <td>1951.0</td>\n",
       "      <td>128881.0</td>\n",
       "      <td>429608.0</td>\n",
       "      <td>2015</td>\n",
       "      <td>300727.0</td>\n",
       "      <td>5494.04</td>\n",
       "      <td>6.111001e+13</td>\n",
       "      <td>0.073985</td>\n",
       "      <td>2017-07-26</td>\n",
       "    </tr>\n",
       "    <tr>\n",
       "      <th>3</th>\n",
       "      <td>17055743</td>\n",
       "      <td>NaN</td>\n",
       "      <td>2.0</td>\n",
       "      <td>3.0</td>\n",
       "      <td>NaN</td>\n",
       "      <td>2.0</td>\n",
       "      <td>1444.0</td>\n",
       "      <td>1444.0</td>\n",
       "      <td>6111</td>\n",
       "      <td>2.0</td>\n",
       "      <td>...</td>\n",
       "      <td>NaN</td>\n",
       "      <td>1951.0</td>\n",
       "      <td>130845.0</td>\n",
       "      <td>436157.0</td>\n",
       "      <td>2016</td>\n",
       "      <td>305312.0</td>\n",
       "      <td>5538.80</td>\n",
       "      <td>6.111000e+13</td>\n",
       "      <td>0.073985</td>\n",
       "      <td>2017-07-26</td>\n",
       "    </tr>\n",
       "    <tr>\n",
       "      <th>4</th>\n",
       "      <td>17068109</td>\n",
       "      <td>NaN</td>\n",
       "      <td>1.5</td>\n",
       "      <td>3.0</td>\n",
       "      <td>NaN</td>\n",
       "      <td>1.5</td>\n",
       "      <td>1698.0</td>\n",
       "      <td>1698.0</td>\n",
       "      <td>6111</td>\n",
       "      <td>1.0</td>\n",
       "      <td>...</td>\n",
       "      <td>NaN</td>\n",
       "      <td>1979.0</td>\n",
       "      <td>190508.0</td>\n",
       "      <td>282303.0</td>\n",
       "      <td>2015</td>\n",
       "      <td>91795.0</td>\n",
       "      <td>2954.74</td>\n",
       "      <td>6.111001e+13</td>\n",
       "      <td>0.071886</td>\n",
       "      <td>2017-07-28</td>\n",
       "    </tr>\n",
       "    <tr>\n",
       "      <th>...</th>\n",
       "      <td>...</td>\n",
       "      <td>...</td>\n",
       "      <td>...</td>\n",
       "      <td>...</td>\n",
       "      <td>...</td>\n",
       "      <td>...</td>\n",
       "      <td>...</td>\n",
       "      <td>...</td>\n",
       "      <td>...</td>\n",
       "      <td>...</td>\n",
       "      <td>...</td>\n",
       "      <td>...</td>\n",
       "      <td>...</td>\n",
       "      <td>...</td>\n",
       "      <td>...</td>\n",
       "      <td>...</td>\n",
       "      <td>...</td>\n",
       "      <td>...</td>\n",
       "      <td>...</td>\n",
       "      <td>...</td>\n",
       "      <td>...</td>\n",
       "    </tr>\n",
       "    <tr>\n",
       "      <th>2229</th>\n",
       "      <td>11769554</td>\n",
       "      <td>NaN</td>\n",
       "      <td>3.0</td>\n",
       "      <td>4.0</td>\n",
       "      <td>4.0</td>\n",
       "      <td>3.0</td>\n",
       "      <td>1482.0</td>\n",
       "      <td>1482.0</td>\n",
       "      <td>6037</td>\n",
       "      <td>3.0</td>\n",
       "      <td>...</td>\n",
       "      <td>1.0</td>\n",
       "      <td>1999.0</td>\n",
       "      <td>161596.0</td>\n",
       "      <td>234433.0</td>\n",
       "      <td>2016</td>\n",
       "      <td>72837.0</td>\n",
       "      <td>2991.31</td>\n",
       "      <td>6.037230e+13</td>\n",
       "      <td>0.682100</td>\n",
       "      <td>2016-06-14</td>\n",
       "    </tr>\n",
       "    <tr>\n",
       "      <th>2230</th>\n",
       "      <td>11778756</td>\n",
       "      <td>NaN</td>\n",
       "      <td>2.0</td>\n",
       "      <td>7.0</td>\n",
       "      <td>7.0</td>\n",
       "      <td>2.0</td>\n",
       "      <td>2693.0</td>\n",
       "      <td>NaN</td>\n",
       "      <td>6037</td>\n",
       "      <td>2.0</td>\n",
       "      <td>...</td>\n",
       "      <td>2.0</td>\n",
       "      <td>1905.0</td>\n",
       "      <td>18962.0</td>\n",
       "      <td>60552.0</td>\n",
       "      <td>2015</td>\n",
       "      <td>41590.0</td>\n",
       "      <td>908.73</td>\n",
       "      <td>6.037210e+13</td>\n",
       "      <td>0.090780</td>\n",
       "      <td>2017-03-07</td>\n",
       "    </tr>\n",
       "    <tr>\n",
       "      <th>2231</th>\n",
       "      <td>11778756</td>\n",
       "      <td>NaN</td>\n",
       "      <td>2.0</td>\n",
       "      <td>7.0</td>\n",
       "      <td>4.0</td>\n",
       "      <td>2.0</td>\n",
       "      <td>2693.0</td>\n",
       "      <td>NaN</td>\n",
       "      <td>6037</td>\n",
       "      <td>2.0</td>\n",
       "      <td>...</td>\n",
       "      <td>2.0</td>\n",
       "      <td>1905.0</td>\n",
       "      <td>19251.0</td>\n",
       "      <td>61475.0</td>\n",
       "      <td>2016</td>\n",
       "      <td>42224.0</td>\n",
       "      <td>908.73</td>\n",
       "      <td>6.037210e+13</td>\n",
       "      <td>0.090780</td>\n",
       "      <td>2017-03-07</td>\n",
       "    </tr>\n",
       "    <tr>\n",
       "      <th>2232</th>\n",
       "      <td>11779780</td>\n",
       "      <td>1.0</td>\n",
       "      <td>2.0</td>\n",
       "      <td>2.0</td>\n",
       "      <td>10.0</td>\n",
       "      <td>2.0</td>\n",
       "      <td>1621.0</td>\n",
       "      <td>1621.0</td>\n",
       "      <td>6037</td>\n",
       "      <td>2.0</td>\n",
       "      <td>...</td>\n",
       "      <td>1.0</td>\n",
       "      <td>1983.0</td>\n",
       "      <td>456300.0</td>\n",
       "      <td>774900.0</td>\n",
       "      <td>2015</td>\n",
       "      <td>318600.0</td>\n",
       "      <td>10454.87</td>\n",
       "      <td>6.037208e+13</td>\n",
       "      <td>-0.122200</td>\n",
       "      <td>2016-07-15</td>\n",
       "    </tr>\n",
       "    <tr>\n",
       "      <th>2233</th>\n",
       "      <td>11779780</td>\n",
       "      <td>1.0</td>\n",
       "      <td>2.0</td>\n",
       "      <td>2.0</td>\n",
       "      <td>11.0</td>\n",
       "      <td>2.0</td>\n",
       "      <td>1621.0</td>\n",
       "      <td>1621.0</td>\n",
       "      <td>6037</td>\n",
       "      <td>2.0</td>\n",
       "      <td>...</td>\n",
       "      <td>1.0</td>\n",
       "      <td>1983.0</td>\n",
       "      <td>502000.0</td>\n",
       "      <td>852000.0</td>\n",
       "      <td>2016</td>\n",
       "      <td>350000.0</td>\n",
       "      <td>10454.87</td>\n",
       "      <td>6.037210e+13</td>\n",
       "      <td>-0.122200</td>\n",
       "      <td>2016-07-15</td>\n",
       "    </tr>\n",
       "  </tbody>\n",
       "</table>\n",
       "<p>2234 rows × 37 columns</p>\n",
       "</div>"
      ],
      "text/plain": [
       "      parcelid  aircon  num_bathroom  num_bedroom  quality  num_bathroom_calc  \\\n",
       "0     17054981     NaN           5.0          4.0      NaN                5.0   \n",
       "1     17054981     NaN           5.0          4.0      NaN                5.0   \n",
       "2     17055743     NaN           2.0          3.0      NaN                2.0   \n",
       "3     17055743     NaN           2.0          3.0      NaN                2.0   \n",
       "4     17068109     NaN           1.5          3.0      NaN                1.5   \n",
       "...        ...     ...           ...          ...      ...                ...   \n",
       "2229  11769554     NaN           3.0          4.0      4.0                3.0   \n",
       "2230  11778756     NaN           2.0          7.0      7.0                2.0   \n",
       "2231  11778756     NaN           2.0          7.0      4.0                2.0   \n",
       "2232  11779780     1.0           2.0          2.0     10.0                2.0   \n",
       "2233  11779780     1.0           2.0          2.0     11.0                2.0   \n",
       "\n",
       "      area_total_calc  area_live_finished  fips  num_bath  ...  num_unit  \\\n",
       "0              3760.0              3760.0  6111       5.0  ...       NaN   \n",
       "1              3760.0              3760.0  6111       5.0  ...       NaN   \n",
       "2              1444.0              1444.0  6111       2.0  ...       NaN   \n",
       "3              1444.0              1444.0  6111       2.0  ...       NaN   \n",
       "4              1698.0              1698.0  6111       1.0  ...       NaN   \n",
       "...               ...                 ...   ...       ...  ...       ...   \n",
       "2229           1482.0              1482.0  6037       3.0  ...       1.0   \n",
       "2230           2693.0                 NaN  6037       2.0  ...       2.0   \n",
       "2231           2693.0                 NaN  6037       2.0  ...       2.0   \n",
       "2232           1621.0              1621.0  6037       2.0  ...       1.0   \n",
       "2233           1621.0              1621.0  6037       2.0  ...       1.0   \n",
       "\n",
       "      build_year  tax_building  tax_total  tax_year  tax_land  tax_property  \\\n",
       "0         1982.0      494390.0   859741.0      2015  365351.0       9608.74   \n",
       "1         1982.0      501928.0   872850.0      2016  370922.0       9673.46   \n",
       "2         1951.0      128881.0   429608.0      2015  300727.0       5494.04   \n",
       "3         1951.0      130845.0   436157.0      2016  305312.0       5538.80   \n",
       "4         1979.0      190508.0   282303.0      2015   91795.0       2954.74   \n",
       "...          ...           ...        ...       ...       ...           ...   \n",
       "2229      1999.0      161596.0   234433.0      2016   72837.0       2991.31   \n",
       "2230      1905.0       18962.0    60552.0      2015   41590.0        908.73   \n",
       "2231      1905.0       19251.0    61475.0      2016   42224.0        908.73   \n",
       "2232      1983.0      456300.0   774900.0      2015  318600.0      10454.87   \n",
       "2233      1983.0      502000.0   852000.0      2016  350000.0      10454.87   \n",
       "\n",
       "      censustractandblock  logerror  transactiondate  \n",
       "0            6.111001e+13 -0.013099       2017-06-15  \n",
       "1            6.111000e+13 -0.013099       2017-06-15  \n",
       "2            6.111001e+13  0.073985       2017-07-26  \n",
       "3            6.111000e+13  0.073985       2017-07-26  \n",
       "4            6.111001e+13  0.071886       2017-07-28  \n",
       "...                   ...       ...              ...  \n",
       "2229         6.037230e+13  0.682100       2016-06-14  \n",
       "2230         6.037210e+13  0.090780       2017-03-07  \n",
       "2231         6.037210e+13  0.090780       2017-03-07  \n",
       "2232         6.037208e+13 -0.122200       2016-07-15  \n",
       "2233         6.037210e+13 -0.122200       2016-07-15  \n",
       "\n",
       "[2234 rows x 37 columns]"
      ]
     },
     "execution_count": 91,
     "metadata": {},
     "output_type": "execute_result"
    }
   ],
   "source": [
    "propertiesAndTransactions"
   ]
  },
  {
   "cell_type": "code",
   "execution_count": 92,
   "metadata": {
    "pycharm": {
     "name": "#%%\n"
    }
   },
   "outputs": [
    {
     "data": {
      "text/html": [
       "<div>\n",
       "<style scoped>\n",
       "    .dataframe tbody tr th:only-of-type {\n",
       "        vertical-align: middle;\n",
       "    }\n",
       "\n",
       "    .dataframe tbody tr th {\n",
       "        vertical-align: top;\n",
       "    }\n",
       "\n",
       "    .dataframe thead th {\n",
       "        text-align: right;\n",
       "    }\n",
       "</style>\n",
       "<table border=\"1\" class=\"dataframe\">\n",
       "  <thead>\n",
       "    <tr style=\"text-align: right;\">\n",
       "      <th></th>\n",
       "      <th>parcelid</th>\n",
       "      <th>aircon</th>\n",
       "      <th>num_bathroom</th>\n",
       "      <th>num_bedroom</th>\n",
       "      <th>quality</th>\n",
       "      <th>num_bathroom_calc</th>\n",
       "      <th>area_total_calc</th>\n",
       "      <th>area_live_finished</th>\n",
       "      <th>fips</th>\n",
       "      <th>num_bath</th>\n",
       "      <th>...</th>\n",
       "      <th>num_unit</th>\n",
       "      <th>build_year</th>\n",
       "      <th>tax_building</th>\n",
       "      <th>tax_total</th>\n",
       "      <th>tax_year</th>\n",
       "      <th>tax_land</th>\n",
       "      <th>tax_property</th>\n",
       "      <th>censustractandblock</th>\n",
       "      <th>logerror</th>\n",
       "      <th>transactiondate</th>\n",
       "    </tr>\n",
       "  </thead>\n",
       "  <tbody>\n",
       "    <tr>\n",
       "      <th>1758</th>\n",
       "      <td>17294231</td>\n",
       "      <td>NaN</td>\n",
       "      <td>2.0</td>\n",
       "      <td>3.0</td>\n",
       "      <td>NaN</td>\n",
       "      <td>2.0</td>\n",
       "      <td>1262.0</td>\n",
       "      <td>1262.0</td>\n",
       "      <td>6111</td>\n",
       "      <td>2.0</td>\n",
       "      <td>...</td>\n",
       "      <td>NaN</td>\n",
       "      <td>1973.0</td>\n",
       "      <td>261170.0</td>\n",
       "      <td>522340.0</td>\n",
       "      <td>2015</td>\n",
       "      <td>261170.0</td>\n",
       "      <td>6158.54</td>\n",
       "      <td>6.111006e+13</td>\n",
       "      <td>-0.013219</td>\n",
       "      <td>2017-04-12</td>\n",
       "    </tr>\n",
       "    <tr>\n",
       "      <th>1759</th>\n",
       "      <td>17294231</td>\n",
       "      <td>NaN</td>\n",
       "      <td>2.0</td>\n",
       "      <td>3.0</td>\n",
       "      <td>NaN</td>\n",
       "      <td>2.0</td>\n",
       "      <td>1262.0</td>\n",
       "      <td>1262.0</td>\n",
       "      <td>6111</td>\n",
       "      <td>2.0</td>\n",
       "      <td>...</td>\n",
       "      <td>NaN</td>\n",
       "      <td>1973.0</td>\n",
       "      <td>265152.0</td>\n",
       "      <td>530304.0</td>\n",
       "      <td>2016</td>\n",
       "      <td>265152.0</td>\n",
       "      <td>6296.48</td>\n",
       "      <td>6.111010e+13</td>\n",
       "      <td>-0.013219</td>\n",
       "      <td>2017-04-12</td>\n",
       "    </tr>\n",
       "  </tbody>\n",
       "</table>\n",
       "<p>2 rows × 37 columns</p>\n",
       "</div>"
      ],
      "text/plain": [
       "      parcelid  aircon  num_bathroom  num_bedroom  quality  num_bathroom_calc  \\\n",
       "1758  17294231     NaN           2.0          3.0      NaN                2.0   \n",
       "1759  17294231     NaN           2.0          3.0      NaN                2.0   \n",
       "\n",
       "      area_total_calc  area_live_finished  fips  num_bath  ...  num_unit  \\\n",
       "1758           1262.0              1262.0  6111       2.0  ...       NaN   \n",
       "1759           1262.0              1262.0  6111       2.0  ...       NaN   \n",
       "\n",
       "      build_year  tax_building  tax_total  tax_year  tax_land  tax_property  \\\n",
       "1758      1973.0      261170.0   522340.0      2015  261170.0       6158.54   \n",
       "1759      1973.0      265152.0   530304.0      2016  265152.0       6296.48   \n",
       "\n",
       "      censustractandblock  logerror  transactiondate  \n",
       "1758         6.111006e+13 -0.013219       2017-04-12  \n",
       "1759         6.111010e+13 -0.013219       2017-04-12  \n",
       "\n",
       "[2 rows x 37 columns]"
      ]
     },
     "execution_count": 92,
     "metadata": {},
     "output_type": "execute_result"
    }
   ],
   "source": [
    "# Notice the duplicates\n",
    "selected_parcelid = propertiesAndTransactions['parcelid'] == 17294231\n",
    "propertiesAndTransactions[selected_parcelid]"
   ]
  },
  {
   "cell_type": "code",
   "execution_count": 93,
   "metadata": {
    "scrolled": true
   },
   "outputs": [
    {
     "data": {
      "text/html": [
       "<div>\n",
       "<style scoped>\n",
       "    .dataframe tbody tr th:only-of-type {\n",
       "        vertical-align: middle;\n",
       "    }\n",
       "\n",
       "    .dataframe tbody tr th {\n",
       "        vertical-align: top;\n",
       "    }\n",
       "\n",
       "    .dataframe thead th {\n",
       "        text-align: right;\n",
       "    }\n",
       "</style>\n",
       "<table border=\"1\" class=\"dataframe\">\n",
       "  <thead>\n",
       "    <tr style=\"text-align: right;\">\n",
       "      <th></th>\n",
       "      <th>Unnamed: 0</th>\n",
       "      <th>parcelId</th>\n",
       "      <th>price</th>\n",
       "      <th>bedrooms</th>\n",
       "      <th>bathrooms</th>\n",
       "      <th>floorSpace</th>\n",
       "      <th>region</th>\n",
       "    </tr>\n",
       "  </thead>\n",
       "  <tbody>\n",
       "  </tbody>\n",
       "</table>\n",
       "</div>"
      ],
      "text/plain": [
       "Empty DataFrame\n",
       "Columns: [Unnamed: 0, parcelId, price, bedrooms, bathrooms, floorSpace, region]\n",
       "Index: []"
      ]
     },
     "execution_count": 93,
     "metadata": {},
     "output_type": "execute_result"
    }
   ],
   "source": [
    "selected_parcelid = comp_listing_table['parcelId'] == 17294231\n",
    "comp_listing_table[selected_parcelid]"
   ]
  },
  {
   "cell_type": "markdown",
   "metadata": {},
   "source": [
    "## Milestone 4. Data from API\n",
    "#### Description\n",
    "\n",
    "Googlemaps API is used to get additional information for parcelIDs in LonLat table built in Milestone 3. We will get the geometric coordinates for a given parcel, latitude and longitude of that parcel. Googlemaps returns various corrdinates sorrounding the given coordinates such as nw/sw view coordinates."
   ]
  },
  {
   "cell_type": "code",
   "execution_count": 95,
   "metadata": {},
   "outputs": [],
   "source": [
    "# This is a sample code and does not pertain to this project. We will try to implement a function s\n",
    "import googlemaps\n",
    "from datetime import datetime\n",
    "\n",
    "with open('../APIkeys/APIkeys.json') as f:\n",
    "    keys = json.load(f)\n",
    "    key = keys['googlemaps']['key']\n",
    "    \n",
    "gmaps = googlemaps.Client(key=key)\n",
    "\n"
   ]
  },
  {
   "cell_type": "markdown",
   "metadata": {
    "pycharm": {
     "name": "#%% md\n"
    }
   },
   "source": [
    "Some testing and exploration of the interface"
   ]
  },
  {
   "cell_type": "code",
   "execution_count": 96,
   "metadata": {},
   "outputs": [
    {
     "name": "stdout",
     "output_type": "stream",
     "text": [
      "{'bounds': {'northeast': {'lat': 37.4226618, 'lng': -122.0829302}, 'southwest': {'lat': 37.4220699, 'lng': -122.084958}}, 'location': {'lat': 37.4223878, 'lng': -122.0841877}, 'location_type': 'ROOFTOP', 'viewport': {'northeast': {'lat': 37.42368353029149, 'lng': -122.0825951197085}, 'southwest': {'lat': 37.42098556970849, 'lng': -122.0852930802915}}}\n"
     ]
    }
   ],
   "source": [
    "# Geocoding an address\n",
    "geocode_result = gmaps.geocode('1600 Amphitheatre Parkway, Mountain View, CA')\n",
    "\n",
    "print(geocode_result[0]['geometry'])\n"
   ]
  },
  {
   "cell_type": "code",
   "execution_count": 184,
   "metadata": {},
   "outputs": [
    {
     "name": "stdout",
     "output_type": "stream",
     "text": [
      "37.42365958029151\n"
     ]
    }
   ],
   "source": [
    "print(geocode_result[0]['geometry']['viewport']['northeast']['lat'])"
   ]
  },
  {
   "cell_type": "code",
   "execution_count": 185,
   "metadata": {},
   "outputs": [],
   "source": [
    "# Get a sample\n",
    "reverse_geocode_result = gmaps.reverse_geocode((40.714224, -73.961452))"
   ]
  },
  {
   "cell_type": "code",
   "execution_count": 186,
   "metadata": {},
   "outputs": [
    {
     "name": "stdout",
     "output_type": "stream",
     "text": [
      "[{'access_points': [], 'address_components': [{'long_name': '279', 'short_name': '279', 'types': ['street_number']}, {'long_name': 'Bedford Avenue', 'short_name': 'Bedford Ave', 'types': ['route']}, {'long_name': 'Williamsburg', 'short_name': 'Williamsburg', 'types': ['neighborhood', 'political']}, {'long_name': 'Brooklyn', 'short_name': 'Brooklyn', 'types': ['political', 'sublocality', 'sublocality_level_1']}, {'long_name': 'Kings County', 'short_name': 'Kings County', 'types': ['administrative_area_level_2', 'political']}, {'long_name': 'New York', 'short_name': 'NY', 'types': ['administrative_area_level_1', 'political']}, {'long_name': 'United States', 'short_name': 'US', 'types': ['country', 'political']}, {'long_name': '11211', 'short_name': '11211', 'types': ['postal_code']}], 'formatted_address': '279 Bedford Ave, Brooklyn, NY 11211, USA', 'geometry': {'location': {'lat': 40.71423350000001, 'lng': -73.9613686}, 'location_type': 'ROOFTOP', 'viewport': {'northeast': {'lat': 40.71558248029151, 'lng': -73.9600196197085}, 'southwest': {'lat': 40.71288451970851, 'lng': -73.96271758029151}}}, 'place_id': 'ChIJT2x8Q2BZwokRpBu2jUzX3dE', 'plus_code': {'compound_code': 'P27Q+MF Brooklyn, New York, United States', 'global_code': '87G8P27Q+MF'}, 'types': ['bakery', 'cafe', 'establishment', 'food', 'point_of_interest', 'store']}, {'access_points': [], 'address_components': [{'long_name': '277', 'short_name': '277', 'types': ['street_number']}, {'long_name': 'Bedford Avenue', 'short_name': 'Bedford Ave', 'types': ['route']}, {'long_name': 'Williamsburg', 'short_name': 'Williamsburg', 'types': ['neighborhood', 'political']}, {'long_name': 'Brooklyn', 'short_name': 'Brooklyn', 'types': ['political', 'sublocality', 'sublocality_level_1']}, {'long_name': 'Kings County', 'short_name': 'Kings County', 'types': ['administrative_area_level_2', 'political']}, {'long_name': 'New York', 'short_name': 'NY', 'types': ['administrative_area_level_1', 'political']}, {'long_name': 'United States', 'short_name': 'US', 'types': ['country', 'political']}, {'long_name': '11211', 'short_name': '11211', 'types': ['postal_code']}], 'formatted_address': '277 Bedford Ave, Brooklyn, NY 11211, USA', 'geometry': {'location': {'lat': 40.7142205, 'lng': -73.9612903}, 'location_type': 'ROOFTOP', 'viewport': {'northeast': {'lat': 40.71556948029149, 'lng': -73.95994131970849}, 'southwest': {'lat': 40.7128715197085, 'lng': -73.9626392802915}}}, 'place_id': 'ChIJd8BlQ2BZwokRAFUEcm_qrcA', 'plus_code': {'compound_code': 'P27Q+MF Brooklyn, New York, United States', 'global_code': '87G8P27Q+MF'}, 'types': ['street_address']}, {'access_points': [], 'address_components': [{'long_name': '279', 'short_name': '279', 'types': ['street_number']}, {'long_name': 'Bedford Avenue', 'short_name': 'Bedford Ave', 'types': ['route']}, {'long_name': 'Williamsburg', 'short_name': 'Williamsburg', 'types': ['neighborhood', 'political']}, {'long_name': 'Brooklyn', 'short_name': 'Brooklyn', 'types': ['political', 'sublocality', 'sublocality_level_1']}, {'long_name': 'Kings County', 'short_name': 'Kings County', 'types': ['administrative_area_level_2', 'political']}, {'long_name': 'New York', 'short_name': 'NY', 'types': ['administrative_area_level_1', 'political']}, {'long_name': 'United States', 'short_name': 'US', 'types': ['country', 'political']}, {'long_name': '11211', 'short_name': '11211', 'types': ['postal_code']}, {'long_name': '4203', 'short_name': '4203', 'types': ['postal_code_suffix']}], 'formatted_address': '279 Bedford Ave, Brooklyn, NY 11211, USA', 'geometry': {'bounds': {'northeast': {'lat': 40.7142628, 'lng': -73.9612131}, 'southwest': {'lat': 40.7141534, 'lng': -73.9613792}}, 'location': {'lat': 40.7142015, 'lng': -73.96130769999999}, 'location_type': 'ROOFTOP', 'viewport': {'northeast': {'lat': 40.7155570802915, 'lng': -73.95994716970849}, 'southwest': {'lat': 40.7128591197085, 'lng': -73.96264513029149}}}, 'place_id': 'ChIJRYYERGBZwokRAM4n1GlcYX4', 'types': ['premise']}, {'access_points': [], 'address_components': [{'long_name': '279', 'short_name': '279', 'types': ['street_number']}, {'long_name': 'Bedford Avenue', 'short_name': 'Bedford Ave', 'types': ['route']}, {'long_name': 'Williamsburg', 'short_name': 'Williamsburg', 'types': ['neighborhood', 'political']}, {'long_name': 'Brooklyn', 'short_name': 'Brooklyn', 'types': ['political', 'sublocality', 'sublocality_level_1']}, {'long_name': 'Kings County', 'short_name': 'Kings County', 'types': ['administrative_area_level_2', 'political']}, {'long_name': 'New York', 'short_name': 'NY', 'types': ['administrative_area_level_1', 'political']}, {'long_name': 'United States', 'short_name': 'US', 'types': ['country', 'political']}, {'long_name': '11211', 'short_name': '11211', 'types': ['postal_code']}], 'formatted_address': '279 Bedford Ave, Brooklyn, NY 11211, USA', 'geometry': {'location': {'lat': 40.7142545, 'lng': -73.9614527}, 'location_type': 'RANGE_INTERPOLATED', 'viewport': {'northeast': {'lat': 40.7156034802915, 'lng': -73.96010371970848}, 'southwest': {'lat': 40.7129055197085, 'lng': -73.9628016802915}}}, 'place_id': 'EigyNzkgQmVkZm9yZCBBdmUsIEJyb29rbHluLCBOWSAxMTIxMSwgVVNBIhsSGQoUChIJ8ThWRGBZwokR3E1zUisk3LUQlwI', 'types': ['street_address']}, {'access_points': [], 'address_components': [{'long_name': '291-275', 'short_name': '291-275', 'types': ['street_number']}, {'long_name': 'Bedford Avenue', 'short_name': 'Bedford Ave', 'types': ['route']}, {'long_name': 'Williamsburg', 'short_name': 'Williamsburg', 'types': ['neighborhood', 'political']}, {'long_name': 'Brooklyn', 'short_name': 'Brooklyn', 'types': ['political', 'sublocality', 'sublocality_level_1']}, {'long_name': 'Kings County', 'short_name': 'Kings County', 'types': ['administrative_area_level_2', 'political']}, {'long_name': 'New York', 'short_name': 'NY', 'types': ['administrative_area_level_1', 'political']}, {'long_name': 'United States', 'short_name': 'US', 'types': ['country', 'political']}, {'long_name': '11211', 'short_name': '11211', 'types': ['postal_code']}], 'formatted_address': '291-275 Bedford Ave, Brooklyn, NY 11211, USA', 'geometry': {'bounds': {'northeast': {'lat': 40.7145065, 'lng': -73.9612923}, 'southwest': {'lat': 40.7139055, 'lng': -73.96168349999999}}, 'location': {'lat': 40.7142045, 'lng': -73.9614845}, 'location_type': 'GEOMETRIC_CENTER', 'viewport': {'northeast': {'lat': 40.7155549802915, 'lng': -73.96013891970848}, 'southwest': {'lat': 40.7128570197085, 'lng': -73.96283688029149}}}, 'place_id': 'ChIJ8ThWRGBZwokR3E1zUisk3LU', 'types': ['route']}, {'access_points': [], 'address_components': [{'long_name': '11211', 'short_name': '11211', 'types': ['postal_code']}, {'long_name': 'Brooklyn', 'short_name': 'Brooklyn', 'types': ['political', 'sublocality', 'sublocality_level_1']}, {'long_name': 'New York', 'short_name': 'New York', 'types': ['locality', 'political']}, {'long_name': 'New York', 'short_name': 'NY', 'types': ['administrative_area_level_1', 'political']}, {'long_name': 'United States', 'short_name': 'US', 'types': ['country', 'political']}], 'formatted_address': 'Brooklyn, NY 11211, USA', 'geometry': {'bounds': {'northeast': {'lat': 40.7280089, 'lng': -73.9207299}, 'southwest': {'lat': 40.7008331, 'lng': -73.9644697}}, 'location': {'lat': 40.7093358, 'lng': -73.9565551}, 'location_type': 'APPROXIMATE', 'viewport': {'northeast': {'lat': 40.7280089, 'lng': -73.9207299}, 'southwest': {'lat': 40.7008331, 'lng': -73.9644697}}}, 'place_id': 'ChIJvbEjlVdZwokR4KapM3WCFRw', 'types': ['postal_code']}, {'access_points': [], 'address_components': [{'long_name': 'Williamsburg', 'short_name': 'Williamsburg', 'types': ['neighborhood', 'political']}, {'long_name': 'Brooklyn', 'short_name': 'Brooklyn', 'types': ['political', 'sublocality', 'sublocality_level_1']}, {'long_name': 'Kings County', 'short_name': 'Kings County', 'types': ['administrative_area_level_2', 'political']}, {'long_name': 'New York', 'short_name': 'NY', 'types': ['administrative_area_level_1', 'political']}, {'long_name': 'United States', 'short_name': 'US', 'types': ['country', 'political']}], 'formatted_address': 'Williamsburg, Brooklyn, NY, USA', 'geometry': {'bounds': {'northeast': {'lat': 40.7251773, 'lng': -73.936498}, 'southwest': {'lat': 40.6979329, 'lng': -73.96984499999999}}, 'location': {'lat': 40.7081156, 'lng': -73.9570696}, 'location_type': 'APPROXIMATE', 'viewport': {'northeast': {'lat': 40.7251773, 'lng': -73.936498}, 'southwest': {'lat': 40.6979329, 'lng': -73.96984499999999}}}, 'place_id': 'ChIJQSrBBv1bwokRbNfFHCnyeYI', 'types': ['neighborhood', 'political']}, {'access_points': [], 'address_components': [{'long_name': 'Brooklyn', 'short_name': 'Brooklyn', 'types': ['political', 'sublocality', 'sublocality_level_1']}, {'long_name': 'Kings County', 'short_name': 'Kings County', 'types': ['administrative_area_level_2', 'political']}, {'long_name': 'New York', 'short_name': 'NY', 'types': ['administrative_area_level_1', 'political']}, {'long_name': 'United States', 'short_name': 'US', 'types': ['country', 'political']}], 'formatted_address': 'Brooklyn, NY, USA', 'geometry': {'bounds': {'northeast': {'lat': 40.739446, 'lng': -73.8333651}, 'southwest': {'lat': 40.551042, 'lng': -74.05663}}, 'location': {'lat': 40.6781784, 'lng': -73.9441579}, 'location_type': 'APPROXIMATE', 'viewport': {'northeast': {'lat': 40.739446, 'lng': -73.8333651}, 'southwest': {'lat': 40.551042, 'lng': -74.05663}}}, 'place_id': 'ChIJCSF8lBZEwokRhngABHRcdoI', 'types': ['political', 'sublocality', 'sublocality_level_1']}, {'access_points': [], 'address_components': [{'long_name': 'Kings County', 'short_name': 'Kings County', 'types': ['administrative_area_level_2', 'political']}, {'long_name': 'Brooklyn', 'short_name': 'Brooklyn', 'types': ['political', 'sublocality', 'sublocality_level_1']}, {'long_name': 'New York', 'short_name': 'NY', 'types': ['administrative_area_level_1', 'political']}, {'long_name': 'United States', 'short_name': 'US', 'types': ['country', 'political']}], 'formatted_address': 'Kings County, Brooklyn, NY, USA', 'geometry': {'bounds': {'northeast': {'lat': 40.739446, 'lng': -73.8333651}, 'southwest': {'lat': 40.551042, 'lng': -74.05663}}, 'location': {'lat': 40.6528762, 'lng': -73.95949399999999}, 'location_type': 'APPROXIMATE', 'viewport': {'northeast': {'lat': 40.739446, 'lng': -73.8333651}, 'southwest': {'lat': 40.551042, 'lng': -74.05663}}}, 'place_id': 'ChIJOwE7_GTtwokRs75rhW4_I6M', 'types': ['administrative_area_level_2', 'political']}, {'access_points': [], 'address_components': [{'long_name': 'New York', 'short_name': 'New York', 'types': ['locality', 'political']}, {'long_name': 'New York', 'short_name': 'NY', 'types': ['administrative_area_level_1', 'political']}, {'long_name': 'United States', 'short_name': 'US', 'types': ['country', 'political']}], 'formatted_address': 'New York, NY, USA', 'geometry': {'bounds': {'northeast': {'lat': 40.9175771, 'lng': -73.70027209999999}, 'southwest': {'lat': 40.4773991, 'lng': -74.25908989999999}}, 'location': {'lat': 40.7127753, 'lng': -74.0059728}, 'location_type': 'APPROXIMATE', 'viewport': {'northeast': {'lat': 40.9175771, 'lng': -73.70027209999999}, 'southwest': {'lat': 40.4773991, 'lng': -74.25908989999999}}}, 'place_id': 'ChIJOwg_06VPwokRYv534QaPC8g', 'types': ['locality', 'political']}, {'access_points': [], 'address_components': [{'long_name': 'Long Island', 'short_name': 'Long Island', 'types': ['establishment', 'natural_feature']}, {'long_name': 'New York', 'short_name': 'NY', 'types': ['administrative_area_level_1', 'political']}, {'long_name': 'United States', 'short_name': 'US', 'types': ['country', 'political']}], 'formatted_address': 'Long Island, New York, USA', 'geometry': {'bounds': {'northeast': {'lat': 41.1612401, 'lng': -71.85620109999999}, 'southwest': {'lat': 40.5429789, 'lng': -74.0419497}}, 'location': {'lat': 40.789142, 'lng': -73.13496099999999}, 'location_type': 'APPROXIMATE', 'viewport': {'northeast': {'lat': 41.1612401, 'lng': -71.85620109999999}, 'southwest': {'lat': 40.5429789, 'lng': -74.0419497}}}, 'place_id': 'ChIJy6Xu4VRE6IkRGA2UhmH59x0', 'types': ['establishment', 'natural_feature']}, {'access_points': [], 'address_components': [{'long_name': 'New York', 'short_name': 'NY', 'types': ['administrative_area_level_1', 'political']}, {'long_name': 'United States', 'short_name': 'US', 'types': ['country', 'political']}], 'formatted_address': 'New York, USA', 'geometry': {'bounds': {'northeast': {'lat': 45.015861, 'lng': -71.777491}, 'southwest': {'lat': 40.4773991, 'lng': -79.7625901}}, 'location': {'lat': 43.2994285, 'lng': -74.21793260000001}, 'location_type': 'APPROXIMATE', 'viewport': {'northeast': {'lat': 45.015861, 'lng': -71.777491}, 'southwest': {'lat': 40.4773991, 'lng': -79.7625901}}}, 'place_id': 'ChIJqaUj8fBLzEwRZ5UY3sHGz90', 'types': ['administrative_area_level_1', 'political']}, {'access_points': [], 'address_components': [{'long_name': 'United States', 'short_name': 'US', 'types': ['country', 'political']}], 'formatted_address': 'United States', 'geometry': {'bounds': {'northeast': {'lat': 71.5388001, 'lng': -66.885417}, 'southwest': {'lat': 18.7763, 'lng': 170.5957}}, 'location': {'lat': 37.09024, 'lng': -95.712891}, 'location_type': 'APPROXIMATE', 'viewport': {'northeast': {'lat': 71.5388001, 'lng': -66.885417}, 'southwest': {'lat': 18.7763, 'lng': 170.5957}}}, 'place_id': 'ChIJCzYy5IS16lQRQrfeQ5K5Oxw', 'types': ['country', 'political']}]\n"
     ]
    }
   ],
   "source": [
    "# print result\n",
    "print(reverse_geocode_result)"
   ]
  },
  {
   "cell_type": "code",
   "execution_count": 187,
   "metadata": {},
   "outputs": [
    {
     "name": "stdout",
     "output_type": "stream",
     "text": [
      "{'location': {'lat': 40.71423350000001, 'lng': -73.9613686}, 'location_type': 'ROOFTOP', 'viewport': {'northeast': {'lat': 40.71558248029151, 'lng': -73.9600196197085}, 'southwest': {'lat': 40.71288451970851, 'lng': -73.96271758029151}}}\n"
     ]
    }
   ],
   "source": [
    "# Explore reply\n",
    "print(reverse_geocode_result[0]['geometry'])"
   ]
  },
  {
   "cell_type": "code",
   "execution_count": 69,
   "metadata": {
    "pycharm": {
     "name": "#%%\n"
    }
   },
   "outputs": [],
   "source": [
    "# We will parse the geometry part"
   ]
  },
  {
   "cell_type": "markdown",
   "metadata": {
    "pycharm": {
     "name": "#%% md\n"
    }
   },
   "source": [
    "Now, we will implement on 20 records of the lonlat table. Notice that googlemap return error code 400 for invalid lon/lat values. Care has been taken to avoid recording NaN's in the table in such circumstance."
   ]
  },
  {
   "cell_type": "code",
   "execution_count": 188,
   "metadata": {
    "pycharm": {
     "name": "#%%\n"
    }
   },
   "outputs": [
    {
     "name": "stdout",
     "output_type": "stream",
     "text": [
      "     parcelID        lat         lng            loc_type  view_NW_lat  \\\n",
      "0    17299670  34.186396 -118.766827             ROOFTOP    34.185047   \n",
      "1    17299670  34.186270 -118.766494  RANGE_INTERPOLATED    34.184921   \n",
      "2    17299670  34.186411 -118.766587    GEOMETRIC_CENTER    34.185062   \n",
      "3    17299670  34.188033 -118.760611         APPROXIMATE    34.167911   \n",
      "4    17299670  34.370488 -119.139064         APPROXIMATE    33.163493   \n",
      "..        ...        ...         ...                 ...          ...   \n",
      "160  17273670  34.183616 -118.943432         APPROXIMATE    34.178342   \n",
      "161  17273670  34.181067 -118.947042         APPROXIMATE    34.135933   \n",
      "162  17273670  34.370488 -119.139064         APPROXIMATE    33.163493   \n",
      "163  17273670  36.778261 -119.417932         APPROXIMATE    32.528832   \n",
      "164  17273670  37.090240  -95.712891         APPROXIMATE    18.776300   \n",
      "\n",
      "     view_NW_lng  \n",
      "0    -118.768176  \n",
      "1    -118.767843  \n",
      "2    -118.767936  \n",
      "3    -118.789393  \n",
      "4    -119.636302  \n",
      "..           ...  \n",
      "160  -118.950291  \n",
      "161  -119.007712  \n",
      "162  -119.636302  \n",
      "163  -124.482003  \n",
      "164   170.595700  \n",
      "\n",
      "[165 rows x 6 columns]\n"
     ]
    }
   ],
   "source": [
    "Geographic_Location_Coordinates = pd.DataFrame(columns={'parcelID','lat','lng','loc_type','view_NW_lat','view_NW_lng','view_NW_lat','view_NW_lng'})\n",
    "\n",
    "dfs = []\n",
    "for index, row in LonLat[:20].iterrows():\n",
    "    parcelId = row['parcelid']\n",
    "    latitude = row['latitude']/10**6\n",
    "    longitude = row['longitude']/10**6\n",
    "    #print(parcelId,latitude,longitude)\n",
    "    try:\n",
    "        reverse_geocode_result = gmaps.reverse_geocode((latitude, longitude))\n",
    "        #print(reverse_geocode_result[0]['geometry'])\n",
    "        for item in reverse_geocode_result:\n",
    "            lat = item['geometry']['location']['lat']\n",
    "            lng = item['geometry']['location']['lng']\n",
    "            loc_type = item['geometry']['location_type']\n",
    "            view_NW_lat = item['geometry']['viewport']['northeast']['lat']\n",
    "            view_NW_lng = item['geometry']['viewport']['northeast']['lng']\n",
    "            view_NW_lat = item['geometry']['viewport']['southwest']['lat']\n",
    "            view_NW_lng = item['geometry']['viewport']['southwest']['lng']\n",
    "            dfs.append(\n",
    "                {\n",
    "                    'parcelID' : parcelId,\n",
    "                    'lat': lat ,\n",
    "                    'lng' : lng,\n",
    "                    'loc_type': loc_type,\n",
    "                    'view_NW_lat' : view_NW_lat,\n",
    "                    'view_NW_lng' : view_NW_lng,\n",
    "                    'view_NW_lat' : view_NW_lat,\n",
    "                    'view_NW_lng' : view_NW_lng                \n",
    "                })        \n",
    "    except:\n",
    "        continue\n",
    "    \n",
    "\n",
    "Geographic_Location_Coordinates = pd.DataFrame(dfs)      \n",
    "print(Geographic_Location_Coordinates)"
   ]
  },
  {
   "cell_type": "markdown",
   "metadata": {},
   "source": [
    "### Milestone Conclusion\n",
    "\n",
    "We now have three tables from their respective sources. All three tables are linked by parcelID. The relationship betwen propertiesandtransactions table, comp_listing_table, and the new table  Geographic_Location_Coordinates is one-to-many. "
   ]
  },
  {
   "cell_type": "markdown",
   "metadata": {
    "pycharm": {
     "name": "#%% md\n"
    }
   },
   "source": [
    "## Milestone 5. Merging the data and storing in a database/visualizing data\n",
    "#### Description\n",
    "\n",
    "We will store tables fron previous milestones in sqlite and make queries from them using parcelID as index. We will also provide visulization of the stored data. "
   ]
  },
  {
   "cell_type": "code",
   "execution_count": 41,
   "metadata": {},
   "outputs": [],
   "source": [
    "import sqlite3"
   ]
  },
  {
   "cell_type": "code",
   "execution_count": 42,
   "metadata": {},
   "outputs": [],
   "source": [
    "## conn.close()\n",
    "sqlite_file = 'Data/DSC540_EdrisSafari_FinalProject.sqlite'\n",
    "conn = sqlite3.connect(sqlite_file)"
   ]
  },
  {
   "cell_type": "code",
   "execution_count": 43,
   "metadata": {},
   "outputs": [
    {
     "data": {
      "text/html": [
       "<div>\n",
       "<style scoped>\n",
       "    .dataframe tbody tr th:only-of-type {\n",
       "        vertical-align: middle;\n",
       "    }\n",
       "\n",
       "    .dataframe tbody tr th {\n",
       "        vertical-align: top;\n",
       "    }\n",
       "\n",
       "    .dataframe thead th {\n",
       "        text-align: right;\n",
       "    }\n",
       "</style>\n",
       "<table border=\"1\" class=\"dataframe\">\n",
       "  <thead>\n",
       "    <tr style=\"text-align: right;\">\n",
       "      <th></th>\n",
       "      <th>latitude</th>\n",
       "      <th>longitude</th>\n",
       "    </tr>\n",
       "  </thead>\n",
       "  <tbody>\n",
       "    <tr>\n",
       "      <th>0</th>\n",
       "      <td>34449407</td>\n",
       "      <td>-119254052</td>\n",
       "    </tr>\n",
       "    <tr>\n",
       "      <th>1</th>\n",
       "      <td>34449407</td>\n",
       "      <td>-119254052</td>\n",
       "    </tr>\n",
       "    <tr>\n",
       "      <th>2</th>\n",
       "      <td>34454169</td>\n",
       "      <td>-119237898</td>\n",
       "    </tr>\n",
       "    <tr>\n",
       "      <th>3</th>\n",
       "      <td>34454169</td>\n",
       "      <td>-119237898</td>\n",
       "    </tr>\n",
       "    <tr>\n",
       "      <th>4</th>\n",
       "      <td>34365693</td>\n",
       "      <td>-119448392</td>\n",
       "    </tr>\n",
       "  </tbody>\n",
       "</table>\n",
       "</div>"
      ],
      "text/plain": [
       "   latitude  longitude\n",
       "0  34449407 -119254052\n",
       "1  34449407 -119254052\n",
       "2  34454169 -119237898\n",
       "3  34454169 -119237898\n",
       "4  34365693 -119448392"
      ]
     },
     "execution_count": 43,
     "metadata": {},
     "output_type": "execute_result"
    }
   ],
   "source": [
    "propertiesAndTransactions[['latitude','longitude']].head()"
   ]
  },
  {
   "cell_type": "code",
   "execution_count": 47,
   "metadata": {},
   "outputs": [
    {
     "data": {
      "text/html": [
       "<div>\n",
       "<style scoped>\n",
       "    .dataframe tbody tr th:only-of-type {\n",
       "        vertical-align: middle;\n",
       "    }\n",
       "\n",
       "    .dataframe tbody tr th {\n",
       "        vertical-align: top;\n",
       "    }\n",
       "\n",
       "    .dataframe thead th {\n",
       "        text-align: right;\n",
       "    }\n",
       "</style>\n",
       "<table border=\"1\" class=\"dataframe\">\n",
       "  <thead>\n",
       "    <tr style=\"text-align: right;\">\n",
       "      <th></th>\n",
       "      <th>latitude</th>\n",
       "      <th>longitude</th>\n",
       "      <th>abs_logerror</th>\n",
       "    </tr>\n",
       "  </thead>\n",
       "  <tbody>\n",
       "    <tr>\n",
       "      <th>0</th>\n",
       "      <td>34.449407</td>\n",
       "      <td>-119.254052</td>\n",
       "      <td>0.013099</td>\n",
       "    </tr>\n",
       "    <tr>\n",
       "      <th>1</th>\n",
       "      <td>34.449407</td>\n",
       "      <td>-119.254052</td>\n",
       "      <td>0.013099</td>\n",
       "    </tr>\n",
       "    <tr>\n",
       "      <th>2</th>\n",
       "      <td>34.454169</td>\n",
       "      <td>-119.237898</td>\n",
       "      <td>0.073985</td>\n",
       "    </tr>\n",
       "    <tr>\n",
       "      <th>3</th>\n",
       "      <td>34.454169</td>\n",
       "      <td>-119.237898</td>\n",
       "      <td>0.073985</td>\n",
       "    </tr>\n",
       "    <tr>\n",
       "      <th>4</th>\n",
       "      <td>34.365693</td>\n",
       "      <td>-119.448392</td>\n",
       "      <td>0.071886</td>\n",
       "    </tr>\n",
       "  </tbody>\n",
       "</table>\n",
       "</div>"
      ],
      "text/plain": [
       "    latitude   longitude  abs_logerror\n",
       "0  34.449407 -119.254052      0.013099\n",
       "1  34.449407 -119.254052      0.013099\n",
       "2  34.454169 -119.237898      0.073985\n",
       "3  34.454169 -119.237898      0.073985\n",
       "4  34.365693 -119.448392      0.071886"
      ]
     },
     "execution_count": 47,
     "metadata": {},
     "output_type": "execute_result"
    }
   ],
   "source": [
    "propertiesAndTransactions['latitude'] = propertiesAndTransactions['latitude']/10**6\n",
    "propertiesAndTransactions['longitude'] = propertiesAndTransactions['longitude']/10**6\n",
    "propertiesAndTransactions['abs_logerror'] = propertiesAndTransactions['logerror'].abs()\n",
    "\n",
    "propertiesAndTransactions.to_sql('propertiesAndTransactions', conn, if_exists='replace', index=False)\n",
    "\n",
    "propertiesAndTransactions = pd.read_sql_query(\"SELECT * from propertiesAndTransactions\", conn)\n",
    "\n",
    "propertiesAndTransactions[['latitude','longitude','abs_logerror']].head()"
   ]
  },
  {
   "cell_type": "code",
   "execution_count": 48,
   "metadata": {},
   "outputs": [
    {
     "data": {
      "text/html": [
       "<div>\n",
       "<style scoped>\n",
       "    .dataframe tbody tr th:only-of-type {\n",
       "        vertical-align: middle;\n",
       "    }\n",
       "\n",
       "    .dataframe tbody tr th {\n",
       "        vertical-align: top;\n",
       "    }\n",
       "\n",
       "    .dataframe thead th {\n",
       "        text-align: right;\n",
       "    }\n",
       "</style>\n",
       "<table border=\"1\" class=\"dataframe\">\n",
       "  <thead>\n",
       "    <tr style=\"text-align: right;\">\n",
       "      <th></th>\n",
       "      <th>price</th>\n",
       "      <th>parcelid</th>\n",
       "      <th>region</th>\n",
       "      <th>floorSpace</th>\n",
       "      <th>bedrooms</th>\n",
       "      <th>bathrooms</th>\n",
       "    </tr>\n",
       "  </thead>\n",
       "  <tbody>\n",
       "  </tbody>\n",
       "</table>\n",
       "</div>"
      ],
      "text/plain": [
       "Empty DataFrame\n",
       "Columns: [price, parcelid, region, floorSpace, bedrooms, bathrooms]\n",
       "Index: []"
      ]
     },
     "execution_count": 48,
     "metadata": {},
     "output_type": "execute_result"
    }
   ],
   "source": [
    "comp_listing_table.to_sql('comp_listing_table', conn, if_exists='replace', index=False)\n",
    "comp_listing_table.head()"
   ]
  },
  {
   "cell_type": "code",
   "execution_count": 49,
   "metadata": {},
   "outputs": [
    {
     "ename": "NameError",
     "evalue": "name 'Geographic_Location_Coordinates' is not defined",
     "output_type": "error",
     "traceback": [
      "\u001b[1;31m---------------------------------------------------------------------------\u001b[0m",
      "\u001b[1;31mNameError\u001b[0m                                 Traceback (most recent call last)",
      "Input \u001b[1;32mIn [49]\u001b[0m, in \u001b[0;36m<cell line: 1>\u001b[1;34m()\u001b[0m\n\u001b[1;32m----> 1\u001b[0m \u001b[43mGeographic_Location_Coordinates\u001b[49m\u001b[38;5;241m.\u001b[39mto_sql(\u001b[38;5;124m'\u001b[39m\u001b[38;5;124mGeographic_Location_Coordinates\u001b[39m\u001b[38;5;124m'\u001b[39m, conn, if_exists\u001b[38;5;241m=\u001b[39m\u001b[38;5;124m'\u001b[39m\u001b[38;5;124mreplace\u001b[39m\u001b[38;5;124m'\u001b[39m, index\u001b[38;5;241m=\u001b[39m\u001b[38;5;28;01mFalse\u001b[39;00m)\n\u001b[0;32m      2\u001b[0m Geographic_Location_Coordinates\u001b[38;5;241m.\u001b[39mhead()\n",
      "\u001b[1;31mNameError\u001b[0m: name 'Geographic_Location_Coordinates' is not defined"
     ]
    }
   ],
   "source": [
    "Geographic_Location_Coordinates.to_sql('Geographic_Location_Coordinates', conn, if_exists='replace', index=False)\n",
    "Geographic_Location_Coordinates.head()"
   ]
  },
  {
   "cell_type": "code",
   "execution_count": 359,
   "metadata": {},
   "outputs": [
    {
     "name": "stderr",
     "output_type": "stream",
     "text": [
      "Enabling notebook extension jupyter-js-widgets/extension...\n",
      "      - Validating: ok\n"
     ]
    }
   ],
   "source": [
    "!jupyter nbextension enable --py --sys-prefix widgetsnbextension"
   ]
  },
  {
   "cell_type": "code",
   "execution_count": 360,
   "metadata": {
    "pycharm": {
     "name": "#%%\n"
    }
   },
   "outputs": [
    {
     "name": "stderr",
     "output_type": "stream",
     "text": [
      "Enabling notebook extension jupyter-gmaps/extension...\n",
      "      - Validating: ok\n"
     ]
    }
   ],
   "source": [
    "!jupyter nbextension enable --py --sys-prefix gmaps"
   ]
  },
  {
   "cell_type": "code",
   "execution_count": 506,
   "metadata": {},
   "outputs": [],
   "source": [
    "from ipywidgets.embed import embed_minimal_html"
   ]
  },
  {
   "cell_type": "code",
   "execution_count": 361,
   "metadata": {},
   "outputs": [],
   "source": [
    "import gmaps\n",
    "\n",
    "with open('../APIkeys/APIkeys.json') as f:\n",
    "    keys = json.load(f)\n",
    "    key = keys['googlemaps']['key']\n",
    "    \n",
    "gmaps.configure(api_key=key) # Fill in with your API key"
   ]
  },
  {
   "cell_type": "markdown",
   "metadata": {
    "pycharm": {
     "name": "#%% md\n"
    }
   },
   "source": [
    "#### Heatmap shows absolute log error in regions in the properties and transactions table"
   ]
  },
  {
   "cell_type": "code",
   "execution_count": 507,
   "metadata": {},
   "outputs": [
    {
     "data": {
      "application/vnd.jupyter.widget-view+json": {
       "model_id": "d08f9e0f0d7f4375948151da263ca1f6",
       "version_major": 2,
       "version_minor": 0
      },
      "text/plain": [
       "Figure(layout=FigureLayout(height='420px'))"
      ]
     },
     "metadata": {},
     "output_type": "display_data"
    }
   ],
   "source": [
    "locations = propertiesAndTransactions[['latitude', 'longitude']]\n",
    "weights = propertiesAndTransactions['abs_logerror']\n",
    "fig1 = gmaps.figure(map_type=\"HYBRID\")\n",
    "fig1.add_layer(gmaps.heatmap_layer(locations, weights=weights))\n",
    "fig1"
   ]
  },
  {
   "cell_type": "code",
   "execution_count": 372,
   "metadata": {},
   "outputs": [
    {
     "data": {
      "text/html": [
       "<div>\n",
       "<style scoped>\n",
       "    .dataframe tbody tr th:only-of-type {\n",
       "        vertical-align: middle;\n",
       "    }\n",
       "\n",
       "    .dataframe tbody tr th {\n",
       "        vertical-align: top;\n",
       "    }\n",
       "\n",
       "    .dataframe thead th {\n",
       "        text-align: right;\n",
       "    }\n",
       "</style>\n",
       "<table border=\"1\" class=\"dataframe\">\n",
       "  <thead>\n",
       "    <tr style=\"text-align: right;\">\n",
       "      <th></th>\n",
       "      <th>parcelid</th>\n",
       "      <th>latitude</th>\n",
       "      <th>longitude</th>\n",
       "      <th>abs_logerror</th>\n",
       "    </tr>\n",
       "  </thead>\n",
       "  <tbody>\n",
       "    <tr>\n",
       "      <th>0</th>\n",
       "      <td>17294231</td>\n",
       "      <td>34.153879</td>\n",
       "      <td>-118.839561</td>\n",
       "      <td>0.013219</td>\n",
       "    </tr>\n",
       "  </tbody>\n",
       "</table>\n",
       "</div>"
      ],
      "text/plain": [
       "   parcelid   latitude   longitude  abs_logerror\n",
       "0  17294231  34.153879 -118.839561      0.013219"
      ]
     },
     "execution_count": 372,
     "metadata": {},
     "output_type": "execute_result"
    }
   ],
   "source": [
    "\n",
    "ParcelID_17294231 =  pd.read_sql_query(\"SELECT * from propertiesandtransactions where parcelID = '17294231' LIMIT 1\", conn)\n",
    "ParcelID_17294231[['parcelid','latitude','longitude','abs_logerror']]"
   ]
  },
  {
   "cell_type": "code",
   "execution_count": 373,
   "metadata": {},
   "outputs": [
    {
     "name": "stdout",
     "output_type": "stream",
     "text": [
      "(34.153879, -118.839561)\n"
     ]
    }
   ],
   "source": [
    "lat = ParcelID_17294231['latitude'][0]\n",
    "lon = ParcelID_17294231['longitude'][0]\n",
    "cen = (pd.to_numeric(lat),pd.to_numeric(lon))\n",
    "print(cen)"
   ]
  },
  {
   "cell_type": "code",
   "execution_count": 508,
   "metadata": {},
   "outputs": [
    {
     "data": {
      "application/vnd.jupyter.widget-view+json": {
       "model_id": "185e5e657ad349f694face6d5996b279",
       "version_major": 2,
       "version_minor": 0
      },
      "text/plain": [
       "Figure(layout=FigureLayout(height='420px'))"
      ]
     },
     "metadata": {},
     "output_type": "display_data"
    }
   ],
   "source": [
    "\n",
    "fig2 = gmaps.figure(center=cen,zoom_level=18)\n",
    "fig2"
   ]
  },
  {
   "cell_type": "code",
   "execution_count": 377,
   "metadata": {},
   "outputs": [
    {
     "data": {
      "text/html": [
       "<div>\n",
       "<style scoped>\n",
       "    .dataframe tbody tr th:only-of-type {\n",
       "        vertical-align: middle;\n",
       "    }\n",
       "\n",
       "    .dataframe tbody tr th {\n",
       "        vertical-align: top;\n",
       "    }\n",
       "\n",
       "    .dataframe thead th {\n",
       "        text-align: right;\n",
       "    }\n",
       "</style>\n",
       "<table border=\"1\" class=\"dataframe\">\n",
       "  <thead>\n",
       "    <tr style=\"text-align: right;\">\n",
       "      <th></th>\n",
       "      <th>parcelID</th>\n",
       "      <th>lat</th>\n",
       "      <th>lng</th>\n",
       "      <th>loc_type</th>\n",
       "      <th>view_NW_lat</th>\n",
       "      <th>view_NW_lng</th>\n",
       "    </tr>\n",
       "  </thead>\n",
       "  <tbody>\n",
       "    <tr>\n",
       "      <th>0</th>\n",
       "      <td>17294231</td>\n",
       "      <td>34.154077</td>\n",
       "      <td>-118.839494</td>\n",
       "      <td>ROOFTOP</td>\n",
       "      <td>34.152716</td>\n",
       "      <td>-118.840843</td>\n",
       "    </tr>\n",
       "    <tr>\n",
       "      <th>1</th>\n",
       "      <td>17294231</td>\n",
       "      <td>34.154298</td>\n",
       "      <td>-118.839583</td>\n",
       "      <td>ROOFTOP</td>\n",
       "      <td>34.152949</td>\n",
       "      <td>-118.840932</td>\n",
       "    </tr>\n",
       "    <tr>\n",
       "      <th>2</th>\n",
       "      <td>17294231</td>\n",
       "      <td>34.153681</td>\n",
       "      <td>-118.839965</td>\n",
       "      <td>RANGE_INTERPOLATED</td>\n",
       "      <td>34.152332</td>\n",
       "      <td>-118.841314</td>\n",
       "    </tr>\n",
       "    <tr>\n",
       "      <th>3</th>\n",
       "      <td>17294231</td>\n",
       "      <td>34.153147</td>\n",
       "      <td>-118.840481</td>\n",
       "      <td>GEOMETRIC_CENTER</td>\n",
       "      <td>34.151801</td>\n",
       "      <td>-118.841835</td>\n",
       "    </tr>\n",
       "    <tr>\n",
       "      <th>4</th>\n",
       "      <td>17294231</td>\n",
       "      <td>34.138463</td>\n",
       "      <td>-118.894631</td>\n",
       "      <td>APPROXIMATE</td>\n",
       "      <td>34.104268</td>\n",
       "      <td>-118.994587</td>\n",
       "    </tr>\n",
       "  </tbody>\n",
       "</table>\n",
       "</div>"
      ],
      "text/plain": [
       "   parcelID        lat         lng            loc_type  view_NW_lat  \\\n",
       "0  17294231  34.154077 -118.839494             ROOFTOP    34.152716   \n",
       "1  17294231  34.154298 -118.839583             ROOFTOP    34.152949   \n",
       "2  17294231  34.153681 -118.839965  RANGE_INTERPOLATED    34.152332   \n",
       "3  17294231  34.153147 -118.840481    GEOMETRIC_CENTER    34.151801   \n",
       "4  17294231  34.138463 -118.894631         APPROXIMATE    34.104268   \n",
       "\n",
       "   view_NW_lng  \n",
       "0  -118.840843  \n",
       "1  -118.840932  \n",
       "2  -118.841314  \n",
       "3  -118.841835  \n",
       "4  -118.994587  "
      ]
     },
     "execution_count": 377,
     "metadata": {},
     "output_type": "execute_result"
    }
   ],
   "source": [
    "ParcelID_17294231 =  pd.read_sql_query(\"SELECT * from Geographic_Location_Coordinates where Geographic_Location_Coordinates.parcelid = '17294231'\", conn)\n",
    "ParcelID_17294231.head()"
   ]
  },
  {
   "cell_type": "code",
   "execution_count": 378,
   "metadata": {},
   "outputs": [
    {
     "data": {
      "text/html": [
       "<div>\n",
       "<style scoped>\n",
       "    .dataframe tbody tr th:only-of-type {\n",
       "        vertical-align: middle;\n",
       "    }\n",
       "\n",
       "    .dataframe tbody tr th {\n",
       "        vertical-align: top;\n",
       "    }\n",
       "\n",
       "    .dataframe thead th {\n",
       "        text-align: right;\n",
       "    }\n",
       "</style>\n",
       "<table border=\"1\" class=\"dataframe\">\n",
       "  <thead>\n",
       "    <tr style=\"text-align: right;\">\n",
       "      <th></th>\n",
       "      <th>parcelId</th>\n",
       "      <th>price</th>\n",
       "      <th>bedrooms</th>\n",
       "      <th>bathrooms</th>\n",
       "      <th>floorSpace</th>\n",
       "      <th>region</th>\n",
       "    </tr>\n",
       "  </thead>\n",
       "  <tbody>\n",
       "    <tr>\n",
       "      <th>0</th>\n",
       "      <td>17294231</td>\n",
       "      <td>14999000</td>\n",
       "      <td>7</td>\n",
       "      <td>13.0</td>\n",
       "      <td>14073</td>\n",
       "      <td>Newbury Park, Thousand Oaks, CA</td>\n",
       "    </tr>\n",
       "    <tr>\n",
       "      <th>1</th>\n",
       "      <td>17294231</td>\n",
       "      <td>1450000</td>\n",
       "      <td>4</td>\n",
       "      <td>3.0</td>\n",
       "      <td>2568</td>\n",
       "      <td>Westlake Village, CA</td>\n",
       "    </tr>\n",
       "    <tr>\n",
       "      <th>2</th>\n",
       "      <td>17294231</td>\n",
       "      <td>1225000</td>\n",
       "      <td>4</td>\n",
       "      <td>3.0</td>\n",
       "      <td>2745</td>\n",
       "      <td>Westlake Village, CA</td>\n",
       "    </tr>\n",
       "    <tr>\n",
       "      <th>3</th>\n",
       "      <td>17294231</td>\n",
       "      <td>9990000</td>\n",
       "      <td>7</td>\n",
       "      <td>10.0</td>\n",
       "      <td>12656</td>\n",
       "      <td>Newbury Park, Thousand Oaks, CA</td>\n",
       "    </tr>\n",
       "    <tr>\n",
       "      <th>4</th>\n",
       "      <td>17294231</td>\n",
       "      <td>1150000</td>\n",
       "      <td>5</td>\n",
       "      <td>4.0</td>\n",
       "      <td>2393</td>\n",
       "      <td>Westlake Village, CA</td>\n",
       "    </tr>\n",
       "  </tbody>\n",
       "</table>\n",
       "</div>"
      ],
      "text/plain": [
       "   parcelId     price  bedrooms  bathrooms  floorSpace  \\\n",
       "0  17294231  14999000         7       13.0       14073   \n",
       "1  17294231   1450000         4        3.0        2568   \n",
       "2  17294231   1225000         4        3.0        2745   \n",
       "3  17294231   9990000         7       10.0       12656   \n",
       "4  17294231   1150000         5        4.0        2393   \n",
       "\n",
       "                            region  \n",
       "0  Newbury Park, Thousand Oaks, CA  \n",
       "1             Westlake Village, CA  \n",
       "2             Westlake Village, CA  \n",
       "3  Newbury Park, Thousand Oaks, CA  \n",
       "4             Westlake Village, CA  "
      ]
     },
     "execution_count": 378,
     "metadata": {},
     "output_type": "execute_result"
    }
   ],
   "source": [
    "ParcelID_17294231 =  pd.read_sql_query(\"SELECT * from comp_listing_table where comp_listing_table.parcelid = '17294231'\", conn)\n",
    "ParcelID_17294231.head()\n"
   ]
  },
  {
   "cell_type": "code",
   "execution_count": 384,
   "metadata": {},
   "outputs": [
    {
     "data": {
      "text/html": [
       "<div>\n",
       "<style scoped>\n",
       "    .dataframe tbody tr th:only-of-type {\n",
       "        vertical-align: middle;\n",
       "    }\n",
       "\n",
       "    .dataframe tbody tr th {\n",
       "        vertical-align: top;\n",
       "    }\n",
       "\n",
       "    .dataframe thead th {\n",
       "        text-align: right;\n",
       "    }\n",
       "</style>\n",
       "<table border=\"1\" class=\"dataframe\">\n",
       "  <thead>\n",
       "    <tr style=\"text-align: right;\">\n",
       "      <th></th>\n",
       "      <th>parcelId</th>\n",
       "      <th>price</th>\n",
       "      <th>bedrooms</th>\n",
       "      <th>bathrooms</th>\n",
       "      <th>floorSpace</th>\n",
       "      <th>region</th>\n",
       "      <th>parcelID</th>\n",
       "      <th>lat</th>\n",
       "      <th>lng</th>\n",
       "      <th>loc_type</th>\n",
       "      <th>view_NW_lat</th>\n",
       "      <th>view_NW_lng</th>\n",
       "    </tr>\n",
       "  </thead>\n",
       "  <tbody>\n",
       "    <tr>\n",
       "      <th>0</th>\n",
       "      <td>17294231</td>\n",
       "      <td>14999000</td>\n",
       "      <td>7</td>\n",
       "      <td>13.0</td>\n",
       "      <td>14073</td>\n",
       "      <td>Newbury Park, Thousand Oaks, CA</td>\n",
       "      <td>17294231</td>\n",
       "      <td>34.138463</td>\n",
       "      <td>-118.894631</td>\n",
       "      <td>APPROXIMATE</td>\n",
       "      <td>34.104268</td>\n",
       "      <td>-118.994587</td>\n",
       "    </tr>\n",
       "    <tr>\n",
       "      <th>1</th>\n",
       "      <td>17294231</td>\n",
       "      <td>14999000</td>\n",
       "      <td>7</td>\n",
       "      <td>13.0</td>\n",
       "      <td>14073</td>\n",
       "      <td>Newbury Park, Thousand Oaks, CA</td>\n",
       "      <td>17294231</td>\n",
       "      <td>34.153147</td>\n",
       "      <td>-118.840481</td>\n",
       "      <td>GEOMETRIC_CENTER</td>\n",
       "      <td>34.151801</td>\n",
       "      <td>-118.841835</td>\n",
       "    </tr>\n",
       "    <tr>\n",
       "      <th>2</th>\n",
       "      <td>17294231</td>\n",
       "      <td>14999000</td>\n",
       "      <td>7</td>\n",
       "      <td>13.0</td>\n",
       "      <td>14073</td>\n",
       "      <td>Newbury Park, Thousand Oaks, CA</td>\n",
       "      <td>17294231</td>\n",
       "      <td>34.153681</td>\n",
       "      <td>-118.839965</td>\n",
       "      <td>RANGE_INTERPOLATED</td>\n",
       "      <td>34.152332</td>\n",
       "      <td>-118.841314</td>\n",
       "    </tr>\n",
       "    <tr>\n",
       "      <th>3</th>\n",
       "      <td>17294231</td>\n",
       "      <td>14999000</td>\n",
       "      <td>7</td>\n",
       "      <td>13.0</td>\n",
       "      <td>14073</td>\n",
       "      <td>Newbury Park, Thousand Oaks, CA</td>\n",
       "      <td>17294231</td>\n",
       "      <td>34.154077</td>\n",
       "      <td>-118.839494</td>\n",
       "      <td>ROOFTOP</td>\n",
       "      <td>34.152716</td>\n",
       "      <td>-118.840843</td>\n",
       "    </tr>\n",
       "    <tr>\n",
       "      <th>4</th>\n",
       "      <td>17294231</td>\n",
       "      <td>14999000</td>\n",
       "      <td>7</td>\n",
       "      <td>13.0</td>\n",
       "      <td>14073</td>\n",
       "      <td>Newbury Park, Thousand Oaks, CA</td>\n",
       "      <td>17294231</td>\n",
       "      <td>34.154298</td>\n",
       "      <td>-118.839583</td>\n",
       "      <td>ROOFTOP</td>\n",
       "      <td>34.152949</td>\n",
       "      <td>-118.840932</td>\n",
       "    </tr>\n",
       "  </tbody>\n",
       "</table>\n",
       "</div>"
      ],
      "text/plain": [
       "   parcelId     price  bedrooms  bathrooms  floorSpace  \\\n",
       "0  17294231  14999000         7       13.0       14073   \n",
       "1  17294231  14999000         7       13.0       14073   \n",
       "2  17294231  14999000         7       13.0       14073   \n",
       "3  17294231  14999000         7       13.0       14073   \n",
       "4  17294231  14999000         7       13.0       14073   \n",
       "\n",
       "                            region  parcelID        lat         lng  \\\n",
       "0  Newbury Park, Thousand Oaks, CA  17294231  34.138463 -118.894631   \n",
       "1  Newbury Park, Thousand Oaks, CA  17294231  34.153147 -118.840481   \n",
       "2  Newbury Park, Thousand Oaks, CA  17294231  34.153681 -118.839965   \n",
       "3  Newbury Park, Thousand Oaks, CA  17294231  34.154077 -118.839494   \n",
       "4  Newbury Park, Thousand Oaks, CA  17294231  34.154298 -118.839583   \n",
       "\n",
       "             loc_type  view_NW_lat  view_NW_lng  \n",
       "0         APPROXIMATE    34.104268  -118.994587  \n",
       "1    GEOMETRIC_CENTER    34.151801  -118.841835  \n",
       "2  RANGE_INTERPOLATED    34.152332  -118.841314  \n",
       "3             ROOFTOP    34.152716  -118.840843  \n",
       "4             ROOFTOP    34.152949  -118.840932  "
      ]
     },
     "execution_count": 384,
     "metadata": {},
     "output_type": "execute_result"
    }
   ],
   "source": [
    "comp_and_geo_table =  pd.read_sql_query(\"SELECT * from comp_listing_table,Geographic_Location_Coordinates where Geographic_Location_Coordinates.parcelID = comp_listing_table.parcelid\", conn)\n",
    "comp_and_geo_table.head()"
   ]
  },
  {
   "cell_type": "markdown",
   "metadata": {
    "pycharm": {
     "name": "#%% md\n"
    }
   },
   "source": [
    "#### Heatmap of home prices"
   ]
  },
  {
   "cell_type": "code",
   "execution_count": 509,
   "metadata": {
    "scrolled": true
   },
   "outputs": [
    {
     "data": {
      "application/vnd.jupyter.widget-view+json": {
       "model_id": "bfc08091986a45f0b7b3772289928645",
       "version_major": 2,
       "version_minor": 0
      },
      "text/plain": [
       "Figure(layout=FigureLayout(height='420px'))"
      ]
     },
     "metadata": {},
     "output_type": "display_data"
    }
   ],
   "source": [
    "locations = comp_and_geo_table[['lat', 'lng']]\n",
    "weights = comp_and_geo_table['price']\n",
    "fig3 = gmaps.figure()\n",
    "fig3.add_layer(gmaps.heatmap_layer(locations, weights=weights))\n",
    "fig3"
   ]
  },
  {
   "cell_type": "code",
   "execution_count": null,
   "metadata": {
    "pycharm": {
     "name": "#%%\n"
    }
   },
   "outputs": [],
   "source": [
    "embed_minimal_html('data/export.html', views=[fig1,fig2,fig3])"
   ]
  },
  {
   "cell_type": "markdown",
   "metadata": {},
   "source": [
    "#### this table shows comparable prices, number of bed and bathrooms., etc. while properties and transactions table does not have a sale or sold price(only estimate error), we can decipher from tax rate."
   ]
  },
  {
   "cell_type": "code",
   "execution_count": null,
   "metadata": {
    "pycharm": {
     "name": "#%%\n"
    }
   },
   "outputs": [],
   "source": [
    "comp_and_propandtrans_table =  pd.read_sql_query(\"SELECT * from comp_listing_table,propertiesAndTransactions where propertiesAndTransactions.parcelID = comp_listing_table.parcelid\", conn)\n",
    "comp_and_propandtrans_table.head()"
   ]
  },
  {
   "cell_type": "code",
   "execution_count": null,
   "metadata": {
    "pycharm": {
     "name": "#%%\n"
    }
   },
   "outputs": [],
   "source": [
    "comp_and_propandtrans_table['comp_diff'] =  comp_and_propandtrans_table['price'] - comp_and_propandtrans_table['tax_building']\n",
    "print(comp_and_propandtrans_table[['price','tax_building','comp_diff']])"
   ]
  },
  {
   "cell_type": "code",
   "execution_count": null,
   "metadata": {
    "pycharm": {
     "name": "#%%\n"
    }
   },
   "outputs": [],
   "source": [
    "# Scatter plot of comp_diff\n",
    "plt.plot(comp_and_propandtrans_table.comp_diff)"
   ]
  },
  {
   "cell_type": "code",
   "execution_count": null,
   "metadata": {
    "pycharm": {
     "name": "#%%\n"
    }
   },
   "outputs": [],
   "source": [
    "# Scatter plot of logerror\n",
    "plt.plot(propertiesAndTransactions.logerror)"
   ]
  },
  {
   "cell_type": "code",
   "execution_count": null,
   "metadata": {
    "pycharm": {
     "name": "#%%\n"
    }
   },
   "outputs": [],
   "source": [
    "# Scatter plot of abs_logerror\n",
    "plt.plot(propertiesAndTransactions.abs_logerror)"
   ]
  },
  {
   "cell_type": "code",
   "execution_count": null,
   "metadata": {
    "pycharm": {
     "name": "#%%\n"
    }
   },
   "outputs": [],
   "source": [
    "plt.hist(propertiesAndTransactions.abs_logerror)"
   ]
  },
  {
   "cell_type": "code",
   "execution_count": null,
   "metadata": {
    "pycharm": {
     "name": "#%%\n"
    }
   },
   "outputs": [],
   "source": [
    "plt.hist(propertiesAndTransactions.abs_logerror,bins=40)"
   ]
  },
  {
   "cell_type": "code",
   "execution_count": null,
   "metadata": {
    "pycharm": {
     "name": "#%%\n"
    }
   },
   "outputs": [],
   "source": [
    "propertiesAndTransactions['year_month'] = pd.to_datetime(propertiesAndTransactions.transactiondate)\n",
    "propertiesAndTransactions.to_sql('propertiesAndTransactions', conn, if_exists='replace', index=False)"
   ]
  },
  {
   "cell_type": "code",
   "execution_count": null,
   "metadata": {
    "pycharm": {
     "name": "#%%\n"
    }
   },
   "outputs": [],
   "source": [
    "prop_and_trans_groupby_month = propertiesAndTransactions[['year_month','abs_logerror']].groupby(['year_month']).mean()\n",
    "\n",
    "prop_and_trans_groupby_month"
   ]
  },
  {
   "cell_type": "code",
   "execution_count": null,
   "metadata": {
    "pycharm": {
     "name": "#%%\n"
    }
   },
   "outputs": [],
   "source": [
    "print(prop_and_trans_groupby_month.groupby(pd.Grouper(freq='D')).mean())"
   ]
  },
  {
   "cell_type": "code",
   "execution_count": null,
   "metadata": {
    "pycharm": {
     "name": "#%%\n"
    }
   },
   "outputs": [],
   "source": [
    "prop_and_trans_groupby_month = prop_and_trans_groupby_month.reset_index()"
   ]
  },
  {
   "cell_type": "markdown",
   "metadata": {},
   "source": [
    "#### This graph shows the mean error between estimated value and actual sale value per month. It shows spikes in January and March of 2017."
   ]
  },
  {
   "cell_type": "code",
   "execution_count": null,
   "metadata": {
    "pycharm": {
     "name": "#%%\n"
    }
   },
   "outputs": [],
   "source": [
    "plt.figure(figsize=(10, 10))\n",
    "plt.plot(prop_and_trans_groupby_month['year_month'],prop_and_trans_groupby_month.abs_logerror,linewidth=1.0)"
   ]
  },
  {
   "cell_type": "code",
   "execution_count": null,
   "metadata": {
    "pycharm": {
     "name": "#%%\n"
    }
   },
   "outputs": [],
   "source": [
    "conn.close()"
   ]
  },
  {
   "cell_type": "markdown",
   "metadata": {},
   "source": [
    "### Milestone Conclusion\n",
    "\n",
    "In this milestone, we stored the three datasets in the sqlite database. Using some queries and also usingdataframe's groupby function, we were able to produce some graphs and tables. We also used gmaps package from google to locate some properties on the map using longitude and latitude. The heat maps showed the intensoty of absoloute log erros and also the price."
   ]
  },
  {
   "cell_type": "markdown",
   "metadata": {},
   "source": [
    "### Project Conclusion\n",
    "\n",
    "This project involved collecting data related to the properties that were listed and sold in souther california in 2016 and 2017. We also has a corresponding dataset that stored the sale transaction date and error between estimated price and actual sale proce. The intent is to miimize this error.  We took a sampling of these two data sets and used longitude and latitude of the properties to find compariable properities in the same zip code. We achived this by  web scraping the web site https://www.trulia.com/. We also used obtained Geographic Location Coordinates of 20 properties(due to response time limitation cosnstraint) using google maps API. Given the longitue and latitude, this API privided a host of information, but we decided to collect location type along with longitude and latitude and the view from the property(not so useful!).\n",
    "\n"
   ]
  },
  {
   "cell_type": "code",
   "execution_count": 511,
   "metadata": {},
   "outputs": [],
   "source": [
    "### Project Conclusion\n",
    "\n",
    "This project involved collecting data related to the properties that were listed and sold in souther california in 2016 and 2017. We also has a corresponding dataset that stored the sale transaction date and error between estimated price and actual sale proce. The intent is to miimize this error.  We took a sampling of these two data sets and used longitude and latitude of the properties to find compariable properities in the same zip code. We achived this by  web scraping the web site https://www.trulia.com/. We also used obtained Geographic Location Coordinates of 20 properties(due to response time limitation cosnstraint) using google maps API. Given the longitue and latitude, this API privided a host of information, but we decided to collect location type along with longitude and latitude and the view from the property(not so useful!).\n",
    "\n"
   ]
  },
  {
   "cell_type": "markdown",
   "metadata": {},
   "source": [
    "#### this table shows comparable prices, number of bed and bathrooms., etc. while properties and transactions table does not have a sale or sold price(only estimate error), we can decipher from tax rate."
   ]
  },
  {
   "cell_type": "code",
   "execution_count": 386,
   "metadata": {},
   "outputs": [
    {
     "data": {
      "text/html": [
       "<div>\n",
       "<style scoped>\n",
       "    .dataframe tbody tr th:only-of-type {\n",
       "        vertical-align: middle;\n",
       "    }\n",
       "\n",
       "    .dataframe tbody tr th {\n",
       "        vertical-align: top;\n",
       "    }\n",
       "\n",
       "    .dataframe thead th {\n",
       "        text-align: right;\n",
       "    }\n",
       "</style>\n",
       "<table border=\"1\" class=\"dataframe\">\n",
       "  <thead>\n",
       "    <tr style=\"text-align: right;\">\n",
       "      <th></th>\n",
       "      <th>parcelId</th>\n",
       "      <th>price</th>\n",
       "      <th>bedrooms</th>\n",
       "      <th>bathrooms</th>\n",
       "      <th>floorSpace</th>\n",
       "      <th>region</th>\n",
       "      <th>parcelid</th>\n",
       "      <th>aircon</th>\n",
       "      <th>num_bathroom</th>\n",
       "      <th>num_bedroom</th>\n",
       "      <th>...</th>\n",
       "      <th>build_year</th>\n",
       "      <th>tax_building</th>\n",
       "      <th>tax_total</th>\n",
       "      <th>tax_year</th>\n",
       "      <th>tax_land</th>\n",
       "      <th>tax_property</th>\n",
       "      <th>censustractandblock</th>\n",
       "      <th>logerror</th>\n",
       "      <th>transactiondate</th>\n",
       "      <th>abs_logerror</th>\n",
       "    </tr>\n",
       "  </thead>\n",
       "  <tbody>\n",
       "    <tr>\n",
       "      <th>0</th>\n",
       "      <td>17294231</td>\n",
       "      <td>14999000</td>\n",
       "      <td>7</td>\n",
       "      <td>13.0</td>\n",
       "      <td>14073</td>\n",
       "      <td>Newbury Park, Thousand Oaks, CA</td>\n",
       "      <td>17294231</td>\n",
       "      <td>None</td>\n",
       "      <td>2.0</td>\n",
       "      <td>3.0</td>\n",
       "      <td>...</td>\n",
       "      <td>1973.0</td>\n",
       "      <td>265152.0</td>\n",
       "      <td>530304.0</td>\n",
       "      <td>2016</td>\n",
       "      <td>265152.0</td>\n",
       "      <td>6296.48</td>\n",
       "      <td>6.111010e+13</td>\n",
       "      <td>-0.013219</td>\n",
       "      <td>2017-04-12</td>\n",
       "      <td>0.013219</td>\n",
       "    </tr>\n",
       "    <tr>\n",
       "      <th>1</th>\n",
       "      <td>17294231</td>\n",
       "      <td>14999000</td>\n",
       "      <td>7</td>\n",
       "      <td>13.0</td>\n",
       "      <td>14073</td>\n",
       "      <td>Newbury Park, Thousand Oaks, CA</td>\n",
       "      <td>17294231</td>\n",
       "      <td>None</td>\n",
       "      <td>2.0</td>\n",
       "      <td>3.0</td>\n",
       "      <td>...</td>\n",
       "      <td>1973.0</td>\n",
       "      <td>261170.0</td>\n",
       "      <td>522340.0</td>\n",
       "      <td>2015</td>\n",
       "      <td>261170.0</td>\n",
       "      <td>6158.54</td>\n",
       "      <td>6.111006e+13</td>\n",
       "      <td>-0.013219</td>\n",
       "      <td>2017-04-12</td>\n",
       "      <td>0.013219</td>\n",
       "    </tr>\n",
       "    <tr>\n",
       "      <th>2</th>\n",
       "      <td>17294231</td>\n",
       "      <td>1450000</td>\n",
       "      <td>4</td>\n",
       "      <td>3.0</td>\n",
       "      <td>2568</td>\n",
       "      <td>Westlake Village, CA</td>\n",
       "      <td>17294231</td>\n",
       "      <td>None</td>\n",
       "      <td>2.0</td>\n",
       "      <td>3.0</td>\n",
       "      <td>...</td>\n",
       "      <td>1973.0</td>\n",
       "      <td>265152.0</td>\n",
       "      <td>530304.0</td>\n",
       "      <td>2016</td>\n",
       "      <td>265152.0</td>\n",
       "      <td>6296.48</td>\n",
       "      <td>6.111010e+13</td>\n",
       "      <td>-0.013219</td>\n",
       "      <td>2017-04-12</td>\n",
       "      <td>0.013219</td>\n",
       "    </tr>\n",
       "    <tr>\n",
       "      <th>3</th>\n",
       "      <td>17294231</td>\n",
       "      <td>1450000</td>\n",
       "      <td>4</td>\n",
       "      <td>3.0</td>\n",
       "      <td>2568</td>\n",
       "      <td>Westlake Village, CA</td>\n",
       "      <td>17294231</td>\n",
       "      <td>None</td>\n",
       "      <td>2.0</td>\n",
       "      <td>3.0</td>\n",
       "      <td>...</td>\n",
       "      <td>1973.0</td>\n",
       "      <td>261170.0</td>\n",
       "      <td>522340.0</td>\n",
       "      <td>2015</td>\n",
       "      <td>261170.0</td>\n",
       "      <td>6158.54</td>\n",
       "      <td>6.111006e+13</td>\n",
       "      <td>-0.013219</td>\n",
       "      <td>2017-04-12</td>\n",
       "      <td>0.013219</td>\n",
       "    </tr>\n",
       "    <tr>\n",
       "      <th>4</th>\n",
       "      <td>17294231</td>\n",
       "      <td>1225000</td>\n",
       "      <td>4</td>\n",
       "      <td>3.0</td>\n",
       "      <td>2745</td>\n",
       "      <td>Westlake Village, CA</td>\n",
       "      <td>17294231</td>\n",
       "      <td>None</td>\n",
       "      <td>2.0</td>\n",
       "      <td>3.0</td>\n",
       "      <td>...</td>\n",
       "      <td>1973.0</td>\n",
       "      <td>265152.0</td>\n",
       "      <td>530304.0</td>\n",
       "      <td>2016</td>\n",
       "      <td>265152.0</td>\n",
       "      <td>6296.48</td>\n",
       "      <td>6.111010e+13</td>\n",
       "      <td>-0.013219</td>\n",
       "      <td>2017-04-12</td>\n",
       "      <td>0.013219</td>\n",
       "    </tr>\n",
       "  </tbody>\n",
       "</table>\n",
       "<p>5 rows × 44 columns</p>\n",
       "</div>"
      ],
      "text/plain": [
       "   parcelId     price  bedrooms  bathrooms  floorSpace  \\\n",
       "0  17294231  14999000         7       13.0       14073   \n",
       "1  17294231  14999000         7       13.0       14073   \n",
       "2  17294231   1450000         4        3.0        2568   \n",
       "3  17294231   1450000         4        3.0        2568   \n",
       "4  17294231   1225000         4        3.0        2745   \n",
       "\n",
       "                            region  parcelid aircon  num_bathroom  \\\n",
       "0  Newbury Park, Thousand Oaks, CA  17294231   None           2.0   \n",
       "1  Newbury Park, Thousand Oaks, CA  17294231   None           2.0   \n",
       "2             Westlake Village, CA  17294231   None           2.0   \n",
       "3             Westlake Village, CA  17294231   None           2.0   \n",
       "4             Westlake Village, CA  17294231   None           2.0   \n",
       "\n",
       "   num_bedroom  ... build_year  tax_building  tax_total  tax_year  tax_land  \\\n",
       "0          3.0  ...     1973.0      265152.0   530304.0      2016  265152.0   \n",
       "1          3.0  ...     1973.0      261170.0   522340.0      2015  261170.0   \n",
       "2          3.0  ...     1973.0      265152.0   530304.0      2016  265152.0   \n",
       "3          3.0  ...     1973.0      261170.0   522340.0      2015  261170.0   \n",
       "4          3.0  ...     1973.0      265152.0   530304.0      2016  265152.0   \n",
       "\n",
       "   tax_property  censustractandblock  logerror transactiondate  abs_logerror  \n",
       "0       6296.48         6.111010e+13 -0.013219      2017-04-12      0.013219  \n",
       "1       6158.54         6.111006e+13 -0.013219      2017-04-12      0.013219  \n",
       "2       6296.48         6.111010e+13 -0.013219      2017-04-12      0.013219  \n",
       "3       6158.54         6.111006e+13 -0.013219      2017-04-12      0.013219  \n",
       "4       6296.48         6.111010e+13 -0.013219      2017-04-12      0.013219  \n",
       "\n",
       "[5 rows x 44 columns]"
      ]
     },
     "execution_count": 386,
     "metadata": {},
     "output_type": "execute_result"
    }
   ],
   "source": [
    "comp_and_propandtrans_table =  pd.read_sql_query(\"SELECT * from comp_listing_table,propertiesAndTransactions where propertiesAndTransactions.parcelID = comp_listing_table.parcelid\", conn)\n",
    "comp_and_propandtrans_table.head()"
   ]
  },
  {
   "cell_type": "code",
   "execution_count": 391,
   "metadata": {},
   "outputs": [
    {
     "name": "stdout",
     "output_type": "stream",
     "text": [
      "        price  tax_building   comp_diff\n",
      "0    14999000      265152.0  14733848.0\n",
      "1    14999000      261170.0  14737830.0\n",
      "2     1450000      265152.0   1184848.0\n",
      "3     1450000      261170.0   1188830.0\n",
      "4     1225000      265152.0    959848.0\n",
      "..        ...           ...         ...\n",
      "929    569000      170000.0    399000.0\n",
      "930    830000      172592.0    657408.0\n",
      "931    830000      170000.0    660000.0\n",
      "932    999900      172592.0    827308.0\n",
      "933    999900      170000.0    829900.0\n",
      "\n",
      "[934 rows x 3 columns]\n"
     ]
    }
   ],
   "source": [
    "comp_and_propandtrans_table['comp_diff'] =  comp_and_propandtrans_table['price'] - comp_and_propandtrans_table['tax_building']\n",
    "print(comp_and_propandtrans_table[['price','tax_building','comp_diff']])"
   ]
  },
  {
   "cell_type": "code",
   "execution_count": 392,
   "metadata": {},
   "outputs": [
    {
     "data": {
      "text/plain": [
       "[<matplotlib.lines.Line2D at 0x182411f0>]"
      ]
     },
     "execution_count": 392,
     "metadata": {},
     "output_type": "execute_result"
    },
    {
     "data": {
      "image/png": "[encoded data removed]",
      "text/plain": [
       "<Figure size 432x288 with 1 Axes>"
      ]
     },
     "metadata": {
      "needs_background": "light"
     },
     "output_type": "display_data"
    }
   ],
   "source": [
    "# Scatter plot of comp_diff\n",
    "plt.plot(comp_and_propandtrans_table.comp_diff)"
   ]
  },
  {
   "cell_type": "code",
   "execution_count": 393,
   "metadata": {},
   "outputs": [
    {
     "data": {
      "text/plain": [
       "[<matplotlib.lines.Line2D at 0x10c90630>]"
      ]
     },
     "execution_count": 393,
     "metadata": {},
     "output_type": "execute_result"
    },
    {
     "data": {
      "image/png": "[encoded data removed]",
      "text/plain": [
       "<Figure size 432x288 with 1 Axes>"
      ]
     },
     "metadata": {
      "needs_background": "light"
     },
     "output_type": "display_data"
    }
   ],
   "source": [
    "# Scatter plot of logerror\n",
    "plt.plot(propertiesAndTransactions.logerror)"
   ]
  },
  {
   "cell_type": "code",
   "execution_count": 394,
   "metadata": {},
   "outputs": [
    {
     "data": {
      "text/plain": [
       "[<matplotlib.lines.Line2D at 0x16ebbed0>]"
      ]
     },
     "execution_count": 394,
     "metadata": {},
     "output_type": "execute_result"
    },
    {
     "data": {
      "image/png": "[encoded data removed]",
      "text/plain": [
       "<Figure size 432x288 with 1 Axes>"
      ]
     },
     "metadata": {
      "needs_background": "light"
     },
     "output_type": "display_data"
    }
   ],
   "source": [
    "# Scatter plot of abs_logerror\n",
    "plt.plot(propertiesAndTransactions.abs_logerror)"
   ]
  },
  {
   "cell_type": "code",
   "execution_count": 399,
   "metadata": {},
   "outputs": [
    {
     "data": {
      "text/plain": [
       "(array([2.152e+03, 4.800e+01, 1.400e+01, 8.000e+00, 4.000e+00, 4.000e+00,\n",
       "        0.000e+00, 2.000e+00, 0.000e+00, 2.000e+00]),\n",
       " array([0.    , 0.2758, 0.5516, 0.8274, 1.1032, 1.379 , 1.6548, 1.9306,\n",
       "        2.2064, 2.4822, 2.758 ]),\n",
       " <a list of 10 Patch objects>)"
      ]
     },
     "execution_count": 399,
     "metadata": {},
     "output_type": "execute_result"
    },
    {
     "data": {
      "image/png": "[encoded data removed]",
      "text/plain": [
       "<Figure size 432x288 with 1 Axes>"
      ]
     },
     "metadata": {
      "needs_background": "light"
     },
     "output_type": "display_data"
    }
   ],
   "source": [
    "plt.hist(propertiesAndTransactions.abs_logerror)"
   ]
  },
  {
   "cell_type": "code",
   "execution_count": 400,
   "metadata": {},
   "outputs": [
    {
     "data": {
      "text/plain": [
       "(array([1654.,  352.,   98.,   48.,   24.,   10.,   12.,    2.,    0.,\n",
       "           8.,    0.,    6.,    6.,    2.,    0.,    0.,    2.,    2.,\n",
       "           0.,    0.,    2.,    2.,    0.,    0.,    0.,    0.,    0.,\n",
       "           0.,    2.,    0.,    0.,    0.,    0.,    0.,    0.,    0.,\n",
       "           0.,    0.,    0.,    2.]),\n",
       " array([0.     , 0.06895, 0.1379 , 0.20685, 0.2758 , 0.34475, 0.4137 ,\n",
       "        0.48265, 0.5516 , 0.62055, 0.6895 , 0.75845, 0.8274 , 0.89635,\n",
       "        0.9653 , 1.03425, 1.1032 , 1.17215, 1.2411 , 1.31005, 1.379  ,\n",
       "        1.44795, 1.5169 , 1.58585, 1.6548 , 1.72375, 1.7927 , 1.86165,\n",
       "        1.9306 , 1.99955, 2.0685 , 2.13745, 2.2064 , 2.27535, 2.3443 ,\n",
       "        2.41325, 2.4822 , 2.55115, 2.6201 , 2.68905, 2.758  ]),\n",
       " <a list of 40 Patch objects>)"
      ]
     },
     "execution_count": 400,
     "metadata": {},
     "output_type": "execute_result"
    },
    {
     "data": {
      "image/png": "[encoded data removed]",
      "text/plain": [
       "<Figure size 432x288 with 1 Axes>"
      ]
     },
     "metadata": {
      "needs_background": "light"
     },
     "output_type": "display_data"
    }
   ],
   "source": [
    "plt.hist(propertiesAndTransactions.abs_logerror,bins=40)"
   ]
  },
  {
   "cell_type": "code",
   "execution_count": 501,
   "metadata": {},
   "outputs": [],
   "source": [
    "propertiesAndTransactions['year_month'] = pd.to_datetime(propertiesAndTransactions.transactiondate)\n",
    "propertiesAndTransactions.to_sql('propertiesAndTransactions', conn, if_exists='replace', index=False)"
   ]
  },
  {
   "cell_type": "code",
   "execution_count": 502,
   "metadata": {},
   "outputs": [
    {
     "data": {
      "text/html": [
       "<div>\n",
       "<style scoped>\n",
       "    .dataframe tbody tr th:only-of-type {\n",
       "        vertical-align: middle;\n",
       "    }\n",
       "\n",
       "    .dataframe tbody tr th {\n",
       "        vertical-align: top;\n",
       "    }\n",
       "\n",
       "    .dataframe thead th {\n",
       "        text-align: right;\n",
       "    }\n",
       "</style>\n",
       "<table border=\"1\" class=\"dataframe\">\n",
       "  <thead>\n",
       "    <tr style=\"text-align: right;\">\n",
       "      <th></th>\n",
       "      <th>abs_logerror</th>\n",
       "    </tr>\n",
       "    <tr>\n",
       "      <th>year_month</th>\n",
       "      <th></th>\n",
       "    </tr>\n",
       "  </thead>\n",
       "  <tbody>\n",
       "    <tr>\n",
       "      <th>2016-01-04</th>\n",
       "      <td>0.011100</td>\n",
       "    </tr>\n",
       "    <tr>\n",
       "      <th>2016-01-05</th>\n",
       "      <td>0.071750</td>\n",
       "    </tr>\n",
       "    <tr>\n",
       "      <th>2016-01-06</th>\n",
       "      <td>0.023700</td>\n",
       "    </tr>\n",
       "    <tr>\n",
       "      <th>2016-01-07</th>\n",
       "      <td>0.065100</td>\n",
       "    </tr>\n",
       "    <tr>\n",
       "      <th>2016-01-08</th>\n",
       "      <td>0.064150</td>\n",
       "    </tr>\n",
       "    <tr>\n",
       "      <th>...</th>\n",
       "      <td>...</td>\n",
       "    </tr>\n",
       "    <tr>\n",
       "      <th>2017-09-13</th>\n",
       "      <td>0.065672</td>\n",
       "    </tr>\n",
       "    <tr>\n",
       "      <th>2017-09-14</th>\n",
       "      <td>0.012129</td>\n",
       "    </tr>\n",
       "    <tr>\n",
       "      <th>2017-09-15</th>\n",
       "      <td>0.049597</td>\n",
       "    </tr>\n",
       "    <tr>\n",
       "      <th>2017-09-18</th>\n",
       "      <td>0.069977</td>\n",
       "    </tr>\n",
       "    <tr>\n",
       "      <th>2017-09-19</th>\n",
       "      <td>0.016698</td>\n",
       "    </tr>\n",
       "  </tbody>\n",
       "</table>\n",
       "<p>378 rows × 1 columns</p>\n",
       "</div>"
      ],
      "text/plain": [
       "            abs_logerror\n",
       "year_month              \n",
       "2016-01-04      0.011100\n",
       "2016-01-05      0.071750\n",
       "2016-01-06      0.023700\n",
       "2016-01-07      0.065100\n",
       "2016-01-08      0.064150\n",
       "...                  ...\n",
       "2017-09-13      0.065672\n",
       "2017-09-14      0.012129\n",
       "2017-09-15      0.049597\n",
       "2017-09-18      0.069977\n",
       "2017-09-19      0.016698\n",
       "\n",
       "[378 rows x 1 columns]"
      ]
     },
     "execution_count": 502,
     "metadata": {},
     "output_type": "execute_result"
    }
   ],
   "source": [
    "prop_and_trans_groupby_month = propertiesAndTransactions[['year_month','abs_logerror']].groupby(['year_month']).mean()\n",
    "\n",
    "prop_and_trans_groupby_month"
   ]
  },
  {
   "cell_type": "code",
   "execution_count": 503,
   "metadata": {},
   "outputs": [
    {
     "name": "stdout",
     "output_type": "stream",
     "text": [
      "            abs_logerror\n",
      "year_month              \n",
      "2016-01-04      0.011100\n",
      "2016-01-05      0.071750\n",
      "2016-01-06      0.023700\n",
      "2016-01-07      0.065100\n",
      "2016-01-08      0.064150\n",
      "...                  ...\n",
      "2017-09-15      0.049597\n",
      "2017-09-16           NaN\n",
      "2017-09-17           NaN\n",
      "2017-09-18      0.069977\n",
      "2017-09-19      0.016698\n",
      "\n",
      "[625 rows x 1 columns]\n"
     ]
    }
   ],
   "source": [
    "print(prop_and_trans_groupby_month.groupby(pd.Grouper(freq='D')).mean())"
   ]
  },
  {
   "cell_type": "code",
   "execution_count": 504,
   "metadata": {},
   "outputs": [],
   "source": [
    "prop_and_trans_groupby_month = prop_and_trans_groupby_month.reset_index()"
   ]
  },
  {
   "cell_type": "markdown",
   "metadata": {},
   "source": [
    "#### This graph shows the mean error between estimated value and actual sale value per month. It shows spikes in January and March of 2017."
   ]
  },
  {
   "cell_type": "code",
   "execution_count": 505,
   "metadata": {},
   "outputs": [
    {
     "data": {
      "text/plain": [
       "[<matplotlib.lines.Line2D at 0x1de45e90>]"
      ]
     },
     "execution_count": 505,
     "metadata": {},
     "output_type": "execute_result"
    },
    {
     "data": {
      "image/png": "[encoded data removed]",
      "text/plain": [
       "<Figure size 720x720 with 1 Axes>"
      ]
     },
     "metadata": {
      "needs_background": "light"
     },
     "output_type": "display_data"
    }
   ],
   "source": [
    "plt.figure(figsize=(10, 10))\n",
    "plt.plot(prop_and_trans_groupby_month['year_month'],prop_and_trans_groupby_month.abs_logerror,linewidth=1.0)"
   ]
  },
  {
   "cell_type": "code",
   "execution_count": 512,
   "metadata": {},
   "outputs": [],
   "source": [
    "conn.close()"
   ]
  },
  {
   "cell_type": "markdown",
   "metadata": {},
   "source": [
    "### Milestone Conclusion\n",
    "\n",
    "In this milestone, we stored the three datasets in the sqlite database. Using some queries and also usingdataframe's groupby function, we were able to produce some graphs and tables. We also used gmaps package from google to locate some properties on the map using longitude and latitude. The heat maps showed the intensoty of absoloute log erros and also the price."
   ]
  },
  {
   "cell_type": "markdown",
   "metadata": {},
   "source": [
    "### Project Conclusion\n",
    "\n",
    "This project involved collecting data related to the properties that were listed and sold in souther california in 2016 and 2017. We also has a corresponding dataset that stored the sale transaction date and error between estimated price and actual sale proce. The intent is to miimize this error.  We took a sampling of these two data sets and used longitude and latitude of the properties to find compariable properities in the same zip code. We achived this by  web scraping the web site https://www.trulia.com/. We also used obtained Geographic Location Coordinates of 20 properties(due to response time limitation cosnstraint) using google maps API. Given the longitue and latitude, this API privided a host of information, but we decided to collect location type along with longitude and latitude and the view from the property(not so useful!).\n",
    "\n"
   ]
  }
 ],
 "metadata": {
  "kernelspec": {
   "display_name": "Python 3 (ipykernel)",
   "language": "python",
   "name": "python3"
  },
  "language_info": {
   "codemirror_mode": {
    "name": "ipython",
    "version": 3
   },
   "file_extension": ".py",
   "mimetype": "text/x-python",
   "name": "python",
   "nbconvert_exporter": "python",
   "pygments_lexer": "ipython3",
   "version": "3.8.0"
  },
  "pycharm": {
   "stem_cell": {
    "cell_type": "raw",
    "metadata": {
     "collapsed": false
    },
    "source": []
   }
  }
 },
 "nbformat": 4,
 "nbformat_minor": 1
}
