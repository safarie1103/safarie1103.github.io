{
 "cells": [
  {
   "cell_type": "markdown",
   "metadata": {},
   "source": [
    "Fédération Internationale de Football Association(FIFA ) publishes Player rating data set which contains over 85 features about 18000 players. The feaures and players are updated annually and players are rated from 1(worst) to 100(best) . The data set can be used for various purposes, one of which is in the gaming industry.\n",
    "\n",
    "The goal of this study is to explore the 2019 publication of this dataset using statistical and programatic techniques."
   ]
  },
  {
   "cell_type": "code",
   "execution_count": 1,
   "metadata": {
    "pycharm": {
     "is_executing": false,
     "name": "#%%\n"
    }
   },
   "outputs": [],
   "source": [
    "from __future__ import print_function, division\n",
    "\n",
    "\n",
    "import matplotlib.pyplot as plt\n",
    "# Seaborn is a Python data visualization library based on matplotlib. \n",
    "# It provides a high-level interface for drawing attractive and informative statistical graphics.\n",
    "import seaborn as sns\n",
    "\n",
    "import numpy as np\n",
    "\n",
    "import pandas as pd\n",
    "import thinkstats2\n",
    "import thinkplot\n",
    "import os"
   ]
  },
  {
   "cell_type": "code",
   "execution_count": null,
   "metadata": {},
   "outputs": [],
   "source": [
    "Data Preparation"
   ]
  },
  {
   "cell_type": "code",
   "execution_count": 2,
   "metadata": {
    "pycharm": {
     "is_executing": false,
     "name": "#%%\n"
    }
   },
   "outputs": [],
   "source": [
    "# Use style sheet from matplotlib\n",
    "plt.style.use('fivethirtyeight')"
   ]
  },
  {
   "cell_type": "code",
   "execution_count": 4,
   "metadata": {
    "pycharm": {
     "is_executing": false,
     "name": "#%%\n"
    }
   },
   "outputs": [
    {
     "data": {
      "text/plain": [
       "(18207, 89)"
      ]
     },
     "execution_count": 4,
     "metadata": {},
     "output_type": "execute_result"
    }
   ],
   "source": [
    "data = pd.read_csv(\"Data/fifa19_data.csv\")\n",
    "#data = df_main.sample(frac=.25)\n",
    "\n",
    "data.shape"
   ]
  },
  {
   "cell_type": "code",
   "execution_count": 5,
   "metadata": {
    "pycharm": {
     "is_executing": false
    }
   },
   "outputs": [
    {
     "data": {
      "text/plain": [
       "Index(['Unnamed: 0', 'ID', 'Name', 'Age', 'Photo', 'Nationality', 'Flag',\n",
       "       'Overall', 'Potential', 'Club', 'Club Logo', 'Value', 'Wage', 'Special',\n",
       "       'Preferred Foot', 'International Reputation', 'Weak Foot',\n",
       "       'Skill Moves', 'Work Rate', 'Body Type', 'Real Face', 'Position',\n",
       "       'Jersey Number', 'Joined', 'Loaned From', 'Contract Valid Until',\n",
       "       'Height', 'Weight', 'LS', 'ST', 'RS', 'LW', 'LF', 'CF', 'RF', 'RW',\n",
       "       'LAM', 'CAM', 'RAM', 'LM', 'LCM', 'CM', 'RCM', 'RM', 'LWB', 'LDM',\n",
       "       'CDM', 'RDM', 'RWB', 'LB', 'LCB', 'CB', 'RCB', 'RB', 'Crossing',\n",
       "       'Finishing', 'HeadingAccuracy', 'ShortPassing', 'Volleys', 'Dribbling',\n",
       "       'Curve', 'FKAccuracy', 'LongPassing', 'BallControl', 'Acceleration',\n",
       "       'SprintSpeed', 'Agility', 'Reactions', 'Balance', 'ShotPower',\n",
       "       'Jumping', 'Stamina', 'Strength', 'LongShots', 'Aggression',\n",
       "       'Interceptions', 'Positioning', 'Vision', 'Penalties', 'Composure',\n",
       "       'Marking', 'StandingTackle', 'SlidingTackle', 'GKDiving', 'GKHandling',\n",
       "       'GKKicking', 'GKPositioning', 'GKReflexes', 'Release Clause'],\n",
       "      dtype='object')"
      ]
     },
     "execution_count": 5,
     "metadata": {},
     "output_type": "execute_result"
    }
   ],
   "source": [
    "data.columns"
   ]
  },
  {
   "cell_type": "code",
   "execution_count": 6,
   "metadata": {
    "pycharm": {
     "is_executing": false
    }
   },
   "outputs": [
    {
     "data": {
      "text/html": [
       "<div>\n",
       "<style scoped>\n",
       "    .dataframe tbody tr th:only-of-type {\n",
       "        vertical-align: middle;\n",
       "    }\n",
       "\n",
       "    .dataframe tbody tr th {\n",
       "        vertical-align: top;\n",
       "    }\n",
       "\n",
       "    .dataframe thead th {\n",
       "        text-align: right;\n",
       "    }\n",
       "</style>\n",
       "<table border=\"1\" class=\"dataframe\">\n",
       "  <thead>\n",
       "    <tr style=\"text-align: right;\">\n",
       "      <th></th>\n",
       "      <th>Unnamed: 0</th>\n",
       "      <th>ID</th>\n",
       "      <th>Name</th>\n",
       "      <th>Age</th>\n",
       "      <th>Photo</th>\n",
       "      <th>Nationality</th>\n",
       "      <th>Flag</th>\n",
       "      <th>Overall</th>\n",
       "      <th>Potential</th>\n",
       "      <th>Club</th>\n",
       "      <th>...</th>\n",
       "      <th>Composure</th>\n",
       "      <th>Marking</th>\n",
       "      <th>StandingTackle</th>\n",
       "      <th>SlidingTackle</th>\n",
       "      <th>GKDiving</th>\n",
       "      <th>GKHandling</th>\n",
       "      <th>GKKicking</th>\n",
       "      <th>GKPositioning</th>\n",
       "      <th>GKReflexes</th>\n",
       "      <th>Release Clause</th>\n",
       "    </tr>\n",
       "  </thead>\n",
       "  <tbody>\n",
       "    <tr>\n",
       "      <th>0</th>\n",
       "      <td>0</td>\n",
       "      <td>158023</td>\n",
       "      <td>L. Messi</td>\n",
       "      <td>31</td>\n",
       "      <td>https://cdn.sofifa.org/players/4/19/158023.png</td>\n",
       "      <td>Argentina</td>\n",
       "      <td>https://cdn.sofifa.org/flags/52.png</td>\n",
       "      <td>94</td>\n",
       "      <td>94</td>\n",
       "      <td>FC Barcelona</td>\n",
       "      <td>...</td>\n",
       "      <td>96.0</td>\n",
       "      <td>33.0</td>\n",
       "      <td>28.0</td>\n",
       "      <td>26.0</td>\n",
       "      <td>6.0</td>\n",
       "      <td>11.0</td>\n",
       "      <td>15.0</td>\n",
       "      <td>14.0</td>\n",
       "      <td>8.0</td>\n",
       "      <td>€226.5M</td>\n",
       "    </tr>\n",
       "    <tr>\n",
       "      <th>1</th>\n",
       "      <td>1</td>\n",
       "      <td>20801</td>\n",
       "      <td>Cristiano Ronaldo</td>\n",
       "      <td>33</td>\n",
       "      <td>https://cdn.sofifa.org/players/4/19/20801.png</td>\n",
       "      <td>Portugal</td>\n",
       "      <td>https://cdn.sofifa.org/flags/38.png</td>\n",
       "      <td>94</td>\n",
       "      <td>94</td>\n",
       "      <td>Juventus</td>\n",
       "      <td>...</td>\n",
       "      <td>95.0</td>\n",
       "      <td>28.0</td>\n",
       "      <td>31.0</td>\n",
       "      <td>23.0</td>\n",
       "      <td>7.0</td>\n",
       "      <td>11.0</td>\n",
       "      <td>15.0</td>\n",
       "      <td>14.0</td>\n",
       "      <td>11.0</td>\n",
       "      <td>€127.1M</td>\n",
       "    </tr>\n",
       "    <tr>\n",
       "      <th>2</th>\n",
       "      <td>2</td>\n",
       "      <td>190871</td>\n",
       "      <td>Neymar Jr</td>\n",
       "      <td>26</td>\n",
       "      <td>https://cdn.sofifa.org/players/4/19/190871.png</td>\n",
       "      <td>Brazil</td>\n",
       "      <td>https://cdn.sofifa.org/flags/54.png</td>\n",
       "      <td>92</td>\n",
       "      <td>93</td>\n",
       "      <td>Paris Saint-Germain</td>\n",
       "      <td>...</td>\n",
       "      <td>94.0</td>\n",
       "      <td>27.0</td>\n",
       "      <td>24.0</td>\n",
       "      <td>33.0</td>\n",
       "      <td>9.0</td>\n",
       "      <td>9.0</td>\n",
       "      <td>15.0</td>\n",
       "      <td>15.0</td>\n",
       "      <td>11.0</td>\n",
       "      <td>€228.1M</td>\n",
       "    </tr>\n",
       "    <tr>\n",
       "      <th>3</th>\n",
       "      <td>3</td>\n",
       "      <td>193080</td>\n",
       "      <td>De Gea</td>\n",
       "      <td>27</td>\n",
       "      <td>https://cdn.sofifa.org/players/4/19/193080.png</td>\n",
       "      <td>Spain</td>\n",
       "      <td>https://cdn.sofifa.org/flags/45.png</td>\n",
       "      <td>91</td>\n",
       "      <td>93</td>\n",
       "      <td>Manchester United</td>\n",
       "      <td>...</td>\n",
       "      <td>68.0</td>\n",
       "      <td>15.0</td>\n",
       "      <td>21.0</td>\n",
       "      <td>13.0</td>\n",
       "      <td>90.0</td>\n",
       "      <td>85.0</td>\n",
       "      <td>87.0</td>\n",
       "      <td>88.0</td>\n",
       "      <td>94.0</td>\n",
       "      <td>€138.6M</td>\n",
       "    </tr>\n",
       "    <tr>\n",
       "      <th>4</th>\n",
       "      <td>4</td>\n",
       "      <td>192985</td>\n",
       "      <td>K. De Bruyne</td>\n",
       "      <td>27</td>\n",
       "      <td>https://cdn.sofifa.org/players/4/19/192985.png</td>\n",
       "      <td>Belgium</td>\n",
       "      <td>https://cdn.sofifa.org/flags/7.png</td>\n",
       "      <td>91</td>\n",
       "      <td>92</td>\n",
       "      <td>Manchester City</td>\n",
       "      <td>...</td>\n",
       "      <td>88.0</td>\n",
       "      <td>68.0</td>\n",
       "      <td>58.0</td>\n",
       "      <td>51.0</td>\n",
       "      <td>15.0</td>\n",
       "      <td>13.0</td>\n",
       "      <td>5.0</td>\n",
       "      <td>10.0</td>\n",
       "      <td>13.0</td>\n",
       "      <td>€196.4M</td>\n",
       "    </tr>\n",
       "  </tbody>\n",
       "</table>\n",
       "<p>5 rows × 89 columns</p>\n",
       "</div>"
      ],
      "text/plain": [
       "   Unnamed: 0      ID               Name  Age  \\\n",
       "0           0  158023           L. Messi   31   \n",
       "1           1   20801  Cristiano Ronaldo   33   \n",
       "2           2  190871          Neymar Jr   26   \n",
       "3           3  193080             De Gea   27   \n",
       "4           4  192985       K. De Bruyne   27   \n",
       "\n",
       "                                            Photo Nationality  \\\n",
       "0  https://cdn.sofifa.org/players/4/19/158023.png   Argentina   \n",
       "1   https://cdn.sofifa.org/players/4/19/20801.png    Portugal   \n",
       "2  https://cdn.sofifa.org/players/4/19/190871.png      Brazil   \n",
       "3  https://cdn.sofifa.org/players/4/19/193080.png       Spain   \n",
       "4  https://cdn.sofifa.org/players/4/19/192985.png     Belgium   \n",
       "\n",
       "                                  Flag  Overall  Potential  \\\n",
       "0  https://cdn.sofifa.org/flags/52.png       94         94   \n",
       "1  https://cdn.sofifa.org/flags/38.png       94         94   \n",
       "2  https://cdn.sofifa.org/flags/54.png       92         93   \n",
       "3  https://cdn.sofifa.org/flags/45.png       91         93   \n",
       "4   https://cdn.sofifa.org/flags/7.png       91         92   \n",
       "\n",
       "                  Club  ... Composure Marking StandingTackle  SlidingTackle  \\\n",
       "0         FC Barcelona  ...      96.0    33.0           28.0           26.0   \n",
       "1             Juventus  ...      95.0    28.0           31.0           23.0   \n",
       "2  Paris Saint-Germain  ...      94.0    27.0           24.0           33.0   \n",
       "3    Manchester United  ...      68.0    15.0           21.0           13.0   \n",
       "4      Manchester City  ...      88.0    68.0           58.0           51.0   \n",
       "\n",
       "  GKDiving  GKHandling  GKKicking  GKPositioning GKReflexes Release Clause  \n",
       "0      6.0        11.0       15.0           14.0        8.0        €226.5M  \n",
       "1      7.0        11.0       15.0           14.0       11.0        €127.1M  \n",
       "2      9.0         9.0       15.0           15.0       11.0        €228.1M  \n",
       "3     90.0        85.0       87.0           88.0       94.0        €138.6M  \n",
       "4     15.0        13.0        5.0           10.0       13.0        €196.4M  \n",
       "\n",
       "[5 rows x 89 columns]"
      ]
     },
     "execution_count": 6,
     "metadata": {},
     "output_type": "execute_result"
    }
   ],
   "source": [
    "data.head()"
   ]
  },
  {
   "cell_type": "code",
   "execution_count": 7,
   "metadata": {
    "pycharm": {
     "is_executing": false
    }
   },
   "outputs": [
    {
     "data": {
      "text/html": [
       "<div>\n",
       "<style scoped>\n",
       "    .dataframe tbody tr th:only-of-type {\n",
       "        vertical-align: middle;\n",
       "    }\n",
       "\n",
       "    .dataframe tbody tr th {\n",
       "        vertical-align: top;\n",
       "    }\n",
       "\n",
       "    .dataframe thead th {\n",
       "        text-align: right;\n",
       "    }\n",
       "</style>\n",
       "<table border=\"1\" class=\"dataframe\">\n",
       "  <thead>\n",
       "    <tr style=\"text-align: right;\">\n",
       "      <th></th>\n",
       "      <th>Crossing</th>\n",
       "      <th>Finishing</th>\n",
       "      <th>HeadingAccuracy</th>\n",
       "      <th>ShortPassing</th>\n",
       "      <th>Volleys</th>\n",
       "      <th>Dribbling</th>\n",
       "      <th>Curve</th>\n",
       "      <th>FKAccuracy</th>\n",
       "      <th>LongPassing</th>\n",
       "      <th>BallControl</th>\n",
       "      <th>...</th>\n",
       "      <th>Penalties</th>\n",
       "      <th>Composure</th>\n",
       "      <th>Marking</th>\n",
       "      <th>StandingTackle</th>\n",
       "      <th>SlidingTackle</th>\n",
       "      <th>GKDiving</th>\n",
       "      <th>GKHandling</th>\n",
       "      <th>GKKicking</th>\n",
       "      <th>GKPositioning</th>\n",
       "      <th>GKReflexes</th>\n",
       "    </tr>\n",
       "  </thead>\n",
       "  <tbody>\n",
       "    <tr>\n",
       "      <th>0</th>\n",
       "      <td>84.0</td>\n",
       "      <td>95.0</td>\n",
       "      <td>70.0</td>\n",
       "      <td>90.0</td>\n",
       "      <td>86.0</td>\n",
       "      <td>97.0</td>\n",
       "      <td>93.0</td>\n",
       "      <td>94.0</td>\n",
       "      <td>87.0</td>\n",
       "      <td>96.0</td>\n",
       "      <td>...</td>\n",
       "      <td>75.0</td>\n",
       "      <td>96.0</td>\n",
       "      <td>33.0</td>\n",
       "      <td>28.0</td>\n",
       "      <td>26.0</td>\n",
       "      <td>6.0</td>\n",
       "      <td>11.0</td>\n",
       "      <td>15.0</td>\n",
       "      <td>14.0</td>\n",
       "      <td>8.0</td>\n",
       "    </tr>\n",
       "    <tr>\n",
       "      <th>1</th>\n",
       "      <td>84.0</td>\n",
       "      <td>94.0</td>\n",
       "      <td>89.0</td>\n",
       "      <td>81.0</td>\n",
       "      <td>87.0</td>\n",
       "      <td>88.0</td>\n",
       "      <td>81.0</td>\n",
       "      <td>76.0</td>\n",
       "      <td>77.0</td>\n",
       "      <td>94.0</td>\n",
       "      <td>...</td>\n",
       "      <td>85.0</td>\n",
       "      <td>95.0</td>\n",
       "      <td>28.0</td>\n",
       "      <td>31.0</td>\n",
       "      <td>23.0</td>\n",
       "      <td>7.0</td>\n",
       "      <td>11.0</td>\n",
       "      <td>15.0</td>\n",
       "      <td>14.0</td>\n",
       "      <td>11.0</td>\n",
       "    </tr>\n",
       "    <tr>\n",
       "      <th>2</th>\n",
       "      <td>79.0</td>\n",
       "      <td>87.0</td>\n",
       "      <td>62.0</td>\n",
       "      <td>84.0</td>\n",
       "      <td>84.0</td>\n",
       "      <td>96.0</td>\n",
       "      <td>88.0</td>\n",
       "      <td>87.0</td>\n",
       "      <td>78.0</td>\n",
       "      <td>95.0</td>\n",
       "      <td>...</td>\n",
       "      <td>81.0</td>\n",
       "      <td>94.0</td>\n",
       "      <td>27.0</td>\n",
       "      <td>24.0</td>\n",
       "      <td>33.0</td>\n",
       "      <td>9.0</td>\n",
       "      <td>9.0</td>\n",
       "      <td>15.0</td>\n",
       "      <td>15.0</td>\n",
       "      <td>11.0</td>\n",
       "    </tr>\n",
       "    <tr>\n",
       "      <th>3</th>\n",
       "      <td>17.0</td>\n",
       "      <td>13.0</td>\n",
       "      <td>21.0</td>\n",
       "      <td>50.0</td>\n",
       "      <td>13.0</td>\n",
       "      <td>18.0</td>\n",
       "      <td>21.0</td>\n",
       "      <td>19.0</td>\n",
       "      <td>51.0</td>\n",
       "      <td>42.0</td>\n",
       "      <td>...</td>\n",
       "      <td>40.0</td>\n",
       "      <td>68.0</td>\n",
       "      <td>15.0</td>\n",
       "      <td>21.0</td>\n",
       "      <td>13.0</td>\n",
       "      <td>90.0</td>\n",
       "      <td>85.0</td>\n",
       "      <td>87.0</td>\n",
       "      <td>88.0</td>\n",
       "      <td>94.0</td>\n",
       "    </tr>\n",
       "    <tr>\n",
       "      <th>4</th>\n",
       "      <td>93.0</td>\n",
       "      <td>82.0</td>\n",
       "      <td>55.0</td>\n",
       "      <td>92.0</td>\n",
       "      <td>82.0</td>\n",
       "      <td>86.0</td>\n",
       "      <td>85.0</td>\n",
       "      <td>83.0</td>\n",
       "      <td>91.0</td>\n",
       "      <td>91.0</td>\n",
       "      <td>...</td>\n",
       "      <td>79.0</td>\n",
       "      <td>88.0</td>\n",
       "      <td>68.0</td>\n",
       "      <td>58.0</td>\n",
       "      <td>51.0</td>\n",
       "      <td>15.0</td>\n",
       "      <td>13.0</td>\n",
       "      <td>5.0</td>\n",
       "      <td>10.0</td>\n",
       "      <td>13.0</td>\n",
       "    </tr>\n",
       "    <tr>\n",
       "      <th>...</th>\n",
       "      <td>...</td>\n",
       "      <td>...</td>\n",
       "      <td>...</td>\n",
       "      <td>...</td>\n",
       "      <td>...</td>\n",
       "      <td>...</td>\n",
       "      <td>...</td>\n",
       "      <td>...</td>\n",
       "      <td>...</td>\n",
       "      <td>...</td>\n",
       "      <td>...</td>\n",
       "      <td>...</td>\n",
       "      <td>...</td>\n",
       "      <td>...</td>\n",
       "      <td>...</td>\n",
       "      <td>...</td>\n",
       "      <td>...</td>\n",
       "      <td>...</td>\n",
       "      <td>...</td>\n",
       "      <td>...</td>\n",
       "      <td>...</td>\n",
       "    </tr>\n",
       "    <tr>\n",
       "      <th>18202</th>\n",
       "      <td>34.0</td>\n",
       "      <td>38.0</td>\n",
       "      <td>40.0</td>\n",
       "      <td>49.0</td>\n",
       "      <td>25.0</td>\n",
       "      <td>42.0</td>\n",
       "      <td>30.0</td>\n",
       "      <td>34.0</td>\n",
       "      <td>45.0</td>\n",
       "      <td>43.0</td>\n",
       "      <td>...</td>\n",
       "      <td>43.0</td>\n",
       "      <td>45.0</td>\n",
       "      <td>40.0</td>\n",
       "      <td>48.0</td>\n",
       "      <td>47.0</td>\n",
       "      <td>10.0</td>\n",
       "      <td>13.0</td>\n",
       "      <td>7.0</td>\n",
       "      <td>8.0</td>\n",
       "      <td>9.0</td>\n",
       "    </tr>\n",
       "    <tr>\n",
       "      <th>18203</th>\n",
       "      <td>23.0</td>\n",
       "      <td>52.0</td>\n",
       "      <td>52.0</td>\n",
       "      <td>43.0</td>\n",
       "      <td>36.0</td>\n",
       "      <td>39.0</td>\n",
       "      <td>32.0</td>\n",
       "      <td>20.0</td>\n",
       "      <td>25.0</td>\n",
       "      <td>40.0</td>\n",
       "      <td>...</td>\n",
       "      <td>43.0</td>\n",
       "      <td>42.0</td>\n",
       "      <td>22.0</td>\n",
       "      <td>15.0</td>\n",
       "      <td>19.0</td>\n",
       "      <td>10.0</td>\n",
       "      <td>9.0</td>\n",
       "      <td>9.0</td>\n",
       "      <td>5.0</td>\n",
       "      <td>12.0</td>\n",
       "    </tr>\n",
       "    <tr>\n",
       "      <th>18204</th>\n",
       "      <td>25.0</td>\n",
       "      <td>40.0</td>\n",
       "      <td>46.0</td>\n",
       "      <td>38.0</td>\n",
       "      <td>38.0</td>\n",
       "      <td>45.0</td>\n",
       "      <td>38.0</td>\n",
       "      <td>27.0</td>\n",
       "      <td>28.0</td>\n",
       "      <td>44.0</td>\n",
       "      <td>...</td>\n",
       "      <td>55.0</td>\n",
       "      <td>41.0</td>\n",
       "      <td>32.0</td>\n",
       "      <td>13.0</td>\n",
       "      <td>11.0</td>\n",
       "      <td>6.0</td>\n",
       "      <td>5.0</td>\n",
       "      <td>10.0</td>\n",
       "      <td>6.0</td>\n",
       "      <td>13.0</td>\n",
       "    </tr>\n",
       "    <tr>\n",
       "      <th>18205</th>\n",
       "      <td>44.0</td>\n",
       "      <td>50.0</td>\n",
       "      <td>39.0</td>\n",
       "      <td>42.0</td>\n",
       "      <td>40.0</td>\n",
       "      <td>51.0</td>\n",
       "      <td>34.0</td>\n",
       "      <td>32.0</td>\n",
       "      <td>32.0</td>\n",
       "      <td>52.0</td>\n",
       "      <td>...</td>\n",
       "      <td>50.0</td>\n",
       "      <td>46.0</td>\n",
       "      <td>20.0</td>\n",
       "      <td>25.0</td>\n",
       "      <td>27.0</td>\n",
       "      <td>14.0</td>\n",
       "      <td>6.0</td>\n",
       "      <td>14.0</td>\n",
       "      <td>8.0</td>\n",
       "      <td>9.0</td>\n",
       "    </tr>\n",
       "    <tr>\n",
       "      <th>18206</th>\n",
       "      <td>41.0</td>\n",
       "      <td>34.0</td>\n",
       "      <td>46.0</td>\n",
       "      <td>48.0</td>\n",
       "      <td>30.0</td>\n",
       "      <td>43.0</td>\n",
       "      <td>40.0</td>\n",
       "      <td>34.0</td>\n",
       "      <td>44.0</td>\n",
       "      <td>51.0</td>\n",
       "      <td>...</td>\n",
       "      <td>33.0</td>\n",
       "      <td>43.0</td>\n",
       "      <td>40.0</td>\n",
       "      <td>43.0</td>\n",
       "      <td>50.0</td>\n",
       "      <td>10.0</td>\n",
       "      <td>15.0</td>\n",
       "      <td>9.0</td>\n",
       "      <td>12.0</td>\n",
       "      <td>9.0</td>\n",
       "    </tr>\n",
       "  </tbody>\n",
       "</table>\n",
       "<p>18207 rows × 34 columns</p>\n",
       "</div>"
      ],
      "text/plain": [
       "       Crossing  Finishing  HeadingAccuracy  ShortPassing  Volleys  Dribbling  \\\n",
       "0          84.0       95.0             70.0          90.0     86.0       97.0   \n",
       "1          84.0       94.0             89.0          81.0     87.0       88.0   \n",
       "2          79.0       87.0             62.0          84.0     84.0       96.0   \n",
       "3          17.0       13.0             21.0          50.0     13.0       18.0   \n",
       "4          93.0       82.0             55.0          92.0     82.0       86.0   \n",
       "...         ...        ...              ...           ...      ...        ...   \n",
       "18202      34.0       38.0             40.0          49.0     25.0       42.0   \n",
       "18203      23.0       52.0             52.0          43.0     36.0       39.0   \n",
       "18204      25.0       40.0             46.0          38.0     38.0       45.0   \n",
       "18205      44.0       50.0             39.0          42.0     40.0       51.0   \n",
       "18206      41.0       34.0             46.0          48.0     30.0       43.0   \n",
       "\n",
       "       Curve  FKAccuracy  LongPassing  BallControl  ...  Penalties  Composure  \\\n",
       "0       93.0        94.0         87.0         96.0  ...       75.0       96.0   \n",
       "1       81.0        76.0         77.0         94.0  ...       85.0       95.0   \n",
       "2       88.0        87.0         78.0         95.0  ...       81.0       94.0   \n",
       "3       21.0        19.0         51.0         42.0  ...       40.0       68.0   \n",
       "4       85.0        83.0         91.0         91.0  ...       79.0       88.0   \n",
       "...      ...         ...          ...          ...  ...        ...        ...   \n",
       "18202   30.0        34.0         45.0         43.0  ...       43.0       45.0   \n",
       "18203   32.0        20.0         25.0         40.0  ...       43.0       42.0   \n",
       "18204   38.0        27.0         28.0         44.0  ...       55.0       41.0   \n",
       "18205   34.0        32.0         32.0         52.0  ...       50.0       46.0   \n",
       "18206   40.0        34.0         44.0         51.0  ...       33.0       43.0   \n",
       "\n",
       "       Marking  StandingTackle  SlidingTackle  GKDiving  GKHandling  \\\n",
       "0         33.0            28.0           26.0       6.0        11.0   \n",
       "1         28.0            31.0           23.0       7.0        11.0   \n",
       "2         27.0            24.0           33.0       9.0         9.0   \n",
       "3         15.0            21.0           13.0      90.0        85.0   \n",
       "4         68.0            58.0           51.0      15.0        13.0   \n",
       "...        ...             ...            ...       ...         ...   \n",
       "18202     40.0            48.0           47.0      10.0        13.0   \n",
       "18203     22.0            15.0           19.0      10.0         9.0   \n",
       "18204     32.0            13.0           11.0       6.0         5.0   \n",
       "18205     20.0            25.0           27.0      14.0         6.0   \n",
       "18206     40.0            43.0           50.0      10.0        15.0   \n",
       "\n",
       "       GKKicking  GKPositioning  GKReflexes  \n",
       "0           15.0           14.0         8.0  \n",
       "1           15.0           14.0        11.0  \n",
       "2           15.0           15.0        11.0  \n",
       "3           87.0           88.0        94.0  \n",
       "4            5.0           10.0        13.0  \n",
       "...          ...            ...         ...  \n",
       "18202        7.0            8.0         9.0  \n",
       "18203        9.0            5.0        12.0  \n",
       "18204       10.0            6.0        13.0  \n",
       "18205       14.0            8.0         9.0  \n",
       "18206        9.0           12.0         9.0  \n",
       "\n",
       "[18207 rows x 34 columns]"
      ]
     },
     "execution_count": 7,
     "metadata": {},
     "output_type": "execute_result"
    }
   ],
   "source": [
    "skills =[\"Crossing\",\"Finishing\",\"HeadingAccuracy\",\"ShortPassing\",\"Volleys\",\"Dribbling\",\"Curve\",\"FKAccuracy\",\"LongPassing\",\"BallControl\",\"Acceleration\",\"SprintSpeed\",\"Agility\",\"Reactions\",\"Balance\",\"ShotPower\",\"Jumping\",\"Stamina\",\"Strength\",\"LongShots\",\"Aggression\",\"Interceptions\",\"Positioning\",\"Vision\",\"Penalties\",\"Composure\",\"Marking\",\"StandingTackle\",\"SlidingTackle\",\"GKDiving\",\"GKHandling\",\"GKKicking\",\"GKPositioning\",\"GKReflexes\"]\n",
    "data[skills]\n"
   ]
  },
  {
   "cell_type": "code",
   "execution_count": 8,
   "metadata": {
    "pycharm": {
     "is_executing": false,
     "name": "#%%\n"
    }
   },
   "outputs": [
    {
     "data": {
      "text/plain": [
       "Crossing           48\n",
       "Finishing          48\n",
       "HeadingAccuracy    48\n",
       "ShortPassing       48\n",
       "Volleys            48\n",
       "Dribbling          48\n",
       "Curve              48\n",
       "FKAccuracy         48\n",
       "LongPassing        48\n",
       "BallControl        48\n",
       "Acceleration       48\n",
       "SprintSpeed        48\n",
       "Agility            48\n",
       "Reactions          48\n",
       "Balance            48\n",
       "ShotPower          48\n",
       "Jumping            48\n",
       "Stamina            48\n",
       "Strength           48\n",
       "LongShots          48\n",
       "Aggression         48\n",
       "Interceptions      48\n",
       "Positioning        48\n",
       "Vision             48\n",
       "Penalties          48\n",
       "Composure          48\n",
       "Marking            48\n",
       "StandingTackle     48\n",
       "SlidingTackle      48\n",
       "GKDiving           48\n",
       "GKHandling         48\n",
       "GKKicking          48\n",
       "GKPositioning      48\n",
       "GKReflexes         48\n",
       "dtype: int64"
      ]
     },
     "execution_count": 8,
     "metadata": {},
     "output_type": "execute_result"
    }
   ],
   "source": [
    "# checking if the data contains any NULL value\n",
    "\n",
    "data.isnull()[skills].sum()"
   ]
  },
  {
   "cell_type": "code",
   "execution_count": 9,
   "metadata": {
    "pycharm": {
     "is_executing": false
    }
   },
   "outputs": [],
   "source": [
    "# replacing missing data in the skills features with the mean of those with valid values.\n",
    "from sklearn.impute import SimpleImputer\n",
    "imputer = SimpleImputer(missing_values = np.nan, strategy = 'mean')\n",
    "imputer = imputer.fit(data[skills])\n",
    "data[skills] = imputer.transform(data[skills])"
   ]
  },
  {
   "cell_type": "code",
   "execution_count": 10,
   "metadata": {
    "pycharm": {
     "is_executing": false
    }
   },
   "outputs": [
    {
     "data": {
      "text/plain": [
       "Crossing           0\n",
       "Finishing          0\n",
       "HeadingAccuracy    0\n",
       "ShortPassing       0\n",
       "Volleys            0\n",
       "Dribbling          0\n",
       "Curve              0\n",
       "FKAccuracy         0\n",
       "LongPassing        0\n",
       "BallControl        0\n",
       "Acceleration       0\n",
       "SprintSpeed        0\n",
       "Agility            0\n",
       "Reactions          0\n",
       "Balance            0\n",
       "ShotPower          0\n",
       "Jumping            0\n",
       "Stamina            0\n",
       "Strength           0\n",
       "LongShots          0\n",
       "Aggression         0\n",
       "Interceptions      0\n",
       "Positioning        0\n",
       "Vision             0\n",
       "Penalties          0\n",
       "Composure          0\n",
       "Marking            0\n",
       "StandingTackle     0\n",
       "SlidingTackle      0\n",
       "GKDiving           0\n",
       "GKHandling         0\n",
       "GKKicking          0\n",
       "GKPositioning      0\n",
       "GKReflexes         0\n",
       "dtype: int64"
      ]
     },
     "execution_count": 10,
     "metadata": {},
     "output_type": "execute_result"
    }
   ],
   "source": [
    "data.isnull()[skills].sum()"
   ]
  },
  {
   "cell_type": "code",
   "execution_count": 11,
   "metadata": {
    "pycharm": {
     "is_executing": false
    }
   },
   "outputs": [
    {
     "data": {
      "text/plain": [
       "Weight    48\n",
       "Height    48\n",
       "dtype: int64"
      ]
     },
     "execution_count": 11,
     "metadata": {},
     "output_type": "execute_result"
    }
   ],
   "source": [
    "data.isnull()[['Weight','Height']].sum()"
   ]
  },
  {
   "cell_type": "code",
   "execution_count": 12,
   "metadata": {
    "pycharm": {
     "is_executing": false
    }
   },
   "outputs": [],
   "source": [
    "# Replace missing values for weight and height to 9999lbs and 833'3 respectively.\n",
    "# Once converted in convert_height function below, the height value of 833'3 will convert to 9999\n",
    "# The 9999's in both weight and height columns will then be replaced with the mean value of their respective columns\n",
    "data['Weight'].fillna('9999lbs', inplace = True)\n",
    "data['Height'].fillna(\"833'3\", inplace = True)"
   ]
  },
  {
   "cell_type": "code",
   "execution_count": 13,
   "metadata": {
    "pycharm": {
     "is_executing": false
    }
   },
   "outputs": [
    {
     "data": {
      "text/plain": [
       "13236    833'3\n",
       "13237    833'3\n",
       "13238    833'3\n",
       "13239    833'3\n",
       "13240    833'3\n",
       "13241    833'3\n",
       "13242    833'3\n",
       "13243    833'3\n",
       "13244    833'3\n",
       "13245    833'3\n",
       "13246    833'3\n",
       "13247    833'3\n",
       "13248    833'3\n",
       "13249    833'3\n",
       "13250    833'3\n",
       "13251    833'3\n",
       "13252    833'3\n",
       "13253    833'3\n",
       "13254    833'3\n",
       "13255    833'3\n",
       "13256    833'3\n",
       "13257    833'3\n",
       "13258    833'3\n",
       "13259    833'3\n",
       "13260    833'3\n",
       "13261    833'3\n",
       "13262    833'3\n",
       "13263    833'3\n",
       "13264    833'3\n",
       "13265    833'3\n",
       "13266    833'3\n",
       "13267    833'3\n",
       "13268    833'3\n",
       "13269    833'3\n",
       "13270    833'3\n",
       "13271    833'3\n",
       "13272    833'3\n",
       "13273    833'3\n",
       "13274    833'3\n",
       "13275    833'3\n",
       "13276    833'3\n",
       "13277    833'3\n",
       "13278    833'3\n",
       "13279    833'3\n",
       "13280    833'3\n",
       "13281    833'3\n",
       "13282    833'3\n",
       "13283    833'3\n",
       "Name: Height, dtype: object"
      ]
     },
     "execution_count": 13,
     "metadata": {},
     "output_type": "execute_result"
    }
   ],
   "source": [
    "data[data['Height'] == \"833'3\"]['Height']"
   ]
  },
  {
   "cell_type": "code",
   "execution_count": 14,
   "metadata": {
    "pycharm": {
     "is_executing": false
    }
   },
   "outputs": [
    {
     "data": {
      "text/plain": [
       "13236    9999lbs\n",
       "13237    9999lbs\n",
       "13238    9999lbs\n",
       "13239    9999lbs\n",
       "13240    9999lbs\n",
       "13241    9999lbs\n",
       "13242    9999lbs\n",
       "13243    9999lbs\n",
       "13244    9999lbs\n",
       "13245    9999lbs\n",
       "13246    9999lbs\n",
       "13247    9999lbs\n",
       "13248    9999lbs\n",
       "13249    9999lbs\n",
       "13250    9999lbs\n",
       "13251    9999lbs\n",
       "13252    9999lbs\n",
       "13253    9999lbs\n",
       "13254    9999lbs\n",
       "13255    9999lbs\n",
       "13256    9999lbs\n",
       "13257    9999lbs\n",
       "13258    9999lbs\n",
       "13259    9999lbs\n",
       "13260    9999lbs\n",
       "13261    9999lbs\n",
       "13262    9999lbs\n",
       "13263    9999lbs\n",
       "13264    9999lbs\n",
       "13265    9999lbs\n",
       "13266    9999lbs\n",
       "13267    9999lbs\n",
       "13268    9999lbs\n",
       "13269    9999lbs\n",
       "13270    9999lbs\n",
       "13271    9999lbs\n",
       "13272    9999lbs\n",
       "13273    9999lbs\n",
       "13274    9999lbs\n",
       "13275    9999lbs\n",
       "13276    9999lbs\n",
       "13277    9999lbs\n",
       "13278    9999lbs\n",
       "13279    9999lbs\n",
       "13280    9999lbs\n",
       "13281    9999lbs\n",
       "13282    9999lbs\n",
       "13283    9999lbs\n",
       "Name: Weight, dtype: object"
      ]
     },
     "execution_count": 14,
     "metadata": {},
     "output_type": "execute_result"
    }
   ],
   "source": [
    "#remove 'lbs' from weight value\n",
    "data[data['Weight'] == \"9999lbs\"]['Weight']"
   ]
  },
  {
   "cell_type": "code",
   "execution_count": 15,
   "metadata": {
    "pycharm": {
     "is_executing": false
    }
   },
   "outputs": [],
   "source": [
    "def convert_weight(value):\n",
    "    weight = value.replace('lbs', '')\n",
    "    return int(weight)"
   ]
  },
  {
   "cell_type": "code",
   "execution_count": 16,
   "metadata": {
    "pycharm": {
     "is_executing": false
    }
   },
   "outputs": [],
   "source": [
    "# remove 'lbs' from the weight value and convert to integer\n",
    "data['Weight'] = data['Weight'].apply(lambda x : convert_weight(x))"
   ]
  },
  {
   "cell_type": "code",
   "execution_count": 17,
   "metadata": {
    "pycharm": {
     "is_executing": false
    }
   },
   "outputs": [
    {
     "data": {
      "text/plain": [
       "13236    9999\n",
       "13237    9999\n",
       "13238    9999\n",
       "13239    9999\n",
       "13240    9999\n",
       "13241    9999\n",
       "13242    9999\n",
       "13243    9999\n",
       "13244    9999\n",
       "13245    9999\n",
       "13246    9999\n",
       "13247    9999\n",
       "13248    9999\n",
       "13249    9999\n",
       "13250    9999\n",
       "13251    9999\n",
       "13252    9999\n",
       "13253    9999\n",
       "13254    9999\n",
       "13255    9999\n",
       "13256    9999\n",
       "13257    9999\n",
       "13258    9999\n",
       "13259    9999\n",
       "13260    9999\n",
       "13261    9999\n",
       "13262    9999\n",
       "13263    9999\n",
       "13264    9999\n",
       "13265    9999\n",
       "13266    9999\n",
       "13267    9999\n",
       "13268    9999\n",
       "13269    9999\n",
       "13270    9999\n",
       "13271    9999\n",
       "13272    9999\n",
       "13273    9999\n",
       "13274    9999\n",
       "13275    9999\n",
       "13276    9999\n",
       "13277    9999\n",
       "13278    9999\n",
       "13279    9999\n",
       "13280    9999\n",
       "13281    9999\n",
       "13282    9999\n",
       "13283    9999\n",
       "Name: Weight, dtype: int64"
      ]
     },
     "execution_count": 17,
     "metadata": {},
     "output_type": "execute_result"
    }
   ],
   "source": [
    "data[data['Weight'] == 9999]['Weight']"
   ]
  },
  {
   "cell_type": "code",
   "execution_count": 18,
   "metadata": {
    "pycharm": {
     "is_executing": false
    }
   },
   "outputs": [],
   "source": [
    "def convert_height(value):\n",
    "    height = int(value.split(\"'\")[0])*12 + int(value.split(\"'\")[1])\n",
    "    return int(height)\n"
   ]
  },
  {
   "cell_type": "code",
   "execution_count": 19,
   "metadata": {
    "pycharm": {
     "is_executing": false
    }
   },
   "outputs": [
    {
     "data": {
      "text/html": [
       "<div>\n",
       "<style scoped>\n",
       "    .dataframe tbody tr th:only-of-type {\n",
       "        vertical-align: middle;\n",
       "    }\n",
       "\n",
       "    .dataframe tbody tr th {\n",
       "        vertical-align: top;\n",
       "    }\n",
       "\n",
       "    .dataframe thead th {\n",
       "        text-align: right;\n",
       "    }\n",
       "</style>\n",
       "<table border=\"1\" class=\"dataframe\">\n",
       "  <thead>\n",
       "    <tr style=\"text-align: right;\">\n",
       "      <th></th>\n",
       "      <th>Height_Inch</th>\n",
       "      <th>Height</th>\n",
       "    </tr>\n",
       "  </thead>\n",
       "  <tbody>\n",
       "    <tr>\n",
       "      <th>0</th>\n",
       "      <td>67</td>\n",
       "      <td>5'7</td>\n",
       "    </tr>\n",
       "    <tr>\n",
       "      <th>1</th>\n",
       "      <td>74</td>\n",
       "      <td>6'2</td>\n",
       "    </tr>\n",
       "    <tr>\n",
       "      <th>2</th>\n",
       "      <td>69</td>\n",
       "      <td>5'9</td>\n",
       "    </tr>\n",
       "    <tr>\n",
       "      <th>3</th>\n",
       "      <td>76</td>\n",
       "      <td>6'4</td>\n",
       "    </tr>\n",
       "    <tr>\n",
       "      <th>4</th>\n",
       "      <td>71</td>\n",
       "      <td>5'11</td>\n",
       "    </tr>\n",
       "    <tr>\n",
       "      <th>5</th>\n",
       "      <td>68</td>\n",
       "      <td>5'8</td>\n",
       "    </tr>\n",
       "    <tr>\n",
       "      <th>6</th>\n",
       "      <td>68</td>\n",
       "      <td>5'8</td>\n",
       "    </tr>\n",
       "    <tr>\n",
       "      <th>7</th>\n",
       "      <td>72</td>\n",
       "      <td>6'0</td>\n",
       "    </tr>\n",
       "    <tr>\n",
       "      <th>8</th>\n",
       "      <td>72</td>\n",
       "      <td>6'0</td>\n",
       "    </tr>\n",
       "    <tr>\n",
       "      <th>9</th>\n",
       "      <td>74</td>\n",
       "      <td>6'2</td>\n",
       "    </tr>\n",
       "    <tr>\n",
       "      <th>10</th>\n",
       "      <td>72</td>\n",
       "      <td>6'0</td>\n",
       "    </tr>\n",
       "    <tr>\n",
       "      <th>11</th>\n",
       "      <td>72</td>\n",
       "      <td>6'0</td>\n",
       "    </tr>\n",
       "    <tr>\n",
       "      <th>12</th>\n",
       "      <td>74</td>\n",
       "      <td>6'2</td>\n",
       "    </tr>\n",
       "    <tr>\n",
       "      <th>13</th>\n",
       "      <td>68</td>\n",
       "      <td>5'8</td>\n",
       "    </tr>\n",
       "    <tr>\n",
       "      <th>14</th>\n",
       "      <td>66</td>\n",
       "      <td>5'6</td>\n",
       "    </tr>\n",
       "    <tr>\n",
       "      <th>15</th>\n",
       "      <td>70</td>\n",
       "      <td>5'10</td>\n",
       "    </tr>\n",
       "    <tr>\n",
       "      <th>16</th>\n",
       "      <td>74</td>\n",
       "      <td>6'2</td>\n",
       "    </tr>\n",
       "    <tr>\n",
       "      <th>17</th>\n",
       "      <td>69</td>\n",
       "      <td>5'9</td>\n",
       "    </tr>\n",
       "    <tr>\n",
       "      <th>18</th>\n",
       "      <td>74</td>\n",
       "      <td>6'2</td>\n",
       "    </tr>\n",
       "    <tr>\n",
       "      <th>19</th>\n",
       "      <td>78</td>\n",
       "      <td>6'6</td>\n",
       "    </tr>\n",
       "    <tr>\n",
       "      <th>20</th>\n",
       "      <td>74</td>\n",
       "      <td>6'2</td>\n",
       "    </tr>\n",
       "    <tr>\n",
       "      <th>21</th>\n",
       "      <td>73</td>\n",
       "      <td>6'1</td>\n",
       "    </tr>\n",
       "    <tr>\n",
       "      <th>22</th>\n",
       "      <td>76</td>\n",
       "      <td>6'4</td>\n",
       "    </tr>\n",
       "    <tr>\n",
       "      <th>23</th>\n",
       "      <td>68</td>\n",
       "      <td>5'8</td>\n",
       "    </tr>\n",
       "    <tr>\n",
       "      <th>24</th>\n",
       "      <td>74</td>\n",
       "      <td>6'2</td>\n",
       "    </tr>\n",
       "    <tr>\n",
       "      <th>25</th>\n",
       "      <td>70</td>\n",
       "      <td>5'10</td>\n",
       "    </tr>\n",
       "    <tr>\n",
       "      <th>26</th>\n",
       "      <td>69</td>\n",
       "      <td>5'9</td>\n",
       "    </tr>\n",
       "    <tr>\n",
       "      <th>27</th>\n",
       "      <td>73</td>\n",
       "      <td>6'1</td>\n",
       "    </tr>\n",
       "    <tr>\n",
       "      <th>28</th>\n",
       "      <td>71</td>\n",
       "      <td>5'11</td>\n",
       "    </tr>\n",
       "    <tr>\n",
       "      <th>29</th>\n",
       "      <td>64</td>\n",
       "      <td>5'4</td>\n",
       "    </tr>\n",
       "    <tr>\n",
       "      <th>30</th>\n",
       "      <td>69</td>\n",
       "      <td>5'9</td>\n",
       "    </tr>\n",
       "    <tr>\n",
       "      <th>31</th>\n",
       "      <td>71</td>\n",
       "      <td>5'11</td>\n",
       "    </tr>\n",
       "    <tr>\n",
       "      <th>32</th>\n",
       "      <td>68</td>\n",
       "      <td>5'8</td>\n",
       "    </tr>\n",
       "    <tr>\n",
       "      <th>33</th>\n",
       "      <td>74</td>\n",
       "      <td>6'2</td>\n",
       "    </tr>\n",
       "    <tr>\n",
       "      <th>34</th>\n",
       "      <td>75</td>\n",
       "      <td>6'3</td>\n",
       "    </tr>\n",
       "    <tr>\n",
       "      <th>35</th>\n",
       "      <td>69</td>\n",
       "      <td>5'9</td>\n",
       "    </tr>\n",
       "    <tr>\n",
       "      <th>36</th>\n",
       "      <td>73</td>\n",
       "      <td>6'1</td>\n",
       "    </tr>\n",
       "    <tr>\n",
       "      <th>37</th>\n",
       "      <td>74</td>\n",
       "      <td>6'2</td>\n",
       "    </tr>\n",
       "    <tr>\n",
       "      <th>38</th>\n",
       "      <td>73</td>\n",
       "      <td>6'1</td>\n",
       "    </tr>\n",
       "    <tr>\n",
       "      <th>39</th>\n",
       "      <td>72</td>\n",
       "      <td>6'0</td>\n",
       "    </tr>\n",
       "    <tr>\n",
       "      <th>40</th>\n",
       "      <td>76</td>\n",
       "      <td>6'4</td>\n",
       "    </tr>\n",
       "    <tr>\n",
       "      <th>41</th>\n",
       "      <td>76</td>\n",
       "      <td>6'4</td>\n",
       "    </tr>\n",
       "    <tr>\n",
       "      <th>42</th>\n",
       "      <td>72</td>\n",
       "      <td>6'0</td>\n",
       "    </tr>\n",
       "    <tr>\n",
       "      <th>43</th>\n",
       "      <td>71</td>\n",
       "      <td>5'11</td>\n",
       "    </tr>\n",
       "    <tr>\n",
       "      <th>44</th>\n",
       "      <td>74</td>\n",
       "      <td>6'2</td>\n",
       "    </tr>\n",
       "    <tr>\n",
       "      <th>45</th>\n",
       "      <td>76</td>\n",
       "      <td>6'4</td>\n",
       "    </tr>\n",
       "    <tr>\n",
       "      <th>46</th>\n",
       "      <td>73</td>\n",
       "      <td>6'1</td>\n",
       "    </tr>\n",
       "    <tr>\n",
       "      <th>47</th>\n",
       "      <td>75</td>\n",
       "      <td>6'3</td>\n",
       "    </tr>\n",
       "    <tr>\n",
       "      <th>48</th>\n",
       "      <td>73</td>\n",
       "      <td>6'1</td>\n",
       "    </tr>\n",
       "    <tr>\n",
       "      <th>49</th>\n",
       "      <td>67</td>\n",
       "      <td>5'7</td>\n",
       "    </tr>\n",
       "  </tbody>\n",
       "</table>\n",
       "</div>"
      ],
      "text/plain": [
       "    Height_Inch Height\n",
       "0            67    5'7\n",
       "1            74    6'2\n",
       "2            69    5'9\n",
       "3            76    6'4\n",
       "4            71   5'11\n",
       "5            68    5'8\n",
       "6            68    5'8\n",
       "7            72    6'0\n",
       "8            72    6'0\n",
       "9            74    6'2\n",
       "10           72    6'0\n",
       "11           72    6'0\n",
       "12           74    6'2\n",
       "13           68    5'8\n",
       "14           66    5'6\n",
       "15           70   5'10\n",
       "16           74    6'2\n",
       "17           69    5'9\n",
       "18           74    6'2\n",
       "19           78    6'6\n",
       "20           74    6'2\n",
       "21           73    6'1\n",
       "22           76    6'4\n",
       "23           68    5'8\n",
       "24           74    6'2\n",
       "25           70   5'10\n",
       "26           69    5'9\n",
       "27           73    6'1\n",
       "28           71   5'11\n",
       "29           64    5'4\n",
       "30           69    5'9\n",
       "31           71   5'11\n",
       "32           68    5'8\n",
       "33           74    6'2\n",
       "34           75    6'3\n",
       "35           69    5'9\n",
       "36           73    6'1\n",
       "37           74    6'2\n",
       "38           73    6'1\n",
       "39           72    6'0\n",
       "40           76    6'4\n",
       "41           76    6'4\n",
       "42           72    6'0\n",
       "43           71   5'11\n",
       "44           74    6'2\n",
       "45           76    6'4\n",
       "46           73    6'1\n",
       "47           75    6'3\n",
       "48           73    6'1\n",
       "49           67    5'7"
      ]
     },
     "execution_count": 19,
     "metadata": {},
     "output_type": "execute_result"
    }
   ],
   "source": [
    "# Convert Height from \"ft'inch\" string format to inches in integer(Note the 833'3 will convert to 999 \n",
    "# which will then be replaced with mean height\n",
    "data['Height_Inch'] = data['Height'].apply(lambda x : convert_height(x))\n",
    "data[['Height_Inch','Height']].head(50)"
   ]
  },
  {
   "cell_type": "code",
   "execution_count": 20,
   "metadata": {
    "pycharm": {
     "is_executing": false
    },
    "scrolled": true
   },
   "outputs": [],
   "source": [
    "# Replace missing data in the 'Weight'and'Height' features with the mean of those with valid values.\n",
    "imputer = SimpleImputer(missing_values = 9999, strategy = 'mean')\n",
    "imputer = imputer.fit(data[['Weight','Height_Inch']])\n",
    "data[['Weight','Height_Inch']] = imputer.transform(data[['Weight','Height_Inch']])"
   ]
  },
  {
   "cell_type": "code",
   "execution_count": 21,
   "metadata": {
    "pycharm": {
     "is_executing": false
    }
   },
   "outputs": [],
   "source": [
    "def convert_to_ft_in(value,param):\n",
    "    ft = int(param//12)\n",
    "    inch = int(param%12)\n",
    "    ft_inch = str(ft) + \"'\" + str(inch)\n",
    "    if value == \"833'3\":\n",
    "        value = ft_inch\n",
    "    return(value)"
   ]
  },
  {
   "cell_type": "code",
   "execution_count": 22,
   "metadata": {
    "pycharm": {
     "is_executing": false
    }
   },
   "outputs": [],
   "source": [
    "# Replace 833'3 with mean value of height_Int in ft'inch format\n",
    "import statistics \n",
    "mean_height = statistics.mean(data['Height_Inch'])\n",
    "data['Height'] = data['Height'].apply(lambda x : convert_to_ft_in(x,mean_height))"
   ]
  },
  {
   "cell_type": "code",
   "execution_count": 23,
   "metadata": {
    "pycharm": {
     "is_executing": false
    }
   },
   "outputs": [
    {
     "data": {
      "text/plain": [
       "Series([], Name: Height, dtype: object)"
      ]
     },
     "execution_count": 23,
     "metadata": {},
     "output_type": "execute_result"
    }
   ],
   "source": [
    "data[data['Height'] == \"833'3\"]['Height'] # 833'3 are gone"
   ]
  },
  {
   "cell_type": "code",
   "execution_count": 24,
   "metadata": {
    "pycharm": {
     "is_executing": false
    }
   },
   "outputs": [
    {
     "data": {
      "text/plain": [
       "Series([], Name: Height_Inch, dtype: float64)"
      ]
     },
     "execution_count": 24,
     "metadata": {},
     "output_type": "execute_result"
    }
   ],
   "source": [
    "data[data['Height_Inch'] == 9999]['Height_Inch'] # 9999's are gone"
   ]
  },
  {
   "cell_type": "code",
   "execution_count": 25,
   "metadata": {
    "pycharm": {
     "is_executing": false
    }
   },
   "outputs": [
    {
     "data": {
      "text/plain": [
       "Series([], Name: Weight, dtype: float64)"
      ]
     },
     "execution_count": 25,
     "metadata": {},
     "output_type": "execute_result"
    }
   ],
   "source": [
    "data[data['Weight'] == 9999]['Weight'] # 9999's are gone"
   ]
  },
  {
   "cell_type": "code",
   "execution_count": 26,
   "metadata": {
    "pycharm": {
     "is_executing": false
    }
   },
   "outputs": [],
   "source": [
    "def convert_to_years(value):\n",
    "    years = datetime(2019, 12, 31).year - value.year\n",
    "    return(years)"
   ]
  },
  {
   "cell_type": "code",
   "execution_count": 595,
   "metadata": {},
   "outputs": [],
   "source": [
    "# Create years of experience from the time player joined"
   ]
  },
  {
   "cell_type": "code",
   "execution_count": 27,
   "metadata": {
    "pycharm": {
     "is_executing": false
    }
   },
   "outputs": [],
   "source": [
    "from datetime import datetime\n",
    "data['Joined']= pd.to_datetime(data['Joined']) \n",
    "data['Experience'] = data['Joined'].apply(lambda x : convert_to_years(x))"
   ]
  },
  {
   "cell_type": "code",
   "execution_count": 28,
   "metadata": {
    "pycharm": {
     "is_executing": false
    }
   },
   "outputs": [],
   "source": [
    "# Replace missing data in Experience with the mean of those with valid values.\n",
    "imputer = SimpleImputer(missing_values = np.nan, strategy = 'mean')\n",
    "imputer = imputer.fit(data[['Experience']])\n",
    "data[['Experience']] = imputer.transform(data[['Experience']])"
   ]
  },
  {
   "cell_type": "code",
   "execution_count": 29,
   "metadata": {
    "pycharm": {
     "is_executing": false
    }
   },
   "outputs": [],
   "source": [
    "data[\"MeanSkills\"] =data.loc[:,skills].mean(axis=1)"
   ]
  },
  {
   "cell_type": "code",
   "execution_count": 30,
   "metadata": {
    "pycharm": {
     "is_executing": false
    }
   },
   "outputs": [
    {
     "data": {
      "text/html": [
       "<div>\n",
       "<style scoped>\n",
       "    .dataframe tbody tr th:only-of-type {\n",
       "        vertical-align: middle;\n",
       "    }\n",
       "\n",
       "    .dataframe tbody tr th {\n",
       "        vertical-align: top;\n",
       "    }\n",
       "\n",
       "    .dataframe thead th {\n",
       "        text-align: right;\n",
       "    }\n",
       "</style>\n",
       "<table border=\"1\" class=\"dataframe\">\n",
       "  <thead>\n",
       "    <tr style=\"text-align: right;\">\n",
       "      <th></th>\n",
       "      <th>Name</th>\n",
       "      <th>Joined</th>\n",
       "      <th>Experience</th>\n",
       "      <th>MeanSkills</th>\n",
       "    </tr>\n",
       "  </thead>\n",
       "  <tbody>\n",
       "    <tr>\n",
       "      <th>0</th>\n",
       "      <td>L. Messi</td>\n",
       "      <td>2004-07-01</td>\n",
       "      <td>15.000000</td>\n",
       "      <td>67.588235</td>\n",
       "    </tr>\n",
       "    <tr>\n",
       "      <th>1</th>\n",
       "      <td>Cristiano Ronaldo</td>\n",
       "      <td>2018-07-10</td>\n",
       "      <td>1.000000</td>\n",
       "      <td>68.323529</td>\n",
       "    </tr>\n",
       "    <tr>\n",
       "      <th>2</th>\n",
       "      <td>Neymar Jr</td>\n",
       "      <td>2017-08-03</td>\n",
       "      <td>2.000000</td>\n",
       "      <td>65.794118</td>\n",
       "    </tr>\n",
       "    <tr>\n",
       "      <th>3</th>\n",
       "      <td>De Gea</td>\n",
       "      <td>2011-07-01</td>\n",
       "      <td>8.000000</td>\n",
       "      <td>45.264706</td>\n",
       "    </tr>\n",
       "    <tr>\n",
       "      <th>4</th>\n",
       "      <td>K. De Bruyne</td>\n",
       "      <td>2015-08-30</td>\n",
       "      <td>4.000000</td>\n",
       "      <td>69.676471</td>\n",
       "    </tr>\n",
       "    <tr>\n",
       "      <th>5</th>\n",
       "      <td>E. Hazard</td>\n",
       "      <td>2012-07-01</td>\n",
       "      <td>7.000000</td>\n",
       "      <td>65.676471</td>\n",
       "    </tr>\n",
       "    <tr>\n",
       "      <th>6</th>\n",
       "      <td>L. Modrić</td>\n",
       "      <td>2012-08-01</td>\n",
       "      <td>7.000000</td>\n",
       "      <td>69.529412</td>\n",
       "    </tr>\n",
       "    <tr>\n",
       "      <th>7</th>\n",
       "      <td>L. Suárez</td>\n",
       "      <td>2014-07-11</td>\n",
       "      <td>5.000000</td>\n",
       "      <td>71.500000</td>\n",
       "    </tr>\n",
       "    <tr>\n",
       "      <th>8</th>\n",
       "      <td>Sergio Ramos</td>\n",
       "      <td>2005-08-01</td>\n",
       "      <td>14.000000</td>\n",
       "      <td>67.147059</td>\n",
       "    </tr>\n",
       "    <tr>\n",
       "      <th>9</th>\n",
       "      <td>J. Oblak</td>\n",
       "      <td>2014-07-16</td>\n",
       "      <td>5.000000</td>\n",
       "      <td>41.205882</td>\n",
       "    </tr>\n",
       "    <tr>\n",
       "      <th>10</th>\n",
       "      <td>R. Lewandowski</td>\n",
       "      <td>2014-07-01</td>\n",
       "      <td>5.000000</td>\n",
       "      <td>65.823529</td>\n",
       "    </tr>\n",
       "    <tr>\n",
       "      <th>11</th>\n",
       "      <td>T. Kroos</td>\n",
       "      <td>2014-07-17</td>\n",
       "      <td>5.000000</td>\n",
       "      <td>66.911765</td>\n",
       "    </tr>\n",
       "    <tr>\n",
       "      <th>12</th>\n",
       "      <td>D. Godín</td>\n",
       "      <td>2010-08-04</td>\n",
       "      <td>9.000000</td>\n",
       "      <td>59.647059</td>\n",
       "    </tr>\n",
       "    <tr>\n",
       "      <th>13</th>\n",
       "      <td>David Silva</td>\n",
       "      <td>2010-07-14</td>\n",
       "      <td>9.000000</td>\n",
       "      <td>64.941176</td>\n",
       "    </tr>\n",
       "    <tr>\n",
       "      <th>14</th>\n",
       "      <td>N. Kanté</td>\n",
       "      <td>2016-07-16</td>\n",
       "      <td>3.000000</td>\n",
       "      <td>66.882353</td>\n",
       "    </tr>\n",
       "    <tr>\n",
       "      <th>15</th>\n",
       "      <td>P. Dybala</td>\n",
       "      <td>2015-07-01</td>\n",
       "      <td>4.000000</td>\n",
       "      <td>64.000000</td>\n",
       "    </tr>\n",
       "    <tr>\n",
       "      <th>16</th>\n",
       "      <td>H. Kane</td>\n",
       "      <td>2010-07-01</td>\n",
       "      <td>9.000000</td>\n",
       "      <td>66.294118</td>\n",
       "    </tr>\n",
       "    <tr>\n",
       "      <th>17</th>\n",
       "      <td>A. Griezmann</td>\n",
       "      <td>2014-07-28</td>\n",
       "      <td>5.000000</td>\n",
       "      <td>68.617647</td>\n",
       "    </tr>\n",
       "    <tr>\n",
       "      <th>18</th>\n",
       "      <td>M. ter Stegen</td>\n",
       "      <td>2014-07-01</td>\n",
       "      <td>5.000000</td>\n",
       "      <td>41.088235</td>\n",
       "    </tr>\n",
       "    <tr>\n",
       "      <th>19</th>\n",
       "      <td>T. Courtois</td>\n",
       "      <td>2018-08-09</td>\n",
       "      <td>1.000000</td>\n",
       "      <td>40.500000</td>\n",
       "    </tr>\n",
       "    <tr>\n",
       "      <th>20</th>\n",
       "      <td>Sergio Busquets</td>\n",
       "      <td>2008-09-01</td>\n",
       "      <td>11.000000</td>\n",
       "      <td>63.382353</td>\n",
       "    </tr>\n",
       "    <tr>\n",
       "      <th>21</th>\n",
       "      <td>E. Cavani</td>\n",
       "      <td>2013-07-16</td>\n",
       "      <td>6.000000</td>\n",
       "      <td>65.970588</td>\n",
       "    </tr>\n",
       "    <tr>\n",
       "      <th>22</th>\n",
       "      <td>M. Neuer</td>\n",
       "      <td>2011-07-01</td>\n",
       "      <td>8.000000</td>\n",
       "      <td>45.382353</td>\n",
       "    </tr>\n",
       "    <tr>\n",
       "      <th>23</th>\n",
       "      <td>S. Agüero</td>\n",
       "      <td>2011-07-28</td>\n",
       "      <td>8.000000</td>\n",
       "      <td>64.617647</td>\n",
       "    </tr>\n",
       "    <tr>\n",
       "      <th>24</th>\n",
       "      <td>G. Chiellini</td>\n",
       "      <td>2005-07-01</td>\n",
       "      <td>14.000000</td>\n",
       "      <td>56.617647</td>\n",
       "    </tr>\n",
       "    <tr>\n",
       "      <th>25</th>\n",
       "      <td>K. Mbappé</td>\n",
       "      <td>2018-07-01</td>\n",
       "      <td>1.000000</td>\n",
       "      <td>64.823529</td>\n",
       "    </tr>\n",
       "    <tr>\n",
       "      <th>26</th>\n",
       "      <td>M. Salah</td>\n",
       "      <td>2017-07-01</td>\n",
       "      <td>2.000000</td>\n",
       "      <td>65.794118</td>\n",
       "    </tr>\n",
       "    <tr>\n",
       "      <th>27</th>\n",
       "      <td>Casemiro</td>\n",
       "      <td>2013-07-11</td>\n",
       "      <td>6.000000</td>\n",
       "      <td>66.294118</td>\n",
       "    </tr>\n",
       "    <tr>\n",
       "      <th>28</th>\n",
       "      <td>J. Rodríguez</td>\n",
       "      <td>NaT</td>\n",
       "      <td>2.540171</td>\n",
       "      <td>66.411765</td>\n",
       "    </tr>\n",
       "    <tr>\n",
       "      <th>29</th>\n",
       "      <td>L. Insigne</td>\n",
       "      <td>2010-07-01</td>\n",
       "      <td>9.000000</td>\n",
       "      <td>61.764706</td>\n",
       "    </tr>\n",
       "    <tr>\n",
       "      <th>30</th>\n",
       "      <td>Isco</td>\n",
       "      <td>2013-07-03</td>\n",
       "      <td>6.000000</td>\n",
       "      <td>65.382353</td>\n",
       "    </tr>\n",
       "    <tr>\n",
       "      <th>31</th>\n",
       "      <td>C. Eriksen</td>\n",
       "      <td>2013-08-30</td>\n",
       "      <td>6.000000</td>\n",
       "      <td>64.852941</td>\n",
       "    </tr>\n",
       "    <tr>\n",
       "      <th>32</th>\n",
       "      <td>Coutinho</td>\n",
       "      <td>2018-01-06</td>\n",
       "      <td>1.000000</td>\n",
       "      <td>66.470588</td>\n",
       "    </tr>\n",
       "    <tr>\n",
       "      <th>33</th>\n",
       "      <td>P. Aubameyang</td>\n",
       "      <td>2018-01-31</td>\n",
       "      <td>1.000000</td>\n",
       "      <td>63.382353</td>\n",
       "    </tr>\n",
       "    <tr>\n",
       "      <th>34</th>\n",
       "      <td>M. Hummels</td>\n",
       "      <td>2016-07-01</td>\n",
       "      <td>3.000000</td>\n",
       "      <td>62.617647</td>\n",
       "    </tr>\n",
       "    <tr>\n",
       "      <th>35</th>\n",
       "      <td>Marcelo</td>\n",
       "      <td>2007-01-01</td>\n",
       "      <td>12.000000</td>\n",
       "      <td>69.558824</td>\n",
       "    </tr>\n",
       "    <tr>\n",
       "      <th>36</th>\n",
       "      <td>G. Bale</td>\n",
       "      <td>2013-09-02</td>\n",
       "      <td>6.000000</td>\n",
       "      <td>69.558824</td>\n",
       "    </tr>\n",
       "    <tr>\n",
       "      <th>37</th>\n",
       "      <td>H. Lloris</td>\n",
       "      <td>2012-08-01</td>\n",
       "      <td>7.000000</td>\n",
       "      <td>41.176471</td>\n",
       "    </tr>\n",
       "    <tr>\n",
       "      <th>38</th>\n",
       "      <td>G. Higuaín</td>\n",
       "      <td>NaT</td>\n",
       "      <td>2.540171</td>\n",
       "      <td>60.323529</td>\n",
       "    </tr>\n",
       "    <tr>\n",
       "      <th>39</th>\n",
       "      <td>Thiago Silva</td>\n",
       "      <td>2012-07-01</td>\n",
       "      <td>7.000000</td>\n",
       "      <td>63.470588</td>\n",
       "    </tr>\n",
       "    <tr>\n",
       "      <th>40</th>\n",
       "      <td>S. Handanovič</td>\n",
       "      <td>2012-07-01</td>\n",
       "      <td>7.000000</td>\n",
       "      <td>39.147059</td>\n",
       "    </tr>\n",
       "    <tr>\n",
       "      <th>41</th>\n",
       "      <td>G. Buffon</td>\n",
       "      <td>2018-07-06</td>\n",
       "      <td>1.000000</td>\n",
       "      <td>41.294118</td>\n",
       "    </tr>\n",
       "    <tr>\n",
       "      <th>42</th>\n",
       "      <td>S. Umtiti</td>\n",
       "      <td>2016-07-12</td>\n",
       "      <td>3.000000</td>\n",
       "      <td>65.558824</td>\n",
       "    </tr>\n",
       "    <tr>\n",
       "      <th>43</th>\n",
       "      <td>M. Icardi</td>\n",
       "      <td>2013-07-09</td>\n",
       "      <td>6.000000</td>\n",
       "      <td>59.558824</td>\n",
       "    </tr>\n",
       "    <tr>\n",
       "      <th>44</th>\n",
       "      <td>K. Koulibaly</td>\n",
       "      <td>2014-07-01</td>\n",
       "      <td>5.000000</td>\n",
       "      <td>51.117647</td>\n",
       "    </tr>\n",
       "    <tr>\n",
       "      <th>45</th>\n",
       "      <td>P. Pogba</td>\n",
       "      <td>2016-08-09</td>\n",
       "      <td>3.000000</td>\n",
       "      <td>68.647059</td>\n",
       "    </tr>\n",
       "    <tr>\n",
       "      <th>46</th>\n",
       "      <td>K. Navas</td>\n",
       "      <td>2014-08-03</td>\n",
       "      <td>5.000000</td>\n",
       "      <td>41.529412</td>\n",
       "    </tr>\n",
       "    <tr>\n",
       "      <th>47</th>\n",
       "      <td>R. Lukaku</td>\n",
       "      <td>2017-07-10</td>\n",
       "      <td>2.000000</td>\n",
       "      <td>62.176471</td>\n",
       "    </tr>\n",
       "    <tr>\n",
       "      <th>48</th>\n",
       "      <td>C. Immobile</td>\n",
       "      <td>2016-07-27</td>\n",
       "      <td>3.000000</td>\n",
       "      <td>61.470588</td>\n",
       "    </tr>\n",
       "    <tr>\n",
       "      <th>49</th>\n",
       "      <td>Jordi Alba</td>\n",
       "      <td>2012-07-01</td>\n",
       "      <td>7.000000</td>\n",
       "      <td>67.911765</td>\n",
       "    </tr>\n",
       "  </tbody>\n",
       "</table>\n",
       "</div>"
      ],
      "text/plain": [
       "                 Name     Joined  Experience  MeanSkills\n",
       "0            L. Messi 2004-07-01   15.000000   67.588235\n",
       "1   Cristiano Ronaldo 2018-07-10    1.000000   68.323529\n",
       "2           Neymar Jr 2017-08-03    2.000000   65.794118\n",
       "3              De Gea 2011-07-01    8.000000   45.264706\n",
       "4        K. De Bruyne 2015-08-30    4.000000   69.676471\n",
       "5           E. Hazard 2012-07-01    7.000000   65.676471\n",
       "6           L. Modrić 2012-08-01    7.000000   69.529412\n",
       "7           L. Suárez 2014-07-11    5.000000   71.500000\n",
       "8        Sergio Ramos 2005-08-01   14.000000   67.147059\n",
       "9            J. Oblak 2014-07-16    5.000000   41.205882\n",
       "10     R. Lewandowski 2014-07-01    5.000000   65.823529\n",
       "11           T. Kroos 2014-07-17    5.000000   66.911765\n",
       "12           D. Godín 2010-08-04    9.000000   59.647059\n",
       "13        David Silva 2010-07-14    9.000000   64.941176\n",
       "14           N. Kanté 2016-07-16    3.000000   66.882353\n",
       "15          P. Dybala 2015-07-01    4.000000   64.000000\n",
       "16            H. Kane 2010-07-01    9.000000   66.294118\n",
       "17       A. Griezmann 2014-07-28    5.000000   68.617647\n",
       "18      M. ter Stegen 2014-07-01    5.000000   41.088235\n",
       "19        T. Courtois 2018-08-09    1.000000   40.500000\n",
       "20    Sergio Busquets 2008-09-01   11.000000   63.382353\n",
       "21          E. Cavani 2013-07-16    6.000000   65.970588\n",
       "22           M. Neuer 2011-07-01    8.000000   45.382353\n",
       "23          S. Agüero 2011-07-28    8.000000   64.617647\n",
       "24       G. Chiellini 2005-07-01   14.000000   56.617647\n",
       "25          K. Mbappé 2018-07-01    1.000000   64.823529\n",
       "26           M. Salah 2017-07-01    2.000000   65.794118\n",
       "27           Casemiro 2013-07-11    6.000000   66.294118\n",
       "28       J. Rodríguez        NaT    2.540171   66.411765\n",
       "29         L. Insigne 2010-07-01    9.000000   61.764706\n",
       "30               Isco 2013-07-03    6.000000   65.382353\n",
       "31         C. Eriksen 2013-08-30    6.000000   64.852941\n",
       "32           Coutinho 2018-01-06    1.000000   66.470588\n",
       "33      P. Aubameyang 2018-01-31    1.000000   63.382353\n",
       "34         M. Hummels 2016-07-01    3.000000   62.617647\n",
       "35            Marcelo 2007-01-01   12.000000   69.558824\n",
       "36            G. Bale 2013-09-02    6.000000   69.558824\n",
       "37          H. Lloris 2012-08-01    7.000000   41.176471\n",
       "38         G. Higuaín        NaT    2.540171   60.323529\n",
       "39       Thiago Silva 2012-07-01    7.000000   63.470588\n",
       "40      S. Handanovič 2012-07-01    7.000000   39.147059\n",
       "41          G. Buffon 2018-07-06    1.000000   41.294118\n",
       "42          S. Umtiti 2016-07-12    3.000000   65.558824\n",
       "43          M. Icardi 2013-07-09    6.000000   59.558824\n",
       "44       K. Koulibaly 2014-07-01    5.000000   51.117647\n",
       "45           P. Pogba 2016-08-09    3.000000   68.647059\n",
       "46           K. Navas 2014-08-03    5.000000   41.529412\n",
       "47          R. Lukaku 2017-07-10    2.000000   62.176471\n",
       "48        C. Immobile 2016-07-27    3.000000   61.470588\n",
       "49         Jordi Alba 2012-07-01    7.000000   67.911765"
      ]
     },
     "execution_count": 30,
     "metadata": {},
     "output_type": "execute_result"
    }
   ],
   "source": [
    "data[['Name','Joined','Experience','MeanSkills']].head(50)"
   ]
  },
  {
   "cell_type": "markdown",
   "metadata": {},
   "source": [
    "Explore Data"
   ]
  },
  {
   "cell_type": "code",
   "execution_count": 31,
   "metadata": {
    "pycharm": {
     "is_executing": false
    }
   },
   "outputs": [
    {
     "name": "stdout",
     "output_type": "stream",
     "text": [
      "Total number of countries : 164\n",
      "England        1662\n",
      "Germany        1198\n",
      "Spain          1072\n",
      "Argentina       937\n",
      "France          914\n",
      "Brazil          827\n",
      "Italy           702\n",
      "Colombia        618\n",
      "Japan           478\n",
      "Netherlands     453\n",
      "Name: Nationality, dtype: int64\n"
     ]
    }
   ],
   "source": [
    "#Number of countries available and top 10 countries with highest number of players\n",
    "print('Total number of countries : {0}'.format(data['Nationality'].nunique()))\n",
    "print(data['Nationality'].value_counts().head(10))\n",
    "\n",
    "#European Countries have most players"
   ]
  },
  {
   "cell_type": "code",
   "execution_count": 32,
   "metadata": {
    "pycharm": {
     "is_executing": false
    }
   },
   "outputs": [
    {
     "name": "stdout",
     "output_type": "stream",
     "text": [
      "Best Crossing : K. De Bruyne from Belgium\n",
      "Best Finishing : L. Messi from Argentina\n",
      "Best HeadingAccuracy : Naldo from Brazil\n",
      "Best ShortPassing : L. Modrić from Croatia\n",
      "Best Volleys : E. Cavani from Uruguay\n",
      "Best Dribbling : L. Messi from Argentina\n",
      "Best Curve : Quaresma from Portugal\n",
      "Best FKAccuracy : L. Messi from Argentina\n",
      "Best LongPassing : T. Kroos from Germany\n",
      "Best BallControl : L. Messi from Argentina\n",
      "Best Acceleration : Douglas Costa from Brazil\n",
      "Best SprintSpeed : K. Mbappé from France\n",
      "Best Agility : Neymar Jr from Brazil\n",
      "Best Reactions : Cristiano Ronaldo from Portugal\n",
      "Best Balance : Bernard from Brazil\n",
      "Best ShotPower : Cristiano Ronaldo from Portugal\n",
      "Best Jumping : Cristiano Ronaldo from Portugal\n",
      "Best Stamina : N. Kanté from France\n",
      "Best Strength : A. Akinfenwa from England\n",
      "Best LongShots : L. Messi from Argentina\n",
      "Best Aggression : B. Pearson from England\n",
      "Best Interceptions : N. Kanté from France\n",
      "Best Positioning : Cristiano Ronaldo from Portugal\n",
      "Best Vision : L. Messi from Argentina\n",
      "Best Penalties : M. Balotelli from Italy\n",
      "Best Composure : L. Messi from Argentina\n",
      "Best Marking : A. Barzagli from Italy\n",
      "Best StandingTackle : G. Chiellini from Italy\n",
      "Best SlidingTackle : Sergio Ramos from Spain\n",
      "Best GKDiving : De Gea from Spain\n",
      "Best GKHandling : J. Oblak from Slovenia\n",
      "Best GKKicking : M. Neuer from Germany\n",
      "Best GKPositioning : G. Buffon from Italy\n",
      "Best GKReflexes : De Gea from Spain\n"
     ]
    }
   ],
   "source": [
    "# Best in each skill category\n",
    "for skill in skills:\n",
    "    print('Best {0} : {1} from {2}'.format(skill,data.loc[data[skill].idxmax()]['Name'],data.loc[data[skill].idxmax()]['Nationality']))"
   ]
  },
  {
   "cell_type": "code",
   "execution_count": 35,
   "metadata": {
    "pycharm": {
     "is_executing": false
    }
   },
   "outputs": [
    {
     "data": {
      "image/png": "[encoded data removed]",
      "text/plain": [
       "<Figure size 432x288 with 1 Axes>"
      ]
     },
     "metadata": {},
     "output_type": "display_data"
    }
   ],
   "source": [
    "# Histogram of Crossing\n",
    "crossing_hist = thinkstats2.Hist(data['Crossing'], label='Crossing Histogram')\n",
    "thinkplot.Hist(crossing_hist)\n",
    "thinkplot.Config(xlabel='Crossing', ylabel='Count')"
   ]
  },
  {
   "cell_type": "code",
   "execution_count": 36,
   "metadata": {},
   "outputs": [
    {
     "data": {
      "image/png": "[encoded data removed]",
      "text/plain": [
       "<Figure size 432x288 with 1 Axes>"
      ]
     },
     "metadata": {},
     "output_type": "display_data"
    }
   ],
   "source": [
    "# PMF of crossing\n",
    "crossing_pmf = thinkstats2.Pmf(data['Crossing'], label='Crossing Pmf')\n",
    "thinkplot.Hist(crossing_pmf)\n",
    "thinkplot.Config(xlabel='Crossing', ylabel='Pmf')"
   ]
  },
  {
   "cell_type": "code",
   "execution_count": 38,
   "metadata": {},
   "outputs": [
    {
     "data": {
      "image/png": "[encoded data removed]",
      "text/plain": [
       "<Figure size 432x288 with 1 Axes>"
      ]
     },
     "metadata": {},
     "output_type": "display_data"
    }
   ],
   "source": [
    "# Histogram of Dribbling\n",
    "dribbling_hist = thinkstats2.Hist(data['Dribbling'],label='Dribbling Histogram')\n",
    "thinkplot.Hist(dribbling_hist)\n",
    "thinkplot.Config(xlabel='Dribbling', ylabel='Count')"
   ]
  },
  {
   "cell_type": "code",
   "execution_count": 39,
   "metadata": {},
   "outputs": [
    {
     "data": {
      "image/png": "[encoded data removed]",
      "text/plain": [
       "<Figure size 432x288 with 1 Axes>"
      ]
     },
     "metadata": {},
     "output_type": "display_data"
    }
   ],
   "source": [
    "# PMF of Dribbling\n",
    "dribbling_pmf = thinkstats2.Pmf(data['Dribbling'], label='Dribbling Pmf')\n",
    "thinkplot.Hist(dribbling_pmf)\n",
    "thinkplot.Config(xlabel='Dribbling', ylabel='Pmf')"
   ]
  },
  {
   "cell_type": "code",
   "execution_count": 41,
   "metadata": {},
   "outputs": [
    {
     "data": {
      "image/png": "[encoded data removed]",
      "text/plain": [
       "<Figure size 432x288 with 1 Axes>"
      ]
     },
     "metadata": {},
     "output_type": "display_data"
    }
   ],
   "source": [
    "# PMF of HeadingAccuracy\n",
    "HeadingAccuracy_pmf = thinkstats2.Pmf(data['HeadingAccuracy'], label='HeadingAccuracy Pmf')\n",
    "thinkplot.Hist(HeadingAccuracy_pmf)\n",
    "thinkplot.Config(xlabel='HeadingAccuracy', ylabel='Pmf')"
   ]
  },
  {
   "cell_type": "code",
   "execution_count": 42,
   "metadata": {},
   "outputs": [
    {
     "data": {
      "image/png": "[encoded data removed]",
      "text/plain": [
       "<Figure size 864x432 with 1 Axes>"
      ]
     },
     "metadata": {},
     "output_type": "display_data"
    }
   ],
   "source": [
    "width=0.45\n",
    "axis = [0,100, 0, .05]\n",
    "thinkplot.PrePlot(2, cols=2)\n",
    "thinkplot.Hist(crossing_pmf, align='right', width=width)\n",
    "thinkplot.Hist(HeadingAccuracy_pmf, align='left', width=width)\n",
    "thinkplot.Config(xlabel='Rating',\n",
    "                     ylabel='probability', axis=axis)\n",
    "\n"
   ]
  },
  {
   "cell_type": "markdown",
   "metadata": {},
   "source": [
    "Plot the PMFs"
   ]
  },
  {
   "cell_type": "code",
   "execution_count": 43,
   "metadata": {},
   "outputs": [
    {
     "data": {
      "image/png": "[encoded data removed]",
      "text/plain": [
       "<Figure size 432x288 with 1 Axes>"
      ]
     },
     "metadata": {},
     "output_type": "display_data"
    },
    {
     "data": {
      "text/plain": [
       "<Figure size 576x432 with 0 Axes>"
      ]
     },
     "metadata": {},
     "output_type": "display_data"
    }
   ],
   "source": [
    "thinkplot.PrePlot(2)\n",
    "thinkplot.SubPlot(2)\n",
    "thinkplot.Pmfs([crossing_pmf, dribbling_pmf])\n",
    "thinkplot.Show(xlabel='Rating', axis=axis)\n"
   ]
  },
  {
   "cell_type": "code",
   "execution_count": 44,
   "metadata": {},
   "outputs": [
    {
     "data": {
      "image/png": "[encoded data removed]",
      "text/plain": [
       "<Figure size 432x288 with 1 Axes>"
      ]
     },
     "metadata": {},
     "output_type": "display_data"
    }
   ],
   "source": [
    "cdf = thinkstats2.Cdf(data.Crossing, label='Crossing CDF')\n",
    "\n",
    "thinkplot.Cdf(cdf)\n",
    "thinkplot.Config(xlabel='Crossing', ylabel='CDF', loc='upper left')"
   ]
  },
  {
   "cell_type": "code",
   "execution_count": 46,
   "metadata": {},
   "outputs": [
    {
     "data": {
      "text/plain": [
       "(0.28280331740539355, 0.9913220190036799)"
      ]
     },
     "execution_count": 46,
     "metadata": {},
     "output_type": "execute_result"
    }
   ],
   "source": [
    "cdf.Prob(40),cdf.Prob(80)\n",
    "#this means that 28 percent of the players have rating of 40 and 99 percent have rating of 80"
   ]
  },
  {
   "cell_type": "code",
   "execution_count": 47,
   "metadata": {},
   "outputs": [
    {
     "data": {
      "text/plain": [
       "0.5113967155489647"
      ]
     },
     "execution_count": 47,
     "metadata": {},
     "output_type": "execute_result"
    }
   ],
   "source": [
    "cdf.Value(.5)\n",
    "# This means that 50 percent have rating of 54\n",
    "cdf.Prob(54)\n",
    "# this shows that."
   ]
  },
  {
   "cell_type": "code",
   "execution_count": 50,
   "metadata": {},
   "outputs": [
    {
     "data": {
      "image/png": "[encoded data removed]",
      "text/plain": [
       "<Figure size 432x288 with 1 Axes>"
      ]
     },
     "metadata": {},
     "output_type": "display_data"
    }
   ],
   "source": [
    "crossing_cdf = thinkstats2.Cdf(data.Crossing, label='Crossing')\n",
    "dribbling_cdf = thinkstats2.Cdf(data.Dribbling, label='Dribbling')\n",
    "headingaccuracy_cdf = thinkstats2.Cdf(data.HeadingAccuracy, label='HeadingAccuracy')\n",
    "\n",
    "thinkplot.PrePlot(3)\n",
    "thinkplot.Cdfs([crossing_cdf, dribbling_cdf,headingaccuracy_cdf])\n",
    "thinkplot.Config(xlabel='Rating(1-100)', ylabel='CDF')"
   ]
  },
  {
   "cell_type": "code",
   "execution_count": 49,
   "metadata": {},
   "outputs": [
    {
     "data": {
      "image/png": "[encoded data removed]",
      "text/plain": [
       "<Figure size 936x576 with 1 Axes>"
      ]
     },
     "metadata": {},
     "output_type": "display_data"
    }
   ],
   "source": [
    "# Height of Players\n",
    "\n",
    "plt.figure(figsize = (13, 8))\n",
    "ax = sns.countplot(x = 'Height', data = data, palette = 'Set3',orient=\"v\")\n",
    "ax.set_title(label = 'Players based on Height', fontsize = 20)\n",
    "ax.set_xlabel(xlabel = 'Height in Foot Inch', fontsize = 16)\n",
    "ax.set_ylabel(ylabel = 'Number of Players', fontsize = 16)\n",
    "plt.show()"
   ]
  },
  {
   "cell_type": "code",
   "execution_count": 51,
   "metadata": {},
   "outputs": [
    {
     "data": {
      "image/png": "[encoded data removed]",
      "text/plain": [
       "<Figure size 1440x360 with 1 Axes>"
      ]
     },
     "metadata": {},
     "output_type": "display_data"
    }
   ],
   "source": [
    "plt.figure(figsize = (20, 5))\n",
    "plt.style.use('_classic_test')\n",
    "sns.distplot(data['Height_Inch'], color = 'blue')\n",
    "plt.title('Different Heights of the Players Participating in FIFA 2019', fontsize = 20)\n",
    "plt.xlabel('Heights associated with the players', fontsize = 16)\n",
    "plt.ylabel('count of Players', fontsize = 16)\n",
    "plt.show()"
   ]
  },
  {
   "cell_type": "code",
   "execution_count": 52,
   "metadata": {},
   "outputs": [
    {
     "data": {
      "text/plain": [
       "71.3612533729831"
      ]
     },
     "execution_count": 52,
     "metadata": {},
     "output_type": "execute_result"
    }
   ],
   "source": [
    "# Normal distribution in above graph shows to be 71.36 as shown here\n",
    "\n",
    "statistics.mean(data['Height_Inch'])"
   ]
  },
  {
   "cell_type": "code",
   "execution_count": null,
   "metadata": {},
   "outputs": [],
   "source": []
  },
  {
   "cell_type": "code",
   "execution_count": 54,
   "metadata": {},
   "outputs": [
    {
     "data": {
      "image/png": "[encoded data removed]",
      "text/plain": [
       "<Figure size 1600x400 with 1 Axes>"
      ]
     },
     "metadata": {},
     "output_type": "display_data"
    }
   ],
   "source": [
    "plt.figure(figsize = (20, 5))\n",
    "plt.style.use('_classic_test')\n",
    "sns.distplot(data['Weight'], color = 'blue')\n",
    "plt.title('Different Weights of the Players Participating in FIFA 2019', fontsize = 20)\n",
    "plt.xlabel('Weights associated with the players', fontsize = 16)\n",
    "plt.ylabel('count of Players', fontsize = 16)\n",
    "plt.show()"
   ]
  },
  {
   "cell_type": "code",
   "execution_count": 440,
   "metadata": {},
   "outputs": [
    {
     "data": {
      "text/plain": [
       "165.97912880665234"
      ]
     },
     "execution_count": 440,
     "metadata": {},
     "output_type": "execute_result"
    }
   ],
   "source": [
    "statistics.mean(data['Weight'])"
   ]
  },
  {
   "cell_type": "code",
   "execution_count": 258,
   "metadata": {},
   "outputs": [],
   "source": [
    "youth = data.query('Age <= 18')\n",
    "adult = data.query('18 < Age <= 30')\n",
    "veteran = data.query('Age > 30')"
   ]
  },
  {
   "cell_type": "code",
   "execution_count": 57,
   "metadata": {},
   "outputs": [
    {
     "data": {
      "image/png": "[encoded data removed]",
      "text/plain": [
       "<Figure size 640x480 with 1 Axes>"
      ]
     },
     "metadata": {},
     "output_type": "display_data"
    }
   ],
   "source": [
    "thinkplot.Scatter(data['Dribbling'], data['Overall'], alpha=1)\n",
    "thinkplot.Config(xlabel='Dribbling Rating(1-100)',\n",
    "                 ylabel='OverallRating(1-100)',\n",
    "                 legend=False)"
   ]
  },
  {
   "cell_type": "code",
   "execution_count": 516,
   "metadata": {},
   "outputs": [
    {
     "data": {
      "text/html": [
       "<table class=\"simpletable\">\n",
       "<caption>OLS Regression Results</caption>\n",
       "<tr>\n",
       "  <th>Dep. Variable:</th>         <td>Overall</td>     <th>  R-squared:         </th> <td>   0.858</td> \n",
       "</tr>\n",
       "<tr>\n",
       "  <th>Model:</th>                   <td>OLS</td>       <th>  Adj. R-squared:    </th> <td>   0.857</td> \n",
       "</tr>\n",
       "<tr>\n",
       "  <th>Method:</th>             <td>Least Squares</td>  <th>  F-statistic:       </th> <td>   3218.</td> \n",
       "</tr>\n",
       "<tr>\n",
       "  <th>Date:</th>             <td>Sat, 29 Feb 2020</td> <th>  Prob (F-statistic):</th>  <td>  0.00</td>  \n",
       "</tr>\n",
       "<tr>\n",
       "  <th>Time:</th>                 <td>07:57:52</td>     <th>  Log-Likelihood:    </th> <td> -43283.</td> \n",
       "</tr>\n",
       "<tr>\n",
       "  <th>No. Observations:</th>      <td> 18207</td>      <th>  AIC:               </th> <td>8.664e+04</td>\n",
       "</tr>\n",
       "<tr>\n",
       "  <th>Df Residuals:</th>          <td> 18172</td>      <th>  BIC:               </th> <td>8.691e+04</td>\n",
       "</tr>\n",
       "<tr>\n",
       "  <th>Df Model:</th>              <td>    34</td>      <th>                     </th>     <td> </td>    \n",
       "</tr>\n",
       "<tr>\n",
       "  <th>Covariance Type:</th>      <td>nonrobust</td>    <th>                     </th>     <td> </td>    \n",
       "</tr>\n",
       "</table>\n",
       "<table class=\"simpletable\">\n",
       "<tr>\n",
       "         <td></td>            <th>coef</th>     <th>std err</th>      <th>t</th>      <th>P>|t|</th>  <th>[0.025</th>    <th>0.975]</th>  \n",
       "</tr>\n",
       "<tr>\n",
       "  <th>Intercept</th>       <td>   10.0381</td> <td>    0.265</td> <td>   37.887</td> <td> 0.000</td> <td>    9.519</td> <td>   10.557</td>\n",
       "</tr>\n",
       "<tr>\n",
       "  <th>Crossing</th>        <td>    0.0142</td> <td>    0.003</td> <td>    5.454</td> <td> 0.000</td> <td>    0.009</td> <td>    0.019</td>\n",
       "</tr>\n",
       "<tr>\n",
       "  <th>Finishing</th>       <td>    0.0277</td> <td>    0.003</td> <td>    8.437</td> <td> 0.000</td> <td>    0.021</td> <td>    0.034</td>\n",
       "</tr>\n",
       "<tr>\n",
       "  <th>HeadingAccuracy</th> <td>    0.0896</td> <td>    0.003</td> <td>   32.577</td> <td> 0.000</td> <td>    0.084</td> <td>    0.095</td>\n",
       "</tr>\n",
       "<tr>\n",
       "  <th>ShortPassing</th>    <td>    0.0825</td> <td>    0.005</td> <td>   17.681</td> <td> 0.000</td> <td>    0.073</td> <td>    0.092</td>\n",
       "</tr>\n",
       "<tr>\n",
       "  <th>Volleys</th>         <td>    0.0006</td> <td>    0.003</td> <td>    0.200</td> <td> 0.842</td> <td>   -0.005</td> <td>    0.006</td>\n",
       "</tr>\n",
       "<tr>\n",
       "  <th>Dribbling</th>       <td>    0.0202</td> <td>    0.004</td> <td>    4.945</td> <td> 0.000</td> <td>    0.012</td> <td>    0.028</td>\n",
       "</tr>\n",
       "<tr>\n",
       "  <th>Curve</th>           <td>    0.0104</td> <td>    0.003</td> <td>    3.710</td> <td> 0.000</td> <td>    0.005</td> <td>    0.016</td>\n",
       "</tr>\n",
       "<tr>\n",
       "  <th>FKAccuracy</th>      <td>    0.0056</td> <td>    0.002</td> <td>    2.273</td> <td> 0.023</td> <td>    0.001</td> <td>    0.010</td>\n",
       "</tr>\n",
       "<tr>\n",
       "  <th>LongPassing</th>     <td>   -0.0183</td> <td>    0.003</td> <td>   -5.345</td> <td> 0.000</td> <td>   -0.025</td> <td>   -0.012</td>\n",
       "</tr>\n",
       "<tr>\n",
       "  <th>BallControl</th>     <td>    0.1474</td> <td>    0.005</td> <td>   29.413</td> <td> 0.000</td> <td>    0.138</td> <td>    0.157</td>\n",
       "</tr>\n",
       "<tr>\n",
       "  <th>Acceleration</th>    <td>    0.0358</td> <td>    0.004</td> <td>    9.242</td> <td> 0.000</td> <td>    0.028</td> <td>    0.043</td>\n",
       "</tr>\n",
       "<tr>\n",
       "  <th>SprintSpeed</th>     <td>    0.0254</td> <td>    0.004</td> <td>    7.070</td> <td> 0.000</td> <td>    0.018</td> <td>    0.032</td>\n",
       "</tr>\n",
       "<tr>\n",
       "  <th>Agility</th>         <td>    0.0011</td> <td>    0.003</td> <td>    0.399</td> <td> 0.690</td> <td>   -0.004</td> <td>    0.007</td>\n",
       "</tr>\n",
       "<tr>\n",
       "  <th>Reactions</th>       <td>    0.2924</td> <td>    0.004</td> <td>   77.175</td> <td> 0.000</td> <td>    0.285</td> <td>    0.300</td>\n",
       "</tr>\n",
       "<tr>\n",
       "  <th>Balance</th>         <td>   -0.0225</td> <td>    0.003</td> <td>   -8.686</td> <td> 0.000</td> <td>   -0.028</td> <td>   -0.017</td>\n",
       "</tr>\n",
       "<tr>\n",
       "  <th>ShotPower</th>       <td>    0.0240</td> <td>    0.003</td> <td>    8.237</td> <td> 0.000</td> <td>    0.018</td> <td>    0.030</td>\n",
       "</tr>\n",
       "<tr>\n",
       "  <th>Jumping</th>         <td>    0.0050</td> <td>    0.002</td> <td>    2.455</td> <td> 0.014</td> <td>    0.001</td> <td>    0.009</td>\n",
       "</tr>\n",
       "<tr>\n",
       "  <th>Stamina</th>         <td>    0.0123</td> <td>    0.002</td> <td>    5.235</td> <td> 0.000</td> <td>    0.008</td> <td>    0.017</td>\n",
       "</tr>\n",
       "<tr>\n",
       "  <th>Strength</th>        <td>    0.0355</td> <td>    0.002</td> <td>   14.539</td> <td> 0.000</td> <td>    0.031</td> <td>    0.040</td>\n",
       "</tr>\n",
       "<tr>\n",
       "  <th>LongShots</th>       <td>   -0.0216</td> <td>    0.003</td> <td>   -6.988</td> <td> 0.000</td> <td>   -0.028</td> <td>   -0.016</td>\n",
       "</tr>\n",
       "<tr>\n",
       "  <th>Aggression</th>      <td>   -0.0007</td> <td>    0.002</td> <td>   -0.325</td> <td> 0.745</td> <td>   -0.005</td> <td>    0.004</td>\n",
       "</tr>\n",
       "<tr>\n",
       "  <th>Interceptions</th>   <td>   -0.0056</td> <td>    0.003</td> <td>   -1.798</td> <td> 0.072</td> <td>   -0.012</td> <td>    0.001</td>\n",
       "</tr>\n",
       "<tr>\n",
       "  <th>Positioning</th>     <td>   -0.0544</td> <td>    0.003</td> <td>  -17.799</td> <td> 0.000</td> <td>   -0.060</td> <td>   -0.048</td>\n",
       "</tr>\n",
       "<tr>\n",
       "  <th>Vision</th>          <td>   -0.0142</td> <td>    0.003</td> <td>   -5.021</td> <td> 0.000</td> <td>   -0.020</td> <td>   -0.009</td>\n",
       "</tr>\n",
       "<tr>\n",
       "  <th>Penalties</th>       <td>    0.0019</td> <td>    0.003</td> <td>    0.702</td> <td> 0.483</td> <td>   -0.003</td> <td>    0.007</td>\n",
       "</tr>\n",
       "<tr>\n",
       "  <th>Composure</th>       <td>    0.1195</td> <td>    0.003</td> <td>   39.178</td> <td> 0.000</td> <td>    0.113</td> <td>    0.125</td>\n",
       "</tr>\n",
       "<tr>\n",
       "  <th>Marking</th>         <td>    0.0360</td> <td>    0.003</td> <td>   14.370</td> <td> 0.000</td> <td>    0.031</td> <td>    0.041</td>\n",
       "</tr>\n",
       "<tr>\n",
       "  <th>StandingTackle</th>  <td>    0.0268</td> <td>    0.005</td> <td>    5.724</td> <td> 0.000</td> <td>    0.018</td> <td>    0.036</td>\n",
       "</tr>\n",
       "<tr>\n",
       "  <th>SlidingTackle</th>   <td>   -0.0200</td> <td>    0.004</td> <td>   -4.619</td> <td> 0.000</td> <td>   -0.029</td> <td>   -0.012</td>\n",
       "</tr>\n",
       "<tr>\n",
       "  <th>GKDiving</th>        <td>    0.0728</td> <td>    0.006</td> <td>   12.456</td> <td> 0.000</td> <td>    0.061</td> <td>    0.084</td>\n",
       "</tr>\n",
       "<tr>\n",
       "  <th>GKHandling</th>      <td>    0.0744</td> <td>    0.006</td> <td>   12.587</td> <td> 0.000</td> <td>    0.063</td> <td>    0.086</td>\n",
       "</tr>\n",
       "<tr>\n",
       "  <th>GKKicking</th>       <td>    0.0339</td> <td>    0.005</td> <td>    6.222</td> <td> 0.000</td> <td>    0.023</td> <td>    0.045</td>\n",
       "</tr>\n",
       "<tr>\n",
       "  <th>GKPositioning</th>   <td>    0.0700</td> <td>    0.006</td> <td>   12.116</td> <td> 0.000</td> <td>    0.059</td> <td>    0.081</td>\n",
       "</tr>\n",
       "<tr>\n",
       "  <th>GKReflexes</th>      <td>    0.0758</td> <td>    0.006</td> <td>   13.082</td> <td> 0.000</td> <td>    0.064</td> <td>    0.087</td>\n",
       "</tr>\n",
       "</table>\n",
       "<table class=\"simpletable\">\n",
       "<tr>\n",
       "  <th>Omnibus:</th>       <td>60.414</td> <th>  Durbin-Watson:     </th> <td>   1.692</td>\n",
       "</tr>\n",
       "<tr>\n",
       "  <th>Prob(Omnibus):</th> <td> 0.000</td> <th>  Jarque-Bera (JB):  </th> <td>  80.416</td>\n",
       "</tr>\n",
       "<tr>\n",
       "  <th>Skew:</th>          <td> 0.004</td> <th>  Prob(JB):          </th> <td>3.45e-18</td>\n",
       "</tr>\n",
       "<tr>\n",
       "  <th>Kurtosis:</th>      <td> 3.325</td> <th>  Cond. No.          </th> <td>4.15e+03</td>\n",
       "</tr>\n",
       "</table><br/><br/>Warnings:<br/>[1] Standard Errors assume that the covariance matrix of the errors is correctly specified.<br/>[2] The condition number is large, 4.15e+03. This might indicate that there are<br/>strong multicollinearity or other numerical problems."
      ],
      "text/plain": [
       "<class 'statsmodels.iolib.summary.Summary'>\n",
       "\"\"\"\n",
       "                            OLS Regression Results                            \n",
       "==============================================================================\n",
       "Dep. Variable:                Overall   R-squared:                       0.858\n",
       "Model:                            OLS   Adj. R-squared:                  0.857\n",
       "Method:                 Least Squares   F-statistic:                     3218.\n",
       "Date:                Sat, 29 Feb 2020   Prob (F-statistic):               0.00\n",
       "Time:                        07:57:52   Log-Likelihood:                -43283.\n",
       "No. Observations:               18207   AIC:                         8.664e+04\n",
       "Df Residuals:                   18172   BIC:                         8.691e+04\n",
       "Df Model:                          34                                         \n",
       "Covariance Type:            nonrobust                                         \n",
       "===================================================================================\n",
       "                      coef    std err          t      P>|t|      [0.025      0.975]\n",
       "-----------------------------------------------------------------------------------\n",
       "Intercept          10.0381      0.265     37.887      0.000       9.519      10.557\n",
       "Crossing            0.0142      0.003      5.454      0.000       0.009       0.019\n",
       "Finishing           0.0277      0.003      8.437      0.000       0.021       0.034\n",
       "HeadingAccuracy     0.0896      0.003     32.577      0.000       0.084       0.095\n",
       "ShortPassing        0.0825      0.005     17.681      0.000       0.073       0.092\n",
       "Volleys             0.0006      0.003      0.200      0.842      -0.005       0.006\n",
       "Dribbling           0.0202      0.004      4.945      0.000       0.012       0.028\n",
       "Curve               0.0104      0.003      3.710      0.000       0.005       0.016\n",
       "FKAccuracy          0.0056      0.002      2.273      0.023       0.001       0.010\n",
       "LongPassing        -0.0183      0.003     -5.345      0.000      -0.025      -0.012\n",
       "BallControl         0.1474      0.005     29.413      0.000       0.138       0.157\n",
       "Acceleration        0.0358      0.004      9.242      0.000       0.028       0.043\n",
       "SprintSpeed         0.0254      0.004      7.070      0.000       0.018       0.032\n",
       "Agility             0.0011      0.003      0.399      0.690      -0.004       0.007\n",
       "Reactions           0.2924      0.004     77.175      0.000       0.285       0.300\n",
       "Balance            -0.0225      0.003     -8.686      0.000      -0.028      -0.017\n",
       "ShotPower           0.0240      0.003      8.237      0.000       0.018       0.030\n",
       "Jumping             0.0050      0.002      2.455      0.014       0.001       0.009\n",
       "Stamina             0.0123      0.002      5.235      0.000       0.008       0.017\n",
       "Strength            0.0355      0.002     14.539      0.000       0.031       0.040\n",
       "LongShots          -0.0216      0.003     -6.988      0.000      -0.028      -0.016\n",
       "Aggression         -0.0007      0.002     -0.325      0.745      -0.005       0.004\n",
       "Interceptions      -0.0056      0.003     -1.798      0.072      -0.012       0.001\n",
       "Positioning        -0.0544      0.003    -17.799      0.000      -0.060      -0.048\n",
       "Vision             -0.0142      0.003     -5.021      0.000      -0.020      -0.009\n",
       "Penalties           0.0019      0.003      0.702      0.483      -0.003       0.007\n",
       "Composure           0.1195      0.003     39.178      0.000       0.113       0.125\n",
       "Marking             0.0360      0.003     14.370      0.000       0.031       0.041\n",
       "StandingTackle      0.0268      0.005      5.724      0.000       0.018       0.036\n",
       "SlidingTackle      -0.0200      0.004     -4.619      0.000      -0.029      -0.012\n",
       "GKDiving            0.0728      0.006     12.456      0.000       0.061       0.084\n",
       "GKHandling          0.0744      0.006     12.587      0.000       0.063       0.086\n",
       "GKKicking           0.0339      0.005      6.222      0.000       0.023       0.045\n",
       "GKPositioning       0.0700      0.006     12.116      0.000       0.059       0.081\n",
       "GKReflexes          0.0758      0.006     13.082      0.000       0.064       0.087\n",
       "==============================================================================\n",
       "Omnibus:                       60.414   Durbin-Watson:                   1.692\n",
       "Prob(Omnibus):                  0.000   Jarque-Bera (JB):               80.416\n",
       "Skew:                           0.004   Prob(JB):                     3.45e-18\n",
       "Kurtosis:                       3.325   Cond. No.                     4.15e+03\n",
       "==============================================================================\n",
       "\n",
       "Warnings:\n",
       "[1] Standard Errors assume that the covariance matrix of the errors is correctly specified.\n",
       "[2] The condition number is large, 4.15e+03. This might indicate that there are\n",
       "strong multicollinearity or other numerical problems.\n",
       "\"\"\""
      ]
     },
     "execution_count": 516,
     "metadata": {},
     "output_type": "execute_result"
    }
   ],
   "source": [
    "import statsmodels.formula.api as smf\n",
    "\n",
    "formula = 'Overall ~ Crossing+Finishing+HeadingAccuracy+ShortPassing+Volleys+Dribbling+Curve+FKAccuracy+LongPassing+BallControl+Acceleration+SprintSpeed+Agility+Reactions+Balance+ShotPower+Jumping+Stamina+Strength+LongShots+Aggression+Interceptions+Positioning+Vision+Penalties+Composure+Marking+StandingTackle+SlidingTackle+GKDiving+GKHandling+GKKicking+GKPositioning+GKReflexes'\n",
    "model = smf.ols(formula, data=data)\n",
    "results = model.fit()\n",
    "results.summary()"
   ]
  },
  {
   "cell_type": "code",
   "execution_count": 520,
   "metadata": {},
   "outputs": [
    {
     "data": {
      "text/html": [
       "<table class=\"simpletable\">\n",
       "<caption>OLS Regression Results</caption>\n",
       "<tr>\n",
       "  <th>Dep. Variable:</th>         <td>Overall</td>     <th>  R-squared:         </th> <td>   0.853</td> \n",
       "</tr>\n",
       "<tr>\n",
       "  <th>Model:</th>                   <td>OLS</td>       <th>  Adj. R-squared:    </th> <td>   0.852</td> \n",
       "</tr>\n",
       "<tr>\n",
       "  <th>Method:</th>             <td>Least Squares</td>  <th>  F-statistic:       </th> <td>   4048.</td> \n",
       "</tr>\n",
       "<tr>\n",
       "  <th>Date:</th>             <td>Sat, 29 Feb 2020</td> <th>  Prob (F-statistic):</th>  <td>  0.00</td>  \n",
       "</tr>\n",
       "<tr>\n",
       "  <th>Time:</th>                 <td>08:04:19</td>     <th>  Log-Likelihood:    </th> <td> -43589.</td> \n",
       "</tr>\n",
       "<tr>\n",
       "  <th>No. Observations:</th>      <td> 18207</td>      <th>  AIC:               </th> <td>8.723e+04</td>\n",
       "</tr>\n",
       "<tr>\n",
       "  <th>Df Residuals:</th>          <td> 18180</td>      <th>  BIC:               </th> <td>8.744e+04</td>\n",
       "</tr>\n",
       "<tr>\n",
       "  <th>Df Model:</th>              <td>    26</td>      <th>                     </th>     <td> </td>    \n",
       "</tr>\n",
       "<tr>\n",
       "  <th>Covariance Type:</th>      <td>nonrobust</td>    <th>                     </th>     <td> </td>    \n",
       "</tr>\n",
       "</table>\n",
       "<table class=\"simpletable\">\n",
       "<tr>\n",
       "         <td></td>            <th>coef</th>     <th>std err</th>      <th>t</th>      <th>P>|t|</th>  <th>[0.025</th>    <th>0.975]</th>  \n",
       "</tr>\n",
       "<tr>\n",
       "  <th>Intercept</th>       <td>    9.5828</td> <td>    0.238</td> <td>   40.259</td> <td> 0.000</td> <td>    9.116</td> <td>   10.049</td>\n",
       "</tr>\n",
       "<tr>\n",
       "  <th>Crossing</th>        <td>    0.0031</td> <td>    0.003</td> <td>    1.194</td> <td> 0.232</td> <td>   -0.002</td> <td>    0.008</td>\n",
       "</tr>\n",
       "<tr>\n",
       "  <th>Finishing</th>       <td>    0.0004</td> <td>    0.003</td> <td>    0.138</td> <td> 0.890</td> <td>   -0.005</td> <td>    0.006</td>\n",
       "</tr>\n",
       "<tr>\n",
       "  <th>HeadingAccuracy</th> <td>    0.0969</td> <td>    0.003</td> <td>   36.017</td> <td> 0.000</td> <td>    0.092</td> <td>    0.102</td>\n",
       "</tr>\n",
       "<tr>\n",
       "  <th>ShortPassing</th>    <td>    0.0623</td> <td>    0.004</td> <td>   16.256</td> <td> 0.000</td> <td>    0.055</td> <td>    0.070</td>\n",
       "</tr>\n",
       "<tr>\n",
       "  <th>Volleys</th>         <td>   -0.0051</td> <td>    0.003</td> <td>   -1.789</td> <td> 0.074</td> <td>   -0.011</td> <td>    0.000</td>\n",
       "</tr>\n",
       "<tr>\n",
       "  <th>Dribbling</th>       <td>   -0.0013</td> <td>    0.004</td> <td>   -0.324</td> <td> 0.746</td> <td>   -0.009</td> <td>    0.007</td>\n",
       "</tr>\n",
       "<tr>\n",
       "  <th>Curve</th>           <td>    0.0063</td> <td>    0.003</td> <td>    2.224</td> <td> 0.026</td> <td>    0.001</td> <td>    0.012</td>\n",
       "</tr>\n",
       "<tr>\n",
       "  <th>FKAccuracy</th>      <td>    0.0005</td> <td>    0.002</td> <td>    0.223</td> <td> 0.824</td> <td>   -0.004</td> <td>    0.005</td>\n",
       "</tr>\n",
       "<tr>\n",
       "  <th>BallControl</th>     <td>    0.1459</td> <td>    0.005</td> <td>   28.653</td> <td> 0.000</td> <td>    0.136</td> <td>    0.156</td>\n",
       "</tr>\n",
       "<tr>\n",
       "  <th>Acceleration</th>    <td>    0.0325</td> <td>    0.004</td> <td>    8.332</td> <td> 0.000</td> <td>    0.025</td> <td>    0.040</td>\n",
       "</tr>\n",
       "<tr>\n",
       "  <th>SprintSpeed</th>     <td>    0.0314</td> <td>    0.004</td> <td>    8.624</td> <td> 0.000</td> <td>    0.024</td> <td>    0.038</td>\n",
       "</tr>\n",
       "<tr>\n",
       "  <th>Agility</th>         <td>   -0.0086</td> <td>    0.003</td> <td>   -3.073</td> <td> 0.002</td> <td>   -0.014</td> <td>   -0.003</td>\n",
       "</tr>\n",
       "<tr>\n",
       "  <th>Reactions</th>       <td>    0.2833</td> <td>    0.004</td> <td>   75.435</td> <td> 0.000</td> <td>    0.276</td> <td>    0.291</td>\n",
       "</tr>\n",
       "<tr>\n",
       "  <th>ShotPower</th>       <td>    0.0146</td> <td>    0.003</td> <td>    5.468</td> <td> 0.000</td> <td>    0.009</td> <td>    0.020</td>\n",
       "</tr>\n",
       "<tr>\n",
       "  <th>Jumping</th>         <td>    0.0012</td> <td>    0.002</td> <td>    0.594</td> <td> 0.552</td> <td>   -0.003</td> <td>    0.005</td>\n",
       "</tr>\n",
       "<tr>\n",
       "  <th>Stamina</th>         <td>    0.0030</td> <td>    0.002</td> <td>    1.278</td> <td> 0.201</td> <td>   -0.002</td> <td>    0.008</td>\n",
       "</tr>\n",
       "<tr>\n",
       "  <th>Strength</th>        <td>    0.0434</td> <td>    0.002</td> <td>   19.147</td> <td> 0.000</td> <td>    0.039</td> <td>    0.048</td>\n",
       "</tr>\n",
       "<tr>\n",
       "  <th>Penalties</th>       <td>    0.0008</td> <td>    0.003</td> <td>    0.297</td> <td> 0.767</td> <td>   -0.005</td> <td>    0.006</td>\n",
       "</tr>\n",
       "<tr>\n",
       "  <th>Composure</th>       <td>    0.1164</td> <td>    0.003</td> <td>   38.078</td> <td> 0.000</td> <td>    0.110</td> <td>    0.122</td>\n",
       "</tr>\n",
       "<tr>\n",
       "  <th>Marking</th>         <td>    0.0343</td> <td>    0.002</td> <td>   13.851</td> <td> 0.000</td> <td>    0.029</td> <td>    0.039</td>\n",
       "</tr>\n",
       "<tr>\n",
       "  <th>StandingTackle</th>  <td>    0.0055</td> <td>    0.002</td> <td>    2.202</td> <td> 0.028</td> <td>    0.001</td> <td>    0.010</td>\n",
       "</tr>\n",
       "<tr>\n",
       "  <th>GKDiving</th>        <td>    0.0744</td> <td>    0.006</td> <td>   12.536</td> <td> 0.000</td> <td>    0.063</td> <td>    0.086</td>\n",
       "</tr>\n",
       "<tr>\n",
       "  <th>GKHandling</th>      <td>    0.0768</td> <td>    0.006</td> <td>   12.790</td> <td> 0.000</td> <td>    0.065</td> <td>    0.089</td>\n",
       "</tr>\n",
       "<tr>\n",
       "  <th>GKKicking</th>       <td>    0.0334</td> <td>    0.006</td> <td>    6.035</td> <td> 0.000</td> <td>    0.023</td> <td>    0.044</td>\n",
       "</tr>\n",
       "<tr>\n",
       "  <th>GKPositioning</th>   <td>    0.0682</td> <td>    0.006</td> <td>   11.628</td> <td> 0.000</td> <td>    0.057</td> <td>    0.080</td>\n",
       "</tr>\n",
       "<tr>\n",
       "  <th>GKReflexes</th>      <td>    0.0773</td> <td>    0.006</td> <td>   13.128</td> <td> 0.000</td> <td>    0.066</td> <td>    0.089</td>\n",
       "</tr>\n",
       "</table>\n",
       "<table class=\"simpletable\">\n",
       "<tr>\n",
       "  <th>Omnibus:</th>       <td>44.610</td> <th>  Durbin-Watson:     </th> <td>   1.680</td>\n",
       "</tr>\n",
       "<tr>\n",
       "  <th>Prob(Omnibus):</th> <td> 0.000</td> <th>  Jarque-Bera (JB):  </th> <td>  55.829</td>\n",
       "</tr>\n",
       "<tr>\n",
       "  <th>Skew:</th>          <td> 0.027</td> <th>  Prob(JB):          </th> <td>7.53e-13</td>\n",
       "</tr>\n",
       "<tr>\n",
       "  <th>Kurtosis:</th>      <td> 3.266</td> <th>  Cond. No.          </th> <td>3.18e+03</td>\n",
       "</tr>\n",
       "</table><br/><br/>Warnings:<br/>[1] Standard Errors assume that the covariance matrix of the errors is correctly specified.<br/>[2] The condition number is large, 3.18e+03. This might indicate that there are<br/>strong multicollinearity or other numerical problems."
      ],
      "text/plain": [
       "<class 'statsmodels.iolib.summary.Summary'>\n",
       "\"\"\"\n",
       "                            OLS Regression Results                            \n",
       "==============================================================================\n",
       "Dep. Variable:                Overall   R-squared:                       0.853\n",
       "Model:                            OLS   Adj. R-squared:                  0.852\n",
       "Method:                 Least Squares   F-statistic:                     4048.\n",
       "Date:                Sat, 29 Feb 2020   Prob (F-statistic):               0.00\n",
       "Time:                        08:04:19   Log-Likelihood:                -43589.\n",
       "No. Observations:               18207   AIC:                         8.723e+04\n",
       "Df Residuals:                   18180   BIC:                         8.744e+04\n",
       "Df Model:                          26                                         \n",
       "Covariance Type:            nonrobust                                         \n",
       "===================================================================================\n",
       "                      coef    std err          t      P>|t|      [0.025      0.975]\n",
       "-----------------------------------------------------------------------------------\n",
       "Intercept           9.5828      0.238     40.259      0.000       9.116      10.049\n",
       "Crossing            0.0031      0.003      1.194      0.232      -0.002       0.008\n",
       "Finishing           0.0004      0.003      0.138      0.890      -0.005       0.006\n",
       "HeadingAccuracy     0.0969      0.003     36.017      0.000       0.092       0.102\n",
       "ShortPassing        0.0623      0.004     16.256      0.000       0.055       0.070\n",
       "Volleys            -0.0051      0.003     -1.789      0.074      -0.011       0.000\n",
       "Dribbling          -0.0013      0.004     -0.324      0.746      -0.009       0.007\n",
       "Curve               0.0063      0.003      2.224      0.026       0.001       0.012\n",
       "FKAccuracy          0.0005      0.002      0.223      0.824      -0.004       0.005\n",
       "BallControl         0.1459      0.005     28.653      0.000       0.136       0.156\n",
       "Acceleration        0.0325      0.004      8.332      0.000       0.025       0.040\n",
       "SprintSpeed         0.0314      0.004      8.624      0.000       0.024       0.038\n",
       "Agility            -0.0086      0.003     -3.073      0.002      -0.014      -0.003\n",
       "Reactions           0.2833      0.004     75.435      0.000       0.276       0.291\n",
       "ShotPower           0.0146      0.003      5.468      0.000       0.009       0.020\n",
       "Jumping             0.0012      0.002      0.594      0.552      -0.003       0.005\n",
       "Stamina             0.0030      0.002      1.278      0.201      -0.002       0.008\n",
       "Strength            0.0434      0.002     19.147      0.000       0.039       0.048\n",
       "Penalties           0.0008      0.003      0.297      0.767      -0.005       0.006\n",
       "Composure           0.1164      0.003     38.078      0.000       0.110       0.122\n",
       "Marking             0.0343      0.002     13.851      0.000       0.029       0.039\n",
       "StandingTackle      0.0055      0.002      2.202      0.028       0.001       0.010\n",
       "GKDiving            0.0744      0.006     12.536      0.000       0.063       0.086\n",
       "GKHandling          0.0768      0.006     12.790      0.000       0.065       0.089\n",
       "GKKicking           0.0334      0.006      6.035      0.000       0.023       0.044\n",
       "GKPositioning       0.0682      0.006     11.628      0.000       0.057       0.080\n",
       "GKReflexes          0.0773      0.006     13.128      0.000       0.066       0.089\n",
       "==============================================================================\n",
       "Omnibus:                       44.610   Durbin-Watson:                   1.680\n",
       "Prob(Omnibus):                  0.000   Jarque-Bera (JB):               55.829\n",
       "Skew:                           0.027   Prob(JB):                     7.53e-13\n",
       "Kurtosis:                       3.266   Cond. No.                     3.18e+03\n",
       "==============================================================================\n",
       "\n",
       "Warnings:\n",
       "[1] Standard Errors assume that the covariance matrix of the errors is correctly specified.\n",
       "[2] The condition number is large, 3.18e+03. This might indicate that there are\n",
       "strong multicollinearity or other numerical problems.\n",
       "\"\"\""
      ]
     },
     "execution_count": 520,
     "metadata": {},
     "output_type": "execute_result"
    }
   ],
   "source": [
    "# Remove features with negative coefficient\n",
    "import statsmodels.formula.api as smf\n",
    "\n",
    "formula = 'Overall ~ Crossing+Finishing+HeadingAccuracy+ShortPassing+Volleys+Dribbling+Curve+FKAccuracy+BallControl+Acceleration+SprintSpeed+Agility+Reactions+ShotPower+Jumping+Stamina+Strength+Penalties+Composure+Marking+StandingTackle+GKDiving+GKHandling+GKKicking+GKPositioning+GKReflexes'\n",
    "model = smf.ols(formula, data=data)\n",
    "results = model.fit()\n",
    "results.summary()"
   ]
  },
  {
   "cell_type": "code",
   "execution_count": 521,
   "metadata": {},
   "outputs": [
    {
     "data": {
      "text/html": [
       "<table class=\"simpletable\">\n",
       "<caption>OLS Regression Results</caption>\n",
       "<tr>\n",
       "  <th>Dep. Variable:</th>         <td>Overall</td>     <th>  R-squared:         </th> <td>   0.853</td> \n",
       "</tr>\n",
       "<tr>\n",
       "  <th>Model:</th>                   <td>OLS</td>       <th>  Adj. R-squared:    </th> <td>   0.852</td> \n",
       "</tr>\n",
       "<tr>\n",
       "  <th>Method:</th>             <td>Least Squares</td>  <th>  F-statistic:       </th> <td>   4573.</td> \n",
       "</tr>\n",
       "<tr>\n",
       "  <th>Date:</th>             <td>Sat, 29 Feb 2020</td> <th>  Prob (F-statistic):</th>  <td>  0.00</td>  \n",
       "</tr>\n",
       "<tr>\n",
       "  <th>Time:</th>                 <td>08:06:27</td>     <th>  Log-Likelihood:    </th> <td> -43596.</td> \n",
       "</tr>\n",
       "<tr>\n",
       "  <th>No. Observations:</th>      <td> 18207</td>      <th>  AIC:               </th> <td>8.724e+04</td>\n",
       "</tr>\n",
       "<tr>\n",
       "  <th>Df Residuals:</th>          <td> 18183</td>      <th>  BIC:               </th> <td>8.743e+04</td>\n",
       "</tr>\n",
       "<tr>\n",
       "  <th>Df Model:</th>              <td>    23</td>      <th>                     </th>     <td> </td>    \n",
       "</tr>\n",
       "<tr>\n",
       "  <th>Covariance Type:</th>      <td>nonrobust</td>    <th>                     </th>     <td> </td>    \n",
       "</tr>\n",
       "</table>\n",
       "<table class=\"simpletable\">\n",
       "<tr>\n",
       "         <td></td>            <th>coef</th>     <th>std err</th>      <th>t</th>      <th>P>|t|</th>  <th>[0.025</th>    <th>0.975]</th>  \n",
       "</tr>\n",
       "<tr>\n",
       "  <th>Intercept</th>       <td>    9.4702</td> <td>    0.234</td> <td>   40.539</td> <td> 0.000</td> <td>    9.012</td> <td>    9.928</td>\n",
       "</tr>\n",
       "<tr>\n",
       "  <th>Crossing</th>        <td>    0.0024</td> <td>    0.003</td> <td>    0.945</td> <td> 0.345</td> <td>   -0.003</td> <td>    0.007</td>\n",
       "</tr>\n",
       "<tr>\n",
       "  <th>Finishing</th>       <td>   -0.0019</td> <td>    0.003</td> <td>   -0.706</td> <td> 0.480</td> <td>   -0.007</td> <td>    0.003</td>\n",
       "</tr>\n",
       "<tr>\n",
       "  <th>HeadingAccuracy</th> <td>    0.0981</td> <td>    0.003</td> <td>   37.281</td> <td> 0.000</td> <td>    0.093</td> <td>    0.103</td>\n",
       "</tr>\n",
       "<tr>\n",
       "  <th>ShortPassing</th>    <td>    0.0620</td> <td>    0.004</td> <td>   16.181</td> <td> 0.000</td> <td>    0.055</td> <td>    0.070</td>\n",
       "</tr>\n",
       "<tr>\n",
       "  <th>Curve</th>           <td>    0.0048</td> <td>    0.003</td> <td>    1.715</td> <td> 0.086</td> <td>   -0.001</td> <td>    0.010</td>\n",
       "</tr>\n",
       "<tr>\n",
       "  <th>FKAccuracy</th>      <td>    0.0001</td> <td>    0.002</td> <td>    0.051</td> <td> 0.960</td> <td>   -0.005</td> <td>    0.005</td>\n",
       "</tr>\n",
       "<tr>\n",
       "  <th>BallControl</th>     <td>    0.1434</td> <td>    0.004</td> <td>   31.966</td> <td> 0.000</td> <td>    0.135</td> <td>    0.152</td>\n",
       "</tr>\n",
       "<tr>\n",
       "  <th>Acceleration</th>    <td>    0.0292</td> <td>    0.004</td> <td>    7.771</td> <td> 0.000</td> <td>    0.022</td> <td>    0.037</td>\n",
       "</tr>\n",
       "<tr>\n",
       "  <th>SprintSpeed</th>     <td>    0.0306</td> <td>    0.004</td> <td>    8.442</td> <td> 0.000</td> <td>    0.023</td> <td>    0.038</td>\n",
       "</tr>\n",
       "<tr>\n",
       "  <th>Reactions</th>       <td>    0.2824</td> <td>    0.004</td> <td>   75.374</td> <td> 0.000</td> <td>    0.275</td> <td>    0.290</td>\n",
       "</tr>\n",
       "<tr>\n",
       "  <th>ShotPower</th>       <td>    0.0141</td> <td>    0.003</td> <td>    5.345</td> <td> 0.000</td> <td>    0.009</td> <td>    0.019</td>\n",
       "</tr>\n",
       "<tr>\n",
       "  <th>Jumping</th>         <td>   -0.0001</td> <td>    0.002</td> <td>   -0.056</td> <td> 0.955</td> <td>   -0.004</td> <td>    0.004</td>\n",
       "</tr>\n",
       "<tr>\n",
       "  <th>Stamina</th>         <td>    0.0023</td> <td>    0.002</td> <td>    0.984</td> <td> 0.325</td> <td>   -0.002</td> <td>    0.007</td>\n",
       "</tr>\n",
       "<tr>\n",
       "  <th>Strength</th>        <td>    0.0450</td> <td>    0.002</td> <td>   20.304</td> <td> 0.000</td> <td>    0.041</td> <td>    0.049</td>\n",
       "</tr>\n",
       "<tr>\n",
       "  <th>Penalties</th>       <td>    0.0003</td> <td>    0.003</td> <td>    0.124</td> <td> 0.902</td> <td>   -0.005</td> <td>    0.006</td>\n",
       "</tr>\n",
       "<tr>\n",
       "  <th>Composure</th>       <td>    0.1154</td> <td>    0.003</td> <td>   37.927</td> <td> 0.000</td> <td>    0.109</td> <td>    0.121</td>\n",
       "</tr>\n",
       "<tr>\n",
       "  <th>Marking</th>         <td>    0.0346</td> <td>    0.002</td> <td>   13.967</td> <td> 0.000</td> <td>    0.030</td> <td>    0.039</td>\n",
       "</tr>\n",
       "<tr>\n",
       "  <th>StandingTackle</th>  <td>    0.0063</td> <td>    0.002</td> <td>    2.533</td> <td> 0.011</td> <td>    0.001</td> <td>    0.011</td>\n",
       "</tr>\n",
       "<tr>\n",
       "  <th>GKDiving</th>        <td>    0.0744</td> <td>    0.006</td> <td>   12.540</td> <td> 0.000</td> <td>    0.063</td> <td>    0.086</td>\n",
       "</tr>\n",
       "<tr>\n",
       "  <th>GKHandling</th>      <td>    0.0770</td> <td>    0.006</td> <td>   12.832</td> <td> 0.000</td> <td>    0.065</td> <td>    0.089</td>\n",
       "</tr>\n",
       "<tr>\n",
       "  <th>GKKicking</th>       <td>    0.0337</td> <td>    0.006</td> <td>    6.085</td> <td> 0.000</td> <td>    0.023</td> <td>    0.045</td>\n",
       "</tr>\n",
       "<tr>\n",
       "  <th>GKPositioning</th>   <td>    0.0683</td> <td>    0.006</td> <td>   11.633</td> <td> 0.000</td> <td>    0.057</td> <td>    0.080</td>\n",
       "</tr>\n",
       "<tr>\n",
       "  <th>GKReflexes</th>      <td>    0.0775</td> <td>    0.006</td> <td>   13.162</td> <td> 0.000</td> <td>    0.066</td> <td>    0.089</td>\n",
       "</tr>\n",
       "</table>\n",
       "<table class=\"simpletable\">\n",
       "<tr>\n",
       "  <th>Omnibus:</th>       <td>45.524</td> <th>  Durbin-Watson:     </th> <td>   1.680</td>\n",
       "</tr>\n",
       "<tr>\n",
       "  <th>Prob(Omnibus):</th> <td> 0.000</td> <th>  Jarque-Bera (JB):  </th> <td>  57.150</td>\n",
       "</tr>\n",
       "<tr>\n",
       "  <th>Skew:</th>          <td> 0.027</td> <th>  Prob(JB):          </th> <td>3.89e-13</td>\n",
       "</tr>\n",
       "<tr>\n",
       "  <th>Kurtosis:</th>      <td> 3.269</td> <th>  Cond. No.          </th> <td>2.89e+03</td>\n",
       "</tr>\n",
       "</table><br/><br/>Warnings:<br/>[1] Standard Errors assume that the covariance matrix of the errors is correctly specified.<br/>[2] The condition number is large, 2.89e+03. This might indicate that there are<br/>strong multicollinearity or other numerical problems."
      ],
      "text/plain": [
       "<class 'statsmodels.iolib.summary.Summary'>\n",
       "\"\"\"\n",
       "                            OLS Regression Results                            \n",
       "==============================================================================\n",
       "Dep. Variable:                Overall   R-squared:                       0.853\n",
       "Model:                            OLS   Adj. R-squared:                  0.852\n",
       "Method:                 Least Squares   F-statistic:                     4573.\n",
       "Date:                Sat, 29 Feb 2020   Prob (F-statistic):               0.00\n",
       "Time:                        08:06:27   Log-Likelihood:                -43596.\n",
       "No. Observations:               18207   AIC:                         8.724e+04\n",
       "Df Residuals:                   18183   BIC:                         8.743e+04\n",
       "Df Model:                          23                                         \n",
       "Covariance Type:            nonrobust                                         \n",
       "===================================================================================\n",
       "                      coef    std err          t      P>|t|      [0.025      0.975]\n",
       "-----------------------------------------------------------------------------------\n",
       "Intercept           9.4702      0.234     40.539      0.000       9.012       9.928\n",
       "Crossing            0.0024      0.003      0.945      0.345      -0.003       0.007\n",
       "Finishing          -0.0019      0.003     -0.706      0.480      -0.007       0.003\n",
       "HeadingAccuracy     0.0981      0.003     37.281      0.000       0.093       0.103\n",
       "ShortPassing        0.0620      0.004     16.181      0.000       0.055       0.070\n",
       "Curve               0.0048      0.003      1.715      0.086      -0.001       0.010\n",
       "FKAccuracy          0.0001      0.002      0.051      0.960      -0.005       0.005\n",
       "BallControl         0.1434      0.004     31.966      0.000       0.135       0.152\n",
       "Acceleration        0.0292      0.004      7.771      0.000       0.022       0.037\n",
       "SprintSpeed         0.0306      0.004      8.442      0.000       0.023       0.038\n",
       "Reactions           0.2824      0.004     75.374      0.000       0.275       0.290\n",
       "ShotPower           0.0141      0.003      5.345      0.000       0.009       0.019\n",
       "Jumping            -0.0001      0.002     -0.056      0.955      -0.004       0.004\n",
       "Stamina             0.0023      0.002      0.984      0.325      -0.002       0.007\n",
       "Strength            0.0450      0.002     20.304      0.000       0.041       0.049\n",
       "Penalties           0.0003      0.003      0.124      0.902      -0.005       0.006\n",
       "Composure           0.1154      0.003     37.927      0.000       0.109       0.121\n",
       "Marking             0.0346      0.002     13.967      0.000       0.030       0.039\n",
       "StandingTackle      0.0063      0.002      2.533      0.011       0.001       0.011\n",
       "GKDiving            0.0744      0.006     12.540      0.000       0.063       0.086\n",
       "GKHandling          0.0770      0.006     12.832      0.000       0.065       0.089\n",
       "GKKicking           0.0337      0.006      6.085      0.000       0.023       0.045\n",
       "GKPositioning       0.0683      0.006     11.633      0.000       0.057       0.080\n",
       "GKReflexes          0.0775      0.006     13.162      0.000       0.066       0.089\n",
       "==============================================================================\n",
       "Omnibus:                       45.524   Durbin-Watson:                   1.680\n",
       "Prob(Omnibus):                  0.000   Jarque-Bera (JB):               57.150\n",
       "Skew:                           0.027   Prob(JB):                     3.89e-13\n",
       "Kurtosis:                       3.269   Cond. No.                     2.89e+03\n",
       "==============================================================================\n",
       "\n",
       "Warnings:\n",
       "[1] Standard Errors assume that the covariance matrix of the errors is correctly specified.\n",
       "[2] The condition number is large, 2.89e+03. This might indicate that there are\n",
       "strong multicollinearity or other numerical problems.\n",
       "\"\"\""
      ]
     },
     "execution_count": 521,
     "metadata": {},
     "output_type": "execute_result"
    }
   ],
   "source": [
    "# Remove features with negative coefficient\n",
    "import statsmodels.formula.api as smf\n",
    "\n",
    "formula = 'Overall ~ Crossing+Finishing+HeadingAccuracy+ShortPassing+Curve+FKAccuracy+BallControl+Acceleration+SprintSpeed+Reactions+ShotPower+Jumping+Stamina+Strength+Penalties+Composure+Marking+StandingTackle+GKDiving+GKHandling+GKKicking+GKPositioning+GKReflexes'\n",
    "model = smf.ols(formula, data=data)\n",
    "results = model.fit()\n",
    "results.summary()"
   ]
  },
  {
   "cell_type": "code",
   "execution_count": 88,
   "metadata": {},
   "outputs": [],
   "source": [
    "Model_Independent_Variables = data[skills]\n",
    "Model_Dependent_Variable = data.Overall"
   ]
  },
  {
   "cell_type": "code",
   "execution_count": 89,
   "metadata": {},
   "outputs": [
    {
     "data": {
      "text/html": [
       "<div>\n",
       "<style scoped>\n",
       "    .dataframe tbody tr th:only-of-type {\n",
       "        vertical-align: middle;\n",
       "    }\n",
       "\n",
       "    .dataframe tbody tr th {\n",
       "        vertical-align: top;\n",
       "    }\n",
       "\n",
       "    .dataframe thead th {\n",
       "        text-align: right;\n",
       "    }\n",
       "</style>\n",
       "<table border=\"1\" class=\"dataframe\">\n",
       "  <thead>\n",
       "    <tr style=\"text-align: right;\">\n",
       "      <th></th>\n",
       "      <th>Crossing</th>\n",
       "      <th>Finishing</th>\n",
       "      <th>HeadingAccuracy</th>\n",
       "      <th>ShortPassing</th>\n",
       "      <th>Volleys</th>\n",
       "      <th>Dribbling</th>\n",
       "      <th>Curve</th>\n",
       "      <th>FKAccuracy</th>\n",
       "      <th>LongPassing</th>\n",
       "      <th>BallControl</th>\n",
       "      <th>...</th>\n",
       "      <th>Penalties</th>\n",
       "      <th>Composure</th>\n",
       "      <th>Marking</th>\n",
       "      <th>StandingTackle</th>\n",
       "      <th>SlidingTackle</th>\n",
       "      <th>GKDiving</th>\n",
       "      <th>GKHandling</th>\n",
       "      <th>GKKicking</th>\n",
       "      <th>GKPositioning</th>\n",
       "      <th>GKReflexes</th>\n",
       "    </tr>\n",
       "  </thead>\n",
       "  <tbody>\n",
       "    <tr>\n",
       "      <th>0</th>\n",
       "      <td>84.0</td>\n",
       "      <td>95.0</td>\n",
       "      <td>70.0</td>\n",
       "      <td>90.0</td>\n",
       "      <td>86.0</td>\n",
       "      <td>97.0</td>\n",
       "      <td>93.0</td>\n",
       "      <td>94.0</td>\n",
       "      <td>87.0</td>\n",
       "      <td>96.0</td>\n",
       "      <td>...</td>\n",
       "      <td>75.0</td>\n",
       "      <td>96.0</td>\n",
       "      <td>33.0</td>\n",
       "      <td>28.0</td>\n",
       "      <td>26.0</td>\n",
       "      <td>6.0</td>\n",
       "      <td>11.0</td>\n",
       "      <td>15.0</td>\n",
       "      <td>14.0</td>\n",
       "      <td>8.0</td>\n",
       "    </tr>\n",
       "    <tr>\n",
       "      <th>1</th>\n",
       "      <td>84.0</td>\n",
       "      <td>94.0</td>\n",
       "      <td>89.0</td>\n",
       "      <td>81.0</td>\n",
       "      <td>87.0</td>\n",
       "      <td>88.0</td>\n",
       "      <td>81.0</td>\n",
       "      <td>76.0</td>\n",
       "      <td>77.0</td>\n",
       "      <td>94.0</td>\n",
       "      <td>...</td>\n",
       "      <td>85.0</td>\n",
       "      <td>95.0</td>\n",
       "      <td>28.0</td>\n",
       "      <td>31.0</td>\n",
       "      <td>23.0</td>\n",
       "      <td>7.0</td>\n",
       "      <td>11.0</td>\n",
       "      <td>15.0</td>\n",
       "      <td>14.0</td>\n",
       "      <td>11.0</td>\n",
       "    </tr>\n",
       "    <tr>\n",
       "      <th>2</th>\n",
       "      <td>79.0</td>\n",
       "      <td>87.0</td>\n",
       "      <td>62.0</td>\n",
       "      <td>84.0</td>\n",
       "      <td>84.0</td>\n",
       "      <td>96.0</td>\n",
       "      <td>88.0</td>\n",
       "      <td>87.0</td>\n",
       "      <td>78.0</td>\n",
       "      <td>95.0</td>\n",
       "      <td>...</td>\n",
       "      <td>81.0</td>\n",
       "      <td>94.0</td>\n",
       "      <td>27.0</td>\n",
       "      <td>24.0</td>\n",
       "      <td>33.0</td>\n",
       "      <td>9.0</td>\n",
       "      <td>9.0</td>\n",
       "      <td>15.0</td>\n",
       "      <td>15.0</td>\n",
       "      <td>11.0</td>\n",
       "    </tr>\n",
       "    <tr>\n",
       "      <th>3</th>\n",
       "      <td>17.0</td>\n",
       "      <td>13.0</td>\n",
       "      <td>21.0</td>\n",
       "      <td>50.0</td>\n",
       "      <td>13.0</td>\n",
       "      <td>18.0</td>\n",
       "      <td>21.0</td>\n",
       "      <td>19.0</td>\n",
       "      <td>51.0</td>\n",
       "      <td>42.0</td>\n",
       "      <td>...</td>\n",
       "      <td>40.0</td>\n",
       "      <td>68.0</td>\n",
       "      <td>15.0</td>\n",
       "      <td>21.0</td>\n",
       "      <td>13.0</td>\n",
       "      <td>90.0</td>\n",
       "      <td>85.0</td>\n",
       "      <td>87.0</td>\n",
       "      <td>88.0</td>\n",
       "      <td>94.0</td>\n",
       "    </tr>\n",
       "    <tr>\n",
       "      <th>4</th>\n",
       "      <td>93.0</td>\n",
       "      <td>82.0</td>\n",
       "      <td>55.0</td>\n",
       "      <td>92.0</td>\n",
       "      <td>82.0</td>\n",
       "      <td>86.0</td>\n",
       "      <td>85.0</td>\n",
       "      <td>83.0</td>\n",
       "      <td>91.0</td>\n",
       "      <td>91.0</td>\n",
       "      <td>...</td>\n",
       "      <td>79.0</td>\n",
       "      <td>88.0</td>\n",
       "      <td>68.0</td>\n",
       "      <td>58.0</td>\n",
       "      <td>51.0</td>\n",
       "      <td>15.0</td>\n",
       "      <td>13.0</td>\n",
       "      <td>5.0</td>\n",
       "      <td>10.0</td>\n",
       "      <td>13.0</td>\n",
       "    </tr>\n",
       "    <tr>\n",
       "      <th>...</th>\n",
       "      <td>...</td>\n",
       "      <td>...</td>\n",
       "      <td>...</td>\n",
       "      <td>...</td>\n",
       "      <td>...</td>\n",
       "      <td>...</td>\n",
       "      <td>...</td>\n",
       "      <td>...</td>\n",
       "      <td>...</td>\n",
       "      <td>...</td>\n",
       "      <td>...</td>\n",
       "      <td>...</td>\n",
       "      <td>...</td>\n",
       "      <td>...</td>\n",
       "      <td>...</td>\n",
       "      <td>...</td>\n",
       "      <td>...</td>\n",
       "      <td>...</td>\n",
       "      <td>...</td>\n",
       "      <td>...</td>\n",
       "      <td>...</td>\n",
       "    </tr>\n",
       "    <tr>\n",
       "      <th>18202</th>\n",
       "      <td>34.0</td>\n",
       "      <td>38.0</td>\n",
       "      <td>40.0</td>\n",
       "      <td>49.0</td>\n",
       "      <td>25.0</td>\n",
       "      <td>42.0</td>\n",
       "      <td>30.0</td>\n",
       "      <td>34.0</td>\n",
       "      <td>45.0</td>\n",
       "      <td>43.0</td>\n",
       "      <td>...</td>\n",
       "      <td>43.0</td>\n",
       "      <td>45.0</td>\n",
       "      <td>40.0</td>\n",
       "      <td>48.0</td>\n",
       "      <td>47.0</td>\n",
       "      <td>10.0</td>\n",
       "      <td>13.0</td>\n",
       "      <td>7.0</td>\n",
       "      <td>8.0</td>\n",
       "      <td>9.0</td>\n",
       "    </tr>\n",
       "    <tr>\n",
       "      <th>18203</th>\n",
       "      <td>23.0</td>\n",
       "      <td>52.0</td>\n",
       "      <td>52.0</td>\n",
       "      <td>43.0</td>\n",
       "      <td>36.0</td>\n",
       "      <td>39.0</td>\n",
       "      <td>32.0</td>\n",
       "      <td>20.0</td>\n",
       "      <td>25.0</td>\n",
       "      <td>40.0</td>\n",
       "      <td>...</td>\n",
       "      <td>43.0</td>\n",
       "      <td>42.0</td>\n",
       "      <td>22.0</td>\n",
       "      <td>15.0</td>\n",
       "      <td>19.0</td>\n",
       "      <td>10.0</td>\n",
       "      <td>9.0</td>\n",
       "      <td>9.0</td>\n",
       "      <td>5.0</td>\n",
       "      <td>12.0</td>\n",
       "    </tr>\n",
       "    <tr>\n",
       "      <th>18204</th>\n",
       "      <td>25.0</td>\n",
       "      <td>40.0</td>\n",
       "      <td>46.0</td>\n",
       "      <td>38.0</td>\n",
       "      <td>38.0</td>\n",
       "      <td>45.0</td>\n",
       "      <td>38.0</td>\n",
       "      <td>27.0</td>\n",
       "      <td>28.0</td>\n",
       "      <td>44.0</td>\n",
       "      <td>...</td>\n",
       "      <td>55.0</td>\n",
       "      <td>41.0</td>\n",
       "      <td>32.0</td>\n",
       "      <td>13.0</td>\n",
       "      <td>11.0</td>\n",
       "      <td>6.0</td>\n",
       "      <td>5.0</td>\n",
       "      <td>10.0</td>\n",
       "      <td>6.0</td>\n",
       "      <td>13.0</td>\n",
       "    </tr>\n",
       "    <tr>\n",
       "      <th>18205</th>\n",
       "      <td>44.0</td>\n",
       "      <td>50.0</td>\n",
       "      <td>39.0</td>\n",
       "      <td>42.0</td>\n",
       "      <td>40.0</td>\n",
       "      <td>51.0</td>\n",
       "      <td>34.0</td>\n",
       "      <td>32.0</td>\n",
       "      <td>32.0</td>\n",
       "      <td>52.0</td>\n",
       "      <td>...</td>\n",
       "      <td>50.0</td>\n",
       "      <td>46.0</td>\n",
       "      <td>20.0</td>\n",
       "      <td>25.0</td>\n",
       "      <td>27.0</td>\n",
       "      <td>14.0</td>\n",
       "      <td>6.0</td>\n",
       "      <td>14.0</td>\n",
       "      <td>8.0</td>\n",
       "      <td>9.0</td>\n",
       "    </tr>\n",
       "    <tr>\n",
       "      <th>18206</th>\n",
       "      <td>41.0</td>\n",
       "      <td>34.0</td>\n",
       "      <td>46.0</td>\n",
       "      <td>48.0</td>\n",
       "      <td>30.0</td>\n",
       "      <td>43.0</td>\n",
       "      <td>40.0</td>\n",
       "      <td>34.0</td>\n",
       "      <td>44.0</td>\n",
       "      <td>51.0</td>\n",
       "      <td>...</td>\n",
       "      <td>33.0</td>\n",
       "      <td>43.0</td>\n",
       "      <td>40.0</td>\n",
       "      <td>43.0</td>\n",
       "      <td>50.0</td>\n",
       "      <td>10.0</td>\n",
       "      <td>15.0</td>\n",
       "      <td>9.0</td>\n",
       "      <td>12.0</td>\n",
       "      <td>9.0</td>\n",
       "    </tr>\n",
       "  </tbody>\n",
       "</table>\n",
       "<p>18207 rows × 34 columns</p>\n",
       "</div>"
      ],
      "text/plain": [
       "       Crossing  Finishing  HeadingAccuracy  ShortPassing  Volleys  Dribbling  \\\n",
       "0          84.0       95.0             70.0          90.0     86.0       97.0   \n",
       "1          84.0       94.0             89.0          81.0     87.0       88.0   \n",
       "2          79.0       87.0             62.0          84.0     84.0       96.0   \n",
       "3          17.0       13.0             21.0          50.0     13.0       18.0   \n",
       "4          93.0       82.0             55.0          92.0     82.0       86.0   \n",
       "...         ...        ...              ...           ...      ...        ...   \n",
       "18202      34.0       38.0             40.0          49.0     25.0       42.0   \n",
       "18203      23.0       52.0             52.0          43.0     36.0       39.0   \n",
       "18204      25.0       40.0             46.0          38.0     38.0       45.0   \n",
       "18205      44.0       50.0             39.0          42.0     40.0       51.0   \n",
       "18206      41.0       34.0             46.0          48.0     30.0       43.0   \n",
       "\n",
       "       Curve  FKAccuracy  LongPassing  BallControl  ...  Penalties  Composure  \\\n",
       "0       93.0        94.0         87.0         96.0  ...       75.0       96.0   \n",
       "1       81.0        76.0         77.0         94.0  ...       85.0       95.0   \n",
       "2       88.0        87.0         78.0         95.0  ...       81.0       94.0   \n",
       "3       21.0        19.0         51.0         42.0  ...       40.0       68.0   \n",
       "4       85.0        83.0         91.0         91.0  ...       79.0       88.0   \n",
       "...      ...         ...          ...          ...  ...        ...        ...   \n",
       "18202   30.0        34.0         45.0         43.0  ...       43.0       45.0   \n",
       "18203   32.0        20.0         25.0         40.0  ...       43.0       42.0   \n",
       "18204   38.0        27.0         28.0         44.0  ...       55.0       41.0   \n",
       "18205   34.0        32.0         32.0         52.0  ...       50.0       46.0   \n",
       "18206   40.0        34.0         44.0         51.0  ...       33.0       43.0   \n",
       "\n",
       "       Marking  StandingTackle  SlidingTackle  GKDiving  GKHandling  \\\n",
       "0         33.0            28.0           26.0       6.0        11.0   \n",
       "1         28.0            31.0           23.0       7.0        11.0   \n",
       "2         27.0            24.0           33.0       9.0         9.0   \n",
       "3         15.0            21.0           13.0      90.0        85.0   \n",
       "4         68.0            58.0           51.0      15.0        13.0   \n",
       "...        ...             ...            ...       ...         ...   \n",
       "18202     40.0            48.0           47.0      10.0        13.0   \n",
       "18203     22.0            15.0           19.0      10.0         9.0   \n",
       "18204     32.0            13.0           11.0       6.0         5.0   \n",
       "18205     20.0            25.0           27.0      14.0         6.0   \n",
       "18206     40.0            43.0           50.0      10.0        15.0   \n",
       "\n",
       "       GKKicking  GKPositioning  GKReflexes  \n",
       "0           15.0           14.0         8.0  \n",
       "1           15.0           14.0        11.0  \n",
       "2           15.0           15.0        11.0  \n",
       "3           87.0           88.0        94.0  \n",
       "4            5.0           10.0        13.0  \n",
       "...          ...            ...         ...  \n",
       "18202        7.0            8.0         9.0  \n",
       "18203        9.0            5.0        12.0  \n",
       "18204       10.0            6.0        13.0  \n",
       "18205       14.0            8.0         9.0  \n",
       "18206        9.0           12.0         9.0  \n",
       "\n",
       "[18207 rows x 34 columns]"
      ]
     },
     "execution_count": 89,
     "metadata": {},
     "output_type": "execute_result"
    }
   ],
   "source": [
    "Model_Independent_Variables"
   ]
  },
  {
   "cell_type": "code",
   "execution_count": 90,
   "metadata": {},
   "outputs": [
    {
     "data": {
      "text/plain": [
       "0        94\n",
       "1        94\n",
       "2        92\n",
       "3        91\n",
       "4        91\n",
       "         ..\n",
       "18202    47\n",
       "18203    47\n",
       "18204    47\n",
       "18205    47\n",
       "18206    46\n",
       "Name: Overall, Length: 18207, dtype: int64"
      ]
     },
     "execution_count": 90,
     "metadata": {},
     "output_type": "execute_result"
    }
   ],
   "source": [
    "Model_Dependent_Variable"
   ]
  },
  {
   "cell_type": "code",
   "execution_count": 91,
   "metadata": {},
   "outputs": [
    {
     "name": "stdout",
     "output_type": "stream",
     "text": [
      "(3642, 34) (14565, 34)\n",
      "(3642,) (14565,)\n"
     ]
    }
   ],
   "source": [
    "#Split dataset into test and train datasets\n",
    "from sklearn.model_selection import train_test_split\n",
    "# Create test and train data set. Training data set is 80% of the total and test is 20%\n",
    "X_train, X_test, y_train, y_test = train_test_split(Model_Independent_Variables, Model_Dependent_Variable, test_size=0.2,random_state = 0)\n",
    "\n",
    "#One Hot Encoding\n",
    "X_train = pd.get_dummies(X_train)\n",
    "X_test = pd.get_dummies(X_test)\n",
    "print(X_test.shape,X_train.shape)\n",
    "print(y_test.shape,y_train.shape)"
   ]
  },
  {
   "cell_type": "code",
   "execution_count": 92,
   "metadata": {},
   "outputs": [
    {
     "name": "stdout",
     "output_type": "stream",
     "text": [
      "r2 score: 0.8514783362139567\n",
      "RMSE : 2.6485407085072126\n"
     ]
    }
   ],
   "source": [
    "#Apply Linear Regression\n",
    "from sklearn.linear_model import LinearRegression\n",
    "model = LinearRegression()\n",
    "model.fit(X_train, y_train)\n",
    "predictions = model.predict(X_test)\n",
    "\n",
    "#Finding the r2 score and root mean squared error\n",
    "from sklearn.metrics import r2_score, mean_squared_error\n",
    "print('r2 score: '+str(r2_score(y_test, predictions)))\n",
    "print('RMSE : '+str(np.sqrt(mean_squared_error(y_test, predictions))))"
   ]
  },
  {
   "cell_type": "code",
   "execution_count": 93,
   "metadata": {},
   "outputs": [],
   "source": [
    "from thinkstats2 import Mean, MeanVar, Var, Std, Cov\n",
    "\n",
    "def LeastSquares(xs, ys):\n",
    "    meanx, varx = MeanVar(xs)\n",
    "    meany = Mean(ys)\n",
    "\n",
    "    slope = Cov(xs, ys, meanx, meany) / varx\n",
    "    inter = meany - slope * meanx\n",
    "\n",
    "    return inter, slope"
   ]
  },
  {
   "cell_type": "code",
   "execution_count": 94,
   "metadata": {},
   "outputs": [],
   "source": [
    "def FitLine(xs, inter, slope):\n",
    "    fit_xs = np.sort(xs)\n",
    "    fit_ys = inter + slope * fit_xs\n",
    "    return fit_xs, fit_ys"
   ]
  },
  {
   "cell_type": "code",
   "execution_count": 96,
   "metadata": {},
   "outputs": [
    {
     "data": {
      "text/plain": [
       "(0.16948691508001446, 0.9971888439428312)"
      ]
     },
     "execution_count": 96,
     "metadata": {},
     "output_type": "execute_result"
    }
   ],
   "source": [
    "inter, slope = LeastSquares(predictions, y_test)\n",
    "inter,slope"
   ]
  },
  {
   "cell_type": "code",
   "execution_count": 97,
   "metadata": {},
   "outputs": [],
   "source": [
    "fit_xs, fit_ys = FitLine(predictions, inter, slope)"
   ]
  },
  {
   "cell_type": "code",
   "execution_count": 98,
   "metadata": {},
   "outputs": [
    {
     "data": {
      "image/png": "[encoded data removed]",
      "text/plain": [
       "<Figure size 640x480 with 1 Axes>"
      ]
     },
     "metadata": {},
     "output_type": "display_data"
    }
   ],
   "source": [
    "thinkplot.Scatter(predictions, y_test, color='blue', alpha=0.1, s=10)\n",
    "thinkplot.Plot(fit_xs, fit_ys, color='white', linewidth=3)\n",
    "thinkplot.Plot(fit_xs, fit_ys, color='red', linewidth=2)\n",
    "thinkplot.Config(xlabel=\"Predictions\",\n",
    "                 ylabel='Overall(Actual)',\n",
    "                 legend=False)"
   ]
  },
  {
   "cell_type": "code",
   "execution_count": 105,
   "metadata": {},
   "outputs": [],
   "source": [
    "# reduce features\n",
    "Model_Independent_Variables = data[[\"Crossing\",\"Finishing\",\"HeadingAccuracy\",\"ShortPassing\",\"Volleys\",\"Dribbling\",\"Curve\",\"LongPassing\",\"BallControl\",\"Acceleration\",\"Agility\",\"Stamina\",\"Strength\",]]"
   ]
  },
  {
   "cell_type": "code",
   "execution_count": 106,
   "metadata": {},
   "outputs": [
    {
     "name": "stdout",
     "output_type": "stream",
     "text": [
      "(3642, 13) (14565, 13)\n",
      "(3642,) (14565,)\n"
     ]
    }
   ],
   "source": [
    "#Split dataset into test and train datasets\n",
    "from sklearn.model_selection import train_test_split\n",
    "# Create test and train data set. Training data set is 80% of the total and test is 20%\n",
    "X_train, X_test, y_train, y_test = train_test_split(Model_Independent_Variables, Model_Dependent_Variable, test_size=0.2,random_state = 0)\n",
    "\n",
    "#One Hot Encoding\n",
    "X_train = pd.get_dummies(X_train)\n",
    "X_test = pd.get_dummies(X_test)\n",
    "print(X_test.shape,X_train.shape)\n",
    "print(y_test.shape,y_train.shape)"
   ]
  },
  {
   "cell_type": "code",
   "execution_count": 107,
   "metadata": {},
   "outputs": [
    {
     "name": "stdout",
     "output_type": "stream",
     "text": [
      "r2 score: 0.40904612184323474\n",
      "RMSE : 5.283096496301383\n"
     ]
    }
   ],
   "source": [
    "#Apply Linear Regression\n",
    "from sklearn.linear_model import LinearRegression\n",
    "model = LinearRegression()\n",
    "model.fit(X_train, y_train)\n",
    "predictions = model.predict(X_test)\n",
    "\n",
    "#Finding the r2 score and root mean squared error\n",
    "from sklearn.metrics import r2_score, mean_squared_error\n",
    "print('r2 score: '+str(r2_score(y_test, predictions)))\n",
    "print('RMSE : '+str(np.sqrt(mean_squared_error(y_test, predictions))))"
   ]
  },
  {
   "cell_type": "code",
   "execution_count": 108,
   "metadata": {},
   "outputs": [
    {
     "data": {
      "text/plain": [
       "(-1.1423557380204983, 1.0164462486903685)"
      ]
     },
     "execution_count": 108,
     "metadata": {},
     "output_type": "execute_result"
    }
   ],
   "source": [
    "inter, slope = LeastSquares(predictions, y_test)\n",
    "inter,slope"
   ]
  },
  {
   "cell_type": "code",
   "execution_count": 109,
   "metadata": {},
   "outputs": [],
   "source": [
    "fit_xs, fit_ys = FitLine(predictions, inter, slope)"
   ]
  },
  {
   "cell_type": "code",
   "execution_count": 110,
   "metadata": {},
   "outputs": [
    {
     "data": {
      "image/png": "[encoded data removed]",
      "text/plain": [
       "<Figure size 640x480 with 1 Axes>"
      ]
     },
     "metadata": {},
     "output_type": "display_data"
    }
   ],
   "source": [
    "thinkplot.Scatter(predictions, y_test, color='blue', alpha=0.1, s=10)\n",
    "thinkplot.Plot(fit_xs, fit_ys, color='white', linewidth=3)\n",
    "thinkplot.Plot(fit_xs, fit_ys, color='red', linewidth=2)\n",
    "thinkplot.Config(xlabel=\"Predictions\",\n",
    "                 ylabel='Overall(Actual)',\n",
    "                 legend=False)"
   ]
  }
 ],
 "metadata": {
  "kernelspec": {
   "display_name": "Python 3",
   "language": "python",
   "name": "python3"
  },
  "language_info": {
   "codemirror_mode": {
    "name": "ipython",
    "version": 3
   },
   "file_extension": ".py",
   "mimetype": "text/x-python",
   "name": "python",
   "nbconvert_exporter": "python",
   "pygments_lexer": "ipython3",
   "version": "3.7.4"
  },
  "pycharm": {
   "stem_cell": {
    "cell_type": "raw",
    "source": [],
    "metadata": {
     "collapsed": false
    }
   }
  }
 },
 "nbformat": 4,
 "nbformat_minor": 1
}