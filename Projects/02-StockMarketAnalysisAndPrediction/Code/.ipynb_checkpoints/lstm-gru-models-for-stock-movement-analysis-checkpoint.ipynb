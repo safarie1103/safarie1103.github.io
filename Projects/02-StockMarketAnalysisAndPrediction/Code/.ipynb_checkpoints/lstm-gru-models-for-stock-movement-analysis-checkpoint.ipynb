{
 "cells": [
  {
   "cell_type": "markdown",
   "metadata": {
    "_cell_guid": "8ab8a88d-c7c8-43df-994b-084801959c04",
    "_uuid": "e0f0b0b65ec9a0ebed23ed6aad88b5e72fe1dabc"
   },
   "source": [
    "# Stock Market Analysis"
   ]
  },
  {
   "cell_type": "markdown",
   "metadata": {
    "_cell_guid": "259cb42f-973a-4ead-8d18-1657a57e83d9",
    "_uuid": "bd41cbd5b940d3f878aa41f809b2b91dd8392e36"
   },
   "source": [
    "### This notebook uses LSTM and GRU based models to predict whether stock prices go up or down (Classification Problem)\n",
    "### For this, Technical Indicators are also calculated on stock data.\n",
    "Some part of this notebook is taken from my other kernel https://www.kaggle.com/kratisaxena/stock-market-technical-indicators-visualization\n",
    "Please refer the above kernel for visualization part."
   ]
  },
  {
   "cell_type": "code",
   "execution_count": 3,
   "metadata": {
    "_cell_guid": "c00c0dc9-b8e9-492f-8099-231f1039e678",
    "_uuid": "ee9e90424bfecfe37a4effc31f7904c5e1529677"
   },
   "outputs": [],
   "source": [
    "# Import Modules\n",
    "from pathlib import Path\n",
    "\n",
    "import numpy as np\n",
    "import pandas as pd\n",
    "import os\n",
    "import random\n",
    "import copy\n",
    "import matplotlib.pyplot as plt\n",
    "import matplotlib.dates as mdates\n",
    "import matplotlib.cbook as cbook"
   ]
  },
  {
   "cell_type": "markdown",
   "metadata": {
    "_cell_guid": "8711c717-fd3f-4c32-a75f-341e729275fe",
    "_uuid": "423cf415e7c0c40ca77a5b79dca711d46a6ffef5"
   },
   "source": [
    "## Read the data from Stock folder"
   ]
  },
  {
   "cell_type": "markdown",
   "metadata": {
    "_cell_guid": "ae7e0a51-cbf7-457f-a50e-b5f72058f0f6",
    "_uuid": "b173ada306cc56b79b11a86ab982b49c55962173"
   },
   "source": [
    "### Choose 15 random stock data for analysis"
   ]
  },
  {
   "cell_type": "code",
   "execution_count": 4,
   "metadata": {},
   "outputs": [],
   "source": [
    "data_dir = Path('D:/GitHub/dsc650/ExternalResources/stock-market-technical-indicators-visualization/data/')"
   ]
  },
  {
   "cell_type": "code",
   "execution_count": null,
   "metadata": {
    "_cell_guid": "e4c91245-6c51-4e85-aed8-4caa02a2941c",
    "_uuid": "1824dc4928e36ac56856f1037f0e3de19291b9eb"
   },
   "outputs": [],
   "source": [
    "from subprocess import check_output\n",
    "print(check_output([\"ls\", \"../input\"]).decode(\"utf8\"))\n",
    "import os\n",
    "os.chdir('../input/Data/Stocks/')\n",
    "list = os.listdir()\n",
    "number_files = len(list)\n",
    "print(number_files)"
   ]
  },
  {
   "cell_type": "code",
   "execution_count": null,
   "metadata": {
    "_cell_guid": "666bd64c-35d2-45d3-9486-58fa9e0b9992",
    "_uuid": "c81596cb8d56d00f7055d29ef7977b1f513f70d4"
   },
   "outputs": [],
   "source": [
    "#filenames = [x for x in os.listdir(\"./Stocks/\") if x.endswith('.txt') and os.path.getsize(x) > 0]\n",
    "filenames = random.sample([x for x in os.listdir() if x.endswith('.txt') and os.path.getsize(os.path.join('',x)) > 0], 20)\n",
    "print(filenames)"
   ]
  },
  {
   "cell_type": "markdown",
   "metadata": {
    "_cell_guid": "f21f2fa3-8945-4b25-82d1-86791dcc5549",
    "_uuid": "32c45ad1334e3118389b3b4603c939260787f007"
   },
   "source": [
    "### Read data into dataframes"
   ]
  },
  {
   "cell_type": "code",
   "execution_count": null,
   "metadata": {
    "_cell_guid": "c29f739b-33cd-4727-a88f-40c78ecf6430",
    "_uuid": "4a1cd9ef3f2c67ff30275f0da2c989b0ddd0991d",
    "collapsed": true
   },
   "outputs": [],
   "source": [
    "df = []\n",
    "for filename in filenames:\n",
    "    dff = pd.read_csv(os.path.join('',filename), sep=',')\n",
    "    label, _, _ = filename.split(sep='.')\n",
    "    dff['Label'] = label\n",
    "    dff['Date'] = pd.to_datetime(dff['Date'])\n",
    "    df.append(dff)"
   ]
  },
  {
   "cell_type": "code",
   "execution_count": null,
   "metadata": {
    "_cell_guid": "7e1c6930-ed93-439a-8f63-535259c74b87",
    "_uuid": "0b26054993125ebf50ca2d063cdff237b2ced951"
   },
   "outputs": [],
   "source": [
    "df[0].head()"
   ]
  },
  {
   "cell_type": "code",
   "execution_count": null,
   "metadata": {
    "_cell_guid": "012d6102-e1b0-4ab3-93c4-3e09eafb2f92",
    "_uuid": "4ce31f1647518e83102a8f571016a9b7a3fc76ac"
   },
   "outputs": [],
   "source": [
    "# We will consider the data with maximum entries among those 15 random datasets\n",
    "len_of_data = []\n",
    "for i in range(len(df)):\n",
    "    len_of_data.append(len(df[i]))\n",
    "print(max(len_of_data))\n",
    "\n",
    "index = len_of_data.index(max(len_of_data))\n",
    "print(index)"
   ]
  },
  {
   "cell_type": "markdown",
   "metadata": {
    "_cell_guid": "87521b7b-510a-4e37-84c7-607e1d372603",
    "_uuid": "63729260a435c0c9d3daacd02c27b41a41aa95f2"
   },
   "source": [
    "## Add various Technical Indicators in the dataframe"
   ]
  },
  {
   "cell_type": "markdown",
   "metadata": {
    "_cell_guid": "b1d47228-dc37-41b1-b5dc-eb35a0cb53d5",
    "_uuid": "c8e35520b613dd82ce1213450576a5472168e606"
   },
   "source": [
    "There are four types of Technical Indicators. Lets us take 4 sets of indicators and test which performs better in prediction of stock markets.\n",
    "These 4 sets of Technical Indicators are:\n",
    "- RSI, Volume (plain), Bollinger Bands, Aroon, Price Volume Trend, acceleration bands\n",
    "- Stochastic, Chaikin Money Flow, Parabolic SAR, Rate of Change, Volume weighted average Price, momentum\n",
    "- Commodity Channel Index, On Balance Volume, Keltner Channels, Triple Exponential Moving Average, Normalized Averager True Range ,directional movement indicators\n",
    "- MACD, Money flowindex , Ichimoku, William %R, Volume MINMAX, adaptive moving average"
   ]
  },
  {
   "cell_type": "code",
   "execution_count": null,
   "metadata": {
    "_cell_guid": "ea3e47d0-e87e-4b92-b728-914bb2e3a843",
    "_uuid": "30561b72815533a4c2665048a4b936f1a1ea8f34",
    "collapsed": true
   },
   "outputs": [],
   "source": [
    "\n",
    "# Create 4 copies of data to add columns of different sets of Technical Indicators\n",
    "data = df[index]\n",
    "techindi1 = copy.deepcopy(data)\n",
    "techindi2 = copy.deepcopy(data)\n",
    "techindi3 = copy.deepcopy(data)\n",
    "techindi4 = copy.deepcopy(data)"
   ]
  },
  {
   "cell_type": "markdown",
   "metadata": {
    "_cell_guid": "c504ffd1-3862-47d2-9746-3b49c15ebe37",
    "_uuid": "a95055b350398849004eda02337b0a85f2eca42a"
   },
   "source": [
    "# techindi1 dataframe"
   ]
  },
  {
   "cell_type": "markdown",
   "metadata": {
    "_cell_guid": "068d4b8d-5fb7-48ad-8379-e7816d396f18",
    "_uuid": "c7ee79a09e09923f169faec5d2b50bc1348dd2e3"
   },
   "source": [
    "### Calculation of Relative Strength Index (RSI)"
   ]
  },
  {
   "cell_type": "code",
   "execution_count": null,
   "metadata": {
    "_cell_guid": "d93fe051-2f44-4d62-8e6d-3ae1ac560e8b",
    "_uuid": "90840b46d1cd7aea6979f70a41d2613d52be9690",
    "collapsed": true
   },
   "outputs": [],
   "source": [
    "# Relative Strength Index\n",
    "# Avg(PriceUp)/(Avg(PriceUP)+Avg(PriceDown)*100\n",
    "# Where: PriceUp(t)=1*(Price(t)-Price(t-1)){Price(t)- Price(t-1)>0};\n",
    "#        PriceDown(t)=-1*(Price(t)-Price(t-1)){Price(t)- Price(t-1)<0};\n",
    "\n",
    "def rsi(values):\n",
    "    up = values[values>0].mean()\n",
    "    down = -1*values[values<0].mean()\n",
    "    return 100 * up / (up + down)\n"
   ]
  },
  {
   "cell_type": "code",
   "execution_count": null,
   "metadata": {
    "_cell_guid": "23bc5ea3-f41d-4212-a754-8d084f7699e0",
    "_uuid": "f602fdcfcbbb784b49a5dd57beb87461a2e5f45c"
   },
   "outputs": [],
   "source": [
    "# Add Momentum_1D column for all 15 stocks.\n",
    "# Momentum_1D = P(t) - P(t-1)\n",
    "\n",
    "techindi1['Momentum_1D'] = (techindi1['Close']-techindi1['Close'].shift(1)).fillna(0)\n",
    "techindi1['RSI_14D'] = techindi1['Momentum_1D'].rolling(center=False, window=14).apply(rsi).fillna(0)\n",
    "techindi1.tail(5)"
   ]
  },
  {
   "cell_type": "markdown",
   "metadata": {
    "_cell_guid": "b265aa66-e611-4bcf-bb33-36ea8ae4f04c",
    "_uuid": "38304d2ccf55ac885915d4b4751a9ddfeb57c76c"
   },
   "source": [
    "### Calculation of Volume (Plain)"
   ]
  },
  {
   "cell_type": "code",
   "execution_count": null,
   "metadata": {
    "_cell_guid": "e24ad68d-e807-4686-a4e1-cd71890c7eee",
    "_uuid": "de41b931652d551a67630a17b2ee0aaae41e96b9"
   },
   "outputs": [],
   "source": [
    "\n",
    "techindi1['Volume_plain'] = techindi1['Volume'].fillna(0)\n",
    "techindi1.tail()"
   ]
  },
  {
   "cell_type": "markdown",
   "metadata": {
    "_cell_guid": "206cb7bd-e6eb-4fd8-a10f-c333e8231b2a",
    "_uuid": "13424d9df2abf1ef67f263f8da0700f92e4be9dd"
   },
   "source": [
    "### Calculation of Bollinger Bands"
   ]
  },
  {
   "cell_type": "code",
   "execution_count": null,
   "metadata": {
    "_cell_guid": "df9fff6c-b0e3-4ca9-a3f5-d838172a4382",
    "_uuid": "721a8a5cd51c6368b291421a89a05270d0e10fe8",
    "collapsed": true
   },
   "outputs": [],
   "source": [
    "def bbands(price, length=30, numsd=2):\n",
    "    \"\"\" returns average, upper band, and lower band\"\"\"\n",
    "    #ave = pd.stats.moments.rolling_mean(price,length)\n",
    "    ave = price.rolling(window = length, center = False).mean()\n",
    "    #sd = pd.stats.moments.rolling_std(price,length)\n",
    "    sd = price.rolling(window = length, center = False).std()\n",
    "    upband = ave + (sd*numsd)\n",
    "    dnband = ave - (sd*numsd)\n",
    "    return np.round(ave,3), np.round(upband,3), np.round(dnband,3)"
   ]
  },
  {
   "cell_type": "code",
   "execution_count": null,
   "metadata": {
    "_cell_guid": "fe635b72-6800-4f61-8019-6dad4f960bc1",
    "_uuid": "fffaf7055961f4e999ed531e29b36b3d5d52761a"
   },
   "outputs": [],
   "source": [
    "techindi1['BB_Middle_Band'], techindi1['BB_Upper_Band'], techindi1['BB_Lower_Band'] = bbands(techindi1['Close'], length=20, numsd=1)\n",
    "techindi1['BB_Middle_Band'] = techindi1['BB_Middle_Band'].fillna(0)\n",
    "techindi1['BB_Upper_Band'] = techindi1['BB_Upper_Band'].fillna(0)\n",
    "techindi1['BB_Lower_Band'] = techindi1['BB_Lower_Band'].fillna(0)\n",
    "techindi1.tail()"
   ]
  },
  {
   "cell_type": "markdown",
   "metadata": {
    "_cell_guid": "305feb34-11a3-4ddc-b9c6-aa37363788e0",
    "_uuid": "50e2a018742857337685aa0ef786315fdf6d6cf8"
   },
   "source": [
    "### Calculation of Aroon Oscillator"
   ]
  },
  {
   "cell_type": "code",
   "execution_count": null,
   "metadata": {
    "_cell_guid": "91352b8a-540f-4cb9-8f55-18eb40218ab8",
    "_uuid": "bbfdc2758747cebb4009cfafaab92df42ccdf82f",
    "collapsed": true
   },
   "outputs": [],
   "source": [
    "def aroon(df, tf=25):\n",
    "    aroonup = []\n",
    "    aroondown = []\n",
    "    x = tf\n",
    "    while x< len(df['Date']):\n",
    "        aroon_up = ((df['High'][x-tf:x].tolist().index(max(df['High'][x-tf:x])))/float(tf))*100\n",
    "        aroon_down = ((df['Low'][x-tf:x].tolist().index(min(df['Low'][x-tf:x])))/float(tf))*100\n",
    "        aroonup.append(aroon_up)\n",
    "        aroondown.append(aroon_down)\n",
    "        x+=1\n",
    "    return aroonup, aroondown"
   ]
  },
  {
   "cell_type": "code",
   "execution_count": null,
   "metadata": {
    "_cell_guid": "411c2766-8ff6-4471-9e49-fafb07214003",
    "_uuid": "6850c8fdab29ebb4beb25b31755919e3a04afc20",
    "collapsed": true
   },
   "outputs": [],
   "source": [
    "listofzeros = [0] * 25\n",
    "up, down = aroon(techindi1)\n",
    "aroon_list = [x - y for x, y in zip(up,down)]\n",
    "if len(aroon_list)==0:\n",
    "    aroon_list = [0] * techindi1.shape[0]\n",
    "    techindi1['Aroon_Oscillator'] = aroon_list\n",
    "else:\n",
    "    techindi1['Aroon_Oscillator'] = listofzeros+aroon_list\n"
   ]
  },
  {
   "cell_type": "markdown",
   "metadata": {
    "_cell_guid": "3c369986-1847-405a-aad3-c2a830159e9d",
    "_uuid": "96d5c2ce0559b7db19234978f72353fece823c88"
   },
   "source": [
    "### Calculation of Price Volume Trend"
   ]
  },
  {
   "cell_type": "markdown",
   "metadata": {
    "_cell_guid": "15716224-5bc4-4fde-9180-3a7c74a54d3b",
    "_uuid": "952e3bf550471fdd589a40748de76673796470fb"
   },
   "source": [
    "PVT = [((CurrentClose - PreviousClose) / PreviousClose) x Volume] + PreviousPVT"
   ]
  },
  {
   "cell_type": "code",
   "execution_count": null,
   "metadata": {
    "_cell_guid": "e3a75466-b7ad-4a5a-8324-ebca846bb343",
    "_uuid": "0972b57cd164d33b38b4603de78787531c95556b"
   },
   "outputs": [],
   "source": [
    "techindi1[\"PVT\"] = (techindi1['Momentum_1D']/ techindi1['Close'].shift(1))*techindi1['Volume']\n",
    "techindi1[\"PVT\"] = techindi1[\"PVT\"]-techindi1[\"PVT\"].shift(1)\n",
    "techindi1[\"PVT\"] = techindi1[\"PVT\"].fillna(0)\n",
    "techindi1.tail()"
   ]
  },
  {
   "cell_type": "markdown",
   "metadata": {
    "_cell_guid": "ebecd0b1-5748-4c79-9540-29670c1cf4cb",
    "_uuid": "2e6021c093b74eb2f4c0d02d58ae3745056976f5"
   },
   "source": [
    "### Calculation of Acceleration Bands"
   ]
  },
  {
   "cell_type": "code",
   "execution_count": null,
   "metadata": {
    "_cell_guid": "66c55f03-9688-40ee-9401-72a36489c695",
    "_uuid": "aa9f53d4b7989cf9642a8018c2a905a6c77b4c5c",
    "collapsed": true
   },
   "outputs": [],
   "source": [
    "def abands(df):\n",
    "    #df['AB_Middle_Band'] = pd.rolling_mean(df['Close'], 20)\n",
    "    df['AB_Middle_Band'] = df['Close'].rolling(window = 20, center=False).mean()\n",
    "    # High * ( 1 + 4 * (High - Low) / (High + Low))\n",
    "    df['aupband'] = df['High'] * (1 + 4 * (df['High']-df['Low'])/(df['High']+df['Low']))\n",
    "    df['AB_Upper_Band'] = df['aupband'].rolling(window=20, center=False).mean()\n",
    "    # Low *(1 - 4 * (High - Low)/ (High + Low))\n",
    "    df['adownband'] = df['Low'] * (1 - 4 * (df['High']-df['Low'])/(df['High']+df['Low']))\n",
    "    df['AB_Lower_Band'] = df['adownband'].rolling(window=20, center=False).mean()"
   ]
  },
  {
   "cell_type": "code",
   "execution_count": null,
   "metadata": {
    "_cell_guid": "b5bd031a-503b-4028-a29c-79a6cbe4f0b7",
    "_uuid": "c98ae1f5a0c38313cbdc9f82bb4a216caffc57f2"
   },
   "outputs": [],
   "source": [
    "abands(techindi1)\n",
    "techindi1 = techindi1.fillna(0)\n",
    "techindi1.tail()"
   ]
  },
  {
   "cell_type": "markdown",
   "metadata": {
    "_cell_guid": "c4394d65-f566-4b9f-8959-9e19d2610518",
    "_uuid": "486e6dad80c0da729c2bbec2313e1c6d9d31c22a"
   },
   "source": [
    "## Drop unwanted columns"
   ]
  },
  {
   "cell_type": "code",
   "execution_count": null,
   "metadata": {
    "_cell_guid": "de2edf36-2b43-4dc5-8bb8-19bc969e2731",
    "_uuid": "10f42145ba011ffd5765748cb6f00cb62ce67f2f"
   },
   "outputs": [],
   "source": [
    "columns2Drop = ['Momentum_1D', 'aupband', 'adownband']\n",
    "techindi1 = techindi1.drop(labels = columns2Drop, axis=1)\n",
    "techindi1.head()"
   ]
  },
  {
   "cell_type": "markdown",
   "metadata": {
    "_cell_guid": "a5c9ba35-1cd2-4073-8bae-14b4f0364e9d",
    "_uuid": "ab63ad5e02415bfb794133fa3ddde781a8950e77"
   },
   "source": [
    "# techindi2 dataframe"
   ]
  },
  {
   "cell_type": "markdown",
   "metadata": {
    "_cell_guid": "110b6f1d-8dbf-4e9a-8ec5-b4d42372ded2",
    "_uuid": "b5c3cfd60841fd4f89027007284af5316ce68420"
   },
   "source": [
    "### Calculation of Stochastic Oscillator (%K and %D)"
   ]
  },
  {
   "cell_type": "code",
   "execution_count": null,
   "metadata": {
    "_cell_guid": "3f04b643-f522-4772-a2a0-82118be684b3",
    "_uuid": "5b5f773a29ffa6360b3cf7d2ef3afb6a8dea7868",
    "collapsed": true
   },
   "outputs": [],
   "source": [
    "def STOK(df, n):\n",
    "    df['STOK'] = ((df['Close'] - df['Low'].rolling(window=n, center=False).mean()) / (df['High'].rolling(window=n, center=False).max() - df['Low'].rolling(window=n, center=False).min())) * 100\n",
    "    df['STOD'] = df['STOK'].rolling(window = 3, center=False).mean()"
   ]
  },
  {
   "cell_type": "code",
   "execution_count": null,
   "metadata": {
    "_cell_guid": "fcbb2adf-9aa0-4fd4-88f8-35052fd8a8f0",
    "_uuid": "d7e266a28fa3fc14f444073dd611cc2a258c40bf"
   },
   "outputs": [],
   "source": [
    "STOK(techindi2, 4)\n",
    "techindi2 = techindi2.fillna(0)\n",
    "techindi2.tail()"
   ]
  },
  {
   "cell_type": "markdown",
   "metadata": {
    "_cell_guid": "2b5064d8-3167-42f0-877d-7a6b49d77330",
    "_uuid": "172d9d5fe29792cc37541e684ae9373b3f98cf8e"
   },
   "source": [
    "### Calculation of Chaikin Money Flow"
   ]
  },
  {
   "cell_type": "code",
   "execution_count": null,
   "metadata": {
    "_cell_guid": "58ec20d4-3343-47b0-bafe-fb0ba201888b",
    "_uuid": "c5661b0380374966619d176613720ae8cd7daa28",
    "collapsed": true
   },
   "outputs": [],
   "source": [
    "def CMFlow(df, tf):\n",
    "    CHMF = []\n",
    "    MFMs = []\n",
    "    MFVs = []\n",
    "    x = tf\n",
    "    \n",
    "    while x < len(df['Date']):\n",
    "        PeriodVolume = 0\n",
    "        volRange = df['Volume'][x-tf:x]\n",
    "        for eachVol in volRange:\n",
    "            PeriodVolume += eachVol\n",
    "        \n",
    "        MFM = ((df['Close'][x] - df['Low'][x]) - (df['High'][x] - df['Close'][x])) / (df['High'][x] - df['Low'][x])\n",
    "        MFV = MFM*PeriodVolume\n",
    "        \n",
    "        MFMs.append(MFM)\n",
    "        MFVs.append(MFV)\n",
    "        x+=1\n",
    "    \n",
    "    y = tf\n",
    "    while y < len(MFVs):\n",
    "        PeriodVolume = 0\n",
    "        volRange = df['Volume'][x-tf:x]\n",
    "        for eachVol in volRange:\n",
    "            PeriodVolume += eachVol\n",
    "        consider = MFVs[y-tf:y]\n",
    "        tfsMFV = 0\n",
    "        \n",
    "        for eachMFV in consider:\n",
    "            tfsMFV += eachMFV\n",
    "        \n",
    "        tfsCMF = tfsMFV/PeriodVolume\n",
    "        CHMF.append(tfsCMF)\n",
    "        y+=1\n",
    "    return CHMF"
   ]
  },
  {
   "cell_type": "code",
   "execution_count": null,
   "metadata": {
    "_cell_guid": "7c93602c-2c00-4e91-adeb-2af06516fb19",
    "_uuid": "0bec4b93aecb75990822529c254caa8fbf0e1197"
   },
   "outputs": [],
   "source": [
    "listofzeros = [0] * 40\n",
    "CHMF = CMFlow(techindi2, 20)\n",
    "if len(CHMF)==0:\n",
    "    CHMF = [0] * techindi2.shape[0]\n",
    "    techindi2['Chaikin_MF'] = CHMF\n",
    "else:\n",
    "    techindi2['Chaikin_MF'] = listofzeros+CHMF\n",
    "techindi2.tail()"
   ]
  },
  {
   "cell_type": "markdown",
   "metadata": {
    "_cell_guid": "e0684562-0a09-44b6-9d83-8643cfc0950a",
    "_uuid": "02369b7d878c220351b9aa527620733a1a8d8c52"
   },
   "source": [
    "### Calculation of Parabolic SAR"
   ]
  },
  {
   "cell_type": "code",
   "execution_count": null,
   "metadata": {
    "_cell_guid": "a9361f67-8f87-47ac-853d-ecbd4846ca12",
    "_uuid": "2ac12a8c6d848a458d3b1bf64a6f043c72e7ccc6",
    "collapsed": true
   },
   "outputs": [],
   "source": [
    "def psar(df, iaf = 0.02, maxaf = 0.2):\n",
    "    length = len(df)\n",
    "    dates = (df['Date'])\n",
    "    high = (df['High'])\n",
    "    low = (df['Low'])\n",
    "    close = (df['Close'])\n",
    "    psar = df['Close'][0:len(df['Close'])]\n",
    "    psarbull = [None] * length\n",
    "    psarbear = [None] * length\n",
    "    bull = True\n",
    "    af = iaf\n",
    "    ep = df['Low'][0]\n",
    "    hp = df['High'][0]\n",
    "    lp = df['Low'][0]\n",
    "    for i in range(2,length):\n",
    "        if bull:\n",
    "            psar[i] = psar[i - 1] + af * (hp - psar[i - 1])\n",
    "        else:\n",
    "            psar[i] = psar[i - 1] + af * (lp - psar[i - 1])\n",
    "        reverse = False\n",
    "        if bull:\n",
    "            if df['Low'][i] < psar[i]:\n",
    "                bull = False\n",
    "                reverse = True\n",
    "                psar[i] = hp\n",
    "                lp = df['Low'][i]\n",
    "                af = iaf\n",
    "        else:\n",
    "            if df['High'][i] > psar[i]:\n",
    "                bull = True\n",
    "                reverse = True\n",
    "                psar[i] = lp\n",
    "                hp = df['High'][i]\n",
    "                af = iaf\n",
    "        if not reverse:\n",
    "            if bull:\n",
    "                if df['High'][i] > hp:\n",
    "                    hp = df['High'][i]\n",
    "                    af = min(af + iaf, maxaf)\n",
    "                if df['Low'][i - 1] < psar[i]:\n",
    "                    psar[i] = df['Low'][i - 1]\n",
    "                if df['Low'][i - 2] < psar[i]:\n",
    "                    psar[i] = df['Low'][i - 2]\n",
    "            else:\n",
    "                if df['Low'][i] < lp:\n",
    "                    lp = df['Low'][i]\n",
    "                    af = min(af + iaf, maxaf)\n",
    "                if df['High'][i - 1] > psar[i]:\n",
    "                    psar[i] = df['High'][i - 1]\n",
    "                if df['High'][i - 2] > psar[i]:\n",
    "                    psar[i] = df['High'][i - 2]\n",
    "        if bull:\n",
    "            psarbull[i] = psar[i]\n",
    "        else:\n",
    "            psarbear[i] = psar[i]\n",
    "    #return {\"dates\":dates, \"high\":high, \"low\":low, \"close\":close, \"psar\":psar, \"psarbear\":psarbear, \"psarbull\":psarbull}\n",
    "    #return psar, psarbear, psarbull\n",
    "    df['psar'] = psar\n",
    "    #df['psarbear'] = psarbear\n",
    "    #df['psarbull'] = psarbull"
   ]
  },
  {
   "cell_type": "code",
   "execution_count": null,
   "metadata": {
    "_cell_guid": "c2fe8302-44bf-4f0a-9806-3b30a8a35e8a",
    "_uuid": "4ed2fa64410859ede679ca79e295e97b9ad43c8b"
   },
   "outputs": [],
   "source": [
    "psar(techindi2)\n",
    "\n",
    "techindi2.tail()"
   ]
  },
  {
   "cell_type": "markdown",
   "metadata": {
    "_cell_guid": "42a2b10e-0571-4697-b6ff-1c4dc790cc88",
    "_uuid": "c54ffd0bbbd0e09fcaf99750a588ecf411621437"
   },
   "source": [
    "### Calculation of Price Rate of Change"
   ]
  },
  {
   "cell_type": "code",
   "execution_count": null,
   "metadata": {
    "_cell_guid": "e08f5e2d-f05b-47cf-bab2-3ac67e8897a0",
    "_uuid": "1c73acc454c813e5281b2c6f6c5a6fc74568c5a2"
   },
   "outputs": [],
   "source": [
    "# ROC = [(Close - Close n periods ago) / (Close n periods ago)] * 100\n",
    "\n",
    "techindi2['ROC'] = ((techindi2['Close'] - techindi2['Close'].shift(12))/(techindi2['Close'].shift(12)))*100\n",
    "techindi2 = techindi2.fillna(0)\n",
    "techindi2.tail()"
   ]
  },
  {
   "cell_type": "markdown",
   "metadata": {
    "_cell_guid": "745a308f-7a83-4b70-a5bb-223102333b74",
    "_uuid": "a7c9f36102fb5c53b4316b73ca0f7e8d3ba0e1c3"
   },
   "source": [
    "### Calculation of Volume Weighted Average Price"
   ]
  },
  {
   "cell_type": "code",
   "execution_count": null,
   "metadata": {
    "_cell_guid": "40ef7fa9-b811-41b4-bab7-545b67cec432",
    "_uuid": "03465da342e989e5afc9de15eddf0907e18c2b68"
   },
   "outputs": [],
   "source": [
    "techindi2['VWAP'] = np.cumsum(techindi2['Volume'] * (techindi2['High'] + techindi2['Low'])/2) / np.cumsum(techindi2['Volume'])\n",
    "techindi2 = techindi2.fillna(0)\n",
    "techindi2.tail()"
   ]
  },
  {
   "cell_type": "markdown",
   "metadata": {
    "_cell_guid": "3fd49e87-f55e-4b1f-9ed8-8a0e103cc6f8",
    "_uuid": "3f78e1a762d645552e73a8ac6159a336e07eb733"
   },
   "source": [
    "### Calculation of Momentum "
   ]
  },
  {
   "cell_type": "code",
   "execution_count": null,
   "metadata": {
    "_cell_guid": "7d8164a5-ff07-4c9d-b189-2a3414df4e29",
    "_uuid": "ff5baf3dc87cfb5439c89a9c387086273153d4d1"
   },
   "outputs": [],
   "source": [
    "techindi2['Momentum'] = techindi2['Close'] - techindi2['Close'].shift(4)\n",
    "techindi2 = techindi2.fillna(0)\n",
    "techindi2.tail()"
   ]
  },
  {
   "cell_type": "markdown",
   "metadata": {
    "_cell_guid": "4af40bff-7b9b-43ed-adcb-f6e848e8f1b3",
    "_uuid": "547a79702452286669b3e338e37841da407e0a74"
   },
   "source": [
    "# techindi3 dataframe"
   ]
  },
  {
   "cell_type": "markdown",
   "metadata": {
    "_cell_guid": "2ff07d43-c99f-4fcc-89b4-c0e64ac3ef02",
    "_uuid": "8d4eb4146ec38d6046671fa7b6555944e77ffda6"
   },
   "source": [
    "### Calculation of Commodity Channel Index"
   ]
  },
  {
   "cell_type": "code",
   "execution_count": null,
   "metadata": {
    "_cell_guid": "bcb96ffa-82f8-47e4-ba78-a9e5bc2c8b97",
    "_uuid": "9b295a68104d35c1413d236c34005966304b5e47",
    "collapsed": true
   },
   "outputs": [],
   "source": [
    "def CCI(df, n, constant):\n",
    "    TP = (df['High'] + df['Low'] + df['Close']) / 3\n",
    "    CCI = pd.Series((TP - TP.rolling(window=n, center=False).mean()) / (constant * TP.rolling(window=n, center=False).std())) #, name = 'CCI_' + str(n))\n",
    "    return CCI"
   ]
  },
  {
   "cell_type": "code",
   "execution_count": null,
   "metadata": {
    "_cell_guid": "c595f7b0-3fac-4ec6-a6c7-1b462c4db01a",
    "_uuid": "ebe8f2418836509650cd7e43c0b5b970705724f4"
   },
   "outputs": [],
   "source": [
    "techindi3['CCI'] = CCI(techindi3, 20, 0.015)\n",
    "techindi3 = techindi3.fillna(0)\n",
    "techindi3.tail()"
   ]
  },
  {
   "cell_type": "markdown",
   "metadata": {
    "_cell_guid": "88cbf92a-8bda-4075-8698-4d132b7abf47",
    "_uuid": "7d8bd6ca9bc035e4f09dfe7b41d7c6a1984c1d6b"
   },
   "source": [
    "### Calculation of On Balance Volume"
   ]
  },
  {
   "cell_type": "markdown",
   "metadata": {
    "_cell_guid": "98d0def1-c387-4ac8-85b5-780ca796501c",
    "_uuid": "ded1196e3afe0fb635fe17e4882c03fa6bef9171"
   },
   "source": [
    "            \n",
    "If the closing price is above the prior close price then: \n",
    "Current OBV = Previous OBV + Current Volume\n",
    "\n",
    "If the closing price is below the prior close price then: \n",
    "Current OBV = Previous OBV  -  Current Volume\n",
    "\n",
    "If the closing prices equals the prior close price then:\n",
    "Current OBV = Previous OBV (no change)"
   ]
  },
  {
   "cell_type": "code",
   "execution_count": null,
   "metadata": {
    "_cell_guid": "25e4b350-191c-404b-b666-8dcaf3a1d3fc",
    "_uuid": "ea36af00f50bc3e971e0bb6fce3b3d8b6c517688"
   },
   "outputs": [],
   "source": [
    "new = (techindi3['Volume'] * (~techindi3['Close'].diff().le(0) * 2 -1)).cumsum()\n",
    "techindi3['OBV'] = new\n",
    "techindi3.tail()"
   ]
  },
  {
   "cell_type": "markdown",
   "metadata": {
    "_cell_guid": "e83f7917-bfc6-4a19-8445-96806c04022c",
    "_uuid": "05cc19022a9eb72daa8dd4df0ee184cdce2b3b0f"
   },
   "source": [
    "### Calcualtion of Keltner Channels"
   ]
  },
  {
   "cell_type": "code",
   "execution_count": null,
   "metadata": {
    "_cell_guid": "96835bc5-caec-49c6-8268-081bcb849552",
    "_uuid": "e96b6d9218e0bfea185bbe540a31869e8468a004",
    "collapsed": true
   },
   "outputs": [],
   "source": [
    "#Keltner Channel  \n",
    "def KELCH(df, n):  \n",
    "    KelChM = pd.Series(((df['High'] + df['Low'] + df['Close']) / 3).rolling(window =n, center=False).mean(), name = 'KelChM_' + str(n))  \n",
    "    KelChU = pd.Series(((4 * df['High'] - 2 * df['Low'] + df['Close']) / 3).rolling(window =n, center=False).mean(), name = 'KelChU_' + str(n))  \n",
    "    KelChD = pd.Series(((-2 * df['High'] + 4 * df['Low'] + df['Close']) / 3).rolling(window =n, center=False).mean(), name = 'KelChD_' + str(n))    \n",
    "    return KelChM, KelChD, KelChU"
   ]
  },
  {
   "cell_type": "code",
   "execution_count": null,
   "metadata": {
    "_cell_guid": "6cc9078e-6fd9-4d5f-b5de-fe142f3f89ec",
    "_uuid": "471a18802eafb48073970ec3dd1138a8b49812fb"
   },
   "outputs": [],
   "source": [
    "KelchM, KelchD, KelchU = KELCH(techindi3, 14)\n",
    "techindi3['Kelch_Upper'] = KelchU\n",
    "techindi3['Kelch_Middle'] = KelchM\n",
    "techindi3['Kelch_Down'] = KelchD\n",
    "techindi3 = techindi3.fillna(0)\n",
    "techindi3.tail()"
   ]
  },
  {
   "cell_type": "markdown",
   "metadata": {
    "_cell_guid": "f93ada61-df37-4ab8-afcf-7d2d4f18992a",
    "_uuid": "9170a5fad2408484aacacbdbdef50f583eed81e8"
   },
   "source": [
    "### Calculation of Triple Exponential Moving Average"
   ]
  },
  {
   "cell_type": "markdown",
   "metadata": {
    "_cell_guid": "4516e006-92e6-44da-a6d5-58e8e805fc2b",
    "_uuid": "4c27ce8fb9f5b0c49e3276104f5571d5a7d47025"
   },
   "source": [
    "Triple Exponential MA Formula:\n",
    "\n",
    "T-EMA = (3*EMA – 3*EMA(EMA)) + EMA(EMA(EMA))\n",
    "\n",
    "Where:\n",
    "\n",
    "EMA = EMA(1) + α * (Close – EMA(1))\n",
    "\n",
    "α = 2 / (N + 1)\n",
    "\n",
    "N = The smoothing period."
   ]
  },
  {
   "cell_type": "code",
   "execution_count": null,
   "metadata": {
    "_cell_guid": "728461c5-ce5f-4620-a72f-03cc8974e8b5",
    "_uuid": "bfea375120dd7b2fc202e8a54c1c69979428c7b3"
   },
   "outputs": [],
   "source": [
    "techindi3['EMA'] = techindi3['Close'].ewm(span=3,min_periods=0,adjust=True,ignore_na=False).mean()\n",
    "techindi3 = techindi3.fillna(0)\n",
    "\n",
    "\n",
    "techindi3['TEMA'] = (3 * techindi3['EMA'] - 3 * techindi3['EMA'] * techindi3['EMA']) + (techindi3['EMA']*techindi3['EMA']*techindi3['EMA'])\n",
    "techindi3.tail()"
   ]
  },
  {
   "cell_type": "markdown",
   "metadata": {
    "_cell_guid": "d30966b9-200c-43e0-ae94-bda18c00dbe9",
    "_uuid": "2eebc3fc57ee68d1f46dc49fe01451ec11de2f2c"
   },
   "source": [
    "### Calculation of Normalized Average True Range"
   ]
  },
  {
   "cell_type": "markdown",
   "metadata": {
    "_cell_guid": "02045a2b-946c-4d34-b5bd-483026f3b30b",
    "_uuid": "f77e33bbe62bb046942f6a2baadcd74ac980f8c3"
   },
   "source": [
    "True Range = Highest of (HIgh - low, abs(High - previous close), abs(low - previous close))\n",
    "\n",
    "Average True Range = 14 day MA of True Range\n",
    "\n",
    "Normalized Average True Range = ATR / Close * 100"
   ]
  },
  {
   "cell_type": "code",
   "execution_count": null,
   "metadata": {
    "_cell_guid": "a704a70d-cf1b-4d6f-9fce-a197fd59ab58",
    "_uuid": "f78022347f7347ab6eb5840e0d617fb72a04b0e2"
   },
   "outputs": [],
   "source": [
    "techindi3['HL'] = techindi3['High'] - techindi3['Low']\n",
    "techindi3['absHC'] = abs(techindi3['High'] - techindi3['Close'].shift(1))\n",
    "techindi3['absLC'] = abs(techindi3['Low'] - techindi3['Close'].shift(1))\n",
    "techindi3['TR'] = techindi3[['HL','absHC','absLC']].max(axis=1)\n",
    "techindi3['ATR'] = techindi3['TR'].rolling(window=14).mean()\n",
    "techindi3['NATR'] = (techindi3['ATR'] / techindi3['Close']) *100\n",
    "techindi3 = techindi3.fillna(0)\n",
    "techindi3.tail()"
   ]
  },
  {
   "cell_type": "markdown",
   "metadata": {
    "_cell_guid": "0f6c847e-ebaf-42b3-be9d-4af3e811a7ce",
    "_uuid": "a35a2645f3f18578128a1734058f5a7adceaab82"
   },
   "source": [
    "### Calculation of Average Directional Movement Index (ADX)"
   ]
  },
  {
   "cell_type": "markdown",
   "metadata": {
    "_cell_guid": "423b37bc-a4f5-4ab5-8bc6-2cee5ee0bde8",
    "_uuid": "e86a3fea92506fee338cf365e11efd53195aa91a"
   },
   "source": [
    "Calculating the DMI can actually be broken down into two parts. \n",
    "First, calculating the +DI and -DI, and second, calculating the ADX.\n",
    "\n",
    "To calculate the +DI and -DI you need to find the +DM and -DM (Directional Movement). \n",
    "+DM and -DM are calculated using the High, Low and Close for each period. \n",
    "You can then calculate the following:\n",
    "\n",
    "Current High - Previous High = UpMove\n",
    "Previous Low - Current Low = DownMove\n",
    "\n",
    "If UpMove > DownMove and UpMove > 0, then +DM = UpMove, else +DM = 0\n",
    "If DownMove > Upmove and Downmove > 0, then -DM = DownMove, else -DM = 0\n",
    "\n",
    "Once you have the current +DM and -DM calculated, the +DM and -DM lines can be \n",
    "calculated and plotted based on the number of user defined periods.\n",
    "\n",
    "+DI = 100 times Exponential Moving Average of (+DM / Average True Range)\n",
    "-DI = 100 times Exponential Moving Average of (-DM / Average True Range)\n",
    "\n",
    "Now that -+DX and -DX have been calculated, the last step is calculating the ADX.\n",
    "\n",
    "ADX = 100 times the Exponential Moving Average of the Absolute Value of (+DI - -DI) / (+DI + -DI)"
   ]
  },
  {
   "cell_type": "code",
   "execution_count": null,
   "metadata": {
    "_cell_guid": "1f0fa6a9-00b2-43f6-9fac-0834c9bff61f",
    "_uuid": "bc5a3234b988fe682426b9e98ee15c36c35084c2",
    "collapsed": true
   },
   "outputs": [],
   "source": [
    "def DMI(df, period):\n",
    "    df['UpMove'] = df['High'] - df['High'].shift(1)\n",
    "    df['DownMove'] = df['Low'].shift(1) - df['Low']\n",
    "    df['Zero'] = 0\n",
    "\n",
    "    df['PlusDM'] = np.where((df['UpMove'] > df['DownMove']) & (df['UpMove'] > df['Zero']), df['UpMove'], 0)\n",
    "    df['MinusDM'] = np.where((df['UpMove'] < df['DownMove']) & (df['DownMove'] > df['Zero']), df['DownMove'], 0)\n",
    "\n",
    "    df['plusDI'] = 100 * (df['PlusDM']/df['ATR']).ewm(span=period,min_periods=0,adjust=True,ignore_na=False).mean()\n",
    "    df['minusDI'] = 100 * (df['MinusDM']/df['ATR']).ewm(span=period,min_periods=0,adjust=True,ignore_na=False).mean()\n",
    "\n",
    "    df['ADX'] = 100 * (abs((df['plusDI'] - df['minusDI'])/(df['plusDI'] + df['minusDI']))).ewm(span=period,min_periods=0,adjust=True,ignore_na=False).mean()"
   ]
  },
  {
   "cell_type": "code",
   "execution_count": null,
   "metadata": {
    "_cell_guid": "05ff38c9-64e0-421e-8660-8cabcaf06845",
    "_uuid": "2ce9a8ae91e1fe9b3dd7490b4a2008c5eae54b70"
   },
   "outputs": [],
   "source": [
    "DMI(techindi3, 14)\n",
    "techindi3 = techindi3.fillna(0)\n",
    "techindi3.tail()"
   ]
  },
  {
   "cell_type": "markdown",
   "metadata": {
    "_cell_guid": "43d11f6d-0aad-4d16-91ea-9718e223f4ad",
    "_uuid": "4dfb6f146a69f956c2539a4686d1e942a692c680"
   },
   "source": [
    "## Drop Unwanted Columns"
   ]
  },
  {
   "cell_type": "code",
   "execution_count": null,
   "metadata": {
    "_cell_guid": "277cfe99-429e-4fd8-adc1-61fb8a347e1f",
    "_uuid": "55eafa403fdd92c4b2d7d2e7cac3ccf4aa64cb52"
   },
   "outputs": [],
   "source": [
    "columns2Drop = ['UpMove', 'DownMove', 'ATR', 'PlusDM', 'MinusDM', 'Zero', 'EMA', 'HL', 'absHC', 'absLC', 'TR']\n",
    "\n",
    "techindi3 = techindi3.drop(labels = columns2Drop, axis=1)\n",
    "techindi3.head()"
   ]
  },
  {
   "cell_type": "markdown",
   "metadata": {
    "_cell_guid": "249dee72-bfff-4512-9750-38c8314653a0",
    "_uuid": "cb866dd781c3b2799a576040a42f2cb14e41f8f4"
   },
   "source": [
    "# techindi4 dataframe"
   ]
  },
  {
   "cell_type": "markdown",
   "metadata": {
    "_cell_guid": "ee068c53-a686-4341-8e3e-90299bdda2e2",
    "_uuid": "95c2f1efcedd888dad1756dd37209dd4d5f9cee7"
   },
   "source": [
    "### Calculation of MACD"
   ]
  },
  {
   "cell_type": "markdown",
   "metadata": {
    "_cell_guid": "657bf5e8-5719-4131-9295-3c11229de552",
    "_uuid": "e84dab42de81923ecef3ff4fbeff88108f966f4b"
   },
   "source": [
    "MACD: (12-day EMA - 26-day EMA)"
   ]
  },
  {
   "cell_type": "code",
   "execution_count": null,
   "metadata": {
    "_cell_guid": "bfce7a28-5e8d-4185-a23a-60c3ce98a5cd",
    "_uuid": "55d78864a2e7748e4e0a0f7a8295ae500166e80f"
   },
   "outputs": [],
   "source": [
    "techindi4['26_ema'] = techindi4['Close'].ewm(span=26,min_periods=0,adjust=True,ignore_na=False).mean()\n",
    "techindi4['12_ema'] = techindi4['Close'].ewm(span=12,min_periods=0,adjust=True,ignore_na=False).mean()\n",
    "techindi4['MACD'] = techindi4['12_ema'] - techindi4['26_ema']\n",
    "techindi4 = techindi4.fillna(0)\n",
    "techindi4.tail()"
   ]
  },
  {
   "cell_type": "markdown",
   "metadata": {
    "_cell_guid": "4efca677-e2b0-42ca-b1fa-18bd4977d92d",
    "_uuid": "bda10affc72cf68a432345f6a4ba7aa4e44f0aab"
   },
   "source": [
    "### Calculation of Money Flow Index"
   ]
  },
  {
   "cell_type": "markdown",
   "metadata": {
    "_cell_guid": "6dee068b-f891-4419-9f8d-4a21a68eb047",
    "_uuid": "66294bd2b6a270cd27cf9f8be64b21d4a1f5f720"
   },
   "source": [
    "Typical Price = (High + Low + Close)/3\n",
    "\n",
    "Raw Money Flow = Typical Price x Volume\n",
    "\n",
    "The money flow is divided into positive and negative money flow.\n",
    "\n",
    "- Positive money flow is calculated by adding the money flow of all the days where the typical price is higher than the previous day's typical price.\n",
    "- Negative money flow is calculated by adding the money flow of all the days where the typical price is lower than the previous day's typical price.\n",
    "- If typical price is unchanged then that day is discarded.\n",
    "\n",
    "Money Flow Ratio = (14-period Positive Money Flow)/(14-period Negative Money Flow)\n",
    "\n",
    "Money Flow Index = 100 - 100/(1 + Money Flow Ratio)"
   ]
  },
  {
   "cell_type": "code",
   "execution_count": null,
   "metadata": {
    "_cell_guid": "6f1d12ef-a4b2-40ca-990a-36f8c400ef7b",
    "_uuid": "40571e41a549d70955cf98c7ae9b04e3ab3937ed",
    "collapsed": true
   },
   "outputs": [],
   "source": [
    "def MFI(df):\n",
    "    # typical price\n",
    "    df['tp'] = (df['High']+df['Low']+df['Close'])/3\n",
    "    #raw money flow\n",
    "    df['rmf'] = df['tp'] * df['Volume']\n",
    "    \n",
    "    # positive and negative money flow\n",
    "    df['pmf'] = np.where(df['tp'] > df['tp'].shift(1), df['tp'], 0)\n",
    "    df['nmf'] = np.where(df['tp'] < df['tp'].shift(1), df['tp'], 0)\n",
    "\n",
    "    # money flow ratio\n",
    "    df['mfr'] = df['pmf'].rolling(window=14,center=False).sum()/df['nmf'].rolling(window=14,center=False).sum()\n",
    "    df['Money_Flow_Index'] = 100 - 100 / (1 + df['mfr'])"
   ]
  },
  {
   "cell_type": "code",
   "execution_count": null,
   "metadata": {
    "_cell_guid": "6ce63500-9c67-4afe-a2ff-0cb8a64ebf98",
    "_uuid": "ed0ce3ef8bc8009b3cf34cc9d38a90cf1f2ab91a"
   },
   "outputs": [],
   "source": [
    "MFI(techindi4)\n",
    "techindi4 = techindi4.fillna(0)\n",
    "techindi4.tail()"
   ]
  },
  {
   "cell_type": "markdown",
   "metadata": {
    "_cell_guid": "84895eb8-eae7-4228-9db8-05629a14f490",
    "_uuid": "8389285df32bcf4d579d9ee8edb2550c8d5db8f9"
   },
   "source": [
    "### Calculations of Ichimoku Cloud"
   ]
  },
  {
   "cell_type": "markdown",
   "metadata": {
    "_cell_guid": "7d8b3974-ac45-4584-b2f1-65883308afb9",
    "_uuid": "85e44c612dd2b319148e922be4d505992bcafc03"
   },
   "source": [
    "Turning Line = ( Highest High + Lowest Low\n",
    " ) / 2, for the past 9 days\n",
    "\n",
    "Standard Line = ( Highest High + Lowest Low\n",
    " ) / 2, for the past 26 days\n",
    "\n",
    "Leading Span 1 = ( Standard Line + Turning\n",
    " Line ) / 2, plotted 26 days ahead of today\n",
    "\n",
    "Leading Span 2 = ( Highest High + Lowest\n",
    " Low ) / 2, for the past 52 days, plotted 26 days ahead of today\n",
    "\n",
    "Cloud = Shaded Area between Span 1 and Span\n",
    " 2"
   ]
  },
  {
   "cell_type": "code",
   "execution_count": null,
   "metadata": {
    "_cell_guid": "9698c861-105b-4d8e-a19f-b963faa3f30d",
    "_uuid": "4ab6bcaf81b1d8368a2bca849c240eab35c8bd41",
    "collapsed": true
   },
   "outputs": [],
   "source": [
    "def ichimoku(df):\n",
    "    # Turning Line\n",
    "    period9_high = df['High'].rolling(window=9,center=False).max()\n",
    "    period9_low = df['Low'].rolling(window=9,center=False).min()\n",
    "    df['turning_line'] = (period9_high + period9_low) / 2\n",
    "    \n",
    "    # Standard Line\n",
    "    period26_high = df['High'].rolling(window=26,center=False).max()\n",
    "    period26_low = df['Low'].rolling(window=26,center=False).min()\n",
    "    df['standard_line'] = (period26_high + period26_low) / 2\n",
    "    \n",
    "    # Leading Span 1\n",
    "    df['ichimoku_span1'] = ((df['turning_line'] + df['standard_line']) / 2).shift(26)\n",
    "    \n",
    "    # Leading Span 2\n",
    "    period52_high = df['High'].rolling(window=52,center=False).max()\n",
    "    period52_low = df['Low'].rolling(window=52,center=False).min()\n",
    "    df['ichimoku_span2'] = ((period52_high + period52_low) / 2).shift(26)\n",
    "    \n",
    "    # The most current closing price plotted 22 time periods behind (optional)\n",
    "    df['chikou_span'] = df['Close'].shift(-22) # 22 according to investopedia"
   ]
  },
  {
   "cell_type": "code",
   "execution_count": null,
   "metadata": {
    "_cell_guid": "28c093ad-a000-4776-95e2-d5c9164813fe",
    "_uuid": "65802bf26face8ef226597127bb1108a46a759ad"
   },
   "outputs": [],
   "source": [
    "ichimoku(techindi4)\n",
    "techindi4 = techindi4.fillna(0)\n",
    "techindi4.tail()"
   ]
  },
  {
   "cell_type": "markdown",
   "metadata": {
    "_cell_guid": "945b4e18-711d-4516-b73b-142f7c0aff1c",
    "_uuid": "4cdd27daffab58e82f1bad871741a59a354cbc0a"
   },
   "source": [
    "### Calculation of William %R"
   ]
  },
  {
   "cell_type": "markdown",
   "metadata": {
    "_cell_guid": "d09a4c05-9da3-413f-9ba9-73b9c13823f1",
    "_uuid": "46bacb60e10df157038eec6ebfc15655be036296"
   },
   "source": [
    "%R = -100 * ( ( Highest High - Close) / (\n",
    " Highest High - Lowest Low ) )"
   ]
  },
  {
   "cell_type": "code",
   "execution_count": null,
   "metadata": {
    "_cell_guid": "f1ee0a75-8471-4ecc-a799-c1f024279a5f",
    "_uuid": "486f72bd8a04b118db3f4087e69bc058fa48390f",
    "collapsed": true
   },
   "outputs": [],
   "source": [
    "def WillR(df):\n",
    "    highest_high = df['High'].rolling(window=14,center=False).max()\n",
    "    lowest_low = df['Low'].rolling(window=14,center=False).min()\n",
    "    df['WillR'] = (-100) * ((highest_high - df['Close']) / (highest_high - lowest_low))\n"
   ]
  },
  {
   "cell_type": "code",
   "execution_count": null,
   "metadata": {
    "_cell_guid": "05df4ae3-44cb-4508-bc58-0974a38d22bb",
    "_uuid": "c38fd69e6078b1c845882bd175b145236e0ae4af"
   },
   "outputs": [],
   "source": [
    "WillR(techindi4)\n",
    "techindi4 = techindi4.fillna(0)\n",
    "techindi4.tail()"
   ]
  },
  {
   "cell_type": "markdown",
   "metadata": {
    "_cell_guid": "de245ffa-7154-4b55-8c54-6a34243378a9",
    "_uuid": "fe2e31e8c4cd2bb70d785118f61bb13878104fd0"
   },
   "source": [
    "### Calculation of MINMAX"
   ]
  },
  {
   "cell_type": "code",
   "execution_count": null,
   "metadata": {
    "_cell_guid": "6a532201-1e53-40f8-a71f-ff6a73a63d58",
    "_uuid": "9fa97b422b26e9feecdaeeb2789b50dca77709e7",
    "collapsed": true
   },
   "outputs": [],
   "source": [
    "def MINMAX(df):\n",
    "    df['MIN_Volume'] = df['Volume'].rolling(window=14,center=False).min()\n",
    "    df['MAX_Volume'] = df['Volume'].rolling(window=14,center=False).max()"
   ]
  },
  {
   "cell_type": "code",
   "execution_count": null,
   "metadata": {
    "_cell_guid": "2ae9ef00-d8c1-4b93-874e-ddfe2e5dbbab",
    "_uuid": "08fb400bc789b1acfdcef4413cfb8744308d9e30"
   },
   "outputs": [],
   "source": [
    "MINMAX(techindi4)\n",
    "techindi4 = techindi4.fillna(0)\n",
    "techindi4.tail()"
   ]
  },
  {
   "cell_type": "markdown",
   "metadata": {
    "_cell_guid": "2fc2ab7f-3b6d-4501-8572-bcebf1ecef4d",
    "_uuid": "c08afe3b576ccd1431c61a98df5cc0446e274e67"
   },
   "source": [
    "### Calculation of Adaptive Moving Average"
   ]
  },
  {
   "cell_type": "code",
   "execution_count": null,
   "metadata": {
    "_cell_guid": "e4f3043d-e015-46ac-9f84-575fb7513600",
    "_uuid": "64255132674308c7c3368f5f983f461031268429",
    "collapsed": true
   },
   "outputs": [],
   "source": [
    "def KAMA(price, n=10, pow1=2, pow2=30):\n",
    "    ''' kama indicator '''    \n",
    "    ''' accepts pandas dataframe of prices '''\n",
    "\n",
    "    absDiffx = abs(price - price.shift(1) )  \n",
    "\n",
    "    ER_num = abs( price - price.shift(n) )\n",
    "    ER_den = absDiffx.rolling(window=n,center=False).sum()\n",
    "    ER = ER_num / ER_den\n",
    "\n",
    "    sc = ( ER*(2.0/(pow1+1)-2.0/(pow2+1.0))+2/(pow2+1.0) ) ** 2.0\n",
    "\n",
    "\n",
    "    answer = np.zeros(sc.size)\n",
    "    N = len(answer)\n",
    "    first_value = True\n",
    "\n",
    "    for i in range(N):\n",
    "        if sc[i] != sc[i]:\n",
    "            answer[i] = np.nan\n",
    "        else:\n",
    "            if first_value:\n",
    "                answer[i] = price[i]\n",
    "                first_value = False\n",
    "            else:\n",
    "                answer[i] = answer[i-1] + sc[i] * (price[i] - answer[i-1])\n",
    "    return answer"
   ]
  },
  {
   "cell_type": "code",
   "execution_count": null,
   "metadata": {
    "_cell_guid": "3f2ccf65-c93f-4950-8b90-6a9304240e06",
    "_uuid": "596775b923877a28db9e43bb151fc0a650e20b26"
   },
   "outputs": [],
   "source": [
    "techindi4['KAMA'] = KAMA(techindi4['Close'])\n",
    "techindi4 = techindi4.fillna(0)\n",
    "techindi4.tail()"
   ]
  },
  {
   "cell_type": "markdown",
   "metadata": {
    "_cell_guid": "85220f4e-1f31-4f4f-861c-1b92e699094e",
    "_uuid": "9453c9f1004c3ebcd8f3a6930b702880d4567082"
   },
   "source": [
    "## Drop Unwanted Columns"
   ]
  },
  {
   "cell_type": "code",
   "execution_count": null,
   "metadata": {
    "_cell_guid": "fd0c5743-95a0-4374-b1b9-7bea62141923",
    "_uuid": "d2e4c9c79c29da10ce9a6af44343917c7f0fe72f"
   },
   "outputs": [],
   "source": [
    "columns2Drop = ['26_ema', '12_ema','tp','rmf','pmf','nmf','mfr']\n",
    "\n",
    "techindi4 = techindi4.drop(labels = columns2Drop, axis=1)\n",
    "techindi4.head()"
   ]
  },
  {
   "cell_type": "code",
   "execution_count": null,
   "metadata": {
    "_cell_guid": "bbac4db0-71c4-4206-9005-98e363466d3f",
    "_uuid": "a32408ee1a5840c0e1a1d056be0a90ffc8e5734e",
    "collapsed": true
   },
   "outputs": [],
   "source": [
    "techindi1.index = techindi1['Date']\n",
    "techindi1 = techindi1.drop(labels = ['Date'], axis = 1)\n",
    "\n",
    "techindi2.index = techindi2['Date']\n",
    "techindi2 = techindi2.drop(labels = ['Date'], axis = 1)\n",
    "\n",
    "techindi3.index = techindi3['Date']\n",
    "techindi3 = techindi3.drop(labels = ['Date'], axis = 1)\n",
    "\n",
    "techindi4.index = techindi4['Date']\n",
    "techindi4 = techindi4.drop(labels = ['Date'], axis = 1)"
   ]
  },
  {
   "cell_type": "markdown",
   "metadata": {
    "_cell_guid": "3a30508b-a461-4465-bf73-069847f032e9",
    "_uuid": "6159aea1f64c6fdfd0b70a3cd635a8c2524f05ea"
   },
   "source": [
    "# LSTM Model for Prediction of movement of stocks"
   ]
  },
  {
   "cell_type": "markdown",
   "metadata": {
    "_cell_guid": "4a26f196-f01b-4cbd-860a-bcb05a569a55",
    "_uuid": "e5d609fb1f1ea997237d48d3352e37fdcf68039d"
   },
   "source": [
    "Add a label column to all dataframes, that represent 1 if Close Price is constant or increasing and 0 if Close Price is decreasing"
   ]
  },
  {
   "cell_type": "code",
   "execution_count": null,
   "metadata": {
    "_cell_guid": "506669d9-94e5-493d-b6a5-ed01606a3253",
    "_uuid": "711c867dbcc07404f828f3ee802743461ec613db",
    "collapsed": true
   },
   "outputs": [],
   "source": [
    "def normalized_df(df):\n",
    "    normalized_df=(df-df.mean())/df.std()\n",
    "    return normalized_df"
   ]
  },
  {
   "cell_type": "code",
   "execution_count": null,
   "metadata": {
    "_cell_guid": "2b7a3968-bd57-4aaf-8483-546adf0c0549",
    "_uuid": "033472ab81ee009344c90ce23244bfa19235e5e4",
    "collapsed": true
   },
   "outputs": [],
   "source": [
    "normalized_df1 = copy.deepcopy(techindi1)\n",
    "normalized_df2 = copy.deepcopy(techindi2)\n",
    "normalized_df3 = copy.deepcopy(techindi3)\n",
    "normalized_df4 = copy.deepcopy(techindi4)"
   ]
  },
  {
   "cell_type": "code",
   "execution_count": null,
   "metadata": {
    "_cell_guid": "8dba967f-586f-4e9c-9653-d523af3c895d",
    "_uuid": "3db0281af8efe9476f8a56356519369377e0a087",
    "collapsed": true
   },
   "outputs": [],
   "source": [
    "ti_List1 = []\n",
    "ti_List2 = []\n",
    "ti_List3 = []\n",
    "ti_List4 = []\n",
    "\n",
    "x = normalized_df1['Label'][0]\n",
    "ti_List1.append(x)\n",
    "normalized_df1 = normalized_df1.drop('Label', 1)\n",
    "\n",
    "x = normalized_df2['Label'][0]\n",
    "ti_List2.append(x)\n",
    "normalized_df2 = normalized_df2.drop('Label', 1)\n",
    "\n",
    "x = normalized_df3['Label'][0]\n",
    "ti_List3.append(x)\n",
    "normalized_df3 = normalized_df3.drop('Label', 1)\n",
    "\n",
    "x = normalized_df4['Label'][0]\n",
    "ti_List4.append(x)\n",
    "normalized_df4 = normalized_df4.drop('Label', 1)"
   ]
  },
  {
   "cell_type": "code",
   "execution_count": null,
   "metadata": {
    "_cell_guid": "fc0a58c1-d0c1-4bbb-8362-88590aa82f2a",
    "_uuid": "f270e47db5159e49dcce6e6017bd7461bae39f9d",
    "collapsed": true
   },
   "outputs": [],
   "source": [
    "normalized_df1.head()"
   ]
  },
  {
   "cell_type": "code",
   "execution_count": null,
   "metadata": {
    "_cell_guid": "6ee7fc25-0f6d-4407-b7f3-5e63fe91b1d5",
    "_uuid": "e830996e73b3d65e67fed0a98a74db865a772a04",
    "collapsed": true
   },
   "outputs": [],
   "source": [
    "\n",
    "mean = normalized_df1.mean(axis = 0)\n",
    "normalized_df1 -= mean\n",
    "std = normalized_df1.std(axis=0)\n",
    "normalized_df1 /= std\n",
    "    \n",
    "\n",
    "mean = normalized_df2.mean(axis = 0)\n",
    "normalized_df2 -= mean\n",
    "std = normalized_df2.std(axis = 0)\n",
    "normalized_df2 /= std\n",
    "    \n",
    "\n",
    "mean = normalized_df3.mean(axis = 0)\n",
    "normalized_df3 -= mean\n",
    "std = normalized_df3.std(axis = 0)\n",
    "normalized_df3 /= std\n",
    "    \n",
    "\n",
    "mean = normalized_df4.mean(axis = 0)\n",
    "normalized_df4 -= mean\n",
    "std = normalized_df4.std(axis = 0)\n",
    "normalized_df4 /= std\n"
   ]
  },
  {
   "cell_type": "code",
   "execution_count": null,
   "metadata": {
    "_cell_guid": "f8bb9fca-7b43-4219-914a-a90f67980b00",
    "_uuid": "b52627074e08615870a25d4abec1d09c5cdf7cbd",
    "collapsed": true
   },
   "outputs": [],
   "source": [
    "## Add the label class based on whether stock goes up or down\n",
    "def add_label(df):\n",
    "    idx = len(df.columns)\n",
    "    new_col = np.where(df['Close'] >= df['Close'].shift(1), 1, 0)  \n",
    "    df.insert(loc=idx, column='Label', value=new_col)\n",
    "    df = df.fillna(0)"
   ]
  },
  {
   "cell_type": "code",
   "execution_count": null,
   "metadata": {
    "_cell_guid": "6c2de0ef-276c-42e5-b093-e0aefe091fba",
    "_uuid": "c2f3ff94165a7863b32027ade10083bab6db19c3",
    "collapsed": true
   },
   "outputs": [],
   "source": [
    "\n",
    "add_label(normalized_df1)    \n",
    "add_label(normalized_df2)\n",
    "add_label(normalized_df3)\n",
    "add_label(normalized_df4)"
   ]
  },
  {
   "cell_type": "code",
   "execution_count": null,
   "metadata": {
    "_cell_guid": "b5c04318-8ab3-4e68-bdea-b52cc97927bf",
    "_uuid": "7de3a6c44a2b4478d0938cd92fb243ef67820109",
    "collapsed": true
   },
   "outputs": [],
   "source": [
    "normalized_df1.head()"
   ]
  },
  {
   "cell_type": "code",
   "execution_count": null,
   "metadata": {
    "_cell_guid": "1ce1c1da-c953-4fd7-9037-7789252e1b20",
    "_uuid": "a1273c6247612b58b3651f09007f734f80276545",
    "collapsed": true
   },
   "outputs": [],
   "source": [
    "\n",
    "normalized_df1 = normalized_df1.fillna(0)    \n",
    "normalized_df2 = normalized_df2.fillna(0)\n",
    "normalized_df3 = normalized_df3.fillna(0)\n",
    "normalized_df4 = normalized_df4.fillna(0)"
   ]
  },
  {
   "cell_type": "code",
   "execution_count": null,
   "metadata": {
    "_cell_guid": "eb584b24-0625-491e-8b56-df82f2114736",
    "_uuid": "e880655941c18a811795dbaaec9e3d9e2d9dbc27",
    "collapsed": true
   },
   "outputs": [],
   "source": [
    "normalized_df1.head()\n"
   ]
  },
  {
   "cell_type": "markdown",
   "metadata": {
    "_cell_guid": "c2cbf777-59b6-44a3-83d5-2af5d0a9d701",
    "_uuid": "c0c969000bf19f485c27354669b78d9257eccc1c"
   },
   "source": [
    "## Let's apply LSTM first"
   ]
  },
  {
   "cell_type": "markdown",
   "metadata": {
    "_cell_guid": "0abb1faf-df4f-4a20-a355-73ec6dada4a0",
    "_uuid": "0d7ace32996be39f8d548e7972295d546182d197"
   },
   "source": [
    "We will predict whether the stock goes up or down. It is a classification problem, were class 0 is stock going down and class 1 is stock going up."
   ]
  },
  {
   "cell_type": "markdown",
   "metadata": {
    "_cell_guid": "248b518d-d3d1-49a4-b9cc-28703c10d02b",
    "_uuid": "e6174f030dd7a580c475c91b17fd8aa1a29629c5"
   },
   "source": [
    "# Generator yielding timeseries samples and targets"
   ]
  },
  {
   "cell_type": "code",
   "execution_count": null,
   "metadata": {
    "_cell_guid": "3314195e-f271-4371-8e86-bf4361b68c91",
    "_uuid": "5d480bb41e44aa9275decebc2c73b24d864d43b8",
    "collapsed": true
   },
   "outputs": [],
   "source": [
    "normalized_df1 = normalized_df1.values\n",
    "normalized_df2 = normalized_df2.values\n",
    "normalized_df3 = normalized_df3.values\n",
    "normalized_df4 = normalized_df4.values\n",
    "type(normalized_df1)"
   ]
  },
  {
   "cell_type": "code",
   "execution_count": null,
   "metadata": {
    "_cell_guid": "9ea53691-b002-4a71-b593-5aca057a3f99",
    "_uuid": "5e2957f35ac885464416b50c78577dd0e51bfd3e",
    "collapsed": true
   },
   "outputs": [],
   "source": [
    "from keras.utils import to_categorical\n",
    "def generator(data, lookback, delay, min_index, max_index,\n",
    "              shuffle=False, batch_size=32, step=5):\n",
    "    if max_index is None:\n",
    "        max_index = len(data) - delay - 1\n",
    "    i = min_index + lookback\n",
    "    while 1:\n",
    "        if shuffle:\n",
    "            rows = np.random.randint(\n",
    "                min_index + lookback, max_index, size=batch_size)\n",
    "        else:\n",
    "            if i + batch_size >= max_index:\n",
    "                i = min_index + lookback\n",
    "            rows = np.arange(i, min(i + batch_size, max_index))\n",
    "            i += len(rows)\n",
    "        samples = np.zeros((len(rows),\n",
    "                           lookback // step,\n",
    "                           data.shape[-1]))\n",
    "        targets = np.zeros((len(rows),))\n",
    "        for j, row in enumerate(rows):\n",
    "            indices = range(rows[j] - lookback, rows[j], step)\n",
    "            samples[j] = data[indices]\n",
    "            targets[j] = data[rows[j] + delay][-1]\n",
    "        yield samples, to_categorical(targets)"
   ]
  },
  {
   "cell_type": "markdown",
   "metadata": {
    "_cell_guid": "15da2a34-94b7-4b93-a9f1-f8578e6b58f4",
    "_uuid": "755d3cd663a61e656f7e5a8cae673b9bc0c20d6d"
   },
   "source": [
    "# Preparing the training, validation and test generators"
   ]
  },
  {
   "cell_type": "markdown",
   "metadata": {
    "_cell_guid": "a7cc2554-14a2-4974-ac0f-06ca4804451b",
    "_uuid": "ce6aae99c24897bfe7afdbee67953f1539d9833e"
   },
   "source": [
    "### Technical Indicators 1"
   ]
  },
  {
   "cell_type": "code",
   "execution_count": null,
   "metadata": {
    "_cell_guid": "19846ef3-cc7c-4646-b5fd-0665776a6f43",
    "_uuid": "916ababe427f7419a6b3daf2c721add3221379b1",
    "collapsed": true
   },
   "outputs": [],
   "source": [
    "# 10 10, 10, 64\n",
    "# 5, 5, ,5 ,1\n",
    "lookback = 5\n",
    "step = 5\n",
    "delay = 5\n",
    "batch_size = 32"
   ]
  },
  {
   "cell_type": "code",
   "execution_count": null,
   "metadata": {
    "_cell_guid": "30a87f27-59f9-4d3e-a9d3-700e3b1f6db5",
    "_uuid": "e996e1dbc9b009adf53462143de1d7d384579cbb",
    "collapsed": true
   },
   "outputs": [],
   "source": [
    "train_gen = generator(normalized_df1,\n",
    "                      lookback=lookback,\n",
    "                      delay=delay,\n",
    "                      min_index=0,\n",
    "                      max_index=round(0.6*len(normalized_df1)),\n",
    "                      shuffle=False,\n",
    "                      step=step,\n",
    "                      batch_size=batch_size)\n",
    "val_gen = generator(normalized_df1,\n",
    "                    lookback=lookback,\n",
    "                    delay=delay,\n",
    "                    min_index=round(0.6*len(normalized_df1))+1,\n",
    "                    max_index=round(0.8*len(normalized_df1)),\n",
    "                    step=step,\n",
    "                    batch_size=batch_size)\n",
    "test_gen = generator(normalized_df1,\n",
    "                     lookback=lookback,\n",
    "                     delay=delay,\n",
    "                     min_index=round(0.8*len(normalized_df1))+1,\n",
    "                     max_index=None,\n",
    "                     step=step,\n",
    "                     batch_size=batch_size)\n",
    "\n",
    "val_steps = (round(0.8*len(normalized_df1)) - round(0.6*len(normalized_df1))+1 - lookback) # how many steps to draw from val_gen in order to see the entire validation set\n",
    "test_steps = (len(normalized_df1) - round(0.8*len(normalized_df1))+1 - lookback)\n",
    "# How many steps to draw from test_gen in order to see the entire test set"
   ]
  },
  {
   "cell_type": "code",
   "execution_count": null,
   "metadata": {
    "_cell_guid": "197bfb81-12ed-49a6-a420-91990deb8964",
    "_uuid": "b5e94a537ba2cc5ae184360d74555eb760e0b502",
    "collapsed": true
   },
   "outputs": [],
   "source": [
    "a,b = next(train_gen)\n",
    "# print labels\n",
    "print(b)"
   ]
  },
  {
   "cell_type": "markdown",
   "metadata": {
    "_cell_guid": "88cb47ae-7003-4cd4-9575-7b5f67be8f68",
    "_uuid": "0ff7bc4e4d845755afc046bff2e0593a75d172ca"
   },
   "source": [
    "# Training and evaluating a densely connected model"
   ]
  },
  {
   "cell_type": "code",
   "execution_count": null,
   "metadata": {
    "_cell_guid": "d59edda4-848e-4aaf-af8e-9d598bfad72d",
    "_uuid": "a7ac7dadd83a9f2f8610b6268936a4bec05d74e0",
    "collapsed": true
   },
   "outputs": [],
   "source": [
    "from keras.models import Sequential \n",
    "from keras import layers\n",
    "from keras.optimizers import RMSprop"
   ]
  },
  {
   "cell_type": "code",
   "execution_count": null,
   "metadata": {
    "_cell_guid": "a299cb75-cce1-46f4-b40c-bb9c6d331284",
    "_uuid": "5064497de94472c46488687b06cede49cad2e94a",
    "collapsed": true
   },
   "outputs": [],
   "source": [
    "model = Sequential()\n",
    "model.add(layers.Flatten(input_shape=(lookback // step, normalized_df1.shape[-1]))) \n",
    "model.add(layers.Dense(8, activation='relu'))\n",
    "model.add(layers.Dense(8, activation='relu'))\n",
    "model.add(layers.Dense(2, activation='softmax'))\n",
    "\n",
    "model.summary()"
   ]
  },
  {
   "cell_type": "code",
   "execution_count": null,
   "metadata": {
    "_cell_guid": "43033a76-1b1f-4519-b7c4-4969e0d0f1a5",
    "_uuid": "e164d96fdd1eb645cb315a5f2dc9c567e31a6e64",
    "collapsed": true,
    "scrolled": false
   },
   "outputs": [],
   "source": [
    "\n",
    "model.compile(optimizer='rmsprop',\n",
    "                loss='categorical_crossentropy',\n",
    "                metrics=['accuracy'])\n",
    "history = model.fit_generator(train_gen,\n",
    "                              steps_per_epoch=2, \n",
    "                              epochs=50, \n",
    "                              validation_data=val_gen, \n",
    "                              validation_steps=val_steps)"
   ]
  },
  {
   "cell_type": "code",
   "execution_count": null,
   "metadata": {
    "_cell_guid": "ba1d428f-697a-4132-ac5e-aa24b4a105f3",
    "_uuid": "2375fda97f4522374792775adf682f752b84cf9f",
    "collapsed": true
   },
   "outputs": [],
   "source": [
    "%matplotlib inline\n",
    "import matplotlib.pyplot as plt\n",
    "loss = history.history['loss']\n",
    "val_loss = history.history['val_loss']\n",
    "epochs = range(1, len(loss) + 1)\n",
    "plt.figure()\n",
    "plt.plot(epochs, loss, 'ro', label='Training loss')\n",
    "plt.plot(epochs, val_loss, 'b', label='Validation loss')\n",
    "plt.title('Training and validation loss')\n",
    "plt.legend()\n",
    "plt.show()"
   ]
  },
  {
   "cell_type": "code",
   "execution_count": null,
   "metadata": {
    "_cell_guid": "1dc45c8f-e94b-433c-9f1b-73f5d4f96912",
    "_uuid": "96a6b28d80db6ef679aaae8f807ccfa2906df2db",
    "collapsed": true
   },
   "outputs": [],
   "source": [
    "acc = history.history['acc']\n",
    "val_acc = history.history['val_acc']\n",
    "plt.plot(epochs, acc, 'r', label='Training acc')\n",
    "plt.plot(epochs, val_acc, 'b', label='Validation acc')\n",
    "plt.title('Training and validation accuracy')\n",
    "plt.xlabel('Epochs')\n",
    "plt.ylabel('Loss')\n",
    "plt.legend()\n",
    "plt.show()\n"
   ]
  },
  {
   "cell_type": "code",
   "execution_count": null,
   "metadata": {
    "_cell_guid": "6110a7b1-a629-41e9-8d3b-7f8f357e4863",
    "_uuid": "a82022bba6ea8eafeb4d72f5887b1b364615713f",
    "collapsed": true
   },
   "outputs": [],
   "source": [
    "\n",
    "test_loss, test_acc = model.evaluate_generator(test_gen, steps=3)\n",
    "print('test acc:', test_acc)\n",
    "print(\"test_loss:\", test_loss)"
   ]
  },
  {
   "cell_type": "markdown",
   "metadata": {
    "_cell_guid": "886c8061-4f94-415a-a51c-a90dd2517ebf",
    "_uuid": "6af6fcb9a13c2acddba25f46d02f962c717f527f"
   },
   "source": [
    "### Technical Indicators 2"
   ]
  },
  {
   "cell_type": "code",
   "execution_count": null,
   "metadata": {
    "_cell_guid": "23cb7e3c-09ac-441d-aaa1-17a717dfbb50",
    "_uuid": "7c4cb00b102ad58327be3225803fa43fe385e541",
    "collapsed": true
   },
   "outputs": [],
   "source": [
    "train_gen = generator(normalized_df2,\n",
    "                      lookback=lookback,\n",
    "                      delay=delay,\n",
    "                      min_index=0,\n",
    "                      max_index=round(0.6*len(normalized_df2)),\n",
    "                      shuffle=False,\n",
    "                      step=step,\n",
    "                      batch_size=batch_size)\n",
    "val_gen = generator(normalized_df2,\n",
    "                    lookback=lookback,\n",
    "                    delay=delay,\n",
    "                    min_index=round(0.6*len(normalized_df2))+1,\n",
    "                    max_index=round(0.8*len(normalized_df2)),\n",
    "                    step=step,\n",
    "                    batch_size=batch_size)\n",
    "test_gen = generator(normalized_df2,\n",
    "                     lookback=lookback,\n",
    "                     delay=delay,\n",
    "                     min_index=round(0.8*len(normalized_df2))+1,\n",
    "                     max_index=None,\n",
    "                     step=step,\n",
    "                     batch_size=batch_size)\n",
    "\n",
    "val_steps = (round(0.8*len(normalized_df2)) - round(0.6*len(normalized_df2))+1 - lookback) # how many steps to draw from val_gen in order to see the entire validation set\n",
    "test_steps = (len(normalized_df2) - round(0.8*len(normalized_df2))+1 - lookback)"
   ]
  },
  {
   "cell_type": "code",
   "execution_count": null,
   "metadata": {
    "_cell_guid": "10df1cd9-9477-4f6b-b543-b076367c06c9",
    "_uuid": "8a646ba524ced9befd7a63a3ac12acb572c5f293",
    "collapsed": true
   },
   "outputs": [],
   "source": [
    "model = Sequential()\n",
    "model.add(layers.Flatten(input_shape=(lookback // step, normalized_df2.shape[-1]))) \n",
    "model.add(layers.Dense(8, activation='relu'))\n",
    "model.add(layers.Dense(8, activation='relu'))\n",
    "model.add(layers.Dense(2, activation='softmax'))\n",
    "\n",
    "model.summary()"
   ]
  },
  {
   "cell_type": "code",
   "execution_count": null,
   "metadata": {
    "_cell_guid": "c948fbf2-fe8c-4f95-afa3-f48da969ace5",
    "_uuid": "b6f7419c88f6d994bb232e0a1e8f28adf40c698e",
    "collapsed": true
   },
   "outputs": [],
   "source": [
    "model.compile(optimizer='rmsprop',\n",
    "                loss='categorical_crossentropy',\n",
    "                metrics=['accuracy'])\n",
    "history = model.fit_generator(train_gen,\n",
    "                              steps_per_epoch=2, \n",
    "                              epochs=5, \n",
    "                              validation_data=val_gen, \n",
    "                              validation_steps=val_steps)"
   ]
  },
  {
   "cell_type": "code",
   "execution_count": null,
   "metadata": {
    "_cell_guid": "4a203396-0ea7-4f5c-acc3-e87d412e78b7",
    "_uuid": "cea5f7e93d2ec938f89bf25f7f4b098c458919de",
    "collapsed": true
   },
   "outputs": [],
   "source": [
    "loss = history.history['loss']\n",
    "val_loss = history.history['val_loss']\n",
    "epochs = range(1, len(loss) + 1)\n",
    "plt.figure()\n",
    "plt.plot(epochs, loss, 'ro', label='Training loss')\n",
    "plt.plot(epochs, val_loss, 'b', label='Validation loss')\n",
    "plt.title('Training and validation loss')\n",
    "plt.legend()\n",
    "plt.show()"
   ]
  },
  {
   "cell_type": "code",
   "execution_count": null,
   "metadata": {
    "_cell_guid": "97d6b1cd-6ae8-420e-b1e1-24acc6c3c16c",
    "_uuid": "1f23015b277833468e03fe1bb0162a96f1c1eb12",
    "collapsed": true
   },
   "outputs": [],
   "source": [
    "acc = history.history['acc']\n",
    "val_acc = history.history['val_acc']\n",
    "plt.plot(epochs, acc, 'r', label='Training acc')\n",
    "plt.plot(epochs, val_acc, 'b', label='Validation acc')\n",
    "plt.title('Training and validation accuracy')\n",
    "plt.xlabel('Epochs')\n",
    "plt.ylabel('Loss')\n",
    "plt.legend()\n",
    "plt.show()"
   ]
  },
  {
   "cell_type": "code",
   "execution_count": null,
   "metadata": {
    "_cell_guid": "67596237-d7db-4ebf-8544-b4d722b82765",
    "_uuid": "3cbe3eac114f4884e6f82c12d1d2a75424a0d439",
    "collapsed": true
   },
   "outputs": [],
   "source": [
    "test_loss, test_acc = model.evaluate_generator(test_gen, steps=5)\n",
    "print('test acc:', test_acc)\n",
    "print(\"test_loss:\", test_loss)"
   ]
  },
  {
   "cell_type": "markdown",
   "metadata": {
    "_cell_guid": "1d146965-863a-4b6b-bb9d-f34669298ab6",
    "_uuid": "3cc598bfa309559e6e9a6e530565f02e83aed05a"
   },
   "source": [
    "### Technical Indicators 3"
   ]
  },
  {
   "cell_type": "code",
   "execution_count": null,
   "metadata": {
    "_cell_guid": "18faae3a-6ae9-40b0-8af9-ce5a8632c0eb",
    "_uuid": "de1f1168cf885b9fc693563538dd41b3fcf4fe3a",
    "collapsed": true
   },
   "outputs": [],
   "source": [
    "train_gen = generator(normalized_df3,\n",
    "                      lookback=lookback,\n",
    "                      delay=delay,\n",
    "                      min_index=0,\n",
    "                      max_index=round(0.6*len(normalized_df3)),\n",
    "                      shuffle=False,\n",
    "                      step=step,\n",
    "                      batch_size=batch_size)\n",
    "val_gen = generator(normalized_df3,\n",
    "                    lookback=lookback,\n",
    "                    delay=delay,\n",
    "                    min_index=round(0.6*len(normalized_df3))+1,\n",
    "                    max_index=round(0.8*len(normalized_df3)),\n",
    "                    step=step,\n",
    "                    batch_size=batch_size)\n",
    "test_gen = generator(normalized_df3,\n",
    "                     lookback=lookback,\n",
    "                     delay=delay,\n",
    "                     min_index=round(0.8*len(normalized_df3))+1,\n",
    "                     max_index=None,\n",
    "                     step=step,\n",
    "                     batch_size=batch_size)\n",
    "\n",
    "val_steps = (round(0.8*len(normalized_df3)) - round(0.6*len(normalized_df3))+1 - lookback) # how many steps to draw from val_gen in order to see the entire validation set\n",
    "test_steps = (len(normalized_df3) - round(0.8*len(normalized_df3))+1 - lookback)"
   ]
  },
  {
   "cell_type": "code",
   "execution_count": null,
   "metadata": {
    "_cell_guid": "7ad5a7b1-a418-4785-9661-f6ca7c834f40",
    "_uuid": "8dd4f2fff0c5d8b1884201ab425c8001c4fd7fe3",
    "collapsed": true
   },
   "outputs": [],
   "source": [
    "model = Sequential()\n",
    "model.add(layers.Flatten(input_shape=(lookback // step, normalized_df3.shape[-1]))) \n",
    "model.add(layers.Dense(8, activation='relu'))\n",
    "model.add(layers.Dense(8, activation='relu'))\n",
    "model.add(layers.Dense(2, activation='softmax'))\n",
    "\n",
    "model.summary()"
   ]
  },
  {
   "cell_type": "code",
   "execution_count": null,
   "metadata": {
    "_cell_guid": "d9e65cf1-5b56-48d0-862f-b6a790c27f8b",
    "_uuid": "b1bc291949997624301b91774f9ee72e2be9bbd7",
    "collapsed": true
   },
   "outputs": [],
   "source": [
    "model.compile(optimizer='rmsprop',\n",
    "                loss='categorical_crossentropy',\n",
    "                metrics=['accuracy'])\n",
    "history = model.fit_generator(train_gen,\n",
    "                              steps_per_epoch=5, \n",
    "                              epochs=29, \n",
    "                              validation_data=val_gen, \n",
    "                              validation_steps=val_steps)"
   ]
  },
  {
   "cell_type": "code",
   "execution_count": null,
   "metadata": {
    "_cell_guid": "d764b5dc-0f3b-4f15-9d95-533a37d47dcd",
    "_uuid": "d244bf1d61db41b0a979bdfeac3b6f52eb3a0549",
    "collapsed": true
   },
   "outputs": [],
   "source": [
    "loss = history.history['loss']\n",
    "val_loss = history.history['val_loss']\n",
    "epochs = range(1, len(loss) + 1)\n",
    "plt.figure()\n",
    "plt.plot(epochs, loss, 'ro', label='Training loss')\n",
    "plt.plot(epochs, val_loss, 'b', label='Validation loss')\n",
    "plt.title('Training and validation loss')\n",
    "plt.legend()\n",
    "plt.show()"
   ]
  },
  {
   "cell_type": "code",
   "execution_count": null,
   "metadata": {
    "_cell_guid": "5d9a58da-3aed-4061-bb61-4f221b492368",
    "_uuid": "9308365d42d215caa9cc7452bddd9ccb986fc4ce",
    "collapsed": true
   },
   "outputs": [],
   "source": [
    "acc = history.history['acc']\n",
    "val_acc = history.history['val_acc']\n",
    "plt.plot(epochs, acc, 'r', label='Training acc')\n",
    "plt.plot(epochs, val_acc, 'b', label='Validation acc')\n",
    "plt.title('Training and validation accuracy')\n",
    "plt.xlabel('Epochs')\n",
    "plt.ylabel('Loss')\n",
    "plt.legend()\n",
    "plt.show()"
   ]
  },
  {
   "cell_type": "code",
   "execution_count": null,
   "metadata": {
    "_cell_guid": "2fbdfab0-fc20-470b-b4c0-4f3617e53a62",
    "_uuid": "b8f3fdb669cabdcee9ac6e1e5f41ccec53b158f5",
    "collapsed": true
   },
   "outputs": [],
   "source": [
    "test_loss, test_acc = model.evaluate_generator(test_gen, steps=4)\n",
    "print('test acc:', test_acc)\n",
    "print(\"test_loss:\", test_loss)"
   ]
  },
  {
   "cell_type": "markdown",
   "metadata": {
    "_cell_guid": "3068b9a0-ba20-47d7-9518-ee59afb7ffbc",
    "_uuid": "a8039d5fcc4a5a48f95f58254d17406c7ffd8e25"
   },
   "source": [
    "### Technical Indicators 4"
   ]
  },
  {
   "cell_type": "code",
   "execution_count": null,
   "metadata": {
    "_cell_guid": "b43cb7a4-2192-4564-a257-66de25900e8c",
    "_uuid": "c6a6b982da46b054fd6da40bf1d666bdadbf65b7",
    "collapsed": true
   },
   "outputs": [],
   "source": [
    "train_gen = generator(normalized_df4,\n",
    "                      lookback=lookback,\n",
    "                      delay=delay,\n",
    "                      min_index=0,\n",
    "                      max_index=round(0.6*len(normalized_df4)),\n",
    "                      shuffle=False,\n",
    "                      step=step,\n",
    "                      batch_size=batch_size)\n",
    "val_gen = generator(normalized_df4,\n",
    "                    lookback=lookback,\n",
    "                    delay=delay,\n",
    "                    min_index=round(0.6*len(normalized_df4))+1,\n",
    "                    max_index=round(0.8*len(normalized_df4)),\n",
    "                    step=step,\n",
    "                    batch_size=batch_size)\n",
    "test_gen = generator(normalized_df4,\n",
    "                     lookback=lookback,\n",
    "                     delay=delay,\n",
    "                     min_index=round(0.8*len(normalized_df4))+1,\n",
    "                     max_index=None,\n",
    "                     step=step,\n",
    "                     batch_size=batch_size)\n",
    "\n",
    "val_steps = (round(0.8*len(normalized_df4)) - round(0.6*len(normalized_df4))+1 - lookback) # how many steps to draw from val_gen in order to see the entire validation set\n",
    "test_steps = (len(normalized_df4) - round(0.8*len(normalized_df4))+1 - lookback)"
   ]
  },
  {
   "cell_type": "code",
   "execution_count": null,
   "metadata": {
    "_cell_guid": "13e01cfa-32eb-4efc-80a6-9443b5b182a6",
    "_uuid": "9819cbcdcd5a3bbb8fc8e2188b6237a235b9e813",
    "collapsed": true
   },
   "outputs": [],
   "source": [
    "model = Sequential()\n",
    "model.add(layers.Flatten(input_shape=(lookback // step, normalized_df4.shape[-1]))) \n",
    "model.add(layers.Dense(8, activation='relu'))\n",
    "model.add(layers.Dense(8, activation='relu'))\n",
    "model.add(layers.Dense(2, activation='softmax'))\n",
    "\n",
    "model.summary()"
   ]
  },
  {
   "cell_type": "code",
   "execution_count": null,
   "metadata": {
    "_cell_guid": "813091f2-2a1f-44f9-89c2-505c9ce23e22",
    "_uuid": "6fd05b704ee06adb02579851c4a5dedf83858ad2",
    "collapsed": true
   },
   "outputs": [],
   "source": [
    "model.compile(optimizer='rmsprop',\n",
    "                loss='categorical_crossentropy',\n",
    "                metrics=['accuracy'])\n",
    "history = model.fit_generator(train_gen,\n",
    "                              steps_per_epoch=5, \n",
    "                              epochs=30, \n",
    "                              validation_data=val_gen, \n",
    "                              validation_steps=val_steps)"
   ]
  },
  {
   "cell_type": "code",
   "execution_count": null,
   "metadata": {
    "_cell_guid": "844073f3-80ec-4748-be4b-e89a8762633a",
    "_uuid": "ad9a031aa9476fab15011f0a4d4226078492ef03",
    "collapsed": true
   },
   "outputs": [],
   "source": [
    "loss = history.history['loss']\n",
    "val_loss = history.history['val_loss']\n",
    "epochs = range(1, len(loss) + 1)\n",
    "plt.figure()\n",
    "plt.plot(epochs, loss, 'ro', label='Training loss')\n",
    "plt.plot(epochs, val_loss, 'b', label='Validation loss')\n",
    "plt.title('Training and validation loss')\n",
    "plt.legend()\n",
    "plt.show()"
   ]
  },
  {
   "cell_type": "code",
   "execution_count": null,
   "metadata": {
    "_cell_guid": "4b599814-adc4-48ff-b797-10d84222cdf3",
    "_uuid": "7d4f8d3ec1c0cbb5ab63e1a7d415c916d42068d7",
    "collapsed": true
   },
   "outputs": [],
   "source": [
    "acc = history.history['acc']\n",
    "val_acc = history.history['val_acc']\n",
    "plt.plot(epochs, acc, 'r', label='Training acc')\n",
    "plt.plot(epochs, val_acc, 'b', label='Validation acc')\n",
    "plt.title('Training and validation accuracy')\n",
    "plt.xlabel('Epochs')\n",
    "plt.ylabel('Loss')\n",
    "plt.legend()\n",
    "plt.show()"
   ]
  },
  {
   "cell_type": "code",
   "execution_count": null,
   "metadata": {
    "_cell_guid": "72f15464-019e-4335-8112-e2ddb1e9ef73",
    "_uuid": "557899e5b035b9f547061df4b1682ca30f06b069",
    "collapsed": true
   },
   "outputs": [],
   "source": [
    "test_loss, test_acc = model.evaluate_generator(test_gen, steps=5)\n",
    "print('test acc:', test_acc)\n",
    "print(\"test_loss:\", test_loss)"
   ]
  },
  {
   "cell_type": "markdown",
   "metadata": {
    "_cell_guid": "203577fa-1610-4249-95c3-9e28c401d395",
    "_uuid": "f9020c36406b91899e15388880e23a17c9d9fb61"
   },
   "source": [
    "LSTM does not performs well for Stock Market Prediction.\n",
    "Let's try GRU based model for prediction."
   ]
  },
  {
   "cell_type": "markdown",
   "metadata": {
    "_cell_guid": "3ba28a35-a168-4a20-bdcb-59c49540d030",
    "_uuid": "7a6660bde648cf733e68f7084ae200e4c0a621a5"
   },
   "source": [
    "## Training and evaluating a GRU-based model"
   ]
  },
  {
   "cell_type": "markdown",
   "metadata": {
    "_cell_guid": "544ba126-0dfa-41fa-9fc1-2f7532179592",
    "_uuid": "05557b3b424b7e65b37cd26fae05e96937e453dd"
   },
   "source": [
    "### Technical Indicators 1"
   ]
  },
  {
   "cell_type": "code",
   "execution_count": null,
   "metadata": {
    "_cell_guid": "e819875a-694f-4e59-a8c3-76138d5b9933",
    "_uuid": "6dd9fcf92c3120224e0015291ce749ed6e8d4339",
    "collapsed": true
   },
   "outputs": [],
   "source": [
    "train_gen = generator(normalized_df1,\n",
    "                      lookback=lookback,\n",
    "                      delay=delay,\n",
    "                      min_index=0,\n",
    "                      max_index=round(0.6*len(normalized_df1)),\n",
    "                      shuffle=False,\n",
    "                      step=step,\n",
    "                      batch_size=batch_size)\n",
    "val_gen = generator(normalized_df1,\n",
    "                    lookback=lookback,\n",
    "                    delay=delay,\n",
    "                    min_index=round(0.6*len(normalized_df1))+1,\n",
    "                    max_index=round(0.8*len(normalized_df1)),\n",
    "                    step=step,\n",
    "                    batch_size=batch_size)\n",
    "test_gen = generator(normalized_df1,\n",
    "                     lookback=lookback,\n",
    "                     delay=delay,\n",
    "                     min_index=round(0.8*len(normalized_df1))+1,\n",
    "                     max_index=None,\n",
    "                     step=step,\n",
    "                     batch_size=batch_size)\n",
    "\n",
    "val_steps = (round(0.8*len(normalized_df1)) - round(0.6*len(normalized_df1))+1 - lookback) # how many steps to draw from val_gen in order to see the entire validation set\n",
    "test_steps = (len(normalized_df1) - round(0.8*len(normalized_df1))+1 - lookback)\n",
    "# How many steps to draw from test_gen in order to see the entire test set"
   ]
  },
  {
   "cell_type": "code",
   "execution_count": null,
   "metadata": {
    "_cell_guid": "7fc2e052-32d2-48de-a72e-285f08d12a77",
    "_uuid": "e5804589a3ac88440d921065f540e05da24c1661",
    "collapsed": true
   },
   "outputs": [],
   "source": [
    "model = Sequential()\n",
    "model.add(layers.GRU(32, input_shape=(None, normalized_df1.shape[-1])))\n",
    "\n",
    "model.add(layers.Dense(2, activation='softmax'))\n",
    "\n",
    "model.summary()"
   ]
  },
  {
   "cell_type": "code",
   "execution_count": null,
   "metadata": {
    "_cell_guid": "bd4e7159-d5f0-476e-93ea-c94dbee1b54e",
    "_uuid": "964f4b6dd8d1999f4cdca75e4a162acf50951780",
    "collapsed": true
   },
   "outputs": [],
   "source": [
    "model.compile(optimizer=RMSprop(), loss='categorical_crossentropy', metrics=['accuracy'])\n",
    "history = model.fit_generator(train_gen,\n",
    "                              steps_per_epoch=2,\n",
    "                              epochs=50,\n",
    "                              validation_data=val_gen,\n",
    "                             validation_steps=val_steps)"
   ]
  },
  {
   "cell_type": "code",
   "execution_count": null,
   "metadata": {
    "_cell_guid": "6820b4a8-41e0-43ee-9002-a16bbf50f441",
    "_uuid": "cb5ea742dfb8945714fffb84deb136c8337097ac",
    "collapsed": true
   },
   "outputs": [],
   "source": [
    "loss = history.history['loss']\n",
    "val_loss = history.history['val_loss']\n",
    "epochs = range(1, len(loss) + 1)\n",
    "plt.figure()\n",
    "plt.plot(epochs, loss, 'ro', label='Training loss')\n",
    "plt.plot(epochs, val_loss, 'b', label='Validation loss')\n",
    "plt.title('Training and validation loss')\n",
    "plt.legend()\n",
    "plt.show()"
   ]
  },
  {
   "cell_type": "code",
   "execution_count": null,
   "metadata": {
    "_cell_guid": "740175fc-d93f-4e5a-bb04-604734219f6a",
    "_uuid": "a2289fedba933ce9f980848353c86ed8a393ca2f",
    "collapsed": true
   },
   "outputs": [],
   "source": [
    "acc = history.history['acc']\n",
    "val_acc = history.history['val_acc']\n",
    "plt.plot(epochs, acc, 'r', label='Training acc')\n",
    "plt.plot(epochs, val_acc, 'b', label='Validation acc')\n",
    "plt.title('Training and validation accuracy')\n",
    "plt.xlabel('Epochs')\n",
    "plt.ylabel('Loss')\n",
    "plt.legend()\n",
    "plt.show()"
   ]
  },
  {
   "cell_type": "code",
   "execution_count": null,
   "metadata": {
    "_cell_guid": "dd7b4b2c-27af-4c52-8458-a90622089fff",
    "_uuid": "dc4c769de0e9ad35d3c983cb28c4a13a91ac6b0c",
    "collapsed": true
   },
   "outputs": [],
   "source": [
    "\n",
    "test_loss, test_acc = model.evaluate_generator(test_gen, steps=1)\n",
    "print('test acc:', test_acc)\n",
    "print(\"test_loss:\", test_loss)"
   ]
  },
  {
   "cell_type": "markdown",
   "metadata": {
    "_cell_guid": "0ed7ed14-0597-4f82-a5e7-01c0e8842a3b",
    "_uuid": "3706490397855a97c6f807884224d3eb0e60de85"
   },
   "source": [
    "### Technical Indicators 2"
   ]
  },
  {
   "cell_type": "code",
   "execution_count": null,
   "metadata": {
    "_cell_guid": "79e15ae0-ba78-459d-9d27-16026ea25fe5",
    "_uuid": "6858fa079147b1036bac1dfc5143c756052e80c5",
    "collapsed": true
   },
   "outputs": [],
   "source": [
    "train_gen = generator(normalized_df2,\n",
    "                      lookback=lookback,\n",
    "                      delay=delay,\n",
    "                      min_index=0,\n",
    "                      max_index=round(0.6*len(normalized_df2)),\n",
    "                      shuffle=False,\n",
    "                      step=step,\n",
    "                      batch_size=batch_size)\n",
    "val_gen = generator(normalized_df2,\n",
    "                    lookback=lookback,\n",
    "                    delay=delay,\n",
    "                    min_index=round(0.6*len(normalized_df2))+1,\n",
    "                    max_index=round(0.8*len(normalized_df2)),\n",
    "                    step=step,\n",
    "                    batch_size=batch_size)\n",
    "test_gen = generator(normalized_df2,\n",
    "                     lookback=lookback,\n",
    "                     delay=delay,\n",
    "                     min_index=round(0.8*len(normalized_df2))+1,\n",
    "                     max_index=None,\n",
    "                     step=step,\n",
    "                     batch_size=batch_size)\n",
    "\n",
    "val_steps = (round(0.8*len(normalized_df2)) - round(0.6*len(normalized_df2))+1 - lookback) # how many steps to draw from val_gen in order to see the entire validation set\n",
    "test_steps = (len(normalized_df2) - round(0.8*len(normalized_df2))+1 - lookback)"
   ]
  },
  {
   "cell_type": "code",
   "execution_count": null,
   "metadata": {
    "_cell_guid": "18d38dc7-86a3-48a0-9595-0de435da19ca",
    "_uuid": "5b11653608f967f4af44d6d8e21ebe91ad8cfdf8",
    "collapsed": true
   },
   "outputs": [],
   "source": [
    "model = Sequential()\n",
    "model.add(layers.GRU(32, input_shape=(None, normalized_df2.shape[-1])))\n",
    "\n",
    "model.add(layers.Dense(2, activation='softmax'))\n",
    "\n",
    "model.summary()"
   ]
  },
  {
   "cell_type": "code",
   "execution_count": null,
   "metadata": {
    "_cell_guid": "58deb964-8425-4939-bb03-29b10feb4f57",
    "_uuid": "9946197746b055e5efa0cd3263f64e0645bc2db8",
    "collapsed": true
   },
   "outputs": [],
   "source": [
    "model.compile(optimizer=RMSprop(), loss='categorical_crossentropy', metrics=['accuracy'])\n",
    "history = model.fit_generator(train_gen,\n",
    "                              steps_per_epoch=2,\n",
    "                              epochs=4,\n",
    "                              validation_data=val_gen,\n",
    "                             validation_steps=val_steps)"
   ]
  },
  {
   "cell_type": "code",
   "execution_count": null,
   "metadata": {
    "_cell_guid": "8866f8ac-7f5c-494a-9566-c215788f9277",
    "_uuid": "f80063cd41a95a3ce4e7fe8feb77e1af0fb91887",
    "collapsed": true
   },
   "outputs": [],
   "source": [
    "loss = history.history['loss']\n",
    "val_loss = history.history['val_loss']\n",
    "epochs = range(1, len(loss) + 1)\n",
    "plt.figure()\n",
    "plt.plot(epochs, loss, 'ro', label='Training loss')\n",
    "plt.plot(epochs, val_loss, 'b', label='Validation loss')\n",
    "plt.title('Training and validation loss')\n",
    "plt.legend()\n",
    "plt.show()"
   ]
  },
  {
   "cell_type": "code",
   "execution_count": null,
   "metadata": {
    "_cell_guid": "c10d80ed-0ee6-4f2c-8feb-99ba214098d7",
    "_uuid": "65742fd06e33c5db3ff7d44d9351bc36ca897fbb",
    "collapsed": true
   },
   "outputs": [],
   "source": [
    "acc = history.history['acc']\n",
    "val_acc = history.history['val_acc']\n",
    "plt.plot(epochs, acc, 'r', label='Training acc')\n",
    "plt.plot(epochs, val_acc, 'b', label='Validation acc')\n",
    "plt.title('Training and validation accuracy')\n",
    "plt.xlabel('Epochs')\n",
    "plt.ylabel('Loss')\n",
    "plt.legend()\n",
    "plt.show()"
   ]
  },
  {
   "cell_type": "code",
   "execution_count": null,
   "metadata": {
    "_cell_guid": "06afb0d4-6c4d-4389-a790-ed51cd03f21e",
    "_uuid": "03c0e60fb8df36f6552b604187685c2aaf4c0383",
    "collapsed": true
   },
   "outputs": [],
   "source": [
    "test_loss, test_acc = model.evaluate_generator(test_gen, steps=2)\n",
    "print('test acc:', test_acc)\n",
    "print(\"test_loss:\", test_loss)"
   ]
  },
  {
   "cell_type": "markdown",
   "metadata": {
    "_cell_guid": "353a1494-1768-407b-bc57-5b5c47c9266a",
    "_uuid": "b847e2399b26bab0088c85765bb9f9726cbe80a8"
   },
   "source": [
    "### Technical Indicators 3"
   ]
  },
  {
   "cell_type": "code",
   "execution_count": null,
   "metadata": {
    "_cell_guid": "4bfafe47-6e61-478e-a928-63ebf2f0a1cb",
    "_uuid": "3dbd28663b0975e1eb077b5f302fc703161d081b",
    "collapsed": true
   },
   "outputs": [],
   "source": [
    "train_gen = generator(normalized_df3,\n",
    "                      lookback=lookback,\n",
    "                      delay=delay,\n",
    "                      min_index=0,\n",
    "                      max_index=round(0.6*len(normalized_df3)),\n",
    "                      shuffle=False,\n",
    "                      step=step,\n",
    "                      batch_size=batch_size)\n",
    "val_gen = generator(normalized_df3,\n",
    "                    lookback=lookback,\n",
    "                    delay=delay,\n",
    "                    min_index=round(0.6*len(normalized_df3))+1,\n",
    "                    max_index=round(0.8*len(normalized_df3)),\n",
    "                    step=step,\n",
    "                    batch_size=batch_size)\n",
    "test_gen = generator(normalized_df3,\n",
    "                     lookback=lookback,\n",
    "                     delay=delay,\n",
    "                     min_index=round(0.8*len(normalized_df3))+1,\n",
    "                     max_index=None,\n",
    "                     step=step,\n",
    "                     batch_size=batch_size)\n",
    "\n",
    "val_steps = (round(0.8*len(normalized_df3)) - round(0.6*len(normalized_df3))+1 - lookback) # how many steps to draw from val_gen in order to see the entire validation set\n",
    "test_steps = (len(normalized_df3) - round(0.8*len(normalized_df3))+1 - lookback)"
   ]
  },
  {
   "cell_type": "code",
   "execution_count": null,
   "metadata": {
    "_cell_guid": "e85bc031-d546-4198-8c0d-d1f7066f3388",
    "_uuid": "d2e3b6b6f0e36f6ad6e2f87df70e10802a100d9a",
    "collapsed": true
   },
   "outputs": [],
   "source": [
    "model = Sequential()\n",
    "model.add(layers.GRU(32, input_shape=(None, normalized_df3.shape[-1])))\n",
    "\n",
    "model.add(layers.Dense(2, activation='softmax'))\n",
    "\n",
    "model.summary()"
   ]
  },
  {
   "cell_type": "code",
   "execution_count": null,
   "metadata": {
    "_cell_guid": "215eaf25-5b98-486e-b715-d08d7c877de5",
    "_uuid": "9105b240f1f432692a063e289d4d4d076ccafa3a",
    "collapsed": true
   },
   "outputs": [],
   "source": [
    "model.compile(optimizer=RMSprop(), loss='categorical_crossentropy', metrics=['accuracy'])\n",
    "history = model.fit_generator(train_gen,\n",
    "                              steps_per_epoch=2,\n",
    "                              epochs=6,\n",
    "                              validation_data=val_gen,\n",
    "                             validation_steps=val_steps)"
   ]
  },
  {
   "cell_type": "code",
   "execution_count": null,
   "metadata": {
    "_cell_guid": "414d42a9-20ea-4666-b4f9-e7f088e2a08a",
    "_uuid": "70fab414dc46ef45d594b9daebc79bd712f0b21f",
    "collapsed": true
   },
   "outputs": [],
   "source": [
    "loss = history.history['loss']\n",
    "val_loss = history.history['val_loss']\n",
    "epochs = range(1, len(loss) + 1)\n",
    "plt.figure()\n",
    "plt.plot(epochs, loss, 'ro', label='Training loss')\n",
    "plt.plot(epochs, val_loss, 'b', label='Validation loss')\n",
    "plt.title('Training and validation loss')\n",
    "plt.legend()\n",
    "plt.show()"
   ]
  },
  {
   "cell_type": "code",
   "execution_count": null,
   "metadata": {
    "_cell_guid": "f0d148be-f67c-4b9a-8df2-4ca726fe40a5",
    "_uuid": "a27dbc6f1001fd69b5c6a1d445edca6b447d9927",
    "collapsed": true
   },
   "outputs": [],
   "source": [
    "acc = history.history['acc']\n",
    "val_acc = history.history['val_acc']\n",
    "plt.plot(epochs, acc, 'r', label='Training acc')\n",
    "plt.plot(epochs, val_acc, 'b', label='Validation acc')\n",
    "plt.title('Training and validation accuracy')\n",
    "plt.xlabel('Epochs')\n",
    "plt.ylabel('Loss')\n",
    "plt.legend()\n",
    "plt.show()"
   ]
  },
  {
   "cell_type": "code",
   "execution_count": null,
   "metadata": {
    "_cell_guid": "e9253980-ee39-420e-9ed9-fed035a884ac",
    "_uuid": "7310783e212f82c1da912e117a7b886612ca99dd",
    "collapsed": true
   },
   "outputs": [],
   "source": [
    "test_loss, test_acc = model.evaluate_generator(test_gen, steps=7)\n",
    "print('test acc:', test_acc)\n",
    "print(\"test_loss:\", test_loss)"
   ]
  },
  {
   "cell_type": "markdown",
   "metadata": {
    "_cell_guid": "6866ed04-47d6-4b1b-9b6b-2a0e899a3a48",
    "_uuid": "04cb4c34cccc4f7613e1ea6360f308f6e990651f"
   },
   "source": [
    "### Technical Indicators 4"
   ]
  },
  {
   "cell_type": "code",
   "execution_count": null,
   "metadata": {
    "_cell_guid": "0fd4e5ed-069a-47b7-bac0-461feba6c840",
    "_uuid": "f88fc20a33fa42ef8d0e2dc2b50368ca2ec67295",
    "collapsed": true
   },
   "outputs": [],
   "source": [
    "train_gen = generator(normalized_df4,\n",
    "                      lookback=lookback,\n",
    "                      delay=delay,\n",
    "                      min_index=0,\n",
    "                      max_index=round(0.6*len(normalized_df4)),\n",
    "                      shuffle=False,\n",
    "                      step=step,\n",
    "                      batch_size=batch_size)\n",
    "val_gen = generator(normalized_df4,\n",
    "                    lookback=lookback,\n",
    "                    delay=delay,\n",
    "                    min_index=round(0.6*len(normalized_df4))+1,\n",
    "                    max_index=round(0.8*len(normalized_df4)),\n",
    "                    step=step,\n",
    "                    batch_size=batch_size)\n",
    "test_gen = generator(normalized_df4,\n",
    "                     lookback=lookback,\n",
    "                     delay=delay,\n",
    "                     min_index=round(0.8*len(normalized_df4))+1,\n",
    "                     max_index=None,\n",
    "                     step=step,\n",
    "                     batch_size=batch_size)\n",
    "\n",
    "val_steps = (round(0.8*len(normalized_df4)) - round(0.6*len(normalized_df4))+1 - lookback) # how many steps to draw from val_gen in order to see the entire validation set\n",
    "test_steps = (len(normalized_df4) - round(0.8*len(normalized_df4))+1 - lookback)"
   ]
  },
  {
   "cell_type": "code",
   "execution_count": null,
   "metadata": {
    "_cell_guid": "e4e4cc64-b386-4c40-ac51-f006a235de08",
    "_uuid": "5fad2c7bec47bd5d97bb9048cc486c858b6ce053",
    "collapsed": true
   },
   "outputs": [],
   "source": [
    "model = Sequential()\n",
    "model.add(layers.GRU(32, input_shape=(None, normalized_df4.shape[-1])))\n",
    "\n",
    "model.add(layers.Dense(2, activation='softmax'))\n",
    "\n",
    "model.summary()"
   ]
  },
  {
   "cell_type": "code",
   "execution_count": null,
   "metadata": {
    "_cell_guid": "8fa5c922-3567-47ab-8c98-40fa7947b1cd",
    "_uuid": "33ad5f1e69dc25f1afaba355938bebc9a71638e1",
    "collapsed": true
   },
   "outputs": [],
   "source": [
    "model.compile(optimizer=RMSprop(), loss='categorical_crossentropy', metrics=['accuracy'])\n",
    "history = model.fit_generator(train_gen,\n",
    "                              steps_per_epoch=2,\n",
    "                              epochs=15,\n",
    "                              validation_data=val_gen,\n",
    "                             validation_steps=val_steps)"
   ]
  },
  {
   "cell_type": "code",
   "execution_count": null,
   "metadata": {
    "_cell_guid": "fb7fbfb1-0172-4f3b-99a8-837f54648e78",
    "_uuid": "3930b00cac37d7734457f0a63d326268eb4c0ae7",
    "collapsed": true
   },
   "outputs": [],
   "source": [
    "loss = history.history['loss']\n",
    "val_loss = history.history['val_loss']\n",
    "epochs = range(1, len(loss) + 1)\n",
    "plt.figure()\n",
    "plt.plot(epochs, loss, 'ro', label='Training loss')\n",
    "plt.plot(epochs, val_loss, 'b', label='Validation loss')\n",
    "plt.title('Training and validation loss')\n",
    "plt.legend()\n",
    "plt.show()"
   ]
  },
  {
   "cell_type": "code",
   "execution_count": null,
   "metadata": {
    "_cell_guid": "2c98a901-8d06-46ee-aeb9-c2c83cc364b0",
    "_uuid": "53255a960c62711f0a8de17a7a2047e6f182e52a",
    "collapsed": true
   },
   "outputs": [],
   "source": [
    "acc = history.history['acc']\n",
    "val_acc = history.history['val_acc']\n",
    "plt.plot(epochs, acc, 'r', label='Training acc')\n",
    "plt.plot(epochs, val_acc, 'b', label='Validation acc')\n",
    "plt.title('Training and validation accuracy')\n",
    "plt.xlabel('Epochs')\n",
    "plt.ylabel('Loss')\n",
    "plt.legend()\n",
    "plt.show()"
   ]
  },
  {
   "cell_type": "code",
   "execution_count": null,
   "metadata": {
    "_cell_guid": "53139d1a-638a-43fb-b78c-c85c4ef48da0",
    "_uuid": "b48d6c97a9fd9efeae3298130439d61ad153cc34",
    "collapsed": true
   },
   "outputs": [],
   "source": [
    "test_loss, test_acc = model.evaluate_generator(test_gen, steps=7)\n",
    "print('test acc:', test_acc)\n",
    "print(\"test_loss:\", test_loss)"
   ]
  },
  {
   "cell_type": "markdown",
   "metadata": {
    "_cell_guid": "5d7ee142-1d55-4da4-bdbc-88cc93b32166",
    "_uuid": "f7f3d41c4f91462e1ffbfed94c493313d71606e0"
   },
   "source": [
    "GRU model does not performs any better than LSTMl for Stock Market Prediction.\n",
    "Let's try dropout-regularized GRU based model for prediction."
   ]
  },
  {
   "cell_type": "markdown",
   "metadata": {
    "_cell_guid": "a0b6ba7a-8eaa-4512-b2ac-eca775eff5f6",
    "_uuid": "050607ac2e03d7407653504889fdaba4feeca5a9"
   },
   "source": [
    "# Training and evaluating a dropout-regularized GRU-based model"
   ]
  },
  {
   "cell_type": "markdown",
   "metadata": {
    "_cell_guid": "e04a3311-898e-4f66-819e-7038ac9807da",
    "_uuid": "2ee90b15435ccdccbecb78c0ca118b40807c494f"
   },
   "source": [
    "### Technical Indicator 1"
   ]
  },
  {
   "cell_type": "code",
   "execution_count": null,
   "metadata": {
    "_cell_guid": "4f1caf0f-e2b2-494f-913e-f97bd200415d",
    "_uuid": "85c32a2559221612a95e3926648b17c45e205aa6",
    "collapsed": true
   },
   "outputs": [],
   "source": [
    "train_gen = generator(normalized_df1,\n",
    "                      lookback=lookback,\n",
    "                      delay=delay,\n",
    "                      min_index=0,\n",
    "                      max_index=round(0.6*len(normalized_df1)),\n",
    "                      shuffle=False,\n",
    "                      step=step,\n",
    "                      batch_size=batch_size)\n",
    "val_gen = generator(normalized_df1,\n",
    "                    lookback=lookback,\n",
    "                    delay=delay,\n",
    "                    min_index=round(0.6*len(normalized_df1))+1,\n",
    "                    max_index=round(0.8*len(normalized_df1)),\n",
    "                    step=step,\n",
    "                    batch_size=batch_size)\n",
    "test_gen = generator(normalized_df1,\n",
    "                     lookback=lookback,\n",
    "                     delay=delay,\n",
    "                     min_index=round(0.8*len(normalized_df1))+1,\n",
    "                     max_index=None,\n",
    "                     step=step,\n",
    "                     batch_size=batch_size)\n",
    "\n",
    "val_steps = (round(0.8*len(normalized_df1)) - round(0.6*len(normalized_df1))+1 - lookback) # how many steps to draw from val_gen in order to see the entire validation set\n",
    "test_steps = (len(normalized_df1) - round(0.8*len(normalized_df1))+1 - lookback)"
   ]
  },
  {
   "cell_type": "code",
   "execution_count": null,
   "metadata": {
    "_cell_guid": "37d6cbdc-e68f-4008-a4be-74d00ec0c5c3",
    "_uuid": "f1c070ea2a6dd3e0ea2aabe60539ec220ab5725f",
    "collapsed": true
   },
   "outputs": [],
   "source": [
    "model = Sequential()\n",
    "model.add(layers.GRU(32,\n",
    "                     dropout=0.2,\n",
    "                     recurrent_dropout=0.4,\n",
    "                     input_shape=(None, normalized_df1.shape[-1])))\n",
    "model.add(layers.Dense(2, activation='softmax'))\n",
    "model.compile(optimizer=RMSprop(), loss='categorical_crossentropy', metrics=['accuracy'])\n",
    "history = model.fit_generator(train_gen,\n",
    "                              steps_per_epoch=2,\n",
    "                              epochs=50,\n",
    "                              validation_data=val_gen,\n",
    "                             validation_steps=val_steps)"
   ]
  },
  {
   "cell_type": "code",
   "execution_count": null,
   "metadata": {
    "_cell_guid": "b236c775-e810-4413-aa02-cd8d03ce8c20",
    "_uuid": "302fcd2b76f93d36ce5139b2fb93167f4a59e6d1",
    "collapsed": true
   },
   "outputs": [],
   "source": [
    "loss = history.history['loss']\n",
    "val_loss = history.history['val_loss']\n",
    "epochs = range(1, len(loss) + 1)\n",
    "plt.figure()\n",
    "plt.plot(epochs, loss, 'ro', label='Training loss')\n",
    "plt.plot(epochs, val_loss, 'b', label='Validation loss')\n",
    "plt.title('Training and validation loss')\n",
    "plt.legend()\n",
    "plt.show()"
   ]
  },
  {
   "cell_type": "code",
   "execution_count": null,
   "metadata": {
    "_cell_guid": "65245f9c-894f-4e63-9cdc-195b812a7038",
    "_uuid": "48d6adef1740e46b34e472877ddfeb87240dfcbe",
    "collapsed": true
   },
   "outputs": [],
   "source": [
    "acc = history.history['acc']\n",
    "val_acc = history.history['val_acc']\n",
    "plt.plot(epochs, acc, 'r', label='Training acc')\n",
    "plt.plot(epochs, val_acc, 'b', label='Validation acc')\n",
    "plt.title('Training and validation accuracy')\n",
    "plt.xlabel('Epochs')\n",
    "plt.ylabel('Loss')\n",
    "plt.legend()\n",
    "plt.show()"
   ]
  },
  {
   "cell_type": "code",
   "execution_count": null,
   "metadata": {
    "_cell_guid": "90ad1dd9-3a60-4429-a6f6-0a729c56ac1a",
    "_uuid": "58c5cd6dee3d8a708b22f4511f77b75630751b3b",
    "collapsed": true
   },
   "outputs": [],
   "source": [
    "\n",
    "test_loss, test_acc = model.evaluate_generator(test_gen, steps=3)\n",
    "print('test acc:', test_acc)\n",
    "print(\"test_loss:\", test_loss)"
   ]
  },
  {
   "cell_type": "markdown",
   "metadata": {
    "_cell_guid": "066310d9-a7ac-4ab0-8809-2125544a2987",
    "_uuid": "06e9c278577eec33beead365beb2f194166d5fd1"
   },
   "source": [
    "### Technical Indicators 2"
   ]
  },
  {
   "cell_type": "code",
   "execution_count": null,
   "metadata": {
    "_cell_guid": "b23d0179-2093-4929-967b-e8bb9817df7d",
    "_uuid": "971a2209d60d2c4e03e2b5fa71e744e9407744f6",
    "collapsed": true
   },
   "outputs": [],
   "source": [
    "train_gen = generator(normalized_df2,\n",
    "                      lookback=lookback,\n",
    "                      delay=delay,\n",
    "                      min_index=0,\n",
    "                      max_index=round(0.6*len(normalized_df2)),\n",
    "                      shuffle=False,\n",
    "                      step=step,\n",
    "                      batch_size=batch_size)\n",
    "val_gen = generator(normalized_df2,\n",
    "                    lookback=lookback,\n",
    "                    delay=delay,\n",
    "                    min_index=round(0.6*len(normalized_df2))+1,\n",
    "                    max_index=round(0.8*len(normalized_df2)),\n",
    "                    step=step,\n",
    "                    batch_size=batch_size)\n",
    "test_gen = generator(normalized_df2,\n",
    "                     lookback=lookback,\n",
    "                     delay=delay,\n",
    "                     min_index=round(0.8*len(normalized_df2))+1,\n",
    "                     max_index=None,\n",
    "                     step=step,\n",
    "                     batch_size=batch_size)\n",
    "\n",
    "val_steps = (round(0.8*len(normalized_df2)) - round(0.6*len(normalized_df2))+1 - lookback) # how many steps to draw from val_gen in order to see the entire validation set\n",
    "test_steps = (len(normalized_df2) - round(0.8*len(normalized_df2))+1 - lookback)"
   ]
  },
  {
   "cell_type": "code",
   "execution_count": null,
   "metadata": {
    "_cell_guid": "b585f590-0ed3-439f-b47d-a63207313697",
    "_uuid": "5c39108780bcb9f12abda2dcc5e05b8d9cdb2100",
    "collapsed": true
   },
   "outputs": [],
   "source": [
    "model = Sequential()\n",
    "model.add(layers.GRU(32,\n",
    "                     dropout=0.2,\n",
    "                     recurrent_dropout=0.4,\n",
    "                     input_shape=(None, normalized_df2.shape[-1])))\n",
    "model.add(layers.Dense(2, activation='softmax'))\n",
    "model.compile(optimizer=RMSprop(), loss='categorical_crossentropy', metrics=['accuracy'])\n",
    "history = model.fit_generator(train_gen,\n",
    "                              steps_per_epoch=2,\n",
    "                              epochs=36,\n",
    "                              validation_data=val_gen,\n",
    "                             validation_steps=val_steps)"
   ]
  },
  {
   "cell_type": "code",
   "execution_count": null,
   "metadata": {
    "_cell_guid": "06d80766-5b76-4d84-827a-1b5d7331d916",
    "_uuid": "0de3be982217c57380b2ba2c918fe44dc2fbe00a",
    "collapsed": true
   },
   "outputs": [],
   "source": [
    "loss = history.history['loss']\n",
    "val_loss = history.history['val_loss']\n",
    "epochs = range(1, len(loss) + 1)\n",
    "plt.figure()\n",
    "plt.plot(epochs, loss, 'ro', label='Training loss')\n",
    "plt.plot(epochs, val_loss, 'b', label='Validation loss')\n",
    "plt.title('Training and validation loss')\n",
    "plt.legend()\n",
    "plt.show()"
   ]
  },
  {
   "cell_type": "code",
   "execution_count": null,
   "metadata": {
    "_cell_guid": "46cf77eb-2f54-4393-bf39-35a0e6f14f0a",
    "_uuid": "fc77c4a2120ec82b895c2bc1fde6d86a6118b3b2",
    "collapsed": true
   },
   "outputs": [],
   "source": [
    "acc = history.history['acc']\n",
    "val_acc = history.history['val_acc']\n",
    "plt.plot(epochs, acc, 'r', label='Training acc')\n",
    "plt.plot(epochs, val_acc, 'b', label='Validation acc')\n",
    "plt.title('Training and validation accuracy')\n",
    "plt.xlabel('Epochs')\n",
    "plt.ylabel('Loss')\n",
    "plt.legend()\n",
    "plt.show()"
   ]
  },
  {
   "cell_type": "code",
   "execution_count": null,
   "metadata": {
    "_cell_guid": "97b91b24-bc29-4159-b11e-19209433679b",
    "_uuid": "9872bb48d879ca9985aa6b626a5c2c25eb19d36d",
    "collapsed": true
   },
   "outputs": [],
   "source": [
    "test_loss, test_acc = model.evaluate_generator(test_gen, steps=4)\n",
    "print('test acc:', test_acc)\n",
    "print(\"test_loss:\", test_loss)"
   ]
  },
  {
   "cell_type": "markdown",
   "metadata": {
    "_cell_guid": "6ffc1031-3901-40ef-88a0-1ce01ebac0c9",
    "_uuid": "2658dba62f57b4e7f39977dc77872634aa41ccc1"
   },
   "source": [
    "### Technical Indicators 3"
   ]
  },
  {
   "cell_type": "code",
   "execution_count": null,
   "metadata": {
    "_cell_guid": "2e5e6922-c6c5-4a4d-bc78-9118a1e9fee0",
    "_uuid": "789932bfdcf7c801f70232715756f97e4a8156bb",
    "collapsed": true
   },
   "outputs": [],
   "source": [
    "train_gen = generator(normalized_df3,\n",
    "                      lookback=lookback,\n",
    "                      delay=delay,\n",
    "                      min_index=0,\n",
    "                      max_index=round(0.6*len(normalized_df3)),\n",
    "                      shuffle=False,\n",
    "                      step=step,\n",
    "                      batch_size=batch_size)\n",
    "val_gen = generator(normalized_df3,\n",
    "                    lookback=lookback,\n",
    "                    delay=delay,\n",
    "                    min_index=round(0.6*len(normalized_df3))+1,\n",
    "                    max_index=round(0.8*len(normalized_df3)),\n",
    "                    step=step,\n",
    "                    batch_size=batch_size)\n",
    "test_gen = generator(normalized_df3,\n",
    "                     lookback=lookback,\n",
    "                     delay=delay,\n",
    "                     min_index=round(0.8*len(normalized_df3))+1,\n",
    "                     max_index=None,\n",
    "                     step=step,\n",
    "                     batch_size=batch_size)\n",
    "\n",
    "val_steps = (round(0.8*len(normalized_df3)) - round(0.6*len(normalized_df3))+1 - lookback) # how many steps to draw from val_gen in order to see the entire validation set\n",
    "test_steps = (len(normalized_df3) - round(0.8*len(normalized_df3))+1 - lookback)"
   ]
  },
  {
   "cell_type": "code",
   "execution_count": null,
   "metadata": {
    "_cell_guid": "6249478d-32e5-48a5-adbd-466fd180ee76",
    "_uuid": "0f10a808041b706e61ff6a461a3da45049bd2976",
    "collapsed": true
   },
   "outputs": [],
   "source": [
    "model = Sequential()\n",
    "model.add(layers.GRU(32,\n",
    "                     dropout=0.2,\n",
    "                     recurrent_dropout=0.4,\n",
    "                     input_shape=(None, normalized_df3.shape[-1])))\n",
    "model.add(layers.Dense(2, activation='softmax'))\n",
    "model.compile(optimizer=RMSprop(), loss='categorical_crossentropy', metrics=['accuracy'])\n",
    "history = model.fit_generator(train_gen,\n",
    "                              steps_per_epoch=2,\n",
    "                              epochs=20,\n",
    "                              validation_data=val_gen,\n",
    "                             validation_steps=val_steps)"
   ]
  },
  {
   "cell_type": "code",
   "execution_count": null,
   "metadata": {
    "_cell_guid": "39ce1d17-b182-4ab1-b515-39097eb22d22",
    "_uuid": "cebac13400f5699d6dd1ce95d9d82bd50ab74871",
    "collapsed": true
   },
   "outputs": [],
   "source": [
    "loss = history.history['loss']\n",
    "val_loss = history.history['val_loss']\n",
    "epochs = range(1, len(loss) + 1)\n",
    "plt.figure()\n",
    "plt.plot(epochs, loss, 'ro', label='Training loss')\n",
    "plt.plot(epochs, val_loss, 'b', label='Validation loss')\n",
    "plt.title('Training and validation loss')\n",
    "plt.legend()\n",
    "plt.show()"
   ]
  },
  {
   "cell_type": "code",
   "execution_count": null,
   "metadata": {
    "_cell_guid": "ea31c763-cf09-4476-931c-404ab9db4710",
    "_uuid": "04723d6bcb8dc3fb998887b7ea5ad89a7ca8b19a",
    "collapsed": true
   },
   "outputs": [],
   "source": [
    "acc = history.history['acc']\n",
    "val_acc = history.history['val_acc']\n",
    "plt.plot(epochs, acc, 'r', label='Training acc')\n",
    "plt.plot(epochs, val_acc, 'b', label='Validation acc')\n",
    "plt.title('Training and validation accuracy')\n",
    "plt.xlabel('Epochs')\n",
    "plt.ylabel('Loss')\n",
    "plt.legend()\n",
    "plt.show()"
   ]
  },
  {
   "cell_type": "code",
   "execution_count": null,
   "metadata": {
    "_cell_guid": "e50fdf68-18de-403c-93b3-40e265bd2bbb",
    "_uuid": "17914a0ec98ae3762d23ad7fcbcd48d832ebbae6",
    "collapsed": true
   },
   "outputs": [],
   "source": [
    "test_loss, test_acc = model.evaluate_generator(test_gen, steps=4)\n",
    "print('test acc:', test_acc)\n",
    "print(\"test_loss:\", test_loss)"
   ]
  },
  {
   "cell_type": "markdown",
   "metadata": {
    "_cell_guid": "96ccab39-8855-4a8e-9b12-fdac8371f75e",
    "_uuid": "b949ee1914109613e10b235b64086c40a2db3160"
   },
   "source": [
    "### Technical Indicators 4"
   ]
  },
  {
   "cell_type": "code",
   "execution_count": null,
   "metadata": {
    "_cell_guid": "a798d59f-88cc-4a1c-8bae-e6cbe33be9cc",
    "_uuid": "d4af14a787d43bf28c8c70a740bafceebe6978ae",
    "collapsed": true
   },
   "outputs": [],
   "source": [
    "train_gen = generator(normalized_df4,\n",
    "                      lookback=lookback,\n",
    "                      delay=delay,\n",
    "                      min_index=0,\n",
    "                      max_index=round(0.6*len(normalized_df4)),\n",
    "                      shuffle=False,\n",
    "                      step=step,\n",
    "                      batch_size=batch_size)\n",
    "val_gen = generator(normalized_df4,\n",
    "                    lookback=lookback,\n",
    "                    delay=delay,\n",
    "                    min_index=round(0.6*len(normalized_df4))+1,\n",
    "                    max_index=round(0.8*len(normalized_df4)),\n",
    "                    step=step,\n",
    "                    batch_size=batch_size)\n",
    "test_gen = generator(normalized_df4,\n",
    "                     lookback=lookback,\n",
    "                     delay=delay,\n",
    "                     min_index=round(0.8*len(normalized_df4))+1,\n",
    "                     max_index=None,\n",
    "                     step=step,\n",
    "                     batch_size=batch_size)\n",
    "\n",
    "val_steps = (round(0.8*len(normalized_df4)) - round(0.6*len(normalized_df4))+1 - lookback) # how many steps to draw from val_gen in order to see the entire validation set\n",
    "test_steps = (len(normalized_df4) - round(0.8*len(normalized_df4))+1 - lookback)"
   ]
  },
  {
   "cell_type": "code",
   "execution_count": null,
   "metadata": {
    "_cell_guid": "15d26368-0b36-4c77-b38d-3546e36f2ecf",
    "_uuid": "1e07611da2e3b49fc7b601df28dfaf89b256facf",
    "collapsed": true
   },
   "outputs": [],
   "source": [
    "model = Sequential()\n",
    "model.add(layers.GRU(32,\n",
    "                     dropout=0.2,\n",
    "                     recurrent_dropout=0.4,\n",
    "                     input_shape=(None, normalized_df4.shape[-1])))\n",
    "model.add(layers.Dense(2, activation='softmax'))\n",
    "model.compile(optimizer=RMSprop(), loss='categorical_crossentropy', metrics=['accuracy'])\n",
    "history = model.fit_generator(train_gen,\n",
    "                              steps_per_epoch=2,\n",
    "                              epochs=13,\n",
    "                              validation_data=val_gen,\n",
    "                             validation_steps=val_steps)"
   ]
  },
  {
   "cell_type": "code",
   "execution_count": null,
   "metadata": {
    "_cell_guid": "5b8d1602-8bdc-4e70-b044-1129ecdbe236",
    "_uuid": "0b02b30dbee755bfb51179dc9a29b816d67e24a3",
    "collapsed": true
   },
   "outputs": [],
   "source": [
    "loss = history.history['loss']\n",
    "val_loss = history.history['val_loss']\n",
    "epochs = range(1, len(loss) + 1)\n",
    "plt.figure()\n",
    "plt.plot(epochs, loss, 'ro', label='Training loss')\n",
    "plt.plot(epochs, val_loss, 'b', label='Validation loss')\n",
    "plt.title('Training and validation loss')\n",
    "plt.legend()\n",
    "plt.show()"
   ]
  },
  {
   "cell_type": "code",
   "execution_count": null,
   "metadata": {
    "_cell_guid": "cc6d85ef-361b-498b-bac6-ad91c78a3372",
    "_uuid": "660cd42df2169d95e8e1cf67445b9cb3d9577362",
    "collapsed": true
   },
   "outputs": [],
   "source": [
    "acc = history.history['acc']\n",
    "val_acc = history.history['val_acc']\n",
    "plt.plot(epochs, acc, 'r', label='Training acc')\n",
    "plt.plot(epochs, val_acc, 'b', label='Validation acc')\n",
    "plt.title('Training and validation accuracy')\n",
    "plt.xlabel('Epochs')\n",
    "plt.ylabel('Loss')\n",
    "plt.legend()\n",
    "plt.show()"
   ]
  },
  {
   "cell_type": "code",
   "execution_count": null,
   "metadata": {
    "_cell_guid": "2a2b0b27-c168-4b6c-b140-ad0b3bce9270",
    "_uuid": "36fae5500c5e531eda483bbd94c0a78ba2d7c9c9",
    "collapsed": true
   },
   "outputs": [],
   "source": [
    "test_loss, test_acc = model.evaluate_generator(test_gen, steps=7)\n",
    "print('test acc:', test_acc)\n",
    "print(\"test_loss:\", test_loss)"
   ]
  },
  {
   "cell_type": "markdown",
   "metadata": {
    "_cell_guid": "5ed95bdf-14ef-4c2f-b6a3-4f585ffee0ea",
    "_uuid": "0c2aabfaaf4a07808ef436b6f00580560ca80e32"
   },
   "source": [
    "The Performance still does not increase.\n",
    "Let's try Stacking Recurrent Layers."
   ]
  },
  {
   "cell_type": "markdown",
   "metadata": {
    "_cell_guid": "7932015f-d8d9-4f5e-949c-09e9637527b8",
    "_uuid": "bbc8fbf622e1f9179ba9c79eeb8c2179e5915d24"
   },
   "source": [
    "# Stacking Recurrent Layers"
   ]
  },
  {
   "cell_type": "markdown",
   "metadata": {
    "_cell_guid": "5592a3d2-5de4-43e9-9230-3694a09d9561",
    "_uuid": "a110307d1408fca4607125f6fb3e87c747e3c3b9"
   },
   "source": [
    "## Training and evaluating a dropout-regularized, stacked GRU model"
   ]
  },
  {
   "cell_type": "markdown",
   "metadata": {
    "_cell_guid": "2577d912-e55d-4eb6-b4c9-0a6eb9d17ad1",
    "_uuid": "919c2571a14a10275668533408a4c45329ed47ce"
   },
   "source": [
    "### Technical Indicators 1"
   ]
  },
  {
   "cell_type": "code",
   "execution_count": null,
   "metadata": {
    "_cell_guid": "df0196cc-f518-411d-b7d5-3e01128061ea",
    "_uuid": "ab074aaeab8541299abe2d0f6fbef7c11c9750ff",
    "collapsed": true
   },
   "outputs": [],
   "source": [
    "train_gen = generator(normalized_df1,\n",
    "                      lookback=lookback,\n",
    "                      delay=delay,\n",
    "                      min_index=0,\n",
    "                      max_index=round(0.6*len(normalized_df1)),\n",
    "                      shuffle=False,\n",
    "                      step=step,\n",
    "                      batch_size=batch_size)\n",
    "val_gen = generator(normalized_df1,\n",
    "                    lookback=lookback,\n",
    "                    delay=delay,\n",
    "                    min_index=round(0.6*len(normalized_df1))+1,\n",
    "                    max_index=round(0.8*len(normalized_df1)),\n",
    "                    step=step,\n",
    "                    batch_size=batch_size)\n",
    "test_gen = generator(normalized_df1,\n",
    "                     lookback=lookback,\n",
    "                     delay=delay,\n",
    "                     min_index=round(0.8*len(normalized_df1))+1,\n",
    "                     max_index=None,\n",
    "                     step=step,\n",
    "                     batch_size=batch_size)\n",
    "\n",
    "val_steps = (round(0.8*len(normalized_df1)) - round(0.6*len(normalized_df1))+1 - lookback) # how many steps to draw from val_gen in order to see the entire validation set\n",
    "test_steps = (len(normalized_df1) - round(0.8*len(normalized_df1))+1 - lookback)"
   ]
  },
  {
   "cell_type": "code",
   "execution_count": null,
   "metadata": {
    "_cell_guid": "64a99a73-1a60-4824-8310-dfc53bbe7de8",
    "_uuid": "f43f3a27b506dae63706e58a4fb47210574c0a4f",
    "collapsed": true
   },
   "outputs": [],
   "source": [
    "model = Sequential()\n",
    "model.add(layers.GRU(32,\n",
    "                     dropout=0.1,\n",
    "                     recurrent_dropout=0.5,\n",
    "                     return_sequences=True,\n",
    "                     input_shape=(None, normalized_df1.shape[-1])))\n",
    "model.add(layers.GRU(64, activation='relu',\n",
    "                     dropout=0.1,\n",
    "                     recurrent_dropout=0.5))\n",
    "model.add(layers.Dense(2, activation='softmax'))\n",
    "model.compile(optimizer=RMSprop(), loss='categorical_crossentropy', metrics=['accuracy'])\n",
    "history = model.fit_generator(train_gen,\n",
    "                              steps_per_epoch=2,\n",
    "                              epochs=5,\n",
    "                              validation_data=val_gen,\n",
    "                             validation_steps=val_steps)"
   ]
  },
  {
   "cell_type": "code",
   "execution_count": null,
   "metadata": {
    "_cell_guid": "64da90c7-643d-4d94-8dcb-ad61ad3c1391",
    "_uuid": "3f71f37700d60aade28e70797a7966f8014ab27b",
    "collapsed": true
   },
   "outputs": [],
   "source": [
    "loss = history.history['loss']\n",
    "val_loss = history.history['val_loss']\n",
    "epochs = range(1, len(loss) + 1)\n",
    "plt.figure()\n",
    "plt.plot(epochs, loss, 'ro', label='Training loss')\n",
    "plt.plot(epochs, val_loss, 'b', label='Validation loss')\n",
    "plt.title('Training and validation loss')\n",
    "plt.legend()\n",
    "plt.show()"
   ]
  },
  {
   "cell_type": "code",
   "execution_count": null,
   "metadata": {
    "_cell_guid": "95d60e4e-4928-411b-ad16-d3f5ff0503de",
    "_uuid": "fcdb269d6f3480ab8e413c9533712ff7cc80b10a",
    "collapsed": true
   },
   "outputs": [],
   "source": [
    "acc = history.history['acc']\n",
    "val_acc = history.history['val_acc']\n",
    "plt.plot(epochs, acc, 'r', label='Training acc')\n",
    "plt.plot(epochs, val_acc, 'b', label='Validation acc')\n",
    "plt.title('Training and validation accuracy')\n",
    "plt.xlabel('Epochs')\n",
    "plt.ylabel('Loss')\n",
    "plt.legend()\n",
    "plt.show()"
   ]
  },
  {
   "cell_type": "code",
   "execution_count": null,
   "metadata": {
    "_cell_guid": "a67291b0-c9ff-4aa4-b22e-6ec97a03f9f7",
    "_uuid": "ea97f5cc8ef589a86039e991b6de3ddd2f48cae5",
    "collapsed": true
   },
   "outputs": [],
   "source": [
    "\n",
    "test_loss, test_acc = model.evaluate_generator(test_gen, steps=10)\n",
    "print('test acc:', test_acc)\n",
    "print(\"test_loss:\", test_loss)"
   ]
  },
  {
   "cell_type": "markdown",
   "metadata": {
    "_cell_guid": "8a7dbe95-6a41-48d4-abbc-2e449e25d1b6",
    "_uuid": "00e8015dfc0f2fa35ee66cde3abf7622363103b1"
   },
   "source": [
    "### Technical Indicators 2"
   ]
  },
  {
   "cell_type": "code",
   "execution_count": null,
   "metadata": {
    "_cell_guid": "adace726-673a-4fcf-8d89-f955a777cc84",
    "_uuid": "65d0b06df23827c835225afc0685f71d47795e6d",
    "collapsed": true
   },
   "outputs": [],
   "source": [
    "train_gen = generator(normalized_df2,\n",
    "                      lookback=lookback,\n",
    "                      delay=delay,\n",
    "                      min_index=0,\n",
    "                      max_index=round(0.6*len(normalized_df2)),\n",
    "                      shuffle=False,\n",
    "                      step=step,\n",
    "                      batch_size=batch_size)\n",
    "val_gen = generator(normalized_df2,\n",
    "                    lookback=lookback,\n",
    "                    delay=delay,\n",
    "                    min_index=round(0.6*len(normalized_df2))+1,\n",
    "                    max_index=round(0.8*len(normalized_df2)),\n",
    "                    step=step,\n",
    "                    batch_size=batch_size)\n",
    "test_gen = generator(normalized_df2,\n",
    "                     lookback=lookback,\n",
    "                     delay=delay,\n",
    "                     min_index=round(0.8*len(normalized_df2))+1,\n",
    "                     max_index=None,\n",
    "                     step=step,\n",
    "                     batch_size=batch_size)\n",
    "\n",
    "val_steps = (round(0.8*len(normalized_df2)) - round(0.6*len(normalized_df2))+1 - lookback) # how many steps to draw from val_gen in order to see the entire validation set\n",
    "test_steps = (len(normalized_df2) - round(0.8*len(normalized_df2))+1 - lookback)"
   ]
  },
  {
   "cell_type": "code",
   "execution_count": null,
   "metadata": {
    "_cell_guid": "4f991b81-4330-474f-8043-92514b1fac4f",
    "_uuid": "f330d3effdabb94e3ebf62f2564763c74e9dae43",
    "collapsed": true
   },
   "outputs": [],
   "source": [
    "model = Sequential()\n",
    "model.add(layers.GRU(32,\n",
    "                     dropout=0.1,\n",
    "                     recurrent_dropout=0.5,\n",
    "                     return_sequences=True,\n",
    "                     input_shape=(None, normalized_df2.shape[-1])))\n",
    "model.add(layers.GRU(64, activation='relu',\n",
    "                     dropout=0.1,\n",
    "                     recurrent_dropout=0.5))\n",
    "model.add(layers.Dense(2, activation = 'softmax'))\n",
    "model.compile(optimizer=RMSprop(), loss='categorical_crossentropy', metrics=['accuracy'])\n",
    "history = model.fit_generator(train_gen,\n",
    "                              steps_per_epoch=2,\n",
    "                              epochs=10,\n",
    "                              validation_data=val_gen,\n",
    "                             validation_steps=val_steps)"
   ]
  },
  {
   "cell_type": "code",
   "execution_count": null,
   "metadata": {
    "_cell_guid": "fa88a6bb-b8d6-4657-b6b6-b1b584c73532",
    "_uuid": "2951efea35ef0ac11083e71f766e70c177e31f87",
    "collapsed": true
   },
   "outputs": [],
   "source": [
    "loss = history.history['loss']\n",
    "val_loss = history.history['val_loss']\n",
    "epochs = range(1, len(loss) + 1)\n",
    "plt.figure()\n",
    "plt.plot(epochs, loss, 'ro', label='Training loss')\n",
    "plt.plot(epochs, val_loss, 'b', label='Validation loss')\n",
    "plt.title('Training and validation loss')\n",
    "plt.legend()\n",
    "plt.show()"
   ]
  },
  {
   "cell_type": "code",
   "execution_count": null,
   "metadata": {
    "_cell_guid": "e07bd6db-02d2-41e2-8c85-4dcecb5f7130",
    "_uuid": "6d7a1de8a88d9f436500ead4f4f3dc4e55e719e0",
    "collapsed": true
   },
   "outputs": [],
   "source": [
    "acc = history.history['acc']\n",
    "val_acc = history.history['val_acc']\n",
    "plt.plot(epochs, acc, 'r', label='Training acc')\n",
    "plt.plot(epochs, val_acc, 'b', label='Validation acc')\n",
    "plt.title('Training and validation accuracy')\n",
    "plt.xlabel('Epochs')\n",
    "plt.ylabel('Loss')\n",
    "plt.legend()\n",
    "plt.show()"
   ]
  },
  {
   "cell_type": "code",
   "execution_count": null,
   "metadata": {
    "_cell_guid": "71197cf5-ea4e-477c-b4b8-8a5b85275be7",
    "_uuid": "5be75dc1f04950e9648c7e0337f701c6c8a30fff",
    "collapsed": true
   },
   "outputs": [],
   "source": [
    "\n",
    "test_loss, test_acc = model.evaluate_generator(test_gen, steps=3)\n",
    "print('test acc:', test_acc)\n",
    "print(\"test_loss:\", test_loss)"
   ]
  },
  {
   "cell_type": "markdown",
   "metadata": {
    "_cell_guid": "c7e36128-61db-4a33-aa9a-7409c664d889",
    "_uuid": "399b237d3832662b6fca6b2da780b3d7c85bf28c"
   },
   "source": [
    "### Technical Indicators 3"
   ]
  },
  {
   "cell_type": "code",
   "execution_count": null,
   "metadata": {
    "_cell_guid": "18cc4d95-31d4-4b23-89ec-a3536d3c5f12",
    "_uuid": "235742b4dd00cd0ae86a23e247db7282bb361167",
    "collapsed": true
   },
   "outputs": [],
   "source": [
    "train_gen = generator(normalized_df3,\n",
    "                      lookback=lookback,\n",
    "                      delay=delay,\n",
    "                      min_index=0,\n",
    "                      max_index=round(0.6*len(normalized_df3)),\n",
    "                      shuffle=False,\n",
    "                      step=step,\n",
    "                      batch_size=batch_size)\n",
    "val_gen = generator(normalized_df3,\n",
    "                    lookback=lookback,\n",
    "                    delay=delay,\n",
    "                    min_index=round(0.6*len(normalized_df3))+1,\n",
    "                    max_index=round(0.8*len(normalized_df3)),\n",
    "                    step=step,\n",
    "                    batch_size=batch_size)\n",
    "test_gen = generator(normalized_df3,\n",
    "                     lookback=lookback,\n",
    "                     delay=delay,\n",
    "                     min_index=round(0.8*len(normalized_df3))+1,\n",
    "                     max_index=None,\n",
    "                     step=step,\n",
    "                     batch_size=batch_size)\n",
    "\n",
    "val_steps = (round(0.8*len(normalized_df3)) - round(0.6*len(normalized_df3))+1 - lookback) # how many steps to draw from val_gen in order to see the entire validation set\n",
    "test_steps = (len(normalized_df3) - round(0.8*len(normalized_df3))+1 - lookback)"
   ]
  },
  {
   "cell_type": "code",
   "execution_count": null,
   "metadata": {
    "_cell_guid": "a11ab888-a690-42ff-9329-caa52e552a34",
    "_uuid": "836bf137d184317d28d98d4242b6b12bf0bb71e3",
    "collapsed": true
   },
   "outputs": [],
   "source": [
    "model = Sequential()\n",
    "model.add(layers.GRU(32,\n",
    "                     dropout=0.1,\n",
    "                     recurrent_dropout=0.5,\n",
    "                     return_sequences=True,\n",
    "                     input_shape=(None, normalized_df3.shape[-1])))\n",
    "model.add(layers.GRU(64, activation='relu',\n",
    "                     dropout=0.1,\n",
    "                     recurrent_dropout=0.5))\n",
    "model.add(layers.Dense(2, activation='softmax'))\n",
    "model.compile(optimizer=RMSprop(), loss='categorical_crossentropy', metrics=['accuracy'])\n",
    "history = model.fit_generator(train_gen,\n",
    "                              steps_per_epoch=2,\n",
    "                              epochs=50,\n",
    "                              validation_data=val_gen,\n",
    "                             validation_steps=val_steps)"
   ]
  },
  {
   "cell_type": "code",
   "execution_count": null,
   "metadata": {
    "_cell_guid": "f833267e-618a-4ad3-a683-c978e37dfe0c",
    "_uuid": "080898b7db849c93ced51e582fb08bed3f91b895",
    "collapsed": true
   },
   "outputs": [],
   "source": [
    "loss = history.history['loss']\n",
    "val_loss = history.history['val_loss']\n",
    "epochs = range(1, len(loss) + 1)\n",
    "plt.figure()\n",
    "plt.plot(epochs, loss, 'ro', label='Training loss')\n",
    "plt.plot(epochs, val_loss, 'b', label='Validation loss')\n",
    "plt.title('Training and validation loss')\n",
    "plt.legend()\n",
    "plt.show()"
   ]
  },
  {
   "cell_type": "code",
   "execution_count": null,
   "metadata": {
    "_cell_guid": "7b058901-0729-40e9-86ea-eeab8da65520",
    "_uuid": "0731ea6d55bc9143fa296f8b238fd3cbbd105420",
    "collapsed": true
   },
   "outputs": [],
   "source": [
    "acc = history.history['acc']\n",
    "val_acc = history.history['val_acc']\n",
    "plt.plot(epochs, acc, 'r', label='Training acc')\n",
    "plt.plot(epochs, val_acc, 'b', label='Validation acc')\n",
    "plt.title('Training and validation accuracy')\n",
    "plt.xlabel('Epochs')\n",
    "plt.ylabel('Loss')\n",
    "plt.legend()\n",
    "plt.show()"
   ]
  },
  {
   "cell_type": "code",
   "execution_count": null,
   "metadata": {
    "_cell_guid": "825930ec-0f97-488b-8ea5-c3f2c244a863",
    "_uuid": "d04dff72fa24cb507b6beed7538ddf38f8870752",
    "collapsed": true
   },
   "outputs": [],
   "source": [
    "\n",
    "test_loss, test_acc = model.evaluate_generator(test_gen, steps=5)\n",
    "print('test acc:', test_acc)\n",
    "print(\"test_loss:\", test_loss)"
   ]
  },
  {
   "cell_type": "markdown",
   "metadata": {
    "_cell_guid": "1b02f284-0459-4b1e-8e9b-fef94bd95b5d",
    "_uuid": "73317663a1b491dd32fc869ae51747ba9f88db8c"
   },
   "source": [
    "### Technical Indicators 4"
   ]
  },
  {
   "cell_type": "code",
   "execution_count": null,
   "metadata": {
    "_cell_guid": "0acb745d-aeee-4afc-8c90-f2ad4f29d508",
    "_uuid": "75d71b69a6153b40d31359a3ea420a141e5534b4",
    "collapsed": true
   },
   "outputs": [],
   "source": [
    "train_gen = generator(normalized_df4,\n",
    "                      lookback=lookback,\n",
    "                      delay=delay,\n",
    "                      min_index=0,\n",
    "                      max_index=round(0.6*len(normalized_df4)),\n",
    "                      shuffle=False,\n",
    "                      step=step,\n",
    "                      batch_size=batch_size)\n",
    "val_gen = generator(normalized_df4,\n",
    "                    lookback=lookback,\n",
    "                    delay=delay,\n",
    "                    min_index=round(0.6*len(normalized_df4))+1,\n",
    "                    max_index=round(0.8*len(normalized_df4)),\n",
    "                    step=step,\n",
    "                    batch_size=batch_size)\n",
    "test_gen = generator(normalized_df4,\n",
    "                     lookback=lookback,\n",
    "                     delay=delay,\n",
    "                     min_index=round(0.8*len(normalized_df4))+1,\n",
    "                     max_index=None,\n",
    "                     step=step,\n",
    "                     batch_size=batch_size)\n",
    "\n",
    "val_steps = (round(0.8*len(normalized_df4)) - round(0.6*len(normalized_df4))+1 - lookback) # how many steps to draw from val_gen in order to see the entire validation set\n",
    "test_steps = (len(normalized_df4) - round(0.8*len(normalized_df4))+1 - lookback)"
   ]
  },
  {
   "cell_type": "code",
   "execution_count": null,
   "metadata": {
    "_cell_guid": "54503f89-da22-4d42-a0c8-557c5656ee5d",
    "_uuid": "289fa8fb7a4fa37de72831e610970ffea352edd9",
    "collapsed": true
   },
   "outputs": [],
   "source": [
    "model = Sequential()\n",
    "model.add(layers.GRU(32,\n",
    "                     dropout=0.1,\n",
    "                     recurrent_dropout=0.5,\n",
    "                     return_sequences=True,\n",
    "                     input_shape=(None, normalized_df4.shape[-1])))\n",
    "model.add(layers.GRU(64, activation='relu',\n",
    "                     dropout=0.1,\n",
    "                     recurrent_dropout=0.5))\n",
    "model.add(layers.Dense(2, activation='softmax'))\n",
    "model.compile(optimizer=RMSprop(), loss='categorical_crossentropy', metrics=['accuracy'])\n",
    "history = model.fit_generator(train_gen,\n",
    "                              steps_per_epoch=2,\n",
    "                              epochs=50,\n",
    "                              validation_data=val_gen,\n",
    "                             validation_steps=val_steps)"
   ]
  },
  {
   "cell_type": "code",
   "execution_count": null,
   "metadata": {
    "_cell_guid": "6e843986-8b8a-4f36-af2f-a5e462fe535a",
    "_uuid": "82e35c5c5ff78b7ce695623773b0bdb16932372a",
    "collapsed": true
   },
   "outputs": [],
   "source": [
    "loss = history.history['loss']\n",
    "val_loss = history.history['val_loss']\n",
    "epochs = range(1, len(loss) + 1)\n",
    "plt.figure()\n",
    "plt.plot(epochs, loss, 'ro', label='Training loss')\n",
    "plt.plot(epochs, val_loss, 'b', label='Validation loss')\n",
    "plt.title('Training and validation loss')\n",
    "plt.legend()\n",
    "plt.show()"
   ]
  },
  {
   "cell_type": "code",
   "execution_count": null,
   "metadata": {
    "_cell_guid": "3902c64f-dad0-4e12-8831-786efa23f2c3",
    "_uuid": "429df75a5f281843008b538f8f651bede54fc8e2",
    "collapsed": true
   },
   "outputs": [],
   "source": [
    "acc = history.history['acc']\n",
    "val_acc = history.history['val_acc']\n",
    "plt.plot(epochs, acc, 'r', label='Training acc')\n",
    "plt.plot(epochs, val_acc, 'b', label='Validation acc')\n",
    "plt.title('Training and validation accuracy')\n",
    "plt.xlabel('Epochs')\n",
    "plt.ylabel('Loss')\n",
    "plt.legend()\n",
    "plt.show()"
   ]
  },
  {
   "cell_type": "code",
   "execution_count": null,
   "metadata": {
    "_cell_guid": "060812e3-30ea-4ad6-a04f-0e20d89400c5",
    "_uuid": "f249a70d415cba46c59b14ecdc76ebef91437292",
    "collapsed": true
   },
   "outputs": [],
   "source": [
    "test_loss, test_acc = model.evaluate_generator(test_gen, steps=5)\n",
    "print('test acc:', test_acc)\n",
    "print(\"test_loss:\", test_loss)"
   ]
  },
  {
   "cell_type": "markdown",
   "metadata": {
    "_cell_guid": "039f57e8-d95a-4ae9-a895-a51fe69c3b9c",
    "_uuid": "0fe81ab33fb47a5c87f273fd2918b5f31732bfb7"
   },
   "source": [
    "# Conclusion\n",
    "LSTM and GRU does not works for Stock Market data.\n",
    "Technical Indicators were also used for training since it shows how prices and volumes changes and shows their relationships.\n",
    "It can be seen that accuracy does not increase for any method. \n",
    "And is not even better than baseline prediction (50%) in some cases.\n",
    "Also, it can be seen that no set of Technical Indicators performs any better than other sets of Technical Indicators.\n"
   ]
  }
 ],
 "metadata": {
  "kernelspec": {
   "display_name": "Python 3 (ipykernel)",
   "language": "python",
   "name": "python3"
  },
  "language_info": {
   "codemirror_mode": {
    "name": "ipython",
    "version": 3
   },
   "file_extension": ".py",
   "mimetype": "text/x-python",
   "name": "python",
   "nbconvert_exporter": "python",
   "pygments_lexer": "ipython3",
   "version": "3.8.0"
  }
 },
 "nbformat": 4,
 "nbformat_minor": 1
}
