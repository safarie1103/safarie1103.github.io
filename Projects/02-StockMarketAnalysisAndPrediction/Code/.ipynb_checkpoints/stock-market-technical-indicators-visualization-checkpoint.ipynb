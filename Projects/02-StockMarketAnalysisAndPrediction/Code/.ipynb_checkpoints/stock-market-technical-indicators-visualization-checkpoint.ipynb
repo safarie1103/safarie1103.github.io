{
 "cells": [
  {
   "cell_type": "markdown",
   "metadata": {},
   "source": [
    "<a href=\"https://colab.research.google.com/github/safarie1103/DSC680/blob/main/Project1-stock-market-technical-indicators_and_Prediction/Code/stock-market-technical-indicators-visualization.ipynb\" target=\"_parent\"><img src=\"https://colab.research.google.com/assets/colab-badge.svg\" alt=\"Open In Colab\"/></a>"
   ]
  },
  {
   "cell_type": "markdown",
   "metadata": {},
   "source": [
    "# Stock Market Visualization"
   ]
  },
  {
   "cell_type": "code",
   "execution_count": null,
   "metadata": {
    "pycharm": {
     "name": "#%%\n"
    }
   },
   "outputs": [],
   "source": [
    "# Import Modules\n",
    "import os\n",
    "import sys\n",
    "\n",
    "import json\n",
    "from pathlib import Path\n",
    "import numpy as np\n",
    "import pandas as pd\n",
    "import os\n",
    "import random\n",
    "import copy\n",
    "import matplotlib.pyplot as plt\n",
    "import pandas"
   ]
  },
  {
   "cell_type": "code",
   "execution_count": null,
   "metadata": {
    "pycharm": {
     "name": "#%%\n"
    }
   },
   "outputs": [],
   "source": [
    "from google.colab import drive\n",
    "drive.mount('/content/drive', force_remount=True)\n",
    "data_dir = Path('/content/drive/MyDrive/DataSets/')"
   ]
  },
  {
   "cell_type": "code",
   "execution_count": null,
   "metadata": {
    "pycharm": {
     "name": "#%%\n"
    }
   },
   "outputs": [],
   "source": [
    "\n",
    "data_dir = Path('D:/GitHub/dsc650/ExternalResources/stock-market-technical-indicators-visualization/data/')\n",
    "data_dir =Path('/content/drive/MyDrive/DataSets/')"
   ]
  },
  {
   "cell_type": "markdown",
   "metadata": {},
   "source": [
    "## Read the data from Stock folder"
   ]
  },
  {
   "cell_type": "markdown",
   "metadata": {},
   "source": [
    "### Check how much data is available? "
   ]
  },
  {
   "cell_type": "code",
   "execution_count": null,
   "metadata": {
    "pycharm": {
     "name": "#%%\n"
    }
   },
   "outputs": [],
   "source": [
    "from subprocess import check_output\n",
    "print(check_output([\"dir\", \"\"]).decode(\"utf8\"))"
   ]
  },
  {
   "cell_type": "code",
   "execution_count": null,
   "metadata": {
    "pycharm": {
     "name": "#%%\n"
    }
   },
   "outputs": [],
   "source": [
    " for root, dirs, files in os.walk(data_dir.joinpath('kv')):"
   ]
  },
  {
   "cell_type": "code",
   "execution_count": null,
   "metadata": {
    "pycharm": {
     "name": "#%%\n"
    }
   },
   "outputs": [],
   "source": [
    "os.chdir(data_dir.joinpath('Stocks'))\n",
    "list = os.listdir()\n",
    "number_files = len(list)\n",
    "print(number_files)"
   ]
  },
  {
   "cell_type": "code",
   "execution_count": null,
   "metadata": {
    "pycharm": {
     "name": "#%%\n"
    }
   },
   "outputs": [],
   "source": [
    "os.chdir(data_dir.joinpath('ETFs'))\n",
    "list = os.listdir()\n",
    "number_files = len(list)\n",
    "print(number_files)"
   ]
  },
  {
   "cell_type": "markdown",
   "metadata": {},
   "source": [
    "### Choose 8 random stock data for analysis"
   ]
  },
  {
   "cell_type": "code",
   "execution_count": null,
   "metadata": {
    "pycharm": {
     "name": "#%%\n"
    }
   },
   "outputs": [],
   "source": [
    "#filenames = [x for x in os.listdir(\"./Stocks/\") if x.endswith('.txt') and os.path.getsize(x) > 0]\n",
    "os.chdir(data_dir.joinpath('Stocks'))\n",
    "filenames = random.sample([x for x in os.listdir() if x.endswith('.txt') \n",
    "                           and os.path.getsize(os.path.join('',x)) > 0], 8)\n",
    "print(filenames)"
   ]
  },
  {
   "cell_type": "markdown",
   "metadata": {},
   "source": [
    "### Read data into dataframes"
   ]
  },
  {
   "cell_type": "code",
   "execution_count": null,
   "metadata": {
    "pycharm": {
     "name": "#%%\n"
    }
   },
   "outputs": [],
   "source": [
    "data = []\n",
    "for filename in filenames:\n",
    "    print(os.path.join('',filename))\n",
    "    df = pd.read_csv(os.path.join('',filename), sep=',')\n",
    "    label, _, _ = filename.split(sep='.')\n",
    "    df['Label'] = label\n",
    "    df['Date'] = pd.to_datetime(df['Date'])\n",
    "\n",
    "    data.append(df)"
   ]
  },
  {
   "cell_type": "code",
   "execution_count": null,
   "metadata": {
    "pycharm": {
     "name": "#%%\n"
    }
   },
   "outputs": [],
   "source": [
    "data[0].head()"
   ]
  },
  {
   "cell_type": "code",
   "execution_count": null,
   "metadata": {
    "pycharm": {
     "name": "#%%\n"
    }
   },
   "outputs": [],
   "source": [
    "data[1].head()"
   ]
  },
  {
   "cell_type": "code",
   "execution_count": null,
   "metadata": {
    "pycharm": {
     "name": "#%%\n"
    }
   },
   "outputs": [],
   "source": [
    "print(len(data))"
   ]
  },
  {
   "cell_type": "markdown",
   "metadata": {},
   "source": [
    "## Add various Technical Indicators in the dataframe"
   ]
  },
  {
   "cell_type": "markdown",
   "metadata": {},
   "source": [
    "There are many types of Technical Indicators. \n",
    "The Technical Indicators we are considering are:\n",
    "- RSI, Volume (plain), Bollinger Bands, Aroon Oscillator, Price Volume Trend, acceleration bands\n",
    "- Stochastic, Chaikin Money Flow, Parabolic SAR, Rate of Change, Volume weighted average Price, momentum\n",
    "- Commodity Channel Index, On Balance Volume, Keltner Channels, Triple Exponential Moving Average, Normalized Averager True Range ,directional movement indicators\n",
    "- MACD, Money flowindex , Ichimoku, William %R, Volume MINMAX, adaptive moving average"
   ]
  },
  {
   "cell_type": "code",
   "execution_count": null,
   "metadata": {
    "pycharm": {
     "name": "#%%\n"
    }
   },
   "outputs": [],
   "source": [
    "TechIndicator = copy.deepcopy(data)"
   ]
  },
  {
   "cell_type": "markdown",
   "metadata": {},
   "source": [
    "### Calculation of Relative Strength Index (RSI)\n",
    "\n",
    "# Relative Strength Index\n",
    "# PriceUp = Price > 0\n",
    "# PriceDown = Price < 0\n",
    "# Avg(PriceUp)/(Avg(PriceUP)+Avg(PriceDown)*100\n",
    "# Where: PriceUp(t)=1*(Price(t)-Price(t-1)){Price(t)- Price(t-1)>0};\n",
    "# PriceDown(t)=-1*(Price(t)-Price(t-1)){Price(t)- Price(t-1)<0};\n"
   ]
  },
  {
   "cell_type": "code",
   "execution_count": null,
   "metadata": {
    "pycharm": {
     "name": "#%%\n"
    }
   },
   "outputs": [],
   "source": [
    "\n",
    "def rsi(values):\n",
    "    up = values[values>0].mean()\n",
    "    down = -1*values[values<0].mean()\n",
    "    return 100 * up / (up + down)\n"
   ]
  },
  {
   "cell_type": "code",
   "execution_count": null,
   "metadata": {
    "pycharm": {
     "name": "#%%\n"
    }
   },
   "outputs": [],
   "source": [
    "# Add Momentum_1D column for all stocks.\n",
    "# Momentum_1D = P(t) - P(t-1)\n",
    "for stock in range(len(TechIndicator)):\n",
    "    TechIndicator[stock]['Momentum_1D'] = (TechIndicator[stock]['Close']-TechIndicator[stock]['Close'].shift(1)).fillna(0)\n",
    "    TechIndicator[stock]['RSI_14D'] = TechIndicator[stock]['Momentum_1D'].rolling(center=False, window=14).apply(rsi).fillna(0)\n",
    "TechIndicator[1].tail(5)"
   ]
  },
  {
   "cell_type": "code",
   "execution_count": null,
   "metadata": {
    "pycharm": {
     "name": "#%%\n"
    }
   },
   "outputs": [],
   "source": [
    "TechIndicator[1].head(5)"
   ]
  },
  {
   "cell_type": "code",
   "execution_count": null,
   "metadata": {
    "pycharm": {
     "name": "#%%\n"
    }
   },
   "outputs": [],
   "source": [
    "import pandas as pd\n",
    "import seaborn as sns\n",
    "import matplotlib.pyplot as plt\n",
    "import plotly\n",
    "import plotly.express as px\n",
    "import numpy as np"
   ]
  },
  {
   "cell_type": "code",
   "execution_count": null,
   "metadata": {
    "pycharm": {
     "name": "#%%\n"
    }
   },
   "outputs": [],
   "source": [
    "TechIndicator[0][\"Open\"]"
   ]
  },
  {
   "cell_type": "code",
   "execution_count": null,
   "metadata": {
    "pycharm": {
     "name": "#%%\n"
    }
   },
   "outputs": [],
   "source": [
    "TechIndicator[0][\"Volume\"]"
   ]
  },
  {
   "cell_type": "markdown",
   "metadata": {},
   "source": [
    "### Calculation of Volume (Plain)"
   ]
  },
  {
   "cell_type": "code",
   "execution_count": null,
   "metadata": {
    "pycharm": {
     "name": "#%%\n"
    }
   },
   "outputs": [],
   "source": [
    "for stock in range(len(TechIndicator)):\n",
    "    TechIndicator[stock]['Volume_plain'] = TechIndicator[stock]['Volume'].fillna(0)\n",
    "TechIndicator[0].tail()"
   ]
  },
  {
   "cell_type": "markdown",
   "metadata": {},
   "source": [
    "### Calculation of Bollinger Bands"
   ]
  },
  {
   "cell_type": "code",
   "execution_count": null,
   "metadata": {
    "pycharm": {
     "name": "#%%\n"
    }
   },
   "outputs": [],
   "source": [
    "def bbands(price, length=30, numsd=2):\n",
    "    \"\"\" returns average, upper band, and lower band\"\"\"\n",
    "    #ave = pd.stats.moments.rolling_mean(price,length)\n",
    "    ave = price.rolling(window = length, center = False).mean()\n",
    "    #sd = pd.stats.moments.rolling_std(price,length)\n",
    "    sd = price.rolling(window = length, center = False).std()\n",
    "    upband = ave + (sd*numsd)\n",
    "    dnband = ave - (sd*numsd)\n",
    "    return np.round(ave,3), np.round(upband,3), np.round(dnband,3)"
   ]
  },
  {
   "cell_type": "code",
   "execution_count": null,
   "metadata": {
    "pycharm": {
     "name": "#%%\n"
    }
   },
   "outputs": [],
   "source": [
    "for stock in range(len(TechIndicator)):\n",
    "    TechIndicator[stock]['BB_Middle_Band'], TechIndicator[stock]['BB_Upper_Band'], TechIndicator[stock]['BB_Lower_Band'] = bbands(TechIndicator[stock]['Close'], length=20, numsd=1)\n",
    "    TechIndicator[stock]['BB_Middle_Band'] = TechIndicator[stock]['BB_Middle_Band'].fillna(0)\n",
    "    TechIndicator[stock]['BB_Upper_Band'] = TechIndicator[stock]['BB_Upper_Band'].fillna(0)\n",
    "    TechIndicator[stock]['BB_Lower_Band'] = TechIndicator[stock]['BB_Lower_Band'].fillna(0)\n",
    "TechIndicator[0].tail()"
   ]
  },
  {
   "cell_type": "markdown",
   "metadata": {},
   "source": [
    "### Calculation of Aroon Oscillator"
   ]
  },
  {
   "cell_type": "markdown",
   "metadata": {},
   "source": [
    "how strong is the trend"
   ]
  },
  {
   "cell_type": "code",
   "execution_count": null,
   "metadata": {
    "pycharm": {
     "name": "#%%\n"
    }
   },
   "outputs": [],
   "source": [
    "def Aroon_Oscillator(df, tf=25):\n",
    "    aroonup = []\n",
    "    aroondown = []\n",
    "    x = tf\n",
    "    while x< len(df['Date']):\n",
    "        aroon_up = ((df['High'][x-tf:x].tolist().index(max(df['High'][x-tf:x])))/float(tf))*100\n",
    "        aroon_down = ((df['Low'][x-tf:x].tolist().index(min(df['Low'][x-tf:x])))/float(tf))*100\n",
    "        aroonup.append(aroon_up)\n",
    "        aroondown.append(aroon_down)\n",
    "        x+=1\n",
    "    return aroonup, aroondown"
   ]
  },
  {
   "cell_type": "code",
   "execution_count": null,
   "metadata": {
    "pycharm": {
     "name": "#%%\n"
    }
   },
   "outputs": [],
   "source": [
    "for stock in range(len(TechIndicator)):\n",
    "    listofzeros = [0] * 25\n",
    "    up, down = Aroon_Oscillator(TechIndicator[stock])\n",
    "    aroon_list = [x - y for x, y in zip(up,down)]\n",
    "    if len(aroon_list)==0:\n",
    "        aroon_list = [0] * TechIndicator[stock].shape[0]\n",
    "        TechIndicator[stock]['Aroon_Oscillator'] = aroon_list\n",
    "    else:\n",
    "        TechIndicator[stock]['Aroon_Oscillator'] = listofzeros+aroon_list\n"
   ]
  },
  {
   "cell_type": "code",
   "execution_count": null,
   "metadata": {
    "pycharm": {
     "name": "#%%\n"
    }
   },
   "outputs": [],
   "source": [
    "TechIndicator[0].head()"
   ]
  },
  {
   "cell_type": "code",
   "execution_count": null,
   "metadata": {
    "pycharm": {
     "name": "#%%\n"
    }
   },
   "outputs": [],
   "source": [
    "TechIndicator[0].tail()"
   ]
  },
  {
   "cell_type": "markdown",
   "metadata": {},
   "source": [
    "### Calculation of Price Volume Trend"
   ]
  },
  {
   "cell_type": "markdown",
   "metadata": {},
   "source": [
    "PVT = [((CurrentClose - PreviousClose) / PreviousClose) x Volume] + PreviousPVT"
   ]
  },
  {
   "cell_type": "code",
   "execution_count": null,
   "metadata": {
    "pycharm": {
     "name": "#%%\n"
    }
   },
   "outputs": [],
   "source": [
    "for stock in range(len(TechIndicator)):\n",
    "    TechIndicator[stock][\"PVT\"] = (TechIndicator[stock]['Momentum_1D']/ TechIndicator[stock]['Close'].shift(1))*TechIndicator[stock]['Volume']\n",
    "    TechIndicator[stock][\"PVT\"] = TechIndicator[stock][\"PVT\"]+TechIndicator[stock][\"PVT\"].shift(1)\n",
    "    TechIndicator[stock][\"PVT\"] = TechIndicator[stock][\"PVT\"].fillna(0)\n",
    "TechIndicator[0].tail()"
   ]
  },
  {
   "cell_type": "markdown",
   "metadata": {},
   "source": [
    "### Calculation of Acceleration Bands"
   ]
  },
  {
   "cell_type": "markdown",
   "metadata": {},
   "source": [
    "lower envelope bands around a simple moving average. "
   ]
  },
  {
   "cell_type": "code",
   "execution_count": null,
   "metadata": {
    "pycharm": {
     "name": "#%%\n"
    }
   },
   "outputs": [],
   "source": [
    "def abands(df):\n",
    "    #df['AB_Middle_Band'] = pd.rolling_mean(df['Close'], 20)\n",
    "    df['AB_Middle_Band'] = df['Close'].rolling(window = 20, center=False).mean()\n",
    "    # High * ( 1 + 4 * (High - Low) / (High + Low))\n",
    "    df['aupband'] = df['High'] * (1 + 4 * (df['High']-df['Low'])/(df['High']+df['Low']))\n",
    "    df['AB_Upper_Band'] = df['aupband'].rolling(window=20, center=False).mean()\n",
    "    # Low *(1 - 4 * (High - Low)/ (High + Low))\n",
    "    df['adownband'] = df['Low'] * (1 - 4 * (df['High']-df['Low'])/(df['High']+df['Low']))\n",
    "    df['AB_Lower_Band'] = df['adownband'].rolling(window=20, center=False).mean()"
   ]
  },
  {
   "cell_type": "code",
   "execution_count": null,
   "metadata": {
    "pycharm": {
     "name": "#%%\n"
    }
   },
   "outputs": [],
   "source": [
    "for stock in range(len(TechIndicator)):\n",
    "    abands(TechIndicator[stock])\n",
    "    TechIndicator[stock] = TechIndicator[stock].fillna(0)\n",
    "TechIndicator[0].tail()"
   ]
  },
  {
   "cell_type": "markdown",
   "metadata": {},
   "source": [
    "## Drop unwanted columns"
   ]
  },
  {
   "cell_type": "code",
   "execution_count": null,
   "metadata": {
    "pycharm": {
     "name": "#%%\n"
    }
   },
   "outputs": [],
   "source": [
    "columns2Drop = ['Momentum_1D', 'aupband', 'adownband']\n",
    "for stock in range(len(TechIndicator)):\n",
    "    TechIndicator[stock] = TechIndicator[stock].drop(labels = columns2Drop, axis=1)\n",
    "TechIndicator[0].head()"
   ]
  },
  {
   "cell_type": "markdown",
   "metadata": {},
   "source": [
    "### Calculation of Price Rate of Change"
   ]
  },
  {
   "cell_type": "code",
   "execution_count": null,
   "metadata": {
    "pycharm": {
     "name": "#%%\n"
    }
   },
   "outputs": [],
   "source": [
    "# ROC = [(Close - Close n periods ago) / (Close n periods ago)] * 100\n",
    "for stock in range(len(TechIndicator)):\n",
    "    TechIndicator[stock]['ROC'] = ((TechIndicator[stock]['Close'] - TechIndicator[stock]['Close'].shift(12))/(TechIndicator[stock]['Close'].shift(12)))*100\n",
    "    TechIndicator[stock] = TechIndicator[stock].fillna(0)\n",
    "TechIndicator[0].tail()"
   ]
  },
  {
   "cell_type": "markdown",
   "metadata": {},
   "source": [
    "### Calculation of Momentum "
   ]
  },
  {
   "cell_type": "code",
   "execution_count": null,
   "metadata": {
    "pycharm": {
     "name": "#%%\n"
    }
   },
   "outputs": [],
   "source": [
    "for stock in range(len(TechIndicator)):\n",
    "    TechIndicator[stock]['Momentum'] = TechIndicator[stock]['Close'] - TechIndicator[stock]['Close'].shift(4)\n",
    "    TechIndicator[stock] = TechIndicator[stock].fillna(0)\n",
    "TechIndicator[0].tail()"
   ]
  },
  {
   "cell_type": "markdown",
   "metadata": {},
   "source": [
    "# Visualization of technical indicators"
   ]
  },
  {
   "cell_type": "code",
   "execution_count": null,
   "metadata": {
    "pycharm": {
     "name": "#%%\n"
    }
   },
   "outputs": [],
   "source": [
    "TechIndicator[0].head()"
   ]
  },
  {
   "cell_type": "code",
   "execution_count": null,
   "metadata": {
    "pycharm": {
     "name": "#%%\n"
    }
   },
   "outputs": [],
   "source": [
    "for stock in range(len(TechIndicator)):\n",
    "    TechIndicator[stock].index = TechIndicator[stock]['Date']\n",
    "    TechIndicator[stock] = TechIndicator[stock].drop(labels = ['Date'], axis = 1)\n"
   ]
  },
  {
   "cell_type": "code",
   "execution_count": null,
   "metadata": {
    "pycharm": {
     "name": "#%%\n"
    }
   },
   "outputs": [],
   "source": [
    "TechIndicator[0].head()"
   ]
  },
  {
   "cell_type": "code",
   "execution_count": null,
   "metadata": {
    "pycharm": {
     "name": "#%%\n"
    }
   },
   "outputs": [],
   "source": [
    "# Volume Plain plot\n",
    "fig = plt.figure(figsize=(20,25))\n",
    "for i in range(8):\n",
    "    ax = plt.subplot(8,1,i+1)\n",
    "    ax.plot(TechIndicator[i].index, TechIndicator[i]['Volume_plain'], 'b')\n",
    "    ax.set_title(str(TechIndicator[i]['Label'][0]))\n",
    "    ax.set_xlabel(\"Date\")\n",
    "    ax.set_ylabel(\"Volume\")\n",
    "    plt.xticks(rotation=30)\n",
    "fig.tight_layout()"
   ]
  },
  {
   "cell_type": "markdown",
   "metadata": {},
   "source": [
    "Bollinger Bands"
   ]
  },
  {
   "cell_type": "code",
   "execution_count": null,
   "metadata": {
    "pycharm": {
     "name": "#%%\n"
    }
   },
   "outputs": [],
   "source": [
    "plt.style.use('fivethirtyeight')\n",
    "\n",
    "fig = plt.figure(figsize=(20,25))\n",
    "for i in range(8):\n",
    "    ax = plt.subplot(4,2,i+1)\n",
    "    ax.fill_between(TechIndicator[i].index, TechIndicator[i]['BB_Upper_Band'], TechIndicator[i]['BB_Lower_Band'], color='grey', label=\"Band Range\")\n",
    "    # Plot Adjust Closing Price and Moving Averages\n",
    "    ax.plot(TechIndicator[i].index, TechIndicator[i]['Close'], color='red', lw=2, label=\"Close\")\n",
    "    ax.plot(TechIndicator[i].index, TechIndicator[i]['BB_Middle_Band'], color='black', lw=2, label=\"Middle Band\")\n",
    "    ax.set_title(\"Bollinger Bands for \" + str(TechIndicator[i]['Label'][0]))\n",
    "    ax.legend()\n",
    "    ax.set_xlabel(\"Date\")\n",
    "    ax.set_ylabel(\"Close Prices\")\n",
    "    plt.xticks(rotation=30)\n",
    "fig.tight_layout()\n",
    "#.dt.to_pydatetime()"
   ]
  },
  {
   "cell_type": "code",
   "execution_count": null,
   "metadata": {
    "pycharm": {
     "name": "#%%\n"
    }
   },
   "outputs": [],
   "source": [
    "# Aroon Oscillator Plot\n",
    "plt.style.use('seaborn-whitegrid')\n",
    "fig = plt.figure(figsize=(20,25))\n",
    "for i in range(8):\n",
    "    ax = plt.subplot(4,2,i+1)\n",
    "    ax.fill(TechIndicator[i].index, TechIndicator[i]['Aroon_Oscillator'],'g', alpha = 0.5, label = \"Aroon Oscillator\")\n",
    "    ax.plot(TechIndicator[i].index, TechIndicator[i]['Close'], 'r', label=\"Close\")\n",
    "    ax.set_title(\"Aroon Oscillator for \" +str(TechIndicator[i]['Label'][0]))\n",
    "    ax.legend()\n",
    "    ax.set_xlabel(\"Date\")\n",
    "    ax.set_ylabel(\"Close Prices\")\n",
    "    plt.xticks(rotation=30)\n",
    "fig.tight_layout()"
   ]
  },
  {
   "cell_type": "code",
   "execution_count": null,
   "metadata": {
    "pycharm": {
     "name": "#%%\n"
    }
   },
   "outputs": [],
   "source": [
    "# PRice Volume Trend Plot\n",
    "fig = plt.figure(figsize=(20,25))\n",
    "for i in range(8):\n",
    "    ax = plt.subplot(8,1,i+1)\n",
    "    ax.plot(TechIndicator[i].index, TechIndicator[i]['PVT'], 'black')\n",
    "    ax.set_title(\"Price Volume Trend of \" +str(TechIndicator[i]['Label'][0]))\n",
    "    ax.set_xlabel(\"Date\")\n",
    "    ax.set_ylabel(\"Price Volume trend\")\n",
    "    plt.xticks(rotation=30)\n",
    "fig.tight_layout()"
   ]
  },
  {
   "cell_type": "code",
   "execution_count": null,
   "metadata": {
    "pycharm": {
     "name": "#%%\n"
    }
   },
   "outputs": [],
   "source": [
    "# Acceleration band Plot\n",
    "\n",
    "fig = plt.figure(figsize=(20,25))\n",
    "for i in range(8):\n",
    "    ax = plt.subplot(4,2,i+1)\n",
    "    ax.fill_between(TechIndicator[i].index, TechIndicator[i]['AB_Upper_Band'], TechIndicator[i]['AB_Lower_Band'], color='grey', label = \"Band-Range\")\n",
    "    # Plot Adjust Closing Price and Moving Averages\n",
    "    ax.plot(TechIndicator[i].index, TechIndicator[i]['Close'], color='red', lw=2, label = \"Close\")\n",
    "    ax.plot(TechIndicator[i].index, TechIndicator[i]['AB_Middle_Band'], color='black', lw=2, label=\"Middle_Band\")\n",
    "    ax.set_title(\"Acceleration Bands for \" + str(TechIndicator[i]['Label'][0]))\n",
    "    ax.legend()\n",
    "    ax.set_xlabel(\"Date\")\n",
    "    ax.set_ylabel(\"Close Prices\")\n",
    "    plt.xticks(rotation=30)\n",
    "fig.tight_layout()"
   ]
  },
  {
   "cell_type": "markdown",
   "metadata": {},
   "source": [
    "I have also tried prediction of movement of stock market based on this data. You can refer to that kernel here: https://www.kaggle.com/kratisaxena/lstm-gru-models-for-stock-movement-analysis"
   ]
  },
  {
   "cell_type": "code",
   "execution_count": null,
   "metadata": {
    "pycharm": {
     "name": "#%%\n"
    }
   },
   "outputs": [],
   "source": []
  }
 ],
 "metadata": {
  "colab": {
   "include_colab_link": true,
   "provenance": []
  },
  "kernelspec": {
   "display_name": "Python 3 (ipykernel)",
   "language": "python",
   "name": "python3"
  },
  "language_info": {
   "codemirror_mode": {
    "name": "ipython",
    "version": 3
   },
   "file_extension": ".py",
   "mimetype": "text/x-python",
   "name": "python",
   "nbconvert_exporter": "python",
   "pygments_lexer": "ipython3",
   "version": "3.8.0"
  },
  "pycharm": {
   "stem_cell": {
    "cell_type": "raw",
    "metadata": {
     "collapsed": false
    },
    "source": []
   }
  }
 },
 "nbformat": 4,
 "nbformat_minor": 1
}
