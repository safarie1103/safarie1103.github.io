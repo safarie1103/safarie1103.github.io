{
  "cells": [
    {
      "cell_type": "markdown",
      "metadata": {
        "id": "view-in-github",
        "colab_type": "text"
      },
      "source": [
        "<a href=\"https://colab.research.google.com/github/safarie1103/DSC680/blob/main/Project1-stock-market-technical-indicators/sandbox/yfinance-main/yest_yfinance.ipynb\" target=\"_parent\"><img src=\"https://colab.research.google.com/assets/colab-badge.svg\" alt=\"Open In Colab\"/></a>"
      ]
    },
    {
      "cell_type": "code",
      "source": [
        "!pip install yfinance"
      ],
      "metadata": {
        "id": "mWmnMlcPZOgI"
      },
      "execution_count": null,
      "outputs": []
    },
    {
      "cell_type": "code",
      "execution_count": 9,
      "metadata": {
        "pycharm": {
          "is_executing": true
        },
        "id": "Y6S8HSKuZJoA"
      },
      "outputs": [],
      "source": [
        "import yfinance as yf\n",
        "import unittest"
      ]
    },
    {
      "cell_type": "code",
      "execution_count": 10,
      "metadata": {
        "pycharm": {
          "name": "#%%\n"
        },
        "id": "x0jtkcjmZJoE"
      },
      "outputs": [],
      "source": [
        "symbols = ['MSFT', 'IWO', 'VFINX', '^GSPC', 'BTC-USD']\n",
        "tickers = [yf.Ticker(symbol) for symbol in symbols]"
      ]
    },
    {
      "cell_type": "code",
      "execution_count": 11,
      "metadata": {
        "pycharm": {
          "name": "#%%\n"
        },
        "id": "GQKtADDxZJoF"
      },
      "outputs": [],
      "source": [
        "class TestTicker(unittest.TestCase):\n",
        "    def test_info_history(self):\n",
        "        for ticker in tickers:\n",
        "            # always should have info and history for valid symbols\n",
        "            assert(ticker.info is not None and ticker.info != {})\n",
        "            history = ticker.history(period=\"max\")\n",
        "            assert(history.empty is False and history is not None)\n",
        "\n",
        "    def test_attributes(self):\n",
        "        for ticker in tickers:\n",
        "            ticker.isin\n",
        "            ticker.major_holders\n",
        "            ticker.institutional_holders\n",
        "            ticker.mutualfund_holders\n",
        "            ticker.dividends\n",
        "            ticker.splits\n",
        "            ticker.actions\n",
        "            ticker.shares\n",
        "            ticker.info\n",
        "            ticker.calendar\n",
        "            ticker.recommendations\n",
        "            ticker.earnings\n",
        "            ticker.quarterly_earnings\n",
        "            ticker.income_stmt\n",
        "            ticker.quarterly_income_stmt\n",
        "            ticker.balance_sheet\n",
        "            ticker.quarterly_balance_sheet\n",
        "            ticker.cashflow\n",
        "            ticker.quarterly_cashflow\n",
        "            ticker.recommendations_summary\n",
        "            ticker.analyst_price_target\n",
        "            ticker.revenue_forecasts\n",
        "            ticker.sustainability\n",
        "            ticker.options\n",
        "            ticker.news\n",
        "            ticker.earnings_trend\n",
        "            ticker.earnings_dates\n",
        "            ticker.earnings_forecasts\n",
        "\n",
        "    def test_holders(self):\n",
        "        for ticker in tickers:\n",
        "            assert(ticker.info is not None and ticker.info != {})\n",
        "            assert(ticker.major_holders is not None)\n",
        "            assert(ticker.institutional_holders is not None)\n",
        "\n",
        "\n"
      ]
    },
    {
      "cell_type": "code",
      "source": [
        " unittest.main()"
      ],
      "metadata": {
        "id": "dhlofNAyZX9T",
        "outputId": "c9b82ff2-58f3-4efe-d216-284fbc6ca597",
        "colab": {
          "base_uri": "https://localhost:8080/",
          "height": 339
        }
      },
      "execution_count": 12,
      "outputs": [
        {
          "output_type": "stream",
          "name": "stderr",
          "text": [
            "E\n",
            "======================================================================\n",
            "ERROR: /root/ (unittest.loader._FailedTest)\n",
            "----------------------------------------------------------------------\n",
            "AttributeError: module '__main__' has no attribute '/root/'\n",
            "\n",
            "----------------------------------------------------------------------\n",
            "Ran 1 test in 0.005s\n",
            "\n",
            "FAILED (errors=1)\n"
          ]
        },
        {
          "output_type": "error",
          "ename": "SystemExit",
          "evalue": "ignored",
          "traceback": [
            "An exception has occurred, use %tb to see the full traceback.\n",
            "\u001b[0;31mSystemExit\u001b[0m\u001b[0;31m:\u001b[0m True\n"
          ]
        },
        {
          "output_type": "stream",
          "name": "stderr",
          "text": [
            "/usr/local/lib/python3.9/dist-packages/IPython/core/interactiveshell.py:3334: UserWarning: To exit: use 'exit', 'quit', or Ctrl-D.\n",
            "  warn(\"To exit: use 'exit', 'quit', or Ctrl-D.\", stacklevel=1)\n"
          ]
        }
      ]
    }
  ],
  "metadata": {
    "kernelspec": {
      "display_name": "Python 3 (ipykernel)",
      "language": "python",
      "name": "python3"
    },
    "language_info": {
      "codemirror_mode": {
        "name": "ipython",
        "version": 3
      },
      "file_extension": ".py",
      "mimetype": "text/x-python",
      "name": "python",
      "nbconvert_exporter": "python",
      "pygments_lexer": "ipython3",
      "version": "3.8.0"
    },
    "pycharm": {
      "stem_cell": {
        "cell_type": "raw",
        "metadata": {
          "collapsed": false
        },
        "source": []
      }
    },
    "colab": {
      "provenance": [],
      "include_colab_link": true
    }
  },
  "nbformat": 4,
  "nbformat_minor": 0
}